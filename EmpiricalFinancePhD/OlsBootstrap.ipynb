{
 "cells": [
  {
   "cell_type": "markdown",
   "metadata": {
    "deletable": true,
    "editable": true
   },
   "source": [
    "# Bootstrapping a Linear Regression"
   ]
  },
  {
   "cell_type": "code",
   "execution_count": 1,
   "metadata": {
    "collapsed": false,
    "deletable": true,
    "editable": true
   },
   "outputs": [
    {
     "data": {
      "text/plain": [
       "OlsFn (generic function with 1 method)"
      ]
     },
     "execution_count": 1,
     "metadata": {},
     "output_type": "execute_result"
    }
   ],
   "source": [
    "include(\"jlFiles/printmat.jl\")\n",
    "\n",
    "include(\"jlFiles/lagnPs.jl\")\n",
    "include(\"jlFiles/excise.jl\")\n",
    "include(\"jlFiles/OlsFn.jl\")"
   ]
  },
  {
   "cell_type": "code",
   "execution_count": 2,
   "metadata": {
    "collapsed": false,
    "deletable": true,
    "editable": true
   },
   "outputs": [
    {
     "name": "stdout",
     "output_type": "stream",
     "text": [
      "T = 580, n = 1, K = 6\n"
     ]
    }
   ],
   "source": [
    "#xx   = readdlm(\"Data/FFmFactorsPs.csv\",',',header=true)\n",
    "#x    = xx[1]\n",
    "#Rme  = x[:,2]\n",
    "#RSMB = x[:,3]                #small minus big firms\n",
    "#RHML = x[:,4]                #high minus low book-to-market ratio\n",
    "#Rf   = x[:,5]                    #interest rate\n",
    "#\n",
    "#\n",
    "#x = readdlm(\"Data/FF25Ps.csv\",',')  #no header line: x is matrix\n",
    "#R  = x[:,2:end]                    #returns for 25 FF portfolios\n",
    "#Re = R - repmat(Rf,1,size(R,2))   #excess returns for the 25 FF portfolios\n",
    "#y = Re(:,[1,25])                 #use only portfolio 1 (small growth) and 25 (large value)\n",
    "#x = [ones(size(Re,1),1) Rme RSMB RHML]\n",
    "#------------------------------------------------------------------------------\n",
    "\n",
    "xx  = readdlm(\"Data/BondPremiaPs.csv\",',',header=true)\n",
    "xx  = xx[1]\n",
    "rx  = xx[:,2:5]                   #bond excess returns\n",
    "f   = xx[:,6:end]                 #forward rates\n",
    "\n",
    "x = [ones(size(f,1)) lagnPs(f,12)]\n",
    "\n",
    "yx = excise([rx[:,4] x])          #to use in regressions \n",
    "y  = yx[:,1]\n",
    "x  = yx[:,2:end]\n",
    "\n",
    "(T,n) = size(y,1,2)                 #no. obs and no. test assets\n",
    "K     = size(x,2)\n",
    "\n",
    "println(\"T = $T, n = $n, K = $K\")"
   ]
  },
  {
   "cell_type": "markdown",
   "metadata": {
    "deletable": true,
    "editable": true
   },
   "source": [
    "## Point Estimates"
   ]
  },
  {
   "cell_type": "code",
   "execution_count": 3,
   "metadata": {
    "collapsed": false,
    "deletable": true,
    "editable": true
   },
   "outputs": [
    {
     "name": "stdout",
     "output_type": "stream",
     "text": [
      "\n",
      "LS coeffs and std\n",
      "    -3.306    -4.209    10.627   -14.397     7.096     1.284\n",
      "     0.823     0.712     4.509    12.885    15.862     6.898\n",
      "\n"
     ]
    }
   ],
   "source": [
    "(bLS,u,yhat,Covb,) = OlsFn(y,x)              #OLS estimate and classical std errors\n",
    "StdbLS = sqrt.(diag(Covb))\n",
    "\n",
    "println(\"\\nLS coeffs and std\")\n",
    "printmat([bLS';StdbLS'])"
   ]
  },
  {
   "cell_type": "markdown",
   "metadata": {
    "deletable": true,
    "editable": true
   },
   "source": [
    "## Bootstrap\n",
    "\n",
    "\n",
    "After that follows the bootstrap itself .\n",
    "\n",
    "The code makes NSim loops. \n",
    "\n",
    "In each loop, we initially define a random\n",
    "starting point (row number) of each block (by using the rand()\n",
    "function)---and create a vector of all rows that are in a block. For instance,\n",
    "suppose we randomly draw that the blocks should start on rows $27$ and $35$\n",
    "(...assuming only two blocks in each simulation) and that we have decided that\n",
    "each block should contain $10$ rows, then the artificial sample will pick out\n",
    "rows $27-36$ and $35-44$. Clearly, some rows can be in several blocks. Once we\n",
    "have $T$ rows, we define a new series of residuals, $\\tilde{u}_{t}$.\n",
    "\n",
    "Then, new values of the dependent variable are created as \n",
    "$\\tilde{y}_{t}=x_{t}^{\\prime}\\beta+\\tilde{u}_{t}$ and we redo the estimation on \n",
    "($\\tilde{y}_{t},x_{t}$)."
   ]
  },
  {
   "cell_type": "code",
   "execution_count": 4,
   "metadata": {
    "collapsed": false,
    "deletable": true,
    "editable": true
   },
   "outputs": [
    {
     "name": "stdout",
     "output_type": "stream",
     "text": [
      "\n",
      "Average bootstrap estimates and bootstrapped std\n",
      "    -3.318    -4.164    10.636   -14.643     7.371     1.206\n",
      "     2.072     1.391     8.024    23.175    29.076    12.906\n",
      "\n",
      "\n",
      "bootstrapped std/OLS std\n",
      "     2.517     1.955     1.780     1.799     1.833     1.871\n",
      "\n"
     ]
    }
   ],
   "source": [
    "BlockSize = 10                  #size of blocks\n",
    "NSim      = 2000                 #no. of simulations\n",
    "srand(123)\n",
    "\n",
    "nBlocks = round(Int,ceil(T/BlockSize))             #number of blocks, rounded up\n",
    "bBoot   = fill(NaN,(NSim,K*n))                       #vec(b), [beq1 beq2..beqn]\n",
    "for i = 1:NSim                                       #loop over simulations\n",
    "  t_i        = rand(1:T,nBlocks,1)                   #nBlocks x 1, random starting row of blocks\n",
    "  t_i        = t_i .+ collect(0:BlockSize-1)'        #nBlocks x BlockSize, each row is a block\n",
    "  vv_i       = t_i .> T\n",
    "  t_i[vv_i]  = t_i[vv_i] - T                         #wrap around if index > T\n",
    "  #println(t_i)                                      #uncomment to see which rows that are picked out\n",
    "  t_i        = vec(t_i')                             #column vector of the blocks\n",
    "  utilde     = u[t_i,:]\n",
    "  ytilde     = x*bLS + utilde[1:T,:]\n",
    "  b_i,       = OlsFn(ytilde,x)                       #,skips the remaining outputs\n",
    "  bBoot[i,:] = b_i\n",
    "end\n",
    "\n",
    "println(\"\\nAverage bootstrap estimates and bootstrapped std\")\n",
    "printmat([mean(bBoot,1); std(bBoot,1)])\n",
    "\n",
    "println(\"\\nbootstrapped std/OLS std\")\n",
    "printmat(std(bBoot,1)./StdbLS')"
   ]
  },
  {
   "cell_type": "code",
   "execution_count": null,
   "metadata": {
    "collapsed": true,
    "deletable": true,
    "editable": true
   },
   "outputs": [],
   "source": []
  }
 ],
 "metadata": {
  "anaconda-cloud": {},
  "kernelspec": {
   "display_name": "Julia 0.5.1",
   "language": "julia",
   "name": "julia-0.5"
  },
  "language_info": {
   "file_extension": ".jl",
   "mimetype": "application/julia",
   "name": "julia",
   "version": "0.5.1"
  }
 },
 "nbformat": 4,
 "nbformat_minor": 1
}
