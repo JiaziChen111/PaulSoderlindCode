{
 "cells": [
  {
   "cell_type": "code",
   "execution_count": 1,
   "metadata": {
    "collapsed": false
   },
   "outputs": [
    {
     "data": {
      "text/plain": [
       "HDirProdFn (generic function with 1 method)"
      ]
     },
     "execution_count": 1,
     "metadata": {},
     "output_type": "execute_result"
    }
   ],
   "source": [
    "\n",
    "import Formatting\n",
    "\n",
    "include(\"jlFiles/printmat.jl\")\n",
    "include(\"jlFiles/OlsFn.jl\")\n",
    "include(\"jlFiles/HszDkFn.jl\")\n",
    "include(\"jlFiles/HDirProdFn.jl\")"
   ]
  },
  {
   "cell_type": "code",
   "execution_count": 2,
   "metadata": {
    "collapsed": false
   },
   "outputs": [
    {
     "data": {
      "text/plain": [
       "2637-element BitArray{1}:\n",
       " false\n",
       " false\n",
       " false\n",
       " false\n",
       " false\n",
       " false\n",
       " false\n",
       " false\n",
       " false\n",
       " false\n",
       " false\n",
       " false\n",
       " false\n",
       "     ⋮\n",
       "  true\n",
       "  true\n",
       "  true\n",
       "  true\n",
       "  true\n",
       "  true\n",
       "  true\n",
       "  true\n",
       "  true\n",
       "  true\n",
       "  true\n",
       "  true"
      ]
     },
     "execution_count": 2,
     "metadata": {},
     "output_type": "execute_result"
    }
   ],
   "source": [
    "ER1 = readdlm(\"Data/PPM_ER1.csv\",',')                   #load data from csv files\n",
    "ER2 = readdlm(\"Data/PPM_ER2.csv\",',')\n",
    "ER  = [ER1;ER2]\n",
    "#ER = randn(2354,2637)           #uncomment this line (and comment the previous 3 lines)\n",
    "                                 #if you do not have ER1.csv and ER2.csv\n",
    "\n",
    "Factors   = readdlm(\"Data/PPM_Factors.csv\",',')         #no header line: x is matrix\n",
    "Investors = readdlm(\"Data/PPM_N_Changes.csv\",',')\n",
    "N_Changes = Investors[:,1]\n",
    "\n",
    "(T,N) = size(ER)\n",
    "D = N_Changes .> 50                      #logical dummies: [active]"
   ]
  },
  {
   "cell_type": "code",
   "execution_count": 3,
   "metadata": {
    "collapsed": false
   },
   "outputs": [
    {
     "name": "stdout",
     "output_type": "stream",
     "text": [
      "\n",
      "Average annualised alphas for the two groups\n",
      "    -0.787     6.217\n",
      "\n"
     ]
    }
   ],
   "source": [
    "alphaM = fill(NaN,N)                                #individual alphas\n",
    "for i = 1:N\n",
    "   b, = OlsFn(ER[:,i],[Factors ones(T,1)])\n",
    "   alphaM[i] = b[end]\n",
    "end\n",
    "\n",
    "println(\"\\nAverage annualised alphas for the two groups\")\n",
    "printmat([mean(alphaM[~D]) mean(alphaM[D])]*252)"
   ]
  },
  {
   "cell_type": "code",
   "execution_count": 4,
   "metadata": {
    "collapsed": false
   },
   "outputs": [
    {
     "name": "stdout",
     "output_type": "stream",
     "text": [
      "\n",
      "LS, group by group\n",
      "Stats for the portfolios: Avg, Std, SR, alpha\n",
      "    -1.262    15.728    -0.080    -0.787\n",
      "     5.534    13.882     0.399     6.217\n",
      "\n",
      "diff of annual alpha (inactive - 51+), tstat (LS)\n",
      "    -7.004    -2.780\n",
      "\n"
     ]
    }
   ],
   "source": [
    "println(\"\\nLS, group by group\")\n",
    "\n",
    "PortfER      = fill(NaN,(T,2))     #create portfolios as average across individuals\n",
    "PortfER[:,1] = mean(ER[:,~D],2)   #Tx1, portfolio return = average individual return\n",
    "PortfER[:,2] = mean(ER[:,D],2)\n",
    "\n",
    "Avg = mean(PortfER,1)*252          #average excess return on portfolios\n",
    "Std = std(PortfER,1)*sqrt(252)\n",
    "SR  = Avg./Std\n",
    "(b,res,yhat,Covb) = OlsFn(PortfER,[ones(T,1) Factors])\n",
    "\n",
    "println(\"Stats for the portfolios:\\n Avg, Std, SR, alpha\")\n",
    "printmat([Avg' Std' SR' b[1:1,:]'*252])\n",
    "\n",
    "R       = [1 0 0 0 -1 0 0 0]                       #testing if alpha(1) = alpha(2)\n",
    "a_diff  = R*vec(b)                                 \n",
    "tstatLS = a_diff/sqrt(R*Covb*R')\n",
    "\n",
    "println(\"diff of annual alpha (inactive - 51+), tstat (LS)\")\n",
    "printmat([a_diff*252 tstatLS])"
   ]
  },
  {
   "cell_type": "code",
   "execution_count": 5,
   "metadata": {
    "collapsed": false
   },
   "outputs": [
    {
     "name": "stdout",
     "output_type": "stream",
     "text": [
      "\n",
      "panel\n",
      "diff of annual alpha (inactive - 51+), tstat (LS), tstat (DK)\n",
      "    -7.004   -24.017    -2.784\n",
      "\n"
     ]
    }
   ],
   "source": [
    "println(\"\\npanel\")\n",
    "(theta,CovDK,CovLS) = HszDkFn(ER,[ones(T,1) Factors],[~D D]+0.0)\n",
    "\n",
    "R       = [1 0 0 0 -1 0 0 0]                #testing if alpha(1) = alpha(2)\n",
    "a_diff  = R*theta\n",
    "tstatLS = a_diff/sqrt(R*CovLS*R')\n",
    "tstatDK = a_diff/sqrt(R*CovDK*R')\n",
    "\n",
    "println(\"diff of annual alpha (inactive - 51+), tstat (LS), tstat (DK)\")\n",
    "printmat([a_diff*252 tstatLS tstatDK])"
   ]
  },
  {
   "cell_type": "code",
   "execution_count": null,
   "metadata": {
    "collapsed": true
   },
   "outputs": [],
   "source": []
  }
 ],
 "metadata": {
  "anaconda-cloud": {},
  "kernelspec": {
   "display_name": "Julia 0.5.0",
   "language": "julia",
   "name": "julia-0.5"
  },
  "language_info": {
   "file_extension": ".jl",
   "mimetype": "application/julia",
   "name": "julia",
   "version": "0.5.0"
  }
 },
 "nbformat": 4,
 "nbformat_minor": 1
}
