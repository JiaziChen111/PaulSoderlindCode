{
 "cells": [
  {
   "cell_type": "markdown",
   "metadata": {
    "deletable": true,
    "editable": true
   },
   "source": [
    "# Linear Factor Models"
   ]
  },
  {
   "cell_type": "code",
   "execution_count": 1,
   "metadata": {
    "collapsed": false,
    "deletable": true,
    "editable": true
   },
   "outputs": [
    {
     "data": {
      "text/plain": [
       "NWFn (generic function with 1 method)"
      ]
     },
     "execution_count": 1,
     "metadata": {},
     "output_type": "execute_result"
    }
   ],
   "source": [
    "include(\"jlFiles/printmat.jl\")\n",
    "\n",
    "include(\"jlFiles/OlsFn.jl\")\n",
    "include(\"jlFiles/NWFn.jl\")"
   ]
  },
  {
   "cell_type": "code",
   "execution_count": 2,
   "metadata": {
    "collapsed": false,
    "deletable": true,
    "editable": true
   },
   "outputs": [
    {
     "data": {
      "text/plain": [
       "(388,25)"
      ]
     },
     "execution_count": 2,
     "metadata": {},
     "output_type": "execute_result"
    }
   ],
   "source": [
    "xx   = readdlm(\"Data/FFmFactorsPs.csv\",',',header=true)\n",
    "xx   = xx[1]\n",
    "Rme  = xx[:,2]\n",
    "RSMB = xx[:,3]                #small minus big firms\n",
    "RHML = xx[:,4]                #high minus low book-to-market ratio\n",
    "Rf   = xx[:,5]                #interest rate\n",
    "\n",
    "\n",
    "xx = readdlm(\"Data/FF25Ps.csv\",',')  #no header line: x is matrix\n",
    "R  = xx[:,2:end]                      #returns for 25 FF portfolios\n",
    "Re = R .- Rf                         #excess returns for the 25 FF portfolios\n",
    "xx = nothing\n",
    "\n",
    "(T,n) = size(Re,1,2)                 #no. obs and  no. test assets"
   ]
  },
  {
   "cell_type": "markdown",
   "metadata": {
    "deletable": true,
    "editable": true
   },
   "source": [
    "## Testing alpha from Time Series Regressions"
   ]
  },
  {
   "cell_type": "markdown",
   "metadata": {
    "deletable": true,
    "editable": true
   },
   "source": [
    "\n",
    "With $n$ test assets and $K$ excess return factors, the linear factor model is\n",
    "$$\n",
    "R_{t}^{e}=\\alpha+\\beta f_{t}+\\varepsilon_{t},\n",
    "$$\n",
    "and the testable hypothesis is that all alphas are zero. \n",
    "\n",
    "The moment conditions\n",
    "are\n",
    "$$\n",
    "\\operatorname*{E}g_{t}(\\alpha,\\beta)=\\operatorname*{E}\\left(  \\left[\n",
    "\\begin{array}\n",
    "[c]{c}\n",
    "1\\\\\n",
    "f_{t}\n",
    "\\end{array}\n",
    "\\right]  \\otimes\\varepsilon_{t}\\right)  =\\operatorname*{E}\\left(  \\left[\n",
    "\\begin{array}\n",
    "[c]{c}\n",
    "1\\\\\n",
    "f_{t}\n",
    "\\end{array}\n",
    "\\right]  \\otimes(R_{t}^{e}-\\alpha-\\beta f_{t})\\right)  =\\mathbf{0}\n",
    "_{n(1+K)\\times1}.\n",
    "$$\n",
    "\n",
    "\n",
    "Since the model is exactly identified, the GMM covariance matrix of the\n",
    "parameters ($\\alpha,\\beta$) is\n",
    "\n",
    "$$\n",
    "\\sqrt{T}(\\hat{\\beta}-\\beta_{0})\\overset{d}{\\rightarrow}N(0,V) \n",
    "\\ \\text{ where} \\ V=D_{0}^{-1}S(D_{0}^{-1})^{\\prime},\n",
    "$$\n",
    "\n",
    "where $S$ is the covariance matrix of $\\sqrt{T}\\bar{g}_{t}$  and $D_{0}$ is\n",
    "the Jacobian which here equals\n",
    "\n",
    "$$\n",
    "D_{0}=-\\operatorname*{E}\\left(  \\left[\n",
    "\\begin{array}[c]{c}\n",
    "1\\\\\n",
    "f_{t}\n",
    "\\end{array}\n",
    "\\right]  \\left[\n",
    "\\begin{array}\n",
    "[c]{c}\n",
    "1\\\\\n",
    "f_{t}\n",
    "\\end{array}\n",
    "\\right]  ^{\\prime}\\right)  \\otimes I_{n} \\ \\text{ so }  \n",
    "\\ D_{0}^{-1}=-\\left[\\operatorname*{E}\\left(  \\left[\n",
    "\\begin{array}[c]{c}\n",
    "1\\\\\n",
    "f_{t}\n",
    "\\end{array}\n",
    "\\right]  \\left[\n",
    "\\begin{array}[c]{c}\n",
    "1\\\\\n",
    "f_{t}\n",
    "\\end{array}\n",
    "\\right]  ^{\\prime}\\right)  \\right]  ^{-1}\\otimes I_{n}\n",
    "$$"
   ]
  },
  {
   "cell_type": "code",
   "execution_count": 3,
   "metadata": {
    "collapsed": false,
    "deletable": true,
    "editable": true
   },
   "outputs": [
    {
     "name": "stdout",
     "output_type": "stream",
     "text": [
      "\n",
      "Testing alpha = 0, test statistic, df, and 10% critical value of Chi-square(25)\n",
      "   162.011    25.000    34.380\n",
      "\n"
     ]
    }
   ],
   "source": [
    "                                          #FF, testing alphas\n",
    "cf        = [ones(T) Rme RSMB RHML]       #factors, constant and 3 FF factors\n",
    "(b,epsM,) = OlsFn(Re,cf)\n",
    "alfaM     = b[1,:]                        #nx1\n",
    "\n",
    "#g_    = HDirProdFn(cf,epsM)\n",
    "g = fill(NaN,(T,size(cf,2)*n))            #moment conditions, regressors*residual\n",
    "for t = 1:T\n",
    "  g[t,:] = kron(cf[t:t,:],epsM[t:t,:])\n",
    "end\n",
    "S0   = NWFn(g,0)                          #ACov(sqrt(T)*gbar)\n",
    "Sxx  = cf'cf/T\n",
    "D0_1 = -kron(inv(Sxx),eye(n))\n",
    "V    = D0_1*S0*D0_1'\n",
    "WaldStat  = alfaM'inv(V[1:n,1:n]/T)*alfaM   #test if alpha=0\n",
    "\n",
    "println(\"\\nTesting alpha = 0, test statistic, df, and 10% critical value of Chi-square(25)\")\n",
    "printmat([WaldStat length(alfaM) 34.38])"
   ]
  },
  {
   "cell_type": "markdown",
   "metadata": {
    "deletable": true,
    "editable": true
   },
   "source": [
    "## Testing Cross-Sectional Regressions"
   ]
  },
  {
   "cell_type": "markdown",
   "metadata": {
    "deletable": true,
    "editable": true
   },
   "source": [
    "The following code from uses GMM to test $\\operatorname*{E}R^{e}=\\beta^{\\prime}\\lambda$ from an FF model---the case of\n",
    "\"General Factors\".\n",
    "\n",
    "(The factors happen to be excess returns,\n",
    "but that does not stop us from applying the method for general factors.) \n",
    "\n",
    "The code applies GMM without a weighting function. Instead, an $A$ matrix is defined\n",
    "such that $A\\bar{g}=\\mathbf{0}$ becomes the effective moment conditions. The\n",
    "matrix is chosen to make the factor risk premia ($\\lambda$) the same as in the\n",
    "old-fashioned cross-sectional regressions."
   ]
  },
  {
   "cell_type": "markdown",
   "metadata": {
    "deletable": true,
    "editable": true
   },
   "source": [
    "### Getting the Point Estimates"
   ]
  },
  {
   "cell_type": "code",
   "execution_count": 4,
   "metadata": {
    "collapsed": false,
    "deletable": true,
    "editable": true
   },
   "outputs": [
    {
     "name": "stdout",
     "output_type": "stream",
     "text": [
      "lambda:\n",
      "     0.567\n",
      "     0.252\n",
      "     0.439\n",
      "\n"
     ]
    }
   ],
   "source": [
    "                                          #FF, testing ERe = lambda'beta\n",
    "cf        = [ones(T) Rme RSMB RHML]       #factors, constant and 3 FF factors\n",
    "K         = size(cf,2) - 1                #number of factors, excluding constant\n",
    "(b,epsM,) = OlsFn(Re,cf)\n",
    "bM        = copy(b')                      #nx(1+K)\n",
    "\n",
    "ERe    = mean(Re,1)'\n",
    "betaM  = bM[:,2:end]\n",
    "theta  = betaM'\n",
    "lambda = (theta*betaM)\\(theta*ERe)       #cross-sectional estimate of price of factor risk\n",
    "\n",
    "println(\"lambda:\")\n",
    "printmat(lambda)"
   ]
  },
  {
   "cell_type": "markdown",
   "metadata": {
    "deletable": true,
    "editable": true
   },
   "source": [
    "### Testing"
   ]
  },
  {
   "cell_type": "code",
   "execution_count": 5,
   "metadata": {
    "collapsed": false,
    "deletable": true,
    "editable": true
   },
   "outputs": [
    {
     "name": "stdout",
     "output_type": "stream",
     "text": [
      "the sample moment conditions are (reshaped as n x (1+K+1)):\n",
      "     0.000    -0.000     0.000    -0.000    -0.500\n",
      "    -0.000     0.000    -0.000     0.000     0.193\n",
      "    -0.000    -0.000     0.000     0.000     0.219\n",
      "    -0.000    -0.000    -0.000     0.000     0.290\n",
      "     0.000     0.000     0.000     0.000     0.411\n",
      "     0.000     0.000     0.000    -0.000    -0.294\n",
      "     0.000     0.000     0.000    -0.000    -0.019\n",
      "    -0.000     0.000    -0.000    -0.000     0.116\n",
      "     0.000     0.000    -0.000     0.000    -0.040\n",
      "    -0.000     0.000    -0.000    -0.000    -0.302\n",
      "     0.000    -0.000    -0.000     0.000    -0.011\n",
      "     0.000     0.000     0.000    -0.000     0.020\n",
      "     0.000     0.000     0.000    -0.000    -0.006\n",
      "    -0.000    -0.000    -0.000     0.000    -0.011\n",
      "    -0.000    -0.000     0.000     0.000     0.115\n",
      "    -0.000    -0.000     0.000     0.000     0.263\n",
      "    -0.000    -0.000    -0.000     0.000    -0.005\n",
      "    -0.000    -0.000    -0.000     0.000    -0.078\n",
      "    -0.000    -0.000    -0.000     0.000    -0.055\n",
      "    -0.000    -0.000    -0.000     0.000    -0.204\n",
      "    -0.000    -0.000    -0.000     0.000     0.194\n",
      "    -0.000    -0.000    -0.000    -0.000     0.130\n",
      "     0.000     0.000    -0.000    -0.000     0.007\n",
      "    -0.000    -0.000    -0.000     0.000    -0.106\n",
      "    -0.000     0.000     0.000    -0.000    -0.058\n",
      "\n",
      "\n",
      "Testing ERe = lambda'beta, test statistic, df and 10% critical value of Chi-square(22)\n",
      "   155.261    22.000    30.810\n",
      "\n"
     ]
    }
   ],
   "source": [
    "#g_    = [HDirProdFn(cf,epsM),Re - repmat(lambda'*betaM',T,1)]\n",
    "g = fill(NaN,(T,size(cf,2)*n))           #moment conditions, regressors*residual\n",
    "for t = 1:T\n",
    "  g[t,:] = kron(cf[t:t,:],epsM[t:t,:])\n",
    "end\n",
    "g = [g (Re .- lambda'*betaM')]\n",
    "p = length(bM) + length(lambda)             #no. parameters\n",
    "q = size(g,2)                               #no. moment conditions\n",
    "\n",
    "gbar = mean(g,1)'\n",
    "println(\"the sample moment conditions are (reshaped as n x (1+K+1)):\")\n",
    "printmat(reshape(gbar,n,K+2))\n",
    "S0   = NWFn(g,0)\n",
    "\n",
    "Sxx  = cf'cf/T\n",
    "D0LL = kron([0 lambda'],eye(n))             #lower left of D0\n",
    "D0   = - [kron(Sxx,eye(n)) zeros(n*(1+K),K);\n",
    "          D0LL              betaM           ]\n",
    "\n",
    "A    = [eye(n*(1+K))     zeros(n*(1+K),n);     #A*gbar, traditional approach\n",
    "        zeros(K,n*(1+K)) theta ]\n",
    "\n",
    "Psia = eye(q) - D0*inv(A*D0)*A\n",
    "Psi3 = Psia*S0*Psia'                          #Cov[sqrt(T)*gbar], rank q-p\n",
    "\n",
    "WaldStat  = gbar'pinv(Psi3/T)*gbar            #test of moment conditions\n",
    "\n",
    "println(\"\\nTesting ERe = lambda'beta, test statistic, df and 10% critical value of Chi-square(22)\")\n",
    "printmat([WaldStat (q-p) 30.81])"
   ]
  },
  {
   "cell_type": "code",
   "execution_count": null,
   "metadata": {
    "collapsed": true,
    "deletable": true,
    "editable": true
   },
   "outputs": [],
   "source": []
  }
 ],
 "metadata": {
  "anaconda-cloud": {},
  "kernelspec": {
   "display_name": "Julia 0.5.1",
   "language": "julia",
   "name": "julia-0.5"
  },
  "language_info": {
   "file_extension": ".jl",
   "mimetype": "application/julia",
   "name": "julia",
   "version": "0.5.1"
  }
 },
 "nbformat": 4,
 "nbformat_minor": 1
}
