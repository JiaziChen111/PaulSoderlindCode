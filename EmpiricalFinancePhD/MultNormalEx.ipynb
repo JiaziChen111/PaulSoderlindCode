{
 "cells": [
  {
   "cell_type": "code",
   "execution_count": 1,
   "metadata": {
    "collapsed": false
   },
   "outputs": [
    {
     "data": {
      "text/plain": [
       "printmat (generic function with 5 methods)"
      ]
     },
     "execution_count": 1,
     "metadata": {},
     "output_type": "execute_result"
    }
   ],
   "source": [
    "import Formatting\n",
    "include(\"jlFiles/printmat.jl\")"
   ]
  },
  {
   "cell_type": "code",
   "execution_count": 2,
   "metadata": {
    "collapsed": false
   },
   "outputs": [
    {
     "name": "stdout",
     "output_type": "stream",
     "text": [
      "\n",
      "means of simulated data\n",
      "    -0.974    10.058\n",
      "\n",
      "\n",
      "covariance matrix of simulated data\n",
      "     1.017     0.522\n",
      "     0.522     2.006\n",
      "\n"
     ]
    }
   ],
   "source": [
    "mu = [-1 10]                 #means of two series\n",
    "V  = [1   0.5;               #covariance matrix of two series\n",
    "      0.5 2  ]\n",
    "\n",
    "T = 1000\n",
    "srand(123)\n",
    "\n",
    "P = chol(V)\n",
    "X = repmat(mu,T,1) + randn(T,2)*P    #T x 2 matrix\n",
    "\n",
    "println(\"\\nmeans of simulated data\")\n",
    "printmat(mean(X,1))\n",
    "println(\"\\ncovariance matrix of simulated data\")\n",
    "printmat(cov(X))"
   ]
  },
  {
   "cell_type": "code",
   "execution_count": null,
   "metadata": {
    "collapsed": true
   },
   "outputs": [],
   "source": []
  }
 ],
 "metadata": {
  "anaconda-cloud": {},
  "kernelspec": {
   "display_name": "Julia 0.5.0",
   "language": "julia",
   "name": "julia-0.5"
  },
  "language_info": {
   "file_extension": ".jl",
   "mimetype": "application/julia",
   "name": "julia",
   "version": "0.5.0"
  }
 },
 "nbformat": 4,
 "nbformat_minor": 1
}
