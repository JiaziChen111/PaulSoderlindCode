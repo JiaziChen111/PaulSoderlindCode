{
 "cells": [
  {
   "cell_type": "markdown",
   "metadata": {},
   "source": [
    "# Example of Basic OLS\n",
    "\n",
    "The first few cells load functions and data. See further down for the calculations."
   ]
  },
  {
   "cell_type": "code",
   "execution_count": 1,
   "metadata": {
    "collapsed": false
   },
   "outputs": [],
   "source": [
    "import Formatting\n",
    "\n",
    "include(\"jlFiles/printmat.jl\")\n",
    "include(\"jlFiles/NWFn.jl\")\n",
    "include(\"jlFiles/HDirProdFn.jl\")\n",
    "include(\"jlFiles/OlsFn.jl\")\n",
    "include(\"jlFiles/Ols2Fn.jl\")\n",
    "include(\"jlFiles/OlsDiagnosticsFn.jl\")\n",
    "include(\"jlFiles/excise.jl\")\n",
    "#include(\"jlFiles/lagnPs.jl\")\n",
    "\n",
    "using StatsBase, Distributions"
   ]
  },
  {
   "cell_type": "code",
   "execution_count": 2,
   "metadata": {
    "collapsed": false
   },
   "outputs": [
    {
     "data": {
      "text/plain": [
       "388-element Array{Float64,1}:\n",
       "  0.0228\n",
       "  0.0117\n",
       " -0.0067\n",
       "  0.0106\n",
       "  0.0162\n",
       "  0.0142\n",
       "  0.0175\n",
       " -0.0153\n",
       " -0.0091\n",
       " -0.0187\n",
       " -0.0334\n",
       " -0.0204\n",
       "  0.0178\n",
       "  ⋮     \n",
       " -0.0236\n",
       " -0.0431\n",
       "  0.0023\n",
       " -0.0171\n",
       " -0.0305\n",
       " -0.0221\n",
       " -0.0066\n",
       "  0.0353\n",
       "  0.0096\n",
       "  0.0138\n",
       " -0.0131\n",
       " -0.0231"
      ]
     },
     "execution_count": 2,
     "metadata": {},
     "output_type": "execute_result"
    }
   ],
   "source": [
    "xx   = readdlm(\"Data/FFmFactorsPs.csv\",',',header=true)\n",
    "x    = xx[1]\n",
    "ym   = x[:,1]                                      #[yearmonth]\n",
    "x    = x[:,2:end]/100\n",
    "Rme  = x[:,1]\n",
    "RSMB = x[:,2]                #small minus big firms\n",
    "RHML = x[:,3]                #high minus low book-to-market ratio"
   ]
  },
  {
   "cell_type": "markdown",
   "metadata": {},
   "source": [
    "## Point Estimates"
   ]
  },
  {
   "cell_type": "markdown",
   "metadata": {},
   "source": [
    "Consider the linear regression\n",
    "\n",
    "$$\n",
    "y_{t}=\\beta^{\\prime}x_{t}+\\varepsilon_{t},\n",
    "$$\n",
    "\n",
    "where $y_{t}$ is a scalar and $x_{t}$ is $k\\times1$. The OLS estimate is\n",
    "\n",
    "$$\n",
    "\\begin{align*}\n",
    "\\hat{\\beta} &  =S_{xx}^{-1}S_{xy}, \\ \\text{ where }\\\\\n",
    "S_{xx}      &  =\\frac{1}{T}\\sum\\nolimits_{t=1}^{T}x_{t}x_{t}^{\\prime}\n",
    "\\ \\text{ and } \\ S_{xy}=\\frac{1}{T}\\sum\\nolimits_{t=1}^{T}x_{t}y_{t}.\n",
    "\\end{align*}\n",
    "$$\n",
    "\n",
    "(The $1/T$ terms clearly cancel, but are sometimes useful to keep to preserve\n",
    "numerical precision.)\n",
    "\n",
    "Instead of these sums (loops over $t$), matrix multiplication can be used to\n",
    "speed up the calculations. Create matrices $X_{T\\times k}$ and $Y_{T\\times1}$\n",
    "by letting $x_{t}^{\\prime}$ and $y_{t}$ be the $t^{th}$ rows\n",
    "\n",
    "$$\n",
    "X_{T\\times k}=\\left[\n",
    "\\begin{array}[c]{l}\n",
    "x_{1}^{\\prime}\\\\\n",
    "\\vdots\\\\\n",
    "x_{T}^{\\prime}\n",
    "\\end{array}\n",
    "\\right] \\ \\text{ and } \\ Y_{T\\times1}=\\left[\n",
    "\\begin{array}[c]{l}\n",
    "y_{1}\\\\\n",
    "\\vdots\\\\\n",
    "y_{T}\n",
    "\\end{array}\n",
    "\\right].\n",
    "$$\n",
    "\n",
    "We can then calculate the same matrices as\n",
    "$$\n",
    "\\begin{align*}\n",
    "S_{xx}      &  =X^{\\prime}X/T \\ \\text{ and } \\ S_{xy}=X^{\\prime}Y/T\\text{, so }\\\\\n",
    "\\hat{\\beta} &  =(X^{\\prime}X)^{-1}X^{\\prime}Y.\n",
    "\\end{align*}\n",
    "$$\n",
    "\n",
    "However, instead of inverting $S_{xx}$, we typically get much better numerical\n",
    "precision by solving the system of $T$ equations\n",
    "\n",
    "$$\n",
    "X_{T\\times k}b_{k\\times1}=Y_{T\\times1}\n",
    "$$\n",
    "\n",
    "for the $k\\times1$ vector $b$ that minimizes the sum of squared errors. This\n",
    "is easily done by using the command:\n",
    "\n",
    "b = X\\Y"
   ]
  },
  {
   "cell_type": "code",
   "execution_count": 3,
   "metadata": {
    "collapsed": false
   },
   "outputs": [
    {
     "name": "stdout",
     "output_type": "stream",
     "text": [
      "\n",
      "b1, b2 and b3\n",
      "     0.007     0.007     0.007\n",
      "     0.217     0.217     0.217\n",
      "    -0.429    -0.429    -0.429\n",
      "\n"
     ]
    }
   ],
   "source": [
    "Y = Rme\n",
    "X = [ones(size(Rme,1)) RSMB RHML]\n",
    "\n",
    "(T,K) = size(X)\n",
    "S_xx = 0.0\n",
    "S_xy = 0.0\n",
    "for t = 1:T\n",
    "    x_t = X[t:t,:]'               #x_t is 2x1\n",
    "    y_t = Y[t:t,:]                #y_t is a 1x1 vector, helps extending\n",
    "  S_xx = S_xx + x_t*x_t'/T   #2x2\n",
    "  S_xy = S_xy + x_t*y_t/T    #2x1\n",
    "end\n",
    "b1 = inv(S_xx)*S_xy          #OLS coeffs, version 1\n",
    "\n",
    "b2 = inv(X'X)*X'Y            #OLS coeffs, version 2\n",
    "\n",
    "b3 = X\\Y                     #OLS coeffs, version 3\n",
    "\n",
    "println(\"\\nb1, b2 and b3\")\n",
    "printmat([b1 b2 b3])"
   ]
  },
  {
   "cell_type": "markdown",
   "metadata": {},
   "source": [
    "## Distribution"
   ]
  },
  {
   "cell_type": "markdown",
   "metadata": {},
   "source": [
    "To apply the GMM formulas\n",
    "\n",
    "$$\n",
    "\\sqrt{T}(\\hat{\\beta}-\\beta_{0})\\overset{d}{\\rightarrow}N(0,V)\n",
    "\\ \\text{ where } \\ V=\\left(  D_{0}^{\\prime}S_{0}^{-1}D_{0}\\right)  ^{-1}\n",
    "$$\n",
    "\n",
    "to the OLS case, first define the moment conditions\n",
    "\n",
    "$$\n",
    "g_{t}=x_{t}(y_{t}-x_{t}^{\\prime}\\beta),\n",
    "$$\n",
    "\n",
    "then find $S_{0}$ (covariance matrix of $\\sqrt{T}\\bar{g}$) and recall that\n",
    "$D_{0}=-\\sum_{t=1}^{T}x_{t}x_{t}^{\\prime}/T$."
   ]
  },
  {
   "cell_type": "code",
   "execution_count": 4,
   "metadata": {
    "collapsed": false
   },
   "outputs": [
    {
     "name": "stdout",
     "output_type": "stream",
     "text": [
      "\n",
      "avg moment conditions\n",
      "     0.000    -0.000     0.000\n",
      "\n",
      "\n",
      "b and std(b)\n",
      "     0.007     0.002\n",
      "     0.217     0.124\n",
      "    -0.429     0.108\n",
      "\n",
      "\n",
      "OLS with NW standard errors"
     ]
    }
   ],
   "source": [
    "b = X\\Y\n",
    "u = Y - X*b              #residuals\n",
    "g = X.*repmat(u,1,K)     #moment conditions\n",
    "println(\"\\navg moment conditions\")\n",
    "printmat(mean(g,1))\n",
    "\n",
    "S = NWFn(g,1)            #Newey-West covariance matrix\n",
    "D = -X'X/T\n",
    "V = inv(D'inv(S)*D)     #Cov(sqrt(T)*b)\n",
    "\n",
    "println(\"\\nb and std(b)\")\n",
    "printmat([b3 sqrt.(diag(V/T))])\n",
    "\n",
    "(b4,res,yhat_,CovbLS_,R2_,T_,CovbNW4) = Ols2Fn(Y,X,1)\n",
    "println(\"\\nOLS with NW standard errors\")\n",
    "printmat([b4 sqrt.(diag(CovbNW4))])"
   ]
  },
  {
   "cell_type": "markdown",
   "metadata": {},
   "source": [
    "## Testing a Hypothesis"
   ]
  },
  {
   "cell_type": "markdown",
   "metadata": {},
   "source": [
    "Since the estimator $\\hat{\\beta}_{_{k\\times1}}$ satisfies\n",
    "\n",
    "$$\n",
    "\\sqrt{T}(\\hat{\\beta}-\\beta_{0})\\overset{d}{\\rightarrow}N\\left(  0,V_{k\\times k}\\right)  ,\n",
    "$$\n",
    "\n",
    "we can easily apply various tests. To test a joint linear hypothesis of the\n",
    "form\n",
    "\n",
    "$$\n",
    "\\gamma_{q\\times1}=R\\beta-a,\n",
    "$$\n",
    "\n",
    "use the test\n",
    "$$\n",
    "(R\\beta-a)^{\\prime}\\left(  \\Lambda/T\\right)  ^{-1}(R\\beta\n",
    "-a)\\overset{d}{\\rightarrow}\\chi_{q}^{2}\\text{, where }\\Lambda=RVR^{\\prime}.\n",
    "$$"
   ]
  },
  {
   "cell_type": "code",
   "execution_count": 5,
   "metadata": {
    "collapsed": false
   },
   "outputs": [
    {
     "name": "stdout",
     "output_type": "stream",
     "text": [
      "\n",
      "test-statictic and 10% critical value of chi-square(2)\n",
      "    26.059     4.610\n",
      "\n",
      "\n",
      "Diagnostics, std (df)\n",
      "lag, autoCorr. p-val:\n",
      "     1.000     1.467     0.142\n",
      "     2.000    -0.733     0.464\n",
      "\n",
      "BoxPierce: stat, p-val, df\n",
      "     2.689     0.261     2.000\n",
      "\n",
      "White: stat,p-val, df \n",
      "    77.278     0.000     5.000\n",
      "\n",
      "Test of all slopes: stat, p-val, df\n",
      "    60.165     0.000     2.000\n",
      "\n"
     ]
    }
   ],
   "source": [
    "R = [0 1 0;               #testing if b(2)=0 and b(3)=0\n",
    "     0 0 1]\n",
    "a = [0;0]\n",
    "Gamma = R*V*R'\n",
    "test_stat = (R*b-a)'inv(Gamma/T)*(R*b-a)\n",
    "println(\"\\ntest-statictic and 10% critical value of chi-square(2)\")\n",
    "printmat([test_stat 4.61])\n",
    "\n",
    "(AutoCorr,DW,BoxPierce,White,Regr) = OlsDiagnosticsFn(Y,X,u,2)     #diagnostics\n",
    "println(\"\\nDiagnostics, std (df)\")\n",
    "println(\"lag, autoCorr. p-val:\")\n",
    "printmat([1:2 AutoCorr])\n",
    "println(\"BoxPierce: stat, p-val, df\")\n",
    "printmat(BoxPierce)\n",
    "println(\"White: stat,p-val, df \")\n",
    "printmat(White)\n",
    "println(\"Test of all slopes: stat, p-val, df\")\n",
    "printmat(Regr)"
   ]
  },
  {
   "cell_type": "code",
   "execution_count": null,
   "metadata": {
    "collapsed": true
   },
   "outputs": [],
   "source": []
  }
 ],
 "metadata": {
  "anaconda-cloud": {},
  "kernelspec": {
   "display_name": "Julia 0.5.0",
   "language": "julia",
   "name": "julia-0.5"
  },
  "language_info": {
   "file_extension": ".jl",
   "mimetype": "application/julia",
   "name": "julia",
   "version": "0.5.0"
  }
 },
 "nbformat": 4,
 "nbformat_minor": 1
}
