{
 "cells": [
  {
   "cell_type": "code",
   "execution_count": 1,
   "metadata": {
    "collapsed": false
   },
   "outputs": [
    {
     "data": {
      "text/plain": [
       "NWFn (generic function with 1 method)"
      ]
     },
     "execution_count": 1,
     "metadata": {},
     "output_type": "execute_result"
    }
   ],
   "source": [
    "import Formatting\n",
    "\n",
    "include(\"jlFiles/printmat.jl\")\n",
    "include(\"jlFiles/NWFn.jl\")"
   ]
  },
  {
   "cell_type": "code",
   "execution_count": 2,
   "metadata": {
    "collapsed": false
   },
   "outputs": [
    {
     "data": {
      "text/plain": [
       "388"
      ]
     },
     "execution_count": 2,
     "metadata": {},
     "output_type": "execute_result"
    }
   ],
   "source": [
    "xx = readdlm(\"Data/FFmFactorsPs.csv\",',',header=true)   #start on line 2, column 1\n",
    "x  = xx[1]\n",
    "ym = x[:,1]         #[yearmonth]\n",
    "x  = x[:,2]/100     #excess market returns\n",
    "T  = size(x,1)"
   ]
  },
  {
   "cell_type": "code",
   "execution_count": 4,
   "metadata": {
    "collapsed": false
   },
   "outputs": [
    {
     "name": "stdout",
     "output_type": "stream",
     "text": [
      "Sample moment condition at estimate: [0.0]\n",
      "\n",
      "[muHat Std(muHat)]\n",
      "     0.006     0.002\n",
      "\n"
     ]
    }
   ],
   "source": [
    "muHat = mean(x,1)                     #it is clear that this is the GMM estimate\n",
    "\n",
    "g    = x .- muHat                     #moment condition, .- 'broadcasts muHat' to x\n",
    "gbar = mean(g,1)\n",
    "println(\"Sample moment condition at estimate: \",round(gbar,4))\n",
    "\n",
    "T   = size(g,1)\n",
    "S   = var(x)\n",
    "D   = -1\n",
    "V   = inv(D'inv(S)*D)\n",
    "\n",
    "println(\"\\n[muHat Std(muHat)]\")\n",
    "printmat([muHat sqrt(V/T)])"
   ]
  },
  {
   "cell_type": "code",
   "execution_count": 5,
   "metadata": {
    "collapsed": false
   },
   "outputs": [
    {
     "name": "stdout",
     "output_type": "stream",
     "text": [
      "\n",
      "As an alternative, use NW for S\n",
      "\n",
      "[muHat Std(muHat)] according to NW\n",
      "     0.006     0.002\n",
      "\n"
     ]
    }
   ],
   "source": [
    "println(\"\\nAs an alternative, use NW for S\")\n",
    "\n",
    "Sb = NWFn(g,1)            #Newey-West covariance matrix\n",
    "\n",
    "Vb = inv(D'inv(Sb)*D)\n",
    "\n",
    "println(\"\\n[muHat Std(muHat)] according to NW\")\n",
    "printmat([muHat sqrt(Vb/T)])"
   ]
  },
  {
   "cell_type": "code",
   "execution_count": null,
   "metadata": {
    "collapsed": true
   },
   "outputs": [],
   "source": []
  }
 ],
 "metadata": {
  "anaconda-cloud": {},
  "kernelspec": {
   "display_name": "Julia 0.5.0",
   "language": "julia",
   "name": "julia-0.5"
  },
  "language_info": {
   "file_extension": ".jl",
   "mimetype": "application/julia",
   "name": "julia",
   "version": "0.5.0"
  }
 },
 "nbformat": 4,
 "nbformat_minor": 1
}
