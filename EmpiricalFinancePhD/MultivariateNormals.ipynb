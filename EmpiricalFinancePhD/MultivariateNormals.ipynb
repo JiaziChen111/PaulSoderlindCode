{
 "cells": [
  {
   "cell_type": "markdown",
   "metadata": {
    "deletable": true,
    "editable": true
   },
   "source": [
    "# Simulate Multivariate Normally Distributed Data"
   ]
  },
  {
   "cell_type": "code",
   "execution_count": 1,
   "metadata": {
    "collapsed": false,
    "deletable": true,
    "editable": true
   },
   "outputs": [
    {
     "data": {
      "text/plain": [
       "printlnPs (generic function with 1 method)"
      ]
     },
     "execution_count": 1,
     "metadata": {},
     "output_type": "execute_result"
    }
   ],
   "source": [
    "include(\"jlFiles/printmat.jl\")"
   ]
  },
  {
   "cell_type": "markdown",
   "metadata": {
    "deletable": true,
    "editable": true
   },
   "source": [
    "Suppose you want to draw an\n",
    "$n\\times1$ vector $\\varepsilon_{t}$ of $N(\\mu,\\Sigma)$ variables. \n",
    "\n",
    "Use the\n",
    "Cholesky decomposition to calculate the lower triangular $P$ such that\n",
    "$\\Sigma=PP^{\\prime}$ (note that Julia by default returns $P^{\\prime}$ instead\n",
    "of $P$). \n",
    "\n",
    "Draw $u_{t}$ from an $N(0,I)$ distribution (randn), and define $\\varepsilon_{t}=\\mu+Pu_{t}$. \n",
    "\n",
    "Note that\n",
    "$\\operatorname*{Cov}(\\varepsilon_{t})=\\operatorname*{E}Pu_{t}u_{t}^{\\prime\n",
    "}P^{\\prime}=PIP^{\\prime}=\\Sigma$."
   ]
  },
  {
   "cell_type": "code",
   "execution_count": 4,
   "metadata": {
    "collapsed": false,
    "deletable": true,
    "editable": true
   },
   "outputs": [
    {
     "name": "stdout",
     "output_type": "stream",
     "text": [
      "\n",
      "means of simulated data\n",
      "    -0.974    10.058\n",
      "\n",
      "\n",
      "covariance matrix of simulated data\n",
      "     1.017     0.522\n",
      "     0.522     2.006\n",
      "\n"
     ]
    }
   ],
   "source": [
    "mu = [-1 10]                 #means of two series\n",
    "V  = [1   0.5;               #covariance matrix of two series\n",
    "      0.5 2  ]\n",
    "\n",
    "T = 1000\n",
    "srand(123)\n",
    "\n",
    "P = chol(V)\n",
    "X = mu .+ randn(T,2)*P    #T x 2 matrix\n",
    "\n",
    "println(\"\\nmeans of simulated data\")\n",
    "printmat(mean(X,1))\n",
    "println(\"\\ncovariance matrix of simulated data\")\n",
    "printmat(cov(X))"
   ]
  },
  {
   "cell_type": "code",
   "execution_count": null,
   "metadata": {
    "collapsed": true,
    "deletable": true,
    "editable": true
   },
   "outputs": [],
   "source": []
  }
 ],
 "metadata": {
  "anaconda-cloud": {},
  "kernelspec": {
   "display_name": "Julia 0.5.1",
   "language": "julia",
   "name": "julia-0.5"
  },
  "language_info": {
   "file_extension": ".jl",
   "mimetype": "application/julia",
   "name": "julia",
   "version": "0.5.1"
  }
 },
 "nbformat": 4,
 "nbformat_minor": 1
}
