{
 "cells": [
  {
   "cell_type": "code",
   "execution_count": 1,
   "metadata": {
    "collapsed": false
   },
   "outputs": [
    {
     "data": {
      "text/plain": [
       "SRFn (generic function with 1 method)"
      ]
     },
     "execution_count": 1,
     "metadata": {},
     "output_type": "execute_result"
    }
   ],
   "source": [
    "import Formatting\n",
    "\n",
    "include(\"jlFiles/printmat.jl\")\n",
    "include(\"jlFiles/NWFn.jl\")\n",
    "include(\"jlFiles/SRFn.jl\")"
   ]
  },
  {
   "cell_type": "code",
   "execution_count": 2,
   "metadata": {
    "collapsed": false
   },
   "outputs": [
    {
     "data": {
      "text/plain": [
       "388"
      ]
     },
     "execution_count": 2,
     "metadata": {},
     "output_type": "execute_result"
    }
   ],
   "source": [
    "xx   = readdlm(\"Data/FFmFactorsPs.csv\",',',header=true)\n",
    "x    = xx[1]\n",
    "Rme  = x[:,2]/100\n",
    "T    = size(Rme,1)"
   ]
  },
  {
   "cell_type": "code",
   "execution_count": 3,
   "metadata": {
    "collapsed": false
   },
   "outputs": [
    {
     "name": "stdout",
     "output_type": "stream",
     "text": [
      "\n",
      "[mu mu_2]\n",
      "     0.006     0.002\n",
      "\n",
      "Sample moment conditions, gbar \n",
      "     0.000    -0.000\n",
      "\n",
      "Cov(params)\n",
      "  0.002317 -0.000077\n",
      " -0.000077  0.000020\n",
      "\n"
     ]
    }
   ],
   "source": [
    "mu    = mean(Rme,1)                  #GMM to estimate mean and 2nd moment\n",
    "mu_2  = mean(Rme.^2,1)\n",
    "println(\"\\n\",\"[mu mu_2]\")\n",
    "printmat([mu mu_2])\n",
    "\n",
    "g    = [(Rme .- mu) (Rme.^2 .- mu_2)]    #moment conditions\n",
    "T    = size(g,1)\n",
    "gbar = mean(g,1)\n",
    "println(\"Sample moment conditions, gbar \")\n",
    "printmat(gbar)\n",
    "\n",
    "S = NWFn(g,1)                     #Var[sqrt(T)*gbar], Newey-West\n",
    "D = -1\n",
    "V = inv(D*inv(S)*D')              #Var[sqrt(T)*(mu,mu_2)]\n",
    "println(\"Cov(params)\")\n",
    "printmat(V,10,6)"
   ]
  },
  {
   "cell_type": "code",
   "execution_count": 4,
   "metadata": {
    "collapsed": false
   },
   "outputs": [
    {
     "name": "stdout",
     "output_type": "stream",
     "text": [
      "\n",
      "Analytical derivatives \n",
      "    22.121   -30.957\n",
      "\n",
      "\n",
      "Numerical derivatives, just for comparison \n",
      "    22.121   -30.956\n",
      "\n",
      "\n",
      "SR and its Std \n",
      "     0.131     0.057\n",
      "\n",
      "SR and 90% conf band: \n",
      "     0.131     0.037     0.225\n",
      "\n"
     ]
    }
   ],
   "source": [
    "                                  #delta method\n",
    "df = [ (mu_2/(mu_2 - mu.^2).^(3/2)) (-mu/(2*(mu_2 - mu.^2).^(3/2)))]\n",
    "println(\"\\nAnalytical derivatives \")\n",
    "printmat(df)\n",
    "\n",
    "par0 = [mu;mu_2]\n",
    "SR0  = SRFn(par0)       #Sharpe ratio, function\n",
    "\n",
    "Delta = 1e-7            #numerical derivatives\n",
    "k     = 2               #number of parameters\n",
    "Jac   = fill(NaN,(1,k))\n",
    "for j = 1:k              #loop over columns (parameters)\n",
    "  btilde    = par0 + 0.0 #break the link between par0 and btilde, now not identical\n",
    "  btilde[j] = btilde[j] + Delta\n",
    "  Jac[1,j]  = (SRFn(btilde)- SR0)/Delta\n",
    "end\n",
    "println(\"\\nNumerical derivatives, just for comparison \")\n",
    "printmat(Jac)\n",
    "\n",
    "Std_SR = sqrt(df*V*df'/T)\n",
    "println(\"\\nSR and its Std \")\n",
    "printmat([SR0 Std_SR])\n",
    "\n",
    "println(\"SR and 90% conf band: \")\n",
    "printmat([SR0 (SR0-1.65*Std_SR) (SR0+1.65*Std_SR)])"
   ]
  },
  {
   "cell_type": "code",
   "execution_count": null,
   "metadata": {
    "collapsed": true
   },
   "outputs": [],
   "source": []
  }
 ],
 "metadata": {
  "anaconda-cloud": {},
  "kernelspec": {
   "display_name": "Julia 0.5.0",
   "language": "julia",
   "name": "julia-0.5"
  },
  "language_info": {
   "file_extension": ".jl",
   "mimetype": "application/julia",
   "name": "julia",
   "version": "0.5.0"
  }
 },
 "nbformat": 4,
 "nbformat_minor": 1
}
