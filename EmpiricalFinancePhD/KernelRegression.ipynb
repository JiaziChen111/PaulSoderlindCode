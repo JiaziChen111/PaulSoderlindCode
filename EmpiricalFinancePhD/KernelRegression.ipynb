{
 "cells": [
  {
   "cell_type": "markdown",
   "metadata": {
    "deletable": true,
    "editable": true
   },
   "source": [
    "# Kernel Regression"
   ]
  },
  {
   "cell_type": "markdown",
   "metadata": {
    "deletable": true,
    "editable": true
   },
   "source": [
    "## Loading Packages"
   ]
  },
  {
   "cell_type": "code",
   "execution_count": 1,
   "metadata": {
    "collapsed": false,
    "deletable": true,
    "editable": true
   },
   "outputs": [
    {
     "data": {
      "text/plain": [
       "OlsFn (generic function with 1 method)"
      ]
     },
     "execution_count": 1,
     "metadata": {},
     "output_type": "execute_result"
    }
   ],
   "source": [
    "include(\"jlFiles/printmat.jl\")\n",
    "include(\"jlFiles/excise.jl\")\n",
    "include(\"jlFiles/lagnPs.jl\")\n",
    "include(\"jlFiles/OlsFn.jl\")"
   ]
  },
  {
   "cell_type": "code",
   "execution_count": 2,
   "metadata": {
    "collapsed": true,
    "deletable": true,
    "editable": true
   },
   "outputs": [],
   "source": [
    "using Plots\n",
    "\n",
    "backend = \"gr\"              #\"gr\" (default), \"pyplot\" \n",
    "\n",
    "if backend == \"pyplot\"\n",
    "    pyplot(size=(600,400))\n",
    "    default(show=false)               #for pyplot: avoids pop-ups\n",
    "else    \n",
    "    gr(size=(600,400))\n",
    "    default(show=true)\n",
    "end"
   ]
  },
  {
   "cell_type": "markdown",
   "metadata": {
    "deletable": true,
    "editable": true
   },
   "source": [
    "## Loading Data"
   ]
  },
  {
   "cell_type": "code",
   "execution_count": 3,
   "metadata": {
    "collapsed": false,
    "deletable": true,
    "editable": true
   },
   "outputs": [
    {
     "name": "stdout",
     "output_type": "stream",
     "text": [
      "Sample size: 8324"
     ]
    }
   ],
   "source": [
    "xx  = readdlm(\"Data/FFdSizePs.csv\",',',header=true)\n",
    "xx  = xx[1]\n",
    "ymd = xx[:,1]             #[YearMonthDay]\n",
    "R   = xx[:,11]            #returns for the size portfolio we want to study\n",
    "\n",
    "xx  = excise([R lagnPs(R)])             #return and lagged return: dependent variable and regressor\n",
    "y   = xx[:,1]\n",
    "x   = xx[:,2]\n",
    "T   = size(x,1)\n",
    "xx = nothing\n",
    "\n",
    "println(\"Sample size: $T\")"
   ]
  },
  {
   "cell_type": "markdown",
   "metadata": {
    "deletable": true,
    "editable": true
   },
   "source": [
    "\n",
    "A kernel regression is of the form\n",
    "$$\n",
    "\\hat{b}(x)=\\frac{\\sum\\nolimits_{t=1}^{T}w_{t}(x)y_{t}}{\\sum\\nolimits_{t=1}^{T}w_{t}(x)},\n",
    "$$\n",
    "where $w_{t}(x)$ is the weight of observation $t$, defined by a kernel function.\n",
    "\n",
    "The function KernRegNormalFn uses a normal kernel, $N(x,h^{2})$."
   ]
  },
  {
   "cell_type": "code",
   "execution_count": 4,
   "metadata": {
    "collapsed": false,
    "deletable": true,
    "editable": true
   },
   "outputs": [
    {
     "data": {
      "text/plain": [
       "KernRegNormalFn (generic function with 1 method)"
      ]
     },
     "execution_count": 4,
     "metadata": {},
     "output_type": "execute_result"
    }
   ],
   "source": [
    "function KernRegNormalFn(y,x,xGrid,h,vv)\n",
    "\n",
    "  Ngrid = length(xGrid)                  #number of grid points\n",
    "\n",
    "  bHat = fill(NaN,Ngrid)                 #y(t) = b[x(t)] + e(t)\n",
    "\n",
    "  for i = 1:Ngrid                        #loop over elements in xGrid\n",
    "    zi      = (x - xGrid[i])/h\n",
    "    w       = exp.(-zi.^2/2)./(h*sqrt(2*pi))       #gaussian kernel, with \"std\" = h\n",
    "    bHat[i] = sum(w[vv].*y[vv])/sum(w[vv])        #sum over observations (data)\n",
    "  end\n",
    "\n",
    "  return bHat\n",
    "\n",
    "end"
   ]
  },
  {
   "cell_type": "code",
   "execution_count": 5,
   "metadata": {
    "collapsed": false,
    "deletable": true,
    "editable": true
   },
   "outputs": [
    {
     "data": {
      "text/html": [
       "<?xml version=\"1.0\" encoding=\"utf-8\"?>\n",
       "<svg xmlns=\"http://www.w3.org/2000/svg\" xmlns:xlink=\"http://www.w3.org/1999/xlink\" width=\"600\" height=\"400\" viewBox=\"0 0 600 400\">\n",
       "<defs>\n",
       "  <clipPath id=\"clip00\">\n",
       "    <rect x=\"0\" y=\"0\" width=\"600\" height=\"400\"/>\n",
       "  </clipPath>\n",
       "</defs>\n",
       "<polygon clip-path=\"url(#clip00)\" points=\"\n",
       "0,400 600,400 600,0 0,0 \n",
       "  \" fill=\"#ffffff\" fill-opacity=\"1\"/>\n",
       "<defs>\n",
       "  <clipPath id=\"clip01\">\n",
       "    <rect x=\"120\" y=\"0\" width=\"421\" height=\"400\"/>\n",
       "  </clipPath>\n",
       "</defs>\n",
       "<polygon clip-path=\"url(#clip00)\" points=\"\n",
       "54.7703,369.674 596.063,369.674 596.063,23.3815 54.7703,23.3815 \n",
       "  \" fill=\"#ffffff\" fill-opacity=\"1\"/>\n",
       "<defs>\n",
       "  <clipPath id=\"clip02\">\n",
       "    <rect x=\"54\" y=\"23\" width=\"542\" height=\"347\"/>\n",
       "  </clipPath>\n",
       "</defs>\n",
       "<polyline clip-path=\"url(#clip02)\" style=\"stroke:#00002d; stroke-width:0.8; stroke-opacity:0.5; fill:none\" stroke-dasharray=\"1, 2\" points=\"\n",
       "  54.7703,364.48 54.7703,28.5758 \n",
       "  \"/>\n",
       "<polyline clip-path=\"url(#clip02)\" style=\"stroke:#00002d; stroke-width:0.8; stroke-opacity:0.5; fill:none\" stroke-dasharray=\"1, 2\" points=\"\n",
       "  190.094,364.48 190.094,28.5758 \n",
       "  \"/>\n",
       "<polyline clip-path=\"url(#clip02)\" style=\"stroke:#00002d; stroke-width:0.8; stroke-opacity:0.5; fill:none\" stroke-dasharray=\"1, 2\" points=\"\n",
       "  325.417,364.48 325.417,28.5758 \n",
       "  \"/>\n",
       "<polyline clip-path=\"url(#clip02)\" style=\"stroke:#00002d; stroke-width:0.8; stroke-opacity:0.5; fill:none\" stroke-dasharray=\"1, 2\" points=\"\n",
       "  460.74,364.48 460.74,28.5758 \n",
       "  \"/>\n",
       "<polyline clip-path=\"url(#clip02)\" style=\"stroke:#00002d; stroke-width:0.8; stroke-opacity:0.5; fill:none\" stroke-dasharray=\"1, 2\" points=\"\n",
       "  596.063,364.48 596.063,28.5758 \n",
       "  \"/>\n",
       "<polyline clip-path=\"url(#clip02)\" style=\"stroke:#00002d; stroke-width:0.8; stroke-opacity:0.5; fill:none\" stroke-dasharray=\"1, 2\" points=\"\n",
       "  62.8897,369.674 587.944,369.674 \n",
       "  \"/>\n",
       "<polyline clip-path=\"url(#clip02)\" style=\"stroke:#00002d; stroke-width:0.8; stroke-opacity:0.5; fill:none\" stroke-dasharray=\"1, 2\" points=\"\n",
       "  62.8897,283.101 587.944,283.101 \n",
       "  \"/>\n",
       "<polyline clip-path=\"url(#clip02)\" style=\"stroke:#00002d; stroke-width:0.8; stroke-opacity:0.5; fill:none\" stroke-dasharray=\"1, 2\" points=\"\n",
       "  62.8897,196.528 587.944,196.528 \n",
       "  \"/>\n",
       "<polyline clip-path=\"url(#clip02)\" style=\"stroke:#00002d; stroke-width:0.8; stroke-opacity:0.5; fill:none\" stroke-dasharray=\"1, 2\" points=\"\n",
       "  62.8897,109.955 587.944,109.955 \n",
       "  \"/>\n",
       "<polyline clip-path=\"url(#clip02)\" style=\"stroke:#00002d; stroke-width:0.8; stroke-opacity:0.5; fill:none\" stroke-dasharray=\"1, 2\" points=\"\n",
       "  62.8897,23.3815 587.944,23.3815 \n",
       "  \"/>\n",
       "<polyline clip-path=\"url(#clip02)\" style=\"stroke:#00002d; stroke-width:0.8; stroke-opacity:1; fill:none\" points=\"\n",
       "  54.7703,369.674 596.063,369.674 \n",
       "  \"/>\n",
       "<polyline clip-path=\"url(#clip02)\" style=\"stroke:#00002d; stroke-width:0.8; stroke-opacity:1; fill:none\" points=\"\n",
       "  54.7703,369.674 54.7703,364.48 \n",
       "  \"/>\n",
       "<polyline clip-path=\"url(#clip02)\" style=\"stroke:#00002d; stroke-width:0.8; stroke-opacity:1; fill:none\" points=\"\n",
       "  190.094,369.674 190.094,364.48 \n",
       "  \"/>\n",
       "<polyline clip-path=\"url(#clip02)\" style=\"stroke:#00002d; stroke-width:0.8; stroke-opacity:1; fill:none\" points=\"\n",
       "  325.417,369.674 325.417,364.48 \n",
       "  \"/>\n",
       "<polyline clip-path=\"url(#clip02)\" style=\"stroke:#00002d; stroke-width:0.8; stroke-opacity:1; fill:none\" points=\"\n",
       "  460.74,369.674 460.74,364.48 \n",
       "  \"/>\n",
       "<polyline clip-path=\"url(#clip02)\" style=\"stroke:#00002d; stroke-width:0.8; stroke-opacity:1; fill:none\" points=\"\n",
       "  596.063,369.674 596.063,364.48 \n",
       "  \"/>\n",
       "<polyline clip-path=\"url(#clip02)\" style=\"stroke:#00002d; stroke-width:0.8; stroke-opacity:1; fill:none\" points=\"\n",
       "  54.7703,369.674 54.7703,23.3815 \n",
       "  \"/>\n",
       "<polyline clip-path=\"url(#clip02)\" style=\"stroke:#00002d; stroke-width:0.8; stroke-opacity:1; fill:none\" points=\"\n",
       "  54.7703,369.674 62.8897,369.674 \n",
       "  \"/>\n",
       "<polyline clip-path=\"url(#clip02)\" style=\"stroke:#00002d; stroke-width:0.8; stroke-opacity:1; fill:none\" points=\"\n",
       "  54.7703,283.101 62.8897,283.101 \n",
       "  \"/>\n",
       "<polyline clip-path=\"url(#clip02)\" style=\"stroke:#00002d; stroke-width:0.8; stroke-opacity:1; fill:none\" points=\"\n",
       "  54.7703,196.528 62.8897,196.528 \n",
       "  \"/>\n",
       "<polyline clip-path=\"url(#clip02)\" style=\"stroke:#00002d; stroke-width:0.8; stroke-opacity:1; fill:none\" points=\"\n",
       "  54.7703,109.955 62.8897,109.955 \n",
       "  \"/>\n",
       "<polyline clip-path=\"url(#clip02)\" style=\"stroke:#00002d; stroke-width:0.8; stroke-opacity:1; fill:none\" points=\"\n",
       "  54.7703,23.3815 62.8897,23.3815 \n",
       "  \"/>\n",
       "<g clip-path=\"url(#clip00)\">\n",
       "<text style=\"fill:#00002d; fill-opacity:1; font-family:Arial,Helvetica Neue,Helvetica,sans-serif; font-size:12; text-anchor:middle;\" transform=\"rotate(0, 54.7703, 381.674)\" x=\"54.7703\" y=\"381.674\">-10</text>\n",
       "</g>\n",
       "<g clip-path=\"url(#clip00)\">\n",
       "<text style=\"fill:#00002d; fill-opacity:1; font-family:Arial,Helvetica Neue,Helvetica,sans-serif; font-size:12; text-anchor:middle;\" transform=\"rotate(0, 190.094, 381.674)\" x=\"190.094\" y=\"381.674\">-5</text>\n",
       "</g>\n",
       "<g clip-path=\"url(#clip00)\">\n",
       "<text style=\"fill:#00002d; fill-opacity:1; font-family:Arial,Helvetica Neue,Helvetica,sans-serif; font-size:12; text-anchor:middle;\" transform=\"rotate(0, 325.417, 381.674)\" x=\"325.417\" y=\"381.674\">0</text>\n",
       "</g>\n",
       "<g clip-path=\"url(#clip00)\">\n",
       "<text style=\"fill:#00002d; fill-opacity:1; font-family:Arial,Helvetica Neue,Helvetica,sans-serif; font-size:12; text-anchor:middle;\" transform=\"rotate(0, 460.74, 381.674)\" x=\"460.74\" y=\"381.674\">5</text>\n",
       "</g>\n",
       "<g clip-path=\"url(#clip00)\">\n",
       "<text style=\"fill:#00002d; fill-opacity:1; font-family:Arial,Helvetica Neue,Helvetica,sans-serif; font-size:12; text-anchor:middle;\" transform=\"rotate(0, 596.063, 381.674)\" x=\"596.063\" y=\"381.674\">10</text>\n",
       "</g>\n",
       "<g clip-path=\"url(#clip00)\">\n",
       "<text style=\"fill:#00002d; fill-opacity:1; font-family:Arial,Helvetica Neue,Helvetica,sans-serif; font-size:12; text-anchor:end;\" transform=\"rotate(0, 53.5703, 374.174)\" x=\"53.5703\" y=\"374.174\">-5.0</text>\n",
       "</g>\n",
       "<g clip-path=\"url(#clip00)\">\n",
       "<text style=\"fill:#00002d; fill-opacity:1; font-family:Arial,Helvetica Neue,Helvetica,sans-serif; font-size:12; text-anchor:end;\" transform=\"rotate(0, 53.5703, 287.601)\" x=\"53.5703\" y=\"287.601\">-2.5</text>\n",
       "</g>\n",
       "<g clip-path=\"url(#clip00)\">\n",
       "<text style=\"fill:#00002d; fill-opacity:1; font-family:Arial,Helvetica Neue,Helvetica,sans-serif; font-size:12; text-anchor:end;\" transform=\"rotate(0, 53.5703, 201.028)\" x=\"53.5703\" y=\"201.028\">0.0</text>\n",
       "</g>\n",
       "<g clip-path=\"url(#clip00)\">\n",
       "<text style=\"fill:#00002d; fill-opacity:1; font-family:Arial,Helvetica Neue,Helvetica,sans-serif; font-size:12; text-anchor:end;\" transform=\"rotate(0, 53.5703, 114.455)\" x=\"53.5703\" y=\"114.455\">2.5</text>\n",
       "</g>\n",
       "<g clip-path=\"url(#clip00)\">\n",
       "<text style=\"fill:#00002d; fill-opacity:1; font-family:Arial,Helvetica Neue,Helvetica,sans-serif; font-size:12; text-anchor:end;\" transform=\"rotate(0, 53.5703, 27.8815)\" x=\"53.5703\" y=\"27.8815\">5.0</text>\n",
       "</g>\n",
       "<g clip-path=\"url(#clip00)\">\n",
       "<text style=\"fill:#00002d; fill-opacity:1; font-family:Arial,Helvetica Neue,Helvetica,sans-serif; font-size:21; text-anchor:middle;\" transform=\"rotate(0, 325.417, 18)\" x=\"325.417\" y=\"18\">Return vs lagged return, kernel regression</text>\n",
       "</g>\n",
       "<g clip-path=\"url(#clip00)\">\n",
       "<text style=\"fill:#00002d; fill-opacity:1; font-family:Arial,Helvetica Neue,Helvetica,sans-serif; font-size:16; text-anchor:middle;\" transform=\"rotate(0, 325.417, 397.6)\" x=\"325.417\" y=\"397.6\">Lagged return</text>\n",
       "</g>\n",
       "<g clip-path=\"url(#clip00)\">\n",
       "<text style=\"fill:#00002d; fill-opacity:1; font-family:Arial,Helvetica Neue,Helvetica,sans-serif; font-size:16; text-anchor:middle;\" transform=\"rotate(-90, 14.4, 196.528)\" x=\"14.4\" y=\"196.528\">Return</text>\n",
       "</g>\n",
       "<polyline clip-path=\"url(#clip02)\" style=\"stroke:#0099ff; stroke-width:1.6; stroke-opacity:1; fill:none\" stroke-dasharray=\"1, 2\" points=\"\n",
       "  54.7703,42.5129 61.5365,43.9501 68.3027,45.7742 75.0688,48.1517 81.835,51.3356 88.6011,55.6817 95.3673,61.6054 102.133,69.3804 108.9,78.7073 115.666,88.3494 \n",
       "  122.432,96.6974 129.198,103.358 135.964,109.905 142.73,118.764 149.497,131.621 156.263,148.389 163.029,166.766 169.795,182.835 176.561,193.163 183.327,197.042 \n",
       "  190.094,196.521 196.86,194.468 203.626,192.854 210.392,192.322 217.158,192.617 223.924,193.244 230.69,193.865 237.457,194.352 244.223,194.692 250.989,194.904 \n",
       "  257.755,195.021 264.521,195.078 271.287,195.111 278.054,195.138 284.82,195.167 291.586,195.195 298.352,195.218 305.118,195.234 311.884,195.239 318.651,195.234 \n",
       "  325.417,195.214 332.183,195.178 338.949,195.126 345.715,195.06 352.481,194.984 359.247,194.902 366.014,194.808 372.78,194.68 379.546,194.476 386.312,194.138 \n",
       "  393.078,193.614 399.844,192.898 406.611,192.083 413.377,191.428 420.143,191.377 426.909,192.469 433.675,195.076 440.441,199.136 447.208,204.081 453.974,208.965 \n",
       "  460.74,212.665 467.506,214.04 474.272,212.17 481.038,206.661 487.804,197.871 494.571,186.778 501.337,174.617 508.103,162.705 514.869,152.777 521.635,147.766 \n",
       "  528.401,152.424 535.168,171.791 541.934,205.545 548.7,243.98 555.466,274.953 562.232,292.587 568.998,296.196 575.765,287.076 582.531,270.224 589.297,254.08 \n",
       "  596.063,243.453 \n",
       "  \"/>\n",
       "<polyline clip-path=\"url(#clip02)\" style=\"stroke:#e9746a; stroke-width:0.8; stroke-opacity:1; fill:none\" points=\"\n",
       "  54.7703,68.6633 61.5365,72.3309 68.3027,76.5495 75.0688,81.3983 81.835,86.9558 88.6011,93.2903 95.3673,100.447 102.133,108.429 108.9,117.178 115.666,126.553 \n",
       "  122.432,136.314 129.198,146.134 135.964,155.617 142.73,164.362 149.497,172.028 156.263,178.399 163.029,183.415 169.795,187.166 176.561,189.84 183.327,191.67 \n",
       "  190.094,192.882 196.86,193.667 203.626,194.17 210.392,194.494 217.158,194.705 223.924,194.846 230.69,194.943 237.457,195.011 244.223,195.061 250.989,195.097 \n",
       "  257.755,195.123 264.521,195.142 271.287,195.155 278.054,195.163 284.82,195.167 291.586,195.168 298.352,195.165 305.118,195.16 311.884,195.151 318.651,195.14 \n",
       "  325.417,195.125 332.183,195.107 338.949,195.085 345.715,195.059 352.481,195.029 359.247,194.994 366.014,194.953 372.78,194.906 379.546,194.852 386.312,194.794 \n",
       "  393.078,194.73 399.844,194.665 406.611,194.601 413.377,194.548 420.143,194.514 426.909,194.513 433.675,194.563 440.441,194.682 447.208,194.889 453.974,195.193 \n",
       "  460.74,195.591 467.506,196.055 474.272,196.529 481.038,196.93 487.804,197.155 494.571,197.109 501.337,196.73 508.103,196.026 514.869,195.092 521.635,194.119 \n",
       "  528.401,193.391 535.168,193.248 541.934,194.054 548.7,196.128 555.466,199.662 562.232,204.63 568.998,210.71 575.765,217.288 582.531,223.574 589.297,228.83 \n",
       "  596.063,232.591 \n",
       "  \"/>\n",
       "<polyline clip-path=\"url(#clip02)\" style=\"stroke:#3cb370; stroke-width:1.6; stroke-opacity:1; fill:none\" stroke-dasharray=\"8, 5\" points=\"\n",
       "  54.7703,182.363 61.5365,184.225 68.3027,185.847 75.0688,187.252 81.835,188.463 88.6011,189.502 95.3673,190.39 102.133,191.146 108.9,191.787 115.666,192.329 \n",
       "  122.432,192.786 129.198,193.171 135.964,193.494 142.73,193.765 149.497,193.991 156.263,194.181 163.029,194.339 169.795,194.471 176.561,194.58 183.327,194.672 \n",
       "  190.094,194.747 196.86,194.81 203.626,194.862 210.392,194.905 217.158,194.94 223.924,194.969 230.69,194.992 237.457,195.011 244.223,195.026 250.989,195.038 \n",
       "  257.755,195.047 264.521,195.054 271.287,195.059 278.054,195.062 284.82,195.064 291.586,195.065 298.352,195.064 305.118,195.063 311.884,195.06 318.651,195.057 \n",
       "  325.417,195.053 332.183,195.049 338.949,195.044 345.715,195.039 352.481,195.033 359.247,195.027 366.014,195.021 372.78,195.014 379.546,195.007 386.312,195 \n",
       "  393.078,194.993 399.844,194.986 406.611,194.979 413.377,194.972 420.143,194.965 426.909,194.958 433.675,194.952 440.441,194.946 447.208,194.941 453.974,194.936 \n",
       "  460.74,194.933 467.506,194.93 474.272,194.929 481.038,194.93 487.804,194.932 494.571,194.937 501.337,194.946 508.103,194.957 514.869,194.974 521.635,194.996 \n",
       "  528.401,195.025 535.168,195.063 541.934,195.111 548.7,195.173 555.466,195.251 562.232,195.35 568.998,195.474 575.765,195.63 582.531,195.825 589.297,196.068 \n",
       "  596.063,196.369 \n",
       "  \"/>\n",
       "<polygon clip-path=\"url(#clip00)\" points=\"\n",
       "466.033,104.741 578.063,104.741 578.063,44.2615 466.033,44.2615 \n",
       "  \" fill=\"#ffffff\" fill-opacity=\"1\"/>\n",
       "<polyline clip-path=\"url(#clip00)\" style=\"stroke:#00002d; stroke-width:0.8; stroke-opacity:1; fill:none\" points=\"\n",
       "  466.033,104.741 578.063,104.741 578.063,44.2615 466.033,44.2615 466.033,104.741 \n",
       "  \"/>\n",
       "<polyline clip-path=\"url(#clip00)\" style=\"stroke:#0099ff; stroke-width:1.6; stroke-opacity:1; fill:none\" stroke-dasharray=\"1, 2\" points=\"\n",
       "  472.033,59.3815 508.033,59.3815 \n",
       "  \"/>\n",
       "<g clip-path=\"url(#clip00)\">\n",
       "<text style=\"fill:#00002d; fill-opacity:1; font-family:Arial,Helvetica Neue,Helvetica,sans-serif; font-size:12; text-anchor:start;\" transform=\"rotate(0, 514.033, 63.8815)\" x=\"514.033\" y=\"63.8815\">low h</text>\n",
       "</g>\n",
       "<polyline clip-path=\"url(#clip00)\" style=\"stroke:#e9746a; stroke-width:0.8; stroke-opacity:1; fill:none\" points=\"\n",
       "  472.033,74.5015 508.033,74.5015 \n",
       "  \"/>\n",
       "<g clip-path=\"url(#clip00)\">\n",
       "<text style=\"fill:#00002d; fill-opacity:1; font-family:Arial,Helvetica Neue,Helvetica,sans-serif; font-size:12; text-anchor:start;\" transform=\"rotate(0, 514.033, 79.0015)\" x=\"514.033\" y=\"79.0015\">medium h</text>\n",
       "</g>\n",
       "<polyline clip-path=\"url(#clip00)\" style=\"stroke:#3cb370; stroke-width:1.6; stroke-opacity:1; fill:none\" stroke-dasharray=\"8, 5\" points=\"\n",
       "  472.033,89.6215 508.033,89.6215 \n",
       "  \"/>\n",
       "<g clip-path=\"url(#clip00)\">\n",
       "<text style=\"fill:#00002d; fill-opacity:1; font-family:Arial,Helvetica Neue,Helvetica,sans-serif; font-size:12; text-anchor:start;\" transform=\"rotate(0, 514.033, 94.1215)\" x=\"514.033\" y=\"94.1215\">high h</text>\n",
       "</g>\n",
       "</svg>\n"
      ]
     },
     "execution_count": 5,
     "metadata": {},
     "output_type": "execute_result"
    }
   ],
   "source": [
    "xGrid = collect(-10:0.25:10)\n",
    "h     = 1.5\n",
    "bHat    = KernRegNormalFn(y,x,xGrid,h,1:T)         #baseline choice of h\n",
    "bHatHih = KernRegNormalFn(y,x,xGrid,h*2,1:T)       #high h\n",
    "bHatLoh = KernRegNormalFn(y,x,xGrid,h*0.5,1:T)     #low h\n",
    "\n",
    "\n",
    "ha = plot(xGrid,bHatLoh,line=(:dot,2),label=\"low h\")\n",
    "plot!(xGrid,bHat,label=\"medium h\")\n",
    "plot!(xGrid,bHatHih,line=(:dash,2),label=\"high h\")\n",
    "plot!(xlims=(minimum(xGrid),maximum(xGrid)),ylims=(-5,5))\n",
    "title!(\"Return vs lagged return, kernel regression\")\n",
    "xlabel!(\"Lagged return\")\n",
    "ylabel!(\"Return\")"
   ]
  },
  {
   "cell_type": "markdown",
   "metadata": {
    "deletable": true,
    "editable": true
   },
   "source": [
    "## Rule of Thumb Choice of h\n",
    "\n",
    "Run the regression \n",
    "\n",
    "$\n",
    "y=\\alpha+\\beta x+\\gamma x^{2}+\\varepsilon\n",
    "$\n",
    "\n",
    "and use the following rule-of-thumb choice\n",
    "\n",
    "$\n",
    "h  =T^{-1/5}|\\gamma|^{-2/5}\\sigma_{\\varepsilon}^{2/5}(x_{\\max}-x_{\\min})^{1/5}\\times0.6.\n",
    "$\n",
    "\n",
    "In practice, replace $x_{\\max}-x_{\\min}$ by the difference between the 90th\n",
    "and 10th percentiles of $x$."
   ]
  },
  {
   "cell_type": "code",
   "execution_count": 6,
   "metadata": {
    "collapsed": false,
    "deletable": true,
    "editable": true
   },
   "outputs": [
    {
     "name": "stdout",
     "output_type": "stream",
     "text": [
      "\n",
      "Rule-of-thumb value of h:      0.667\n"
     ]
    }
   ],
   "source": [
    "(b,res,) = OlsFn(y,[x.^2 x ones(T)])             #rule of thumb bandwidth\n",
    "\n",
    "sigma = std(res)\n",
    "gamm  = b[1]\n",
    "xSort = sort(x)\n",
    "x_10  = xSort[floor(Int,T*0.1)]          #crude 10th and 90th percentiles\n",
    "x_90  = xSort[floor(Int,T*0.9)]\n",
    "\n",
    "h_crude = 0.6*sigma^(2/5)*abs(gamm)^(-2/5)*(x_90-x_10)^(1/5)*T^(-1/5)\n",
    "\n",
    "printlnPs(\"\\nRule-of-thumb value of h: \",h_crude)"
   ]
  },
  {
   "cell_type": "markdown",
   "metadata": {
    "deletable": true,
    "editable": true
   },
   "source": [
    "## Cross-Validation (leave-one-out)"
   ]
  },
  {
   "cell_type": "markdown",
   "metadata": {
    "deletable": true,
    "editable": true
   },
   "source": [
    "To do a cross-validation \n",
    "\n",
    "(1) Pick a bandwidth $h$, do the kernel regression\n",
    "but leave out observation $t$ and then record the out-of-sample prediction error $y_{t}-\\hat{b}_{-t}\n",
    "(x_{t},h)$. Notice that this is the error for observation $t$ only. \n",
    "\n",
    "(2) Repeat for all $t=1-T$ to calculate the EPE\n",
    "\n",
    "$\n",
    "\\text{EPE}(h)=\\sum\\nolimits_{t=1}^{T}\\left[  y_{t}-\\hat{b}_{-t}(x_{t},h)\\right]  ^{2}/T,\n",
    "$\n",
    "\n",
    "(3) Finally, redo for several different values of $h$---and pick the one\n",
    "that minimizes EPE$(h)$. "
   ]
  },
  {
   "cell_type": "code",
   "execution_count": 7,
   "metadata": {
    "collapsed": false,
    "deletable": true,
    "editable": true
   },
   "outputs": [
    {
     "name": "stdout",
     "output_type": "stream",
     "text": [
      "\n",
      "Cross-validation calculations take some time\n",
      "h and EPE:\n",
      "     0.167       NaN\n",
      "     0.334     1.314\n",
      "     0.501     1.302\n",
      "     0.667     1.295\n",
      "     1.001     1.288\n",
      "     1.335     1.286\n",
      "     2.002     1.287\n",
      "     2.670     1.291\n",
      "     3.337     1.292\n",
      "     6.674     1.296\n",
      "\n"
     ]
    }
   ],
   "source": [
    "println(\"\\nCross-validation calculations take some time\")\n",
    "\n",
    "hM = h_crude*[0.25 0.5 0.75 1 1.5 2 3 4 5 10]'\n",
    "\n",
    "Nh   = length(hM)\n",
    "EPEM = fill(NaN,(T,Nh))\n",
    "for t = 1:T\n",
    "    v_No_t = setdiff(1:T,t)\n",
    "    for j = 1:Nh\n",
    "        b_t       = KernRegNormalFn(y,x,x[t],hM[j],v_No_t)   #fitted b[x(t)]\n",
    "        EPEM[t,j] = (y[t] - b_t[1])^2\n",
    "    end\n",
    "end\n",
    "EPE = mean(EPEM,1)'\n",
    "println(\"h and EPE:\")\n",
    "printmat([hM EPE])"
   ]
  },
  {
   "cell_type": "code",
   "execution_count": 8,
   "metadata": {
    "collapsed": false,
    "deletable": true,
    "editable": true
   },
   "outputs": [
    {
     "data": {
      "text/html": [
       "<?xml version=\"1.0\" encoding=\"utf-8\"?>\n",
       "<svg xmlns=\"http://www.w3.org/2000/svg\" xmlns:xlink=\"http://www.w3.org/1999/xlink\" width=\"600\" height=\"400\" viewBox=\"0 0 600 400\">\n",
       "<defs>\n",
       "  <clipPath id=\"clip00\">\n",
       "    <rect x=\"0\" y=\"0\" width=\"600\" height=\"400\"/>\n",
       "  </clipPath>\n",
       "</defs>\n",
       "<polygon clip-path=\"url(#clip00)\" points=\"\n",
       "0,400 600,400 600,0 0,0 \n",
       "  \" fill=\"#ffffff\" fill-opacity=\"1\"/>\n",
       "<defs>\n",
       "  <clipPath id=\"clip01\">\n",
       "    <rect x=\"120\" y=\"0\" width=\"421\" height=\"400\"/>\n",
       "  </clipPath>\n",
       "</defs>\n",
       "<polygon clip-path=\"url(#clip00)\" points=\"\n",
       "54.7703,369.674 596.063,369.674 596.063,23.3815 54.7703,23.3815 \n",
       "  \" fill=\"#ffffff\" fill-opacity=\"1\"/>\n",
       "<defs>\n",
       "  <clipPath id=\"clip02\">\n",
       "    <rect x=\"54\" y=\"23\" width=\"542\" height=\"347\"/>\n",
       "  </clipPath>\n",
       "</defs>\n",
       "<polyline clip-path=\"url(#clip02)\" style=\"stroke:#00002d; stroke-width:0.8; stroke-opacity:0.5; fill:none\" stroke-dasharray=\"1, 2\" points=\"\n",
       "  209.048,364.48 209.048,28.5758 \n",
       "  \"/>\n",
       "<polyline clip-path=\"url(#clip02)\" style=\"stroke:#00002d; stroke-width:0.8; stroke-opacity:0.5; fill:none\" stroke-dasharray=\"1, 2\" points=\"\n",
       "  372.899,364.48 372.899,28.5758 \n",
       "  \"/>\n",
       "<polyline clip-path=\"url(#clip02)\" style=\"stroke:#00002d; stroke-width:0.8; stroke-opacity:0.5; fill:none\" stroke-dasharray=\"1, 2\" points=\"\n",
       "  536.749,364.48 536.749,28.5758 \n",
       "  \"/>\n",
       "<polyline clip-path=\"url(#clip02)\" style=\"stroke:#00002d; stroke-width:0.8; stroke-opacity:0.5; fill:none\" stroke-dasharray=\"1, 2\" points=\"\n",
       "  62.8897,369.674 587.944,369.674 \n",
       "  \"/>\n",
       "<polyline clip-path=\"url(#clip02)\" style=\"stroke:#00002d; stroke-width:0.8; stroke-opacity:0.5; fill:none\" stroke-dasharray=\"1, 2\" points=\"\n",
       "  62.8897,270.733 587.944,270.733 \n",
       "  \"/>\n",
       "<polyline clip-path=\"url(#clip02)\" style=\"stroke:#00002d; stroke-width:0.8; stroke-opacity:0.5; fill:none\" stroke-dasharray=\"1, 2\" points=\"\n",
       "  62.8897,171.793 587.944,171.793 \n",
       "  \"/>\n",
       "<polyline clip-path=\"url(#clip02)\" style=\"stroke:#00002d; stroke-width:0.8; stroke-opacity:0.5; fill:none\" stroke-dasharray=\"1, 2\" points=\"\n",
       "  62.8897,72.8518 587.944,72.8518 \n",
       "  \"/>\n",
       "<polyline clip-path=\"url(#clip02)\" style=\"stroke:#00002d; stroke-width:0.8; stroke-opacity:1; fill:none\" points=\"\n",
       "  54.7703,369.674 596.063,369.674 \n",
       "  \"/>\n",
       "<polyline clip-path=\"url(#clip02)\" style=\"stroke:#00002d; stroke-width:0.8; stroke-opacity:1; fill:none\" points=\"\n",
       "  209.048,369.674 209.048,364.48 \n",
       "  \"/>\n",
       "<polyline clip-path=\"url(#clip02)\" style=\"stroke:#00002d; stroke-width:0.8; stroke-opacity:1; fill:none\" points=\"\n",
       "  372.899,369.674 372.899,364.48 \n",
       "  \"/>\n",
       "<polyline clip-path=\"url(#clip02)\" style=\"stroke:#00002d; stroke-width:0.8; stroke-opacity:1; fill:none\" points=\"\n",
       "  536.749,369.674 536.749,364.48 \n",
       "  \"/>\n",
       "<polyline clip-path=\"url(#clip02)\" style=\"stroke:#00002d; stroke-width:0.8; stroke-opacity:1; fill:none\" points=\"\n",
       "  54.7703,369.674 54.7703,23.3815 \n",
       "  \"/>\n",
       "<polyline clip-path=\"url(#clip02)\" style=\"stroke:#00002d; stroke-width:0.8; stroke-opacity:1; fill:none\" points=\"\n",
       "  54.7703,369.674 62.8897,369.674 \n",
       "  \"/>\n",
       "<polyline clip-path=\"url(#clip02)\" style=\"stroke:#00002d; stroke-width:0.8; stroke-opacity:1; fill:none\" points=\"\n",
       "  54.7703,270.733 62.8897,270.733 \n",
       "  \"/>\n",
       "<polyline clip-path=\"url(#clip02)\" style=\"stroke:#00002d; stroke-width:0.8; stroke-opacity:1; fill:none\" points=\"\n",
       "  54.7703,171.793 62.8897,171.793 \n",
       "  \"/>\n",
       "<polyline clip-path=\"url(#clip02)\" style=\"stroke:#00002d; stroke-width:0.8; stroke-opacity:1; fill:none\" points=\"\n",
       "  54.7703,72.8518 62.8897,72.8518 \n",
       "  \"/>\n",
       "<g clip-path=\"url(#clip00)\">\n",
       "<text style=\"fill:#00002d; fill-opacity:1; font-family:Arial,Helvetica Neue,Helvetica,sans-serif; font-size:12; text-anchor:middle;\" transform=\"rotate(0, 209.048, 381.674)\" x=\"209.048\" y=\"381.674\">2</text>\n",
       "</g>\n",
       "<g clip-path=\"url(#clip00)\">\n",
       "<text style=\"fill:#00002d; fill-opacity:1; font-family:Arial,Helvetica Neue,Helvetica,sans-serif; font-size:12; text-anchor:middle;\" transform=\"rotate(0, 372.899, 381.674)\" x=\"372.899\" y=\"381.674\">4</text>\n",
       "</g>\n",
       "<g clip-path=\"url(#clip00)\">\n",
       "<text style=\"fill:#00002d; fill-opacity:1; font-family:Arial,Helvetica Neue,Helvetica,sans-serif; font-size:12; text-anchor:middle;\" transform=\"rotate(0, 536.749, 381.674)\" x=\"536.749\" y=\"381.674\">6</text>\n",
       "</g>\n",
       "<g clip-path=\"url(#clip00)\">\n",
       "<text style=\"fill:#00002d; fill-opacity:1; font-family:Arial,Helvetica Neue,Helvetica,sans-serif; font-size:12; text-anchor:end;\" transform=\"rotate(0, 53.5703, 374.174)\" x=\"53.5703\" y=\"374.174\">0.99</text>\n",
       "</g>\n",
       "<g clip-path=\"url(#clip00)\">\n",
       "<text style=\"fill:#00002d; fill-opacity:1; font-family:Arial,Helvetica Neue,Helvetica,sans-serif; font-size:12; text-anchor:end;\" transform=\"rotate(0, 53.5703, 275.233)\" x=\"53.5703\" y=\"275.233\">1.00</text>\n",
       "</g>\n",
       "<g clip-path=\"url(#clip00)\">\n",
       "<text style=\"fill:#00002d; fill-opacity:1; font-family:Arial,Helvetica Neue,Helvetica,sans-serif; font-size:12; text-anchor:end;\" transform=\"rotate(0, 53.5703, 176.293)\" x=\"53.5703\" y=\"176.293\">1.01</text>\n",
       "</g>\n",
       "<g clip-path=\"url(#clip00)\">\n",
       "<text style=\"fill:#00002d; fill-opacity:1; font-family:Arial,Helvetica Neue,Helvetica,sans-serif; font-size:12; text-anchor:end;\" transform=\"rotate(0, 53.5703, 77.3518)\" x=\"53.5703\" y=\"77.3518\">1.02</text>\n",
       "</g>\n",
       "<g clip-path=\"url(#clip00)\">\n",
       "<text style=\"fill:#00002d; fill-opacity:1; font-family:Arial,Helvetica Neue,Helvetica,sans-serif; font-size:21; text-anchor:middle;\" transform=\"rotate(0, 325.417, 18)\" x=\"325.417\" y=\"18\">Cross validation simulations, kernel regression</text>\n",
       "</g>\n",
       "<g clip-path=\"url(#clip00)\">\n",
       "<text style=\"fill:#00002d; fill-opacity:1; font-family:Arial,Helvetica Neue,Helvetica,sans-serif; font-size:16; text-anchor:middle;\" transform=\"rotate(0, 325.417, 397.6)\" x=\"325.417\" y=\"397.6\">Bandwidth</text>\n",
       "</g>\n",
       "<g clip-path=\"url(#clip00)\">\n",
       "<text style=\"fill:#00002d; fill-opacity:1; font-family:Arial,Helvetica Neue,Helvetica,sans-serif; font-size:16; text-anchor:middle;\" transform=\"rotate(-90, 14.4, 196.528)\" x=\"14.4\" y=\"196.528\">EPE/minimum(EPE)</text>\n",
       "</g>\n",
       "<polyline clip-path=\"url(#clip02)\" style=\"stroke:#0099ff; stroke-width:0.8; stroke-opacity:1; fill:none\" points=\"\n",
       "  72.5358,54.7029 86.2051,142.29 99.8743,201.057 127.213,249.352 154.551,270.733 209.228,258.543 263.905,231.94 318.582,222.34 591.967,189.272 \n",
       "  \"/>\n",
       "</svg>\n"
      ]
     },
     "execution_count": 8,
     "metadata": {},
     "output_type": "execute_result"
    }
   ],
   "source": [
    "ha = plot(hM,EPE/minimum(EPE),legend=false)\n",
    "plot!(xlims=(minimum(hM)-0.05,maximum(hM)+0.05),ylims= (0.99,1.025))\n",
    "title!(\"Cross validation simulations, kernel regression\")\n",
    "xlabel!(\"Bandwidth\")\n",
    "ylabel!(\"EPE/minimum(EPE)\")"
   ]
  },
  {
   "cell_type": "code",
   "execution_count": null,
   "metadata": {
    "collapsed": true,
    "deletable": true,
    "editable": true
   },
   "outputs": [],
   "source": []
  }
 ],
 "metadata": {
  "anaconda-cloud": {},
  "kernelspec": {
   "display_name": "Julia 0.5.1",
   "language": "julia",
   "name": "julia-0.5"
  },
  "language_info": {
   "file_extension": ".jl",
   "mimetype": "application/julia",
   "name": "julia",
   "version": "0.5.1"
  }
 },
 "nbformat": 4,
 "nbformat_minor": 1
}
