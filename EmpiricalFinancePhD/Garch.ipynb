{
 "cells": [
  {
   "cell_type": "markdown",
   "metadata": {
    "deletable": true,
    "editable": true
   },
   "source": [
    "# AR(1) + GARCH(1,1) Model"
   ]
  },
  {
   "cell_type": "code",
   "execution_count": 1,
   "metadata": {
    "collapsed": false,
    "deletable": true,
    "editable": true
   },
   "outputs": [
    {
     "data": {
      "text/plain": [
       "printlnPs (generic function with 1 method)"
      ]
     },
     "execution_count": 1,
     "metadata": {},
     "output_type": "execute_result"
    }
   ],
   "source": [
    "using Optim, PyPlot\n",
    "\n",
    "include(\"jlFiles/printmat.jl\")"
   ]
  },
  {
   "cell_type": "code",
   "execution_count": 2,
   "metadata": {
    "collapsed": false,
    "deletable": true,
    "editable": true
   },
   "outputs": [
    {
     "data": {
      "text/plain": [
       "8324×2 Array{Float64,2}:\n",
       " 1.0  -1.18\n",
       " 1.0  -1.37\n",
       " 1.0   1.73\n",
       " 1.0   0.77\n",
       " 1.0   1.41\n",
       " 1.0   0.68\n",
       " 1.0   1.26\n",
       " 1.0   0.61\n",
       " 1.0   1.11\n",
       " 1.0   0.63\n",
       " 1.0   0.64\n",
       " 1.0   0.37\n",
       " 1.0   0.49\n",
       " ⋮         \n",
       " 1.0  -0.52\n",
       " 1.0  -0.3 \n",
       " 1.0   0.18\n",
       " 1.0   1.13\n",
       " 1.0   1.11\n",
       " 1.0  -0.11\n",
       " 1.0   0.58\n",
       " 1.0  -0.53\n",
       " 1.0  -0.57\n",
       " 1.0  -0.45\n",
       " 1.0  -0.35\n",
       " 1.0  -0.34"
      ]
     },
     "execution_count": 2,
     "metadata": {},
     "output_type": "execute_result"
    }
   ],
   "source": [
    "xx  = readdlm(\"Data/FFdSizePs.csv\",',',header=true)\n",
    "xx  = xx[1]\n",
    "ymd = xx[:,1]     #[YearMonthDay]\n",
    "R   = xx[:,2]     #returns for the size portfolio we want to study\n",
    "xx  = nothing\n",
    "\n",
    "y = R[2:end]                           #dependent variable, y(t)\n",
    "x = [ones(size(R,1)-1) R[1:end-1]]     #regressors, [1, y(t-1)]"
   ]
  },
  {
   "cell_type": "markdown",
   "metadata": {
    "deletable": true,
    "editable": true
   },
   "source": [
    "## The Likelihood Function"
   ]
  },
  {
   "cell_type": "markdown",
   "metadata": {
    "deletable": true,
    "editable": true
   },
   "source": [
    "Consider a regression equation, where the residual follows a GARCH(1,1) process\n",
    "\n",
    "$$\n",
    "\\begin{align*}\n",
    "y_{t}           &  =x_{t}^{\\prime}b+u_{t} \\ \\text{ with }\\ u_{t}=v_{t}\\sigma_{t}\\\\\n",
    "\\sigma_{t}^{2}  &  =\\omega+\\alpha u_{t-1}^{2}+\\beta\\sigma_{t-1}^{2}.\n",
    "\\end{align*}\n",
    "$$\n",
    "Note that we require $(\\omega,\\alpha,\\beta)$ to all be positive and $\\alpha + \\beta < 1$.\n",
    "\n",
    "If $v_{t}\\sim N(0,1)$, then the likelihood function is\n",
    "\n",
    "$$\n",
    "\\ln\\mathcal{L}=-\\frac{T}{2}\\ln\\left(  2\\pi\\right)  -\\frac{1}{2}\\sum_{t=1}\n",
    "^{T}\\ln\\sigma_{t}^{2}-\\frac{1}{2}\\sum_{t=1}^{T}\\frac{u_{t}^{2}}{\\sigma_{t}\n",
    "^{2}}.\n",
    "$$\n",
    "\n",
    "\n",
    "The likelihood function of a GARCH(1,1) model can be coded as in\n",
    "*garch11LL*. The first function calculates time-varying  variances and\n",
    "the likelihood contributions (for each period). The second functions forms the\n",
    "loss function used in the minimization."
   ]
  },
  {
   "cell_type": "code",
   "execution_count": 3,
   "metadata": {
    "collapsed": false,
    "deletable": true,
    "editable": true
   },
   "outputs": [
    {
     "data": {
      "text/plain": [
       "garch11LLRLoss (generic function with 1 method)"
      ]
     },
     "execution_count": 3,
     "metadata": {},
     "output_type": "execute_result"
    }
   ],
   "source": [
    "function garch11LL(parm::Vector,y,x)\n",
    "\n",
    "  (T,k) = size(x,1,2)\n",
    "\n",
    "  b     = parm[1:k]         #mean equation, y = x'*b\n",
    "  (omega,alpha,beta1) = abs.(parm[k+1:k+3])    #GARCH(1,1) equation: \n",
    "                                              #s2(t) = omega + alpha*u(t-1)^2 + beta1*s2(t-1)        \n",
    "  yhat = x*b\n",
    "  u    = y - yhat\n",
    "  s2_0 = var(u)                                 #var(u,1) gives a matrix, var(u) a scalar\n",
    "\n",
    "  s2    = fill(NaN,T)\n",
    "  s2[1] = omega + alpha*s2_0 + beta1*s2_0        #simple, but slow apparoach\n",
    "  for t = 2:T                                    #using filter() is perhaps quicker\n",
    "    s2[t] = omega + alpha*u[t-1]^2 + beta1*s2[t-1]\n",
    "  end\n",
    "\n",
    "  LL    = -(1/2)*log(2*pi) - (1/2)*log.(s2) - (1/2)*(u.^2)./s2\n",
    "  LL[1] = 0               #effectively skip the first observation\n",
    "\n",
    "  return LL,s2,yhat\n",
    "\n",
    "end\n",
    "\n",
    "\n",
    "function garch11LLLoss(parm::Vector,y,x)\n",
    "    LL,  = garch11LL(parm::Vector,y,x)\n",
    "    Loss =  -sum(LL)                  #to minimize: -sum(LL)\n",
    "    return Loss\n",
    "end\n",
    "\n",
    "\n",
    "function garch11LLRLoss(parm::Vector,y,x,rho)     #with restriction on alpha+beta1 < 1\n",
    "  LL, = garch11LL(parm,y,x)\n",
    "  k = size(x,2)\n",
    "  (omega,alpha,beta1) = abs.(parm[k+1:k+3])   #s2(t) = omega + alpha*u(t-1)^2 + beta1*s2(t-1)\n",
    "  g = [alpha + beta1 - 1]                     #alpha + beta1 < 1\n",
    "  Loss = -sum(LL) + rho*sum(max.(0,g).^2)\n",
    "  return Loss\n",
    "end"
   ]
  },
  {
   "cell_type": "markdown",
   "metadata": {
    "deletable": true,
    "editable": true
   },
   "source": [
    "## Maximize the Likelihood Function"
   ]
  },
  {
   "cell_type": "code",
   "execution_count": 4,
   "metadata": {
    "collapsed": false,
    "deletable": true,
    "editable": true
   },
   "outputs": [
    {
     "name": "stdout",
     "output_type": "stream",
     "text": [
      "Value of (-)log-likelihood fn at starting guess:   9231.913\n",
      "Value of (-)log-likelihood fn at estimate:   8243.608\n",
      "\n",
      "Parameter estimates (b[1],b[2],omega,alpha,beta1): \n",
      "     0.049\n",
      "     0.256\n",
      "     0.014\n",
      "     0.162\n",
      "     0.824\n",
      "\n"
     ]
    }
   ],
   "source": [
    "#mean equation, y = x'b\n",
    "#GARCH(1,1) equation: s2(t) = omega + alfa*u(t-1)^2 + beta1*s2(t-1)\n",
    "\n",
    "par0 = [mean(y);0;var(y)*0.05;0.05;0.9]         #initial parameter guess\n",
    "\n",
    "(loglik,s2,yhat) = garch11LL(par0,y,x)            #just testing the log lik\n",
    "LL               = garch11LLLoss(par0,y,x)\n",
    "printlnPs(\"Value of (-)log-likelihood fn at starting guess: \",LL)\n",
    "\n",
    "Sol = optimize(par->garch11LLLoss(par,y,x),par0)   #do MLE by optimization with optimize, minimize -sum(LL)\n",
    "\n",
    "parHat            = Optim.minimizer(Sol)          #extract the optimal solution \n",
    "parHat[end-2:end] = abs.(parHat[end-2:end])       #since the likelihood function uses abs(these values)\n",
    "\n",
    "LLHat             = garch11LLLoss(parHat,y,x)\n",
    "printlnPs(\"Value of (-)log-likelihood fn at estimate: \",LLHat)\n",
    "\n",
    "println(\"\\nParameter estimates (b[1],b[2],omega,alpha,beta1): \")\n",
    "printmat(parHat)"
   ]
  },
  {
   "cell_type": "code",
   "execution_count": 5,
   "metadata": {
    "collapsed": false,
    "deletable": true,
    "editable": true
   },
   "outputs": [
    {
     "name": "stdout",
     "output_type": "stream",
     "text": [
      "\n",
      "Iterate with hard and harder punishment on α + β < 1 restriction. PERHAPS NOT NEEDED\n",
      "     0.000     0.049     0.256     0.014     0.162     0.824\n",
      "\n",
      "     0.100     0.049     0.256     0.014     0.162     0.824\n",
      "\n",
      "     0.200     0.049     0.256     0.014     0.162     0.824\n",
      "\n",
      "     0.300     0.049     0.256     0.014     0.162     0.824\n",
      "\n",
      "     0.400     0.049     0.256     0.014     0.162     0.824\n",
      "\n",
      "     0.500     0.049     0.256     0.014     0.162     0.824\n",
      "\n",
      "     0.600     0.049     0.256     0.014     0.162     0.824\n",
      "\n",
      "     0.700     0.049     0.256     0.014     0.162     0.824\n",
      "\n",
      "     0.800     0.049     0.256     0.014     0.162     0.824\n",
      "\n",
      "     0.900     0.049     0.256     0.014     0.162     0.824\n",
      "\n",
      "     1.000     0.049     0.256     0.014     0.162     0.824\n",
      "\n"
     ]
    }
   ],
   "source": [
    "println(\"\\nIterate with hard and harder punishment on α + β < 1 restriction. PERHAPS NOT NEEDED\")\n",
    "\n",
    "options = Optim.Options(show_trace=false,show_every=10)\n",
    "for rho = 0.0:0.1:1\n",
    "  Sol = optimize(par->garch11LLRLoss(par,y,x,rho),par0,options)\n",
    "  par = Optim.minimizer(Sol)\n",
    "  par[end-3:end-1] = abs.(par[end-3:end-1])\n",
    "  printmat([rho par'])\n",
    "  par0 = deepcopy(par)\n",
    "end"
   ]
  },
  {
   "cell_type": "markdown",
   "metadata": {
    "deletable": true,
    "editable": true
   },
   "source": [
    "## Value at Risk"
   ]
  },
  {
   "cell_type": "code",
   "execution_count": 6,
   "metadata": {
    "collapsed": false,
    "deletable": true,
    "editable": true
   },
   "outputs": [
    {
     "data": {
      "image/png": "[encoded data removed]",
      "text/plain": [
       "PyPlot.Figure(PyObject <matplotlib.figure.Figure object at 0x0000000019E96EB8>)"
      ]
     },
     "metadata": {},
     "output_type": "display_data"
    },
    {
     "name": "stdout",
     "output_type": "stream",
     "text": [
      "\n",
      "Coverage ratio for VaR(95%):      0.059\n"
     ]
    }
   ],
   "source": [
    "(_,s2,ER) = garch11LL(parHat,y,x)\n",
    "VaR95     = -(ER - 1.64*sqrt.(s2))\n",
    "\n",
    "figure()\n",
    "  plot(VaR95)\n",
    "title(\"1-day VaR (95%)\")\n",
    "show()\n",
    "\n",
    "CovRatio = mean((-y) .>= VaR95)             #coverage ratio for VaR\n",
    "printlnPs(\"\\nCoverage ratio for VaR(95%): \",CovRatio)"
   ]
  },
  {
   "cell_type": "code",
   "execution_count": null,
   "metadata": {
    "collapsed": true,
    "deletable": true,
    "editable": true
   },
   "outputs": [],
   "source": []
  }
 ],
 "metadata": {
  "anaconda-cloud": {},
  "kernelspec": {
   "display_name": "Julia 0.5.1",
   "language": "julia",
   "name": "julia-0.5"
  },
  "language_info": {
   "file_extension": ".jl",
   "mimetype": "application/julia",
   "name": "julia",
   "version": "0.5.1"
  }
 },
 "nbformat": 4,
 "nbformat_minor": 1
}
