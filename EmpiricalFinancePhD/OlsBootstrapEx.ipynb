{
 "cells": [
  {
   "cell_type": "code",
   "execution_count": 1,
   "metadata": {
    "collapsed": false
   },
   "outputs": [
    {
     "data": {
      "text/plain": [
       "OlsFn (generic function with 1 method)"
      ]
     },
     "execution_count": 1,
     "metadata": {},
     "output_type": "execute_result"
    }
   ],
   "source": [
    "import Formatting\n",
    "include(\"jlFiles/printmat.jl\")\n",
    "\n",
    "include(\"jlFiles/lagnPs.jl\")\n",
    "include(\"jlFiles/excise.jl\")\n",
    "include(\"jlFiles/OlsFn.jl\")"
   ]
  },
  {
   "cell_type": "code",
   "execution_count": 2,
   "metadata": {
    "collapsed": false
   },
   "outputs": [
    {
     "data": {
      "text/plain": [
       "580×6 Array{Float64,2}:\n",
       " 1.0  3.5166  4.0072  4.1648  4.1854  4.1875\n",
       " 1.0  3.6469  4.1593  4.1677  4.1677  4.1674\n",
       " 1.0  3.7582  4.2396  4.2413  4.2409  4.2415\n",
       " 1.0  3.6066  4.1098  4.2476  4.27    4.2725\n",
       " 1.0  3.6202  4.0626  4.1609  4.1827  4.1876\n",
       " 1.0  3.5495  4.0011  4.1152  4.1438  4.1514\n",
       " 1.0  3.506   3.835   4.0563  4.2055  4.3052\n",
       " 1.0  3.621   3.9054  4.0863  4.2013  4.2745\n",
       " 1.0  3.6645  3.9815  4.1077  4.1579  4.1779\n",
       " 1.0  3.6923  3.9703  4.0941  4.1493  4.174 \n",
       " 1.0  3.9341  4.0843  4.1391  4.1449  4.1451\n",
       " 1.0  3.7492  4.0388  4.1766  4.1914  4.1925\n",
       " 1.0  3.8099  3.9241  4.0311  4.1305  4.2229\n",
       " ⋮                                    ⋮     \n",
       " 1.0  0.2054  0.6784  1.566   2.523   3.3852\n",
       " 1.0  0.2215  0.7405  1.6477  2.6287  3.5221\n",
       " 1.0  0.2606  0.415   1.1133  2.0059  2.8972\n",
       " 1.0  0.1314  0.2478  0.7806  1.4826  2.2086\n",
       " 1.0  0.1739  0.3967  0.8496  1.3946  1.9447\n",
       " 1.0  0.1628  0.328   0.8625  1.5331  2.2061\n",
       " 1.0  0.1573  0.3379  0.8458  1.4754  2.1066\n",
       " 1.0  0.1493  0.3357  0.7645  1.2965  1.843 \n",
       " 1.0  0.1551  0.2215  0.5849  1.0965  1.658 \n",
       " 1.0  0.2128  0.378   0.782   1.3016  1.8536\n",
       " 1.0  0.2351  0.4709  0.9647  1.5685  2.1878\n",
       " 1.0  0.21    0.3238  0.7121  1.2349  1.8002"
      ]
     },
     "execution_count": 2,
     "metadata": {},
     "output_type": "execute_result"
    }
   ],
   "source": [
    "#xx   = readdlm(\"Data/FFmFactorsPs.csv\",',',header=true)\n",
    "#x    = xx[1]\n",
    "#Rme  = x[:,2]\n",
    "#RSMB = x[:,3]                #small minus big firms\n",
    "#RHML = x[:,4]                #high minus low book-to-market ratio\n",
    "#Rf   = x[:,5]                    #interest rate\n",
    "#\n",
    "#\n",
    "#x = readdlm(\"Data/FF25Ps.csv\",',')  #no header line: x is matrix\n",
    "#R  = x[:,2:end]                    #returns for 25 FF portfolios\n",
    "#Re = R - repmat(Rf,1,size(R,2))   #excess returns for the 25 FF portfolios\n",
    "#y = Re(:,[1,25])                 #use only portfolio 1 (small growth) and 25 (large value)\n",
    "#x = [ones(size(Re,1),1) Rme RSMB RHML]\n",
    "#------------------------------------------------------------------------------\n",
    "\n",
    "xx  = readdlm(\"Data/BondPremiaPs.csv\",',',header=true)\n",
    "z   = xx[1]\n",
    "rx  = z[:,2:5]\n",
    "f   = z[:,6:end]\n",
    "\n",
    "x = [ones(size(f,1),1) lagnPs(f,12)]\n",
    "K = size(x,2)\n",
    "\n",
    "yx = excise([rx[:,4] x])\n",
    "y  = yx[:,1]\n",
    "x  = yx[:,2:end]"
   ]
  },
  {
   "cell_type": "code",
   "execution_count": 3,
   "metadata": {
    "collapsed": false
   },
   "outputs": [
    {
     "name": "stdout",
     "output_type": "stream",
     "text": [
      "\n",
      "LS coeffs and std\n",
      "    -3.306    -4.209    10.627   -14.397     7.096     1.284\n",
      "     0.823     0.712     4.509    12.885    15.862     6.898\n",
      "\n"
     ]
    },
    {
     "data": {
      "text/plain": [
       "6"
      ]
     },
     "execution_count": 3,
     "metadata": {},
     "output_type": "execute_result"
    }
   ],
   "source": [
    "(bLS,res,yhat,Covb,) = OlsFn(y,x)              #OLS estimate and classical std errors\n",
    "StdbLS = sqrt(diag(Covb))\n",
    "\n",
    "println(\"\\nLS coeffs and std\")\n",
    "printmat(round([bLS';StdbLS'],3))\n",
    "\n",
    "(T,n) = size(y,1,2)                 #no. obs and no. test assets\n",
    "K     = size(x,2)"
   ]
  },
  {
   "cell_type": "code",
   "execution_count": 4,
   "metadata": {
    "collapsed": false
   },
   "outputs": [
    {
     "name": "stdout",
     "output_type": "stream",
     "text": [
      "\n",
      "Average bootstrap estimates and bootstrapped std\n",
      "    -3.318    -4.164    10.636   -14.643     7.371     1.206\n",
      "     2.072     1.391     8.024    23.175    29.076    12.906\n",
      "\n"
     ]
    }
   ],
   "source": [
    "BlockSize = 10                  #size of blocks\n",
    "NSim      = 2000                 #no. of simulations\n",
    "srand(123)\n",
    "\n",
    "nBlocks = round(Int,ceil(T/BlockSize))             #number of blocks, rounded up\n",
    "bBoot   = fill(NaN,(NSim,K*n))                       #vec(b), [beq1 beq2..beqn]\n",
    "for i = 1:NSim                                       #loop over simulations\n",
    "  t_i       = rand(1:T,nBlocks,1)                    #nBlocks x 1, random starting row of blocks\n",
    "  t_i       = t_i .+ collect(0:BlockSize-1)'         #nBlocks x BlockSize, each row is a block\n",
    "  vv_i       = t_i .> T\n",
    "  t_i[vv_i]  = t_i[vv_i] - T                         #wrap around if index > T\n",
    "  #println(t_i)                                      #uncomment to see which rows that are picked out\n",
    "  t_i        = vec(t_i')                             #column vector of the blocks\n",
    "  epsilon    = res[t_i,:]\n",
    "  epsilon    = epsilon[1:T,:]                        #get exact sample length\n",
    "  y_i        = x*bLS + epsilon\n",
    "  b_i,       = OlsFn(y_i,x)                          #,skips the remaining outputs\n",
    "  bBoot[i,:] = b_i'\n",
    "end\n",
    "\n",
    "println(\"\\nAverage bootstrap estimates and bootstrapped std\")\n",
    "printmat([mean(bBoot,1); std(bBoot,1)])"
   ]
  },
  {
   "cell_type": "code",
   "execution_count": null,
   "metadata": {
    "collapsed": true
   },
   "outputs": [],
   "source": []
  }
 ],
 "metadata": {
  "anaconda-cloud": {},
  "kernelspec": {
   "display_name": "Julia 0.5.0",
   "language": "julia",
   "name": "julia-0.5"
  },
  "language_info": {
   "file_extension": ".jl",
   "mimetype": "application/julia",
   "name": "julia",
   "version": "0.5.0"
  }
 },
 "nbformat": 4,
 "nbformat_minor": 1
}
