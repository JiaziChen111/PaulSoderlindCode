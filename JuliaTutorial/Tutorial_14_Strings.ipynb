{
 "cells": [
  {
   "cell_type": "markdown",
   "metadata": {
    "collapsed": true
   },
   "source": [
    "# Strings"
   ]
  },
  {
   "cell_type": "code",
   "execution_count": 13,
   "metadata": {
    "collapsed": false
   },
   "outputs": [
    {
     "name": "stderr",
     "output_type": "stream",
     "text": [
      "WARNING: Method definition printmat(Any) in module Main at e:\\Slask\\JL\\JuliaTutorial\\printmat.jl:15 overwritten at e:\\Slask\\JL\\JuliaTutorial\\printmat.jl:15"
     ]
    },
    {
     "data": {
      "text/plain": [
       "printlnPs (generic function with 1 method)"
      ]
     },
     "execution_count": 13,
     "metadata": {},
     "output_type": "execute_result"
    },
    {
     "name": "stderr",
     "output_type": "stream",
     "text": [
      ".\n",
      "WARNING: Method definition printmat(Any, Any) in module Main at e:\\Slask\\JL\\JuliaTutorial\\printmat.jl:15 overwritten at e:\\Slask\\JL\\JuliaTutorial\\printmat.jl:15.\n",
      "WARNING: Method definition printlnPs(Any...) in module Main at e:\\Slask\\JL\\JuliaTutorial\\printmat.jl:81 overwritten at e:\\Slask\\JL\\JuliaTutorial\\printmat.jl:81.\n"
     ]
    }
   ],
   "source": [
    "include(\"printmat.jl\")   #just a function for prettier matrix printing"
   ]
  },
  {
   "cell_type": "markdown",
   "metadata": {},
   "source": [
    "## String Basics"
   ]
  },
  {
   "cell_type": "code",
   "execution_count": 14,
   "metadata": {
    "collapsed": false
   },
   "outputs": [
    {
     "name": "stdout",
     "output_type": "stream",
     "text": [
      "Hello world!\n",
      "Where did you go?\n",
      "\n",
      "\n",
      "Highway 62 Revisited\n"
     ]
    }
   ],
   "source": [
    "string1 = \"Hello\"\n",
    "string2 = \"world!\\n\"\n",
    "string3 = \"Where did you go?\"\n",
    "\n",
    "str3 = string(string1,\" \",string2,string3)          #combine into one string\n",
    "\n",
    "println(str3)\n",
    "\n",
    "x = 62\n",
    "str4 = \"Highway $x Revisited\"              #string interpolation \n",
    "println(\"\\n\\n\",str4)"
   ]
  },
  {
   "cell_type": "code",
   "execution_count": 15,
   "metadata": {
    "collapsed": false
   },
   "outputs": [
    {
     "name": "stdout",
     "output_type": "stream",
     "text": [
      "Yes, Highway 62 Revisited contains the word Highway\n",
      "New, better string after a replacement: Highway 61 Revisited\n"
     ]
    }
   ],
   "source": [
    "tst = contains(str4,\"Highway\")\n",
    "if tst\n",
    "    println(\"Yes, $str4 contains the word Highway\")\n",
    "end\n",
    "\n",
    "str4 = replace(str4,\"62\",\"61\")\n",
    "println(\"New, better string after a replacement: \",str4)"
   ]
  },
  {
   "cell_type": "code",
   "execution_count": 16,
   "metadata": {
    "collapsed": false
   },
   "outputs": [
    {
     "name": "stdout",
     "output_type": "stream",
     "text": [
      "split a string into a vector or words:\n",
      "   Highway\n",
      "        61\n",
      " Revisited\n",
      "\n",
      "and joining the words again:\n",
      "Highway 61 Revisited\n"
     ]
    }
   ],
   "source": [
    "str5 = split(str4)\n",
    "println(\"split a string into a vector or words:\")\n",
    "printmat(str5)\n",
    "\n",
    "println(\"and joining the words again:\")\n",
    "println(join(str5,\" \"))"
   ]
  },
  {
   "cell_type": "markdown",
   "metadata": {},
   "source": [
    "## Reading an entire  File as a String"
   ]
  },
  {
   "cell_type": "code",
   "execution_count": 17,
   "metadata": {
    "collapsed": false
   },
   "outputs": [
    {
     "name": "stdout",
     "output_type": "stream",
     "text": [
      "reading the whole file as a string and then display() and println() :\n",
      "\n",
      "\n"
     ]
    }
   ],
   "source": [
    "txtFile = \"Data/FileWithText.txt\"\n",
    "\n",
    "\n",
    "fil1 = open(txtFile)\n",
    "str = readstring(fil1)             #reading the whole file as a string\n",
    "close(fil1)\n",
    "\n",
    "println(\"reading the whole file as a string and then display() and println() :\\n\\n\")"
   ]
  },
  {
   "cell_type": "code",
   "execution_count": 18,
   "metadata": {
    "collapsed": false
   },
   "outputs": [
    {
     "data": {
      "text/plain": [
       "\"Dogs are nicer\\r\\nthan cats.\\r\\n\\r\\nThis\\r\\nis a\\r\\nfairly short file.\\r\\n\""
      ]
     },
     "metadata": {},
     "output_type": "display_data"
    },
    {
     "name": "stdout",
     "output_type": "stream",
     "text": [
      "Dogs are nicer\r\n",
      "than cats.\r\n",
      "\r\n",
      "This\r\n",
      "is a\r\n",
      "fairly short file.\r\n",
      "\n"
     ]
    }
   ],
   "source": [
    "display(str)\n",
    "\n",
    "println(str)"
   ]
  },
  {
   "cell_type": "markdown",
   "metadata": {},
   "source": [
    "## Reading all Lines of a File into an Array of Strings"
   ]
  },
  {
   "cell_type": "code",
   "execution_count": 19,
   "metadata": {
    "collapsed": false
   },
   "outputs": [
    {
     "name": "stdout",
     "output_type": "stream",
     "text": [
      "Dogs are nicer\n",
      "than cats.\n",
      "          \n",
      "      This\n",
      "      is a\n",
      "fairly short file.\n",
      "\n"
     ]
    }
   ],
   "source": [
    "fil1 = open(txtFile)\n",
    "lines = readlines(fil1)                     \n",
    "close(fil1)\n",
    "\n",
    "lines = chomp.(lines)                   #cut out newlines (\"line breaks\")\n",
    "\n",
    "printmat(lines)"
   ]
  },
  {
   "cell_type": "code",
   "execution_count": 20,
   "metadata": {
    "collapsed": false
   },
   "outputs": [
    {
     "name": "stdout",
     "output_type": "stream",
     "text": [
      "Dogs are nicer\n",
      "than cats.\n",
      "\n",
      "This\n",
      "is a\n",
      "fairly short file.\n"
     ]
    }
   ],
   "source": [
    "linesJoined = join(lines,\"\\n\")      #join the lines of the array, \"\\n\" to create line breaks                  \n",
    "println(linesJoined)"
   ]
  },
  {
   "cell_type": "code",
   "execution_count": 21,
   "metadata": {
    "collapsed": false
   },
   "outputs": [
    {
     "data": {
      "text/plain": [
       "11-element Array{SubString{String},1}:\n",
       " \"dogs\"  \n",
       " \"are\"   \n",
       " \"nicer\" \n",
       " \"than\"  \n",
       " \"cats\"  \n",
       " \"this\"  \n",
       " \"is\"    \n",
       " \"a\"     \n",
       " \"fairly\"\n",
       " \"short\" \n",
       " \"file\"  "
      ]
     },
     "execution_count": 21,
     "metadata": {},
     "output_type": "execute_result"
    }
   ],
   "source": [
    "linesJoined2 = lowercase(replace(linesJoined,\".\",\"\"))\n",
    "words = split(linesJoined2)             #vector of all the words in linesJoined"
   ]
  },
  {
   "cell_type": "code",
   "execution_count": 22,
   "metadata": {
    "collapsed": false
   },
   "outputs": [
    {
     "data": {
      "text/plain": [
       "11-element Array{SubString{String},1}:\n",
       " \"a\"     \n",
       " \"are\"   \n",
       " \"cats\"  \n",
       " \"dogs\"  \n",
       " \"fairly\"\n",
       " \"file\"  \n",
       " \"is\"    \n",
       " \"nicer\" \n",
       " \"short\" \n",
       " \"than\"  \n",
       " \"this\"  "
      ]
     },
     "execution_count": 22,
     "metadata": {},
     "output_type": "execute_result"
    }
   ],
   "source": [
    "println(\"sort the words alphabetically\")\n",
    "sort(words,lt=lexless)"
   ]
  },
  {
   "cell_type": "code",
   "execution_count": null,
   "metadata": {
    "collapsed": true
   },
   "outputs": [],
   "source": []
  }
 ],
 "metadata": {
  "anaconda-cloud": {},
  "kernelspec": {
   "display_name": "Julia 0.5.1",
   "language": "julia",
   "name": "julia-0.5"
  },
  "language_info": {
   "file_extension": ".jl",
   "mimetype": "application/julia",
   "name": "julia",
   "version": "0.5.1"
  }
 },
 "nbformat": 4,
 "nbformat_minor": 0
}
