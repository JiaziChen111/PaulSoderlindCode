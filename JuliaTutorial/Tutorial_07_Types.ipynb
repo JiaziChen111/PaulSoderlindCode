{
 "cells": [
  {
   "cell_type": "markdown",
   "metadata": {
    "deletable": true,
    "editable": true
   },
   "source": [
    "# Load Packages"
   ]
  },
  {
   "cell_type": "code",
   "execution_count": 1,
   "metadata": {
    "collapsed": false,
    "deletable": true,
    "editable": true
   },
   "outputs": [
    {
     "data": {
      "text/plain": [
       "printlnPs (generic function with 1 method)"
      ]
     },
     "execution_count": 1,
     "metadata": {},
     "output_type": "execute_result"
    }
   ],
   "source": [
    "include(\"printmat.jl\")"
   ]
  },
  {
   "cell_type": "markdown",
   "metadata": {
    "deletable": true,
    "editable": true
   },
   "source": [
    "# Some Important Types\n",
    "\n",
    "Julia has many different types of variables: signed integers (like 2 or -5), floating point numbers (2.0 and -5.1), bools (false/true), bitarrays (similar to bools, but with more efficient use of memory), strings (\"hello\") and charactes ('c'), Dates (2017-04-23) and many more types. \n",
    "\n",
    "The numerical types also comes with subtypes for different precisions, for instance, Float16, Float32 and Float64. Most of my code use the \"standard\" values that you get by code like\n",
    "```\n",
    "a = 2\n",
    "b = 2.0\n",
    "```\n",
    "which gives an Int64 and a Float64 respectively on Windows 7 (64 bit)."
   ]
  },
  {
   "cell_type": "markdown",
   "metadata": {
    "deletable": true,
    "editable": true
   },
   "source": [
    "## Integers and Floats"
   ]
  },
  {
   "cell_type": "code",
   "execution_count": 2,
   "metadata": {
    "collapsed": false,
    "deletable": true,
    "editable": true
   },
   "outputs": [
    {
     "name": "stdout",
     "output_type": "stream",
     "text": [
      "Int64\n",
      "         2\n",
      "\n",
      "Float64\n",
      "     2.000\n",
      "\n"
     ]
    }
   ],
   "source": [
    "a = 2                   #integer, Int (Int64 on most machines)\n",
    "b = 2.0                 #floating point, (Float64 on most machines)\n",
    "\n",
    "println(typeof(a))\n",
    "printmat(a)\n",
    "\n",
    "println(typeof(b))\n",
    "printmat(b)"
   ]
  },
  {
   "cell_type": "code",
   "execution_count": 3,
   "metadata": {
    "collapsed": false,
    "deletable": true,
    "editable": true
   },
   "outputs": [
    {
     "name": "stdout",
     "output_type": "stream",
     "text": [
      "\n",
      "Array{Int64,1}\n",
      "         1\n",
      "         2\n",
      "\n",
      "\n",
      "\n",
      "Array{Float64,1}\n",
      "     1.000\n",
      "     2.000\n",
      "\n"
     ]
    }
   ],
   "source": [
    "A = [1;2]\n",
    "B = [1.0;2.0]\n",
    "\n",
    "println(\"\\n\",typeof(A))\n",
    "printmat(A)\n",
    "\n",
    "println(\"\\n\\n\",typeof(B))\n",
    "printmat(B)"
   ]
  },
  {
   "cell_type": "markdown",
   "metadata": {
    "deletable": true,
    "editable": true
   },
   "source": [
    "## Bools and BitArrays"
   ]
  },
  {
   "cell_type": "code",
   "execution_count": 4,
   "metadata": {
    "collapsed": false,
    "deletable": true,
    "editable": true
   },
   "outputs": [
    {
     "name": "stdout",
     "output_type": "stream",
     "text": [
      "c: Bool\n",
      "      true\n",
      "\n",
      "\n",
      "C: BitArray{1}\n",
      "     false\n",
      "      true\n",
      "\n",
      "a BitArray is essentially a more economical array version of Bool as seen from typeof(C[1]): Bool\n"
     ]
    }
   ],
   "source": [
    "c = 2 > 1.1\n",
    "println(\"c: \",typeof(c))\n",
    "printmat(c)\n",
    "\n",
    "C = A .> 1.5\n",
    "println(\"\\nC: \",typeof(C))\n",
    "printmat(C)\n",
    "\n",
    "println(\"a BitArray is essentially a more economical array version of Bool as seen from typeof(C[1]): \",typeof(C[1]))"
   ]
  },
  {
   "cell_type": "markdown",
   "metadata": {
    "deletable": true,
    "editable": true
   },
   "source": [
    "## Char and Strings"
   ]
  },
  {
   "cell_type": "code",
   "execution_count": 5,
   "metadata": {
    "collapsed": false,
    "deletable": true,
    "editable": true
   },
   "outputs": [
    {
     "name": "stdout",
     "output_type": "stream",
     "text": [
      "Char\n",
      "String\n"
     ]
    }
   ],
   "source": [
    "t = 'a'                                    #Char, just one 'letter'\n",
    "println(typeof(t))\n",
    "\n",
    "txt = \"Dogs are nicer than cats.\"          #String, could be a long novel \n",
    "println(typeof(txt))"
   ]
  },
  {
   "cell_type": "markdown",
   "metadata": {
    "deletable": true,
    "editable": true
   },
   "source": [
    "# Why Use Int When There Are Floats? \n",
    "\n",
    "That is, why bother with sometimes using 3 when you could use 3.0 everywhere? Mostly because you cannot use 3.0 everywhere... For instance, you cannot pick out element x[3.0] from a vector. It has to be x[3]."
   ]
  },
  {
   "cell_type": "code",
   "execution_count": 6,
   "metadata": {
    "collapsed": false,
    "deletable": true,
    "editable": true
   },
   "outputs": [
    {
     "name": "stdout",
     "output_type": "stream",
     "text": [
      "no, x[3.0] does not work\n"
     ]
    }
   ],
   "source": [
    "x = [1;10;100;1000]\n",
    "try \n",
    "   y = x[3.0]   \n",
    "catch    \n",
    "  println(\"no, x[3.0] does not work\")    \n",
    "end"
   ]
  },
  {
   "cell_type": "markdown",
   "metadata": {
    "deletable": true,
    "editable": true
   },
   "source": [
    "# Calulations with Mixed Types and Converting Types\n",
    "\n",
    "A calculation like \"integer\" + \"float\" works and the type of the result will be a float (the more flexible type). Similarly, \"bool\" + \"integer\" will give an integer. These promotion rules make it easy to have mixed types in calculations, and also provide a simple way of converting a variable from one type to another. (There are also an explicit convert() function that might be quicker.)"
   ]
  },
  {
   "cell_type": "markdown",
   "metadata": {
    "deletable": true,
    "editable": true
   },
   "source": [
    "## Int to Float and vice versa"
   ]
  },
  {
   "cell_type": "code",
   "execution_count": 7,
   "metadata": {
    "collapsed": false,
    "deletable": true,
    "editable": true
   },
   "outputs": [
    {
     "name": "stdout",
     "output_type": "stream",
     "text": [
      "B after being rounded to Int\n",
      "Array{Int64,1}\n",
      "         1\n",
      "         2\n",
      "\n",
      "\n",
      "A after being converted into floats\n",
      "Array{Float64,1}\n",
      "     1.000\n",
      "     2.000\n",
      "\n"
     ]
    }
   ],
   "source": [
    "B_to_int = map(x->round(Int,x),B)        #float -> integer by rounding\n",
    "println(\"B after being rounded to Int\")\n",
    "println(typeof(B_to_int))\n",
    "printmat(B_to_int)\n",
    "\n",
    "\n",
    "A_to_float = A + 0.0                    #int -> float by adding 0.0\n",
    "println(\"\\nA after being converted into floats\")    #convert(Array{Float64},A) also works\n",
    "println(typeof(A_to_float))\n",
    "printmat(A_to_float)"
   ]
  },
  {
   "cell_type": "markdown",
   "metadata": {
    "deletable": true,
    "editable": true
   },
   "source": [
    "## Bools and BitArrays to Int and vice versa"
   ]
  },
  {
   "cell_type": "code",
   "execution_count": 8,
   "metadata": {
    "collapsed": false,
    "deletable": true,
    "editable": true
   },
   "outputs": [
    {
     "name": "stdout",
     "output_type": "stream",
     "text": [
      "Array{Int64,1}\n",
      "         0\n",
      "         1\n",
      "\n",
      "BitArray{1}\n",
      "      true\n",
      "     false\n",
      "      true\n",
      "\n"
     ]
    }
   ],
   "source": [
    "C_to_int = C + 0                         #BitArray -> int by adding 0\n",
    "println(typeof(C_to_int))                #convert(Array{Int},C) also works\n",
    "printmat(C_to_int)\n",
    "\n",
    "D = [1;0;1]                              \n",
    "D_to_bit = D .> 0                        #int -> BitArray by comparing\n",
    "println(typeof(D_to_bit))                #convert(BitArray,D) also works \n",
    "printmat(D_to_bit)"
   ]
  },
  {
   "cell_type": "markdown",
   "metadata": {
    "deletable": true,
    "editable": true
   },
   "source": [
    "## Some Calculations with Mixed Types (\"promotion\")"
   ]
  },
  {
   "cell_type": "code",
   "execution_count": 9,
   "metadata": {
    "collapsed": false,
    "deletable": true,
    "editable": true
   },
   "outputs": [
    {
     "name": "stdout",
     "output_type": "stream",
     "text": [
      "Bools and BitArrays can be used in calculations:\n",
      "     0.500\n",
      "\n"
     ]
    }
   ],
   "source": [
    "println(\"Bools and BitArrays can be used in calculations:\")\n",
    "printmat(mean(C))"
   ]
  },
  {
   "cell_type": "markdown",
   "metadata": {
    "collapsed": true,
    "deletable": true,
    "editable": true
   },
   "source": [
    "# Type Instability\n",
    "\n",
    "Your code will run faster if your variables do not change type in the computations. The next cells illustrate that."
   ]
  },
  {
   "cell_type": "code",
   "execution_count": 10,
   "metadata": {
    "collapsed": false,
    "deletable": true,
    "editable": true
   },
   "outputs": [
    {
     "data": {
      "text/plain": [
       "fn2 (generic function with 1 method)"
      ]
     },
     "execution_count": 10,
     "metadata": {},
     "output_type": "execute_result"
    }
   ],
   "source": [
    "function fn1(n)\n",
    "    x = 0\n",
    "    for i = 1:n\n",
    "        x = x + 0.1\n",
    "    end\n",
    "    return x\n",
    "end    \n",
    "\n",
    "function fn2(n)\n",
    "    x = 0.0\n",
    "    for i = 1:n\n",
    "        x = x + 0.1\n",
    "    end\n",
    "    return x\n",
    "end"
   ]
  },
  {
   "cell_type": "code",
   "execution_count": 11,
   "metadata": {
    "collapsed": false,
    "deletable": true,
    "editable": true
   },
   "outputs": [
    {
     "name": "stdout",
     "output_type": "stream",
     "text": [
      "  0.068862 seconds (2.05 M allocations: 32.661 MB, 11.59% gc time)\n",
      "  0.005445 seconds (1.23 k allocations: 58.244 KB)\n",
      "\n",
      "fn2() is 10 times faster and uses much less memory\n"
     ]
    }
   ],
   "source": [
    "x = fn1(10)                #a \"dry\" run makes the subsequent timing results more accurate\n",
    "x = fn2(10)\n",
    "\n",
    "@time fn1(1e+6)\n",
    "@time fn2(1e+6)\n",
    "\n",
    "println(\"\\nfn2() is 10 times faster and uses much less memory\")"
   ]
  },
  {
   "cell_type": "code",
   "execution_count": null,
   "metadata": {
    "collapsed": true,
    "deletable": true,
    "editable": true
   },
   "outputs": [],
   "source": []
  }
 ],
 "metadata": {
  "kernelspec": {
   "display_name": "Julia 0.5.1",
   "language": "julia",
   "name": "julia-0.5"
  },
  "language_info": {
   "file_extension": ".jl",
   "mimetype": "application/julia",
   "name": "julia",
   "version": "0.5.1"
  }
 },
 "nbformat": 4,
 "nbformat_minor": 2
}
