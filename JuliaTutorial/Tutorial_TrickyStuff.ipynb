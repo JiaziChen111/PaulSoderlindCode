{
 "cells": [
  {
   "cell_type": "code",
   "execution_count": null,
   "metadata": {
    "collapsed": true
   },
   "outputs": [],
   "source": [
    "#  This file highlights some tricky aspects of Julia (from the perspective of\n",
    "#  a matlab user)\n",
    "#\n",
    "#\n",
    "#\n",
    "#\n",
    "#\n",
    "#  Paul Söderlind (Paul.Soderlind at unisg.ch), April 2016\n",
    "#-------------------------------------------------------------------------"
   ]
  },
  {
   "cell_type": "code",
   "execution_count": 1,
   "metadata": {
    "collapsed": false
   },
   "outputs": [
    {
     "name": "stdout",
     "output_type": "stream",
     "text": [
      "\n",
      "\n",
      "---for arrays, A = B means that A and B stay the same---\n",
      "old A,B,C,D: [2 2] [2 2] 4 [2 2]\n",
      "after changing element A[2]: \n",
      "new A,B,C,D: [2 3] [2 3] 4 [2 2]\n",
      "\n",
      "Notice that when A is changed, then it carries over to B since\n",
      "A and B are one and the same. Actually, if you instead changed B, then it\n",
      "would carry over to A as well. In contrast, C and D are not changed when A is:\n",
      "they are not the same as A.\n"
     ]
    }
   ],
   "source": [
    "print_with_color(:red,\"\\n\\n---for arrays, A = B means that A and B stay the same---\\n\")\n",
    "A = [2 2]\n",
    "B = A\n",
    "C = sum(B)\n",
    "D = A + 0\n",
    "println(\"old A,B,C,D: \",A,\" \",B,\" \",C,\" \",D)\n",
    "A[2] = 3\n",
    "println(\"after changing element A[2]: \")\n",
    "println(\"new A,B,C,D: \",A,\" \",B,\" \",C,\" \",D)\n",
    "println(\"\\nNotice that when A is changed, then it carries over to B since\n",
    "A and B are one and the same. Actually, if you instead changed B, then it\n",
    "would carry over to A as well. In contrast, C and D are not changed when A is:\n",
    "they are not the same as A.\")"
   ]
  },
  {
   "cell_type": "code",
   "execution_count": 2,
   "metadata": {
    "collapsed": false
   },
   "outputs": [
    {
     "name": "stdout",
     "output_type": "stream",
     "text": [
      "\n",
      "\n",
      "----changing array in function can have effect outside function----\n",
      "original x: [1,2], x after calling f1(): [2,4], f1(x1): [2,4]\n",
      "original x: [1,2], x after calling f2(): [1,2], f2(x2): [2,4]\n",
      "original x: [1,2], x after calling f3(): [1,2], f3(x3): [2,4]\n",
      "\n",
      "Notice that when individual ELEMENTS of an array are changed inside a\n",
      "function, then this carries over to the array used in the function call. This is true\n",
      "also when we change all individual elements (as in f1()). It is not true when\n",
      "we work on the entire array (as in f2()) or change its shape. The solution\n",
      "to the problem with f1() is to do as in f3(): work on a copy of the input array.\n"
     ]
    }
   ],
   "source": [
    "print_with_color(:red,\"\\n\\n----changing array in function can have effect outside function----\\n\")\n",
    "function f1(A)\n",
    "  A[1:end] = A[1:end]*2\n",
    "  return A\n",
    "end\n",
    "function f2(A)\n",
    "  A = A*2\n",
    "  return A\n",
    "end\n",
    "function f3(A)\n",
    "  #B = deepcopy(A)                    #works too\n",
    "  #B[1:end] = B[1:end]*2\n",
    "  #return B\n",
    "  A = A + 0\n",
    "  A[1:end] = A[1:end]*2\n",
    "  return A\n",
    "end\n",
    "x0 = [1;2]\n",
    "x1 = deepcopy(x0)\n",
    "x2 = deepcopy(x0)\n",
    "x3 = deepcopy(x0)\n",
    "y1 = f1(x1)\n",
    "y2 = f2(x2)\n",
    "y3 = f3(x3)\n",
    "println(\"original x: \",x0,\", x after calling f1(): \",x1,\", f1(x1): \",y1)\n",
    "println(\"original x: \",x0,\", x after calling f2(): \",x2,\", f2(x2): \",y2)\n",
    "println(\"original x: \",x0,\", x after calling f3(): \",x3,\", f3(x3): \",y3)\n",
    "println(\"\\nNotice that when individual ELEMENTS of an array are changed inside a\n",
    "function, then this carries over to the array used in the function call. This is true\n",
    "also when we change all individual elements (as in f1()). It is not true when\n",
    "we work on the entire array (as in f2()) or change its shape. The solution\n",
    "to the problem with f1() is to do as in f3(): work on a copy of the input array.\")"
   ]
  },
  {
   "cell_type": "code",
   "execution_count": 3,
   "metadata": {
    "collapsed": false
   },
   "outputs": [
    {
     "name": "stdout",
     "output_type": "stream",
     "text": [
      "\n",
      "\n",
      "------------------- 1x1 arrays are not scalars  ------------------\n",
      "A and b: [1 2] [3]\n",
      "\n",
      "You cannot do A + b if A is a Txn array and b is a 1x1 array.\n",
      "Instead, use A + b[1]: [4 5]\n",
      "or use A .+ b: [4 5]\n",
      "The latter works since b is expanded ('broadcasted') to have the same dimension as A\n",
      "\n",
      "You cannot do A[2] = b, if A is a Txn array and b is a 1x1 array.\n",
      "Instead use A[2] = b[1]:  new A [1 3]\n"
     ]
    }
   ],
   "source": [
    "print_with_color(:red,\"\\n\\n------------------- 1x1 arrays are not scalars  ------------------\\n\")\n",
    "A = [1 2]\n",
    "b = [3]\n",
    "println(\"A and b: \",A,\" \",b,\"\\n\")\n",
    "println(\"You cannot do A + b if A is a Txn array and b is a 1x1 array.\n",
    "Instead, use A + b[1]: \",A + b[1],\n",
    "\"\\nor use A .+ b: \",A .+ b)\n",
    "println(\"The latter works since b is expanded ('broadcasted') to have the same dimension as A\")\n",
    "\n",
    "A[2] = b[1]\n",
    "println(\"\\nYou cannot do A[2] = b, if A is a Txn array and b is a 1x1 array.\n",
    "Instead use A[2] = b[1]: \",\" new A \",A)"
   ]
  },
  {
   "cell_type": "code",
   "execution_count": 4,
   "metadata": {
    "collapsed": false
   },
   "outputs": [
    {
     "name": "stdout",
     "output_type": "stream",
     "text": [
      "\n",
      "\n",
      "------------------Creating variables in loop------------------\n",
      "Variables CREATED in a loop are not visible outside the loop\n",
      "Trying to print 'Tor' after the loop would give an error message\n",
      "\n",
      "In contrast, variables CHANGED in a loop are visible outside the loop\n",
      "Oden: 0.2837\n"
     ]
    }
   ],
   "source": [
    "print_with_color(:red,\"\\n\\n------------------Creating variables in loop------------------\\n\")\n",
    "for i = 1:5\n",
    "  Tor = cos(i)\n",
    "end\n",
    "println(\"Variables CREATED in a loop are not visible outside the loop\n",
    "Trying to print 'Tor' after the loop would give an error message\")\n",
    "\n",
    "println(\"\\n\",\"In contrast, variables CHANGED in a loop are visible outside the loop\")\n",
    "Oden = Float64[]\n",
    "for i = 1:5\n",
    "  Oden = cos(i)\n",
    "end\n",
    "println(\"Oden: \",round(Oden,4))"
   ]
  },
  {
   "cell_type": "code",
   "execution_count": 5,
   "metadata": {
    "collapsed": false
   },
   "outputs": [
    {
     "name": "stdout",
     "output_type": "stream",
     "text": [
      "\n",
      "\n",
      "----------------------Adding rows to an array----------------------\n",
      "A and B: [1 11] [3 13]\n",
      "\n",
      "To append B at the end of A, you have to use [A;B]. A[2,:] = B does not work \n",
      "[1 11\n",
      " 3 13]\n"
     ]
    }
   ],
   "source": [
    "print_with_color(:red,\"\\n\\n----------------------Adding rows to an array----------------------\\n\")\n",
    "\n",
    "A =  [1 11]\n",
    "B =  [3 13]\n",
    "println(\"A and B: \",A,\" \",B)\n",
    "println(\"\\nTo append B at the end of A, you have to use [A;B]. A[2,:] = B does not work \")\n",
    "println([A;B])"
   ]
  },
  {
   "cell_type": "code",
   "execution_count": 6,
   "metadata": {
    "collapsed": false
   },
   "outputs": [
    {
     "name": "stdout",
     "output_type": "stream",
     "text": [
      "\n",
      "\n",
      "---------------------------Cell arrays------------------------\n",
      "To creata a cell array, use Any[x1,x2,...]\n",
      "\n",
      "The array A: \n",
      "Any[\n",
      "[11 12\n",
      " 21 22],\n",
      "\n",
      "\"A nice dog\",27]\n",
      "\n",
      "Alternatively, you can use A = cell(3) and fill as A[3] = 27\n",
      "\n",
      "Element 2,2 of A[1]: 22\n"
     ]
    }
   ],
   "source": [
    "print_with_color(:red,\"\\n\\n---------------------------Cell arrays------------------------\\n\")\n",
    "println(\"To creata a cell array, use Any[x1,x2,...]\")\n",
    "A = Any[[11 12;21 22],\"A nice dog\",27]\n",
    "println(\"\\nThe array A: \")\n",
    "println(A)\n",
    "println(\"\\nAlternatively, you can use A = cell(3) and fill as A[3] = 27\")\n",
    "println(\"\\nElement 2,2 of A[1]: \",A[1][2,2])"
   ]
  },
  {
   "cell_type": "code",
   "execution_count": 7,
   "metadata": {
    "collapsed": false
   },
   "outputs": [
    {
     "name": "stdout",
     "output_type": "stream",
     "text": [
      "\n",
      "\n",
      "----------------------New things in Julia 0.5.x-----------------\n",
      "x is [11 12\n",
      " 21 22]\n",
      "x[1,:] gives a row vector in Julia 0.4.x, but a column vector in Julia 0.5.x : [11 12]\n",
      "do x[1:1,:] to get a row vector in either version: [11 12]\n"
     ]
    }
   ],
   "source": [
    "print_with_color(:red,\"\\n\\n----------------------New things in Julia 0.5.x-----------------\\n\")\n",
    "x = [11 12;21 22]\n",
    "println(\"x is \",x)\n",
    "println(\"x[1,:] gives a row vector in Julia 0.4.x, but a column vector in Julia 0.5.x : \",x[1,:])\n",
    "println(\"do x[1:1,:] to get a row vector in either version: \",x[1:1,:])"
   ]
  },
  {
   "cell_type": "code",
   "execution_count": null,
   "metadata": {
    "collapsed": true
   },
   "outputs": [],
   "source": []
  }
 ],
 "metadata": {
  "kernelspec": {
   "display_name": "Julia 0.4.5",
   "language": "julia",
   "name": "julia-0.4"
  },
  "language_info": {
   "file_extension": ".jl",
   "mimetype": "application/julia",
   "name": "julia",
   "version": "0.4.5"
  }
 },
 "nbformat": 4,
 "nbformat_minor": 0
}
