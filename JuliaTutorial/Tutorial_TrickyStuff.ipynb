{
 "cells": [
  {
   "cell_type": "markdown",
   "metadata": {},
   "source": [
    "# Tricky Stuff"
   ]
  },
  {
   "cell_type": "markdown",
   "metadata": {
    "collapsed": true
   },
   "source": [
    "This file highlights some tricky aspects of Julia (from the perspective of a matlab user)\n",
    "\n",
    "Paul Söderlind (Paul.Soderlind at unisg.ch), April 2016, updated Nov 2016"
   ]
  },
  {
   "cell_type": "code",
   "execution_count": 1,
   "metadata": {
    "collapsed": false
   },
   "outputs": [
    {
     "data": {
      "text/plain": [
       "printmat (generic function with 5 methods)"
      ]
     },
     "execution_count": 1,
     "metadata": {},
     "output_type": "execute_result"
    }
   ],
   "source": [
    "import Formatting                 #the first time, do Pkg.add(\"Formatting\") to install the package\n",
    "include(\"printmat.jl\")            #function for prettier matrix printing"
   ]
  },
  {
   "cell_type": "markdown",
   "metadata": {},
   "source": [
    "# Julia Arrays Are Assigned by Reference"
   ]
  },
  {
   "cell_type": "markdown",
   "metadata": {},
   "source": [
    "Julia arrays are designed to save memory. For instance, B=A means that both A and B point to the same memory addresses. (In contrast, MatLab creates a copy which doubles the memory requirement.)"
   ]
  },
  {
   "cell_type": "markdown",
   "metadata": {},
   "source": [
    "## Issue 1. B = A Creates Two Names of the *Same* Array"
   ]
  },
  {
   "cell_type": "markdown",
   "metadata": {},
   "source": [
    "If A is an array, then after B=A, changing elements of A will modify B as well (and vice versa). In contrast, B = A + 0 (or B = A/2 or whatever) creates a completely new array which you can change without affecting A. If you really want a copy, do B = deepcopy(A).\n",
    "\n",
    "Notice that this applies to arrays only. If A is a scalar or string, then B=A creates a copy. This means that you can later change A without affecting B.\n",
    "\n",
    "The code below gives a few examples."
   ]
  },
  {
   "cell_type": "code",
   "execution_count": 2,
   "metadata": {
    "collapsed": false
   },
   "outputs": [
    {
     "name": "stdout",
     "output_type": "stream",
     "text": [
      "old A,B,C,D: \n",
      "         2         2\n",
      "\n",
      "         2         2\n",
      "\n",
      "         4\n",
      "\n",
      "         2         2\n",
      "\n"
     ]
    }
   ],
   "source": [
    "A = [2 2]\n",
    "B = A\n",
    "C = sum(B)\n",
    "D = A + 0\n",
    "println(\"old A,B,C,D: \")\n",
    "printmat(A)\n",
    "printmat(B)\n",
    "printmat(C)\n",
    "printmat(D)"
   ]
  },
  {
   "cell_type": "code",
   "execution_count": 3,
   "metadata": {
    "collapsed": false
   },
   "outputs": [
    {
     "name": "stdout",
     "output_type": "stream",
     "text": [
      "after changing element A[2] to -999\n",
      "new A,B,C,D: \n",
      "         2      -999\n",
      "\n",
      "         2      -999\n",
      "\n",
      "         4\n",
      "\n",
      "         2         2\n",
      "\n"
     ]
    }
   ],
   "source": [
    "A[2] = -999\n",
    "println(\"after changing element A[2] to -999\")\n",
    "println(\"new A,B,C,D: \")\n",
    "printmat(A)\n",
    "printmat(B)\n",
    "printmat(C)\n",
    "printmat(D)"
   ]
  },
  {
   "cell_type": "markdown",
   "metadata": {},
   "source": [
    "## Issue 2. Changing an Array Inside a Function Can Have Effects *Outside* the Function"
   ]
  },
  {
   "cell_type": "markdown",
   "metadata": {},
   "source": [
    "When you use an array as a function argument, then that is passed as a reference to the function. This means that if you change some elements of the array (A[1] = A[1]/2, say) inside the function, then it will also affect the array outside the function (even if they have different names). In contrast, if you change the entire array (A/2, say) inside the function, then that does not affect the array outside the function.\n",
    "\n",
    "Once again, this applies to arrays, but not to scalars or strings.\n",
    "\n",
    "The code below defines a few different functions to illustrate this."
   ]
  },
  {
   "cell_type": "code",
   "execution_count": 4,
   "metadata": {
    "collapsed": false
   },
   "outputs": [
    {
     "name": "stdout",
     "output_type": "stream",
     "text": [
      "original x (and x1, x2, x3 are the same): \n",
      "         1\n",
      "         2\n",
      "\n",
      "x1 (outside function) after calling f1(x1): \n",
      "        10\n",
      "        20\n",
      "\n",
      "x2 (outside function) after calling f2(x2): \n",
      "         1\n",
      "         2\n",
      "\n",
      "x3 (outside function) after calling f3(x3): \n",
      "         1\n",
      "         2\n",
      "\n"
     ]
    }
   ],
   "source": [
    "function f1(A)\n",
    "    A[1:end] = A[1:end]*10          #changes ELEMENTS of A\n",
    "  return A\n",
    "end\n",
    "function f2(A)\n",
    "    A = A*10                        #changes all of A\n",
    "  return A\n",
    "end\n",
    "function f3(A)\n",
    "    A = (A + 0)*10                  #changes all of A \n",
    "  A[1:end] = A[1:end]*2\n",
    "    #A = deepcopy(A)/2               #instead of the two previous lines, works too  \n",
    "  return A    \n",
    "end\n",
    "\n",
    "x  = [1;2]\n",
    "x1 = deepcopy(x)                       #making copies\n",
    "x2 = deepcopy(x)                       \n",
    "x3 = deepcopy(x)                       \n",
    "println(\"original x (and x1, x2, x3 are the same): \")\n",
    "printmat(x)\n",
    "\n",
    "y1 = f1(x1)\n",
    "println(\"x1 (outside function) after calling f1(x1): \")\n",
    "printmat(x1)\n",
    "\n",
    "y2 = f2(x2)\n",
    "println(\"x2 (outside function) after calling f2(x2): \")\n",
    "printmat(x2)\n",
    "\n",
    "y3 = f3(x3)\n",
    "println(\"x3 (outside function) after calling f3(x3): \")\n",
    "printmat(x3)"
   ]
  },
  {
   "cell_type": "markdown",
   "metadata": {
    "collapsed": false
   },
   "source": [
    "**Notice:** when individual ELEMENTS of an array are changed inside a\n",
    "function, then this carries over to the array used in the function call. This is true\n",
    "also when we change all individual elements (as in f1()). It is not true when\n",
    "we work on the entire array (as in f2()) or change its shape. The solution\n",
    "to the problem with f1() is to do as in f3(): work on a copy of the input array."
   ]
  },
  {
   "cell_type": "markdown",
   "metadata": {},
   "source": [
    "## Issue 3. A Reshaped Array still Refers to the Original Array"
   ]
  },
  {
   "cell_type": "markdown",
   "metadata": {},
   "source": [
    "reshape() and vec() share the same memory addresses as the original arrays. "
   ]
  },
  {
   "cell_type": "code",
   "execution_count": 5,
   "metadata": {
    "collapsed": false
   },
   "outputs": [
    {
     "name": "stdout",
     "output_type": "stream",
     "text": [
      "original x: \n",
      "         1         2\n",
      "         3         4\n",
      "\n",
      "x1 after changing y (where y = reshape(x1,1,4)): \n",
      "      -999         2\n",
      "         3         4\n",
      "\n",
      "x2 after changing y (where y = vec(x2)): \n",
      "       -27         2\n",
      "         3         4\n",
      "\n"
     ]
    }
   ],
   "source": [
    "x = [1 2;3 4]\n",
    "x1 = deepcopy(x)\n",
    "x2 = deepcopy(x)\n",
    "println(\"original x: \")\n",
    "printmat(x)\n",
    "\n",
    "y = reshape(x1,1,4)\n",
    "y[1] = -999\n",
    "println(\"x1 after changing y (where y = reshape(x1,1,4)): \")\n",
    "printmat(x1)\n",
    "\n",
    "y = vec(x2)\n",
    "y[1] = -27\n",
    "println(\"x2 after changing y (where y = vec(x2)): \")\n",
    "printmat(x2)"
   ]
  },
  {
   "cell_type": "markdown",
   "metadata": {},
   "source": [
    "# A 1x1 Array Is Not a Scalar"
   ]
  },
  {
   "cell_type": "markdown",
   "metadata": {},
   "source": [
    "and it often matters.\n",
    "\n",
    "As an example, b = [1000] is a 1x1 array and cannot be used as a scalar. For instance, you cannot do A + b (if A is an array of a different size), or A[2] = b.\n",
    "\n",
    "To use b as a scalar, just use b[1]. \n",
    "\n",
    "As another example, ones(2)'ones(2) creates an 1x1 array, but you can use it as a scalar by doing (ones(2)'ones(2))[1]."
   ]
  },
  {
   "cell_type": "code",
   "execution_count": 6,
   "metadata": {
    "collapsed": false
   },
   "outputs": [
    {
     "name": "stdout",
     "output_type": "stream",
     "text": [
      "A and b: \n",
      "         1         2\n",
      "\n",
      "      1000\n",
      "\n",
      "You cannot do A + b if A is a Txn array and b is a 1x1 array. Instead, do A + b[1] or A .+ b\n",
      "      1001      1002\n",
      "\n",
      "      1001      1002\n",
      "\n",
      "\n",
      "You cannot do A[2] = b if A is a Txn array and b is a 1x1 array. Instead use A[2] = b[1]\n",
      "         1      1000\n",
      "\n"
     ]
    }
   ],
   "source": [
    "A = [1 2]                          #a 1x2 array\n",
    "b = [1000]                         #a 1x1 array \n",
    "println(\"A and b: \")\n",
    "printmat(A)\n",
    "printmat(b)\n",
    "\n",
    "try \n",
    "    y1 = A + b\n",
    "catch    \n",
    "    println(\"You cannot do A + b if A is a Txn array and b is a 1x1 array. Instead, do A + b[1] or A .+ b\")\n",
    "    printmat(A + b[1])\n",
    "    printmat(A .+ b)\n",
    "end        \n",
    "\n",
    "try\n",
    "    A[2] = b    \n",
    "catch\n",
    "    println(\"\\nYou cannot do A[2] = b if A is a Txn array and b is a 1x1 array. Instead use A[2] = b[1]\")    \n",
    "    A[2] = b[1]\n",
    "    printmat(A)\n",
    "end"
   ]
  },
  {
   "cell_type": "markdown",
   "metadata": {},
   "source": [
    "# An Nx1 Array is not a Vector"
   ]
  },
  {
   "cell_type": "markdown",
   "metadata": {},
   "source": [
    "and it sometimes matters. \n",
    "\n",
    "Julia has both vectors and Nx1 arrays (the latter being a special case of NxM arrays). They can often be used interchangeably, but not always (see below for an example).\n",
    "\n",
    "In particular, you typically use a vector when you want to pull out particular rows from a larger array."
   ]
  },
  {
   "cell_type": "code",
   "execution_count": 7,
   "metadata": {
    "collapsed": false
   },
   "outputs": [
    {
     "name": "stdout",
     "output_type": "stream",
     "text": [
      "v and v2 look similar, but they have different sizes: \n",
      "         1\n",
      "         1\n",
      "\n",
      "         1\n",
      "         1\n",
      "\n",
      "size of v and v2: (2,) (2,1)\n",
      "\n",
      "x: \n",
      "        11        12\n",
      "        21        22\n",
      "        31        32\n",
      "\n",
      "x[v,:] is\n",
      "        11        12\n",
      "        11        12\n",
      "\n",
      "while, x[v2,:] is\n"
     ]
    }
   ],
   "source": [
    "v  = ones(Int,2)                     #a vector with two elements\n",
    "v2 = ones(Int,2,1)                   #a 2x1 'matrix (Array)\n",
    "\n",
    "println(\"v and v2 look similar, but they have different sizes: \")\n",
    "printmat(v)\n",
    "printmat(v2)\n",
    "println(\"size of v and v2: \",size(v),\" \",size(v2))\n",
    "\n",
    "x = [11 12;21 22;31 32]\n",
    "println(\"\\nx: \")\n",
    "printmat(x)\n",
    "\n",
    "println(\"x[v,:] is\") \n",
    "printmat(x[v,:])\n",
    "\n",
    "println(\"while, x[v2,:] is\")\n",
    "printmat(x[v2,:])"
   ]
  },
  {
   "cell_type": "markdown",
   "metadata": {},
   "source": [
    "# Creating Variables in a Loop"
   ]
  },
  {
   "cell_type": "code",
   "execution_count": 8,
   "metadata": {
    "collapsed": false
   },
   "outputs": [
    {
     "name": "stdout",
     "output_type": "stream",
     "text": [
      "Variables CREATED in a for loop are not visible outside the loop\n",
      "\n",
      "In contrast, variables CHANGED in a for loop are visible outside the loop\n",
      "Oden: 0.2837\n"
     ]
    }
   ],
   "source": [
    "for i = 1:5\n",
    "  Tor = cos(i)\n",
    "end\n",
    "try\n",
    "    println(Tor)\n",
    "catch\n",
    "    println(\"Variables CREATED in a for loop are not visible outside the loop\")\n",
    "end    \n",
    "\n",
    "println(\"\\nIn contrast, variables CHANGED in a for loop are visible outside the loop\")\n",
    "Oden = Float64[]\n",
    "for i = 1:5\n",
    "  Oden = cos(i)\n",
    "end\n",
    "println(\"Oden: \",round(Oden,4))"
   ]
  },
  {
   "cell_type": "markdown",
   "metadata": {},
   "source": [
    "# Adding Rows to an Array"
   ]
  },
  {
   "cell_type": "code",
   "execution_count": 9,
   "metadata": {
    "collapsed": false
   },
   "outputs": [
    {
     "name": "stdout",
     "output_type": "stream",
     "text": [
      "A and B\n",
      "         1        11\n",
      "\n",
      "         3        13\n",
      "\n",
      "\n",
      "To append B at the end of A, you have to use [A;B].\n",
      "         1        11\n",
      "         3        13\n",
      "\n"
     ]
    }
   ],
   "source": [
    "A =  [1 11]\n",
    "B =  [3 13]\n",
    "println(\"A and B\")\n",
    "printmat(A)\n",
    "printmat(B)\n",
    "\n",
    "try\n",
    "    A[2,:] = B    \n",
    "catch\n",
    "    println(\"\\nTo append B at the end of A, you have to use [A;B].\")    \n",
    "    printmat([A;B])    \n",
    "end"
   ]
  },
  {
   "cell_type": "markdown",
   "metadata": {},
   "source": [
    "# Cell Arrays"
   ]
  },
  {
   "cell_type": "markdown",
   "metadata": {},
   "source": [
    "To creata a cell array, use Any[x1,x2,...]\n",
    "\n",
    "Alternatively, you can preallocate as in B = Array{Any}(3) and then fill by, for instance, B[3] = 27"
   ]
  },
  {
   "cell_type": "code",
   "execution_count": 10,
   "metadata": {
    "collapsed": false
   },
   "outputs": [
    {
     "name": "stdout",
     "output_type": "stream",
     "text": [
      "\n",
      "The array A: \n",
      "        11        12\n",
      "        21        22\n",
      "\n",
      "A nice dog\n",
      "\n",
      "        27\n",
      "\n",
      "\n",
      "The array B: \n",
      "        11        12\n",
      "\n",
      "A bad cat\n",
      "\n",
      "π = 3.1415926535897...\n",
      "\n"
     ]
    }
   ],
   "source": [
    "A = Any[[11 12;21 22],\"A nice dog\",27]\n",
    "\n",
    "println(\"\\nThe array A: \")\n",
    "for i = 1:length(A)\n",
    "    printmat(A[i])\n",
    "end  \n",
    "\n",
    "B = Array{Any}(3)\n",
    "B[1] = [11 12]\n",
    "B[2] = \"A bad cat\"\n",
    "B[3] = pi\n",
    "\n",
    "println(\"\\nThe array B: \")\n",
    "for i = 1:length(B)\n",
    "    printmat(B[i])\n",
    "end"
   ]
  },
  {
   "cell_type": "markdown",
   "metadata": {},
   "source": [
    "# New Things in Julia 0.5"
   ]
  },
  {
   "cell_type": "code",
   "execution_count": 11,
   "metadata": {
    "collapsed": false
   },
   "outputs": [
    {
     "name": "stdout",
     "output_type": "stream",
     "text": [
      "x\n",
      "        11        12\n",
      "        21        22\n",
      "\n",
      "x[1,:] gives a row vector in Julia 0.4.x, but a column vector in Julia 0.5.x: \n",
      "        11\n",
      "        12\n",
      "\n",
      "do x[1:1,:] or x[[true;false],:] to get a row vector in either version: \n",
      "        11        12\n",
      "\n",
      "        11        12\n",
      "\n",
      "use log.(x) to calculate the log of each element of an array x (similar for exp., round.,...)\n",
      "     2.398     2.485\n",
      "     3.045     3.091\n",
      "\n"
     ]
    }
   ],
   "source": [
    "x = [11 12;21 22]\n",
    "println(\"x\")\n",
    "printmat(x)\n",
    "\n",
    "println(\"x[1,:] gives a row vector in Julia 0.4.x, but a column vector in Julia 0.5.x: \")\n",
    "printmat(x[1,:])\n",
    "\n",
    "println(\"do x[1:1,:] or x[[true;false],:] to get a row vector in either version: \")\n",
    "printmat(x[1:1,:])\n",
    "printmat(x[[true;false],:])\n",
    "\n",
    "println(\"use log.(x) to calculate the log of each element of an array x (similar for exp., round.,...)\")\n",
    "printmat(log.(x))"
   ]
  },
  {
   "cell_type": "markdown",
   "metadata": {},
   "source": [
    "# New Things in Julia 0.6\n",
    "\n",
    "\n",
    "Probably too early (as of mid Jan 2017) to tell, but it looks like \n",
    "```\n",
    "x = [1;2]\n",
    "y = x'\n",
    "```\n",
    "will be similar to \n",
    "```\n",
    "z = reshape(x,1,2)\n",
    "```\n",
    "in the sense that x,y,z will all refer to the same memory space. (Change one and you change the others too.)"
   ]
  },
  {
   "cell_type": "code",
   "execution_count": null,
   "metadata": {
    "collapsed": true
   },
   "outputs": [],
   "source": []
  }
 ],
 "metadata": {
  "anaconda-cloud": {},
  "kernelspec": {
   "display_name": "Julia 0.5.0",
   "language": "julia",
   "name": "julia-0.5"
  },
  "language_info": {
   "file_extension": ".jl",
   "mimetype": "application/julia",
   "name": "julia",
   "version": "0.5.0"
  }
 },
 "nbformat": 4,
 "nbformat_minor": 0
}
