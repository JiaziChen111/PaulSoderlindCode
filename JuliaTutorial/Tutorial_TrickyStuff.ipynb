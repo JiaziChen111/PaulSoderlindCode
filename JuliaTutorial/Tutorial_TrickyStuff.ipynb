{
 "cells": [
  {
   "cell_type": "code",
   "execution_count": null,
   "metadata": {
    "collapsed": true
   },
   "outputs": [],
   "source": [
    "#  This file highlights some tricky aspects of Julia (from the perspective of\n",
    "#  a matlab user)\n",
    "#\n",
    "#\n",
    "#\n",
    "#\n",
    "#\n",
    "#  Paul Söderlind (Paul.Soderlind at unisg.ch), April 2016\n",
    "#-------------------------------------------------------------------------"
   ]
  },
  {
   "cell_type": "code",
   "execution_count": 1,
   "metadata": {
    "collapsed": false
   },
   "outputs": [
    {
     "name": "stdout",
     "output_type": "stream",
     "text": [
      "\n",
      "\n",
      "---for arrays, A = B means that A and B are always the same--\n",
      "\n",
      "(the arrays) old A,B,C,D: [2 2] [2 2] 4 [2 2]\n",
      "new A,B,C,D after after changing element A[2]: [2 3] [2 3] 4 [2 2]\n",
      "\n",
      "Notice that when A is changed, then it carries over to B since\n",
      "A and B are one and the same. Actually, if you instead changed B, then it\n",
      "would carry over to A as well. In contrast, C and D are not changed when A is:\n",
      "they are not the same as A.\n"
     ]
    }
   ],
   "source": [
    "println(\"\\n\\n---for arrays, A = B means that A and B are always the same--\",\"\\n\")\n",
    "A = [2 2]\n",
    "B = A\n",
    "C = sum(B)\n",
    "D = A + 0\n",
    "println(\"(the arrays) old A,B,C,D: \",A,\" \",B,\" \",C,\" \",D)\n",
    "A[2] = 3\n",
    "println(\"new A,B,C,D after after changing element A[2]: \",A,\" \",B,\" \",C,\" \",D)\n",
    "println(\"\\nNotice that when A is changed, then it carries over to B since\n",
    "A and B are one and the same. Actually, if you instead changed B, then it\n",
    "would carry over to A as well. In contrast, C and D are not changed when A is:\n",
    "they are not the same as A.\")"
   ]
  },
  {
   "cell_type": "code",
   "execution_count": 2,
   "metadata": {
    "collapsed": false
   },
   "outputs": [
    {
     "name": "stdout",
     "output_type": "stream",
     "text": [
      "\n",
      "\n",
      "---------------changing arrays in functions------------------\n",
      "\n",
      "\n",
      "original x: [1,2], new x after fn call: [2,4], f1(x1): [2,4]\n",
      "\n",
      "original x: [1,2], new x after fn call: [1,2], f2(x2): [2,4]\n",
      "\n",
      "original x: [1,2], new x after fn call: [1,2], f3(x3): [2,4]\n",
      "\n",
      "Notice that when individual ELEMENTS of an array are changed inside a\n",
      "function, then this carries over to the array used in the function call. This is true\n",
      "also when we change all individual elements (as in f1()). It is not true when\n",
      "we work on the entire array (as in f2()) or change its shape. The solution\n",
      "to the problem with f1() is to do as in f3(): work on a copy of the input array.\n"
     ]
    }
   ],
   "source": [
    "println(\"\\n\\n---------------changing arrays in functions------------------\",\"\\n\")\n",
    "function f1(A)\n",
    "  A[1:end] = A[1:end]*2\n",
    "  return A\n",
    "end\n",
    "function f2(A)\n",
    "  A = A*2\n",
    "  return A\n",
    "end\n",
    "function f3(A)\n",
    "  #B = deepcopy(A)                    #works too\n",
    "  #B[1:end] = B[1:end]*2\n",
    "  #return B\n",
    "  A = A + 0\n",
    "  A[1:end] = A[1:end]*2\n",
    "  return A    \n",
    "end\n",
    "x0 = [1;2]\n",
    "x1 = deepcopy(x0)\n",
    "x2 = deepcopy(x0)\n",
    "x3 = deepcopy(x0)\n",
    "y1 = f1(x1)\n",
    "y2 = f2(x2)\n",
    "y3 = f3(x3)\n",
    "println(\"\\noriginal x: \",x0,\", new x after fn call: \",x1,\", f1(x1): \",y1)\n",
    "println(\"\\noriginal x: \",x0,\", new x after fn call: \",x2,\", f2(x2): \",y2)\n",
    "println(\"\\noriginal x: \",x0,\", new x after fn call: \",x3,\", f3(x3): \",y3)\n",
    "println(\"\\nNotice that when individual ELEMENTS of an array are changed inside a\n",
    "function, then this carries over to the array used in the function call. This is true\n",
    "also when we change all individual elements (as in f1()). It is not true when\n",
    "we work on the entire array (as in f2()) or change its shape. The solution\n",
    "to the problem with f1() is to do as in f3(): work on a copy of the input array.\")"
   ]
  },
  {
   "cell_type": "code",
   "execution_count": 3,
   "metadata": {
    "collapsed": false
   },
   "outputs": [
    {
     "name": "stdout",
     "output_type": "stream",
     "text": [
      "\n",
      "\n",
      "------------------- 1x1 arrays are not scalars  ------------------\n",
      "\n",
      "A and b: [1 2] [3]\n",
      "You cannot do A + b if A is a Txn array and b is a 1x1 array.\n",
      "Instead, use A .+ b: [4 5]\n",
      "This works since b is expanded ('broadcasted') to have the same dimension as A\n",
      "\n",
      "You cannot do A[2] = b, if A is a Txn array and b is a 1x1 array.\n",
      "Instead use A[2] = b[1]:  new A [1 3]\n",
      "\n",
      "c and d: [1.0,1.0] [10,11]\n",
      "You cannot do A[2] = c'd, if A is a Txn array and c and d are vectors.\n",
      "Instead use A[2] = (c'd)[1]:  new A [1 21]\n"
     ]
    }
   ],
   "source": [
    "println(\"\\n\\n------------------- 1x1 arrays are not scalars  ------------------\")\n",
    "A = [1 2]\n",
    "b = [3]\n",
    "println(\"\\nA and b: \",A,\" \",b)\n",
    "println(\"You cannot do A + b if A is a Txn array and b is a 1x1 array.\n",
    "Instead, use A .+ b: \",A .+ b)\n",
    "println(\"This works since b is expanded ('broadcasted') to have the same dimension as A\")\n",
    "\n",
    "A[2] = b[1]\n",
    "println(\"\\nYou cannot do A[2] = b, if A is a Txn array and b is a 1x1 array.\n",
    "Instead use A[2] = b[1]: \",\" new A \",A)\n",
    "\n",
    "c = ones(2)\n",
    "d = [10;11]\n",
    "println(\"\\nc and d: \",c,\" \",d)\n",
    "A[2] = (c'd)[1]\n",
    "println(\"You cannot do A[2] = c'd, if A is a Txn array and c and d are vectors.\n",
    "Instead use A[2] = (c'd)[1]: \",\" new A \",A)"
   ]
  },
  {
   "cell_type": "code",
   "execution_count": 4,
   "metadata": {
    "collapsed": false
   },
   "outputs": [
    {
     "name": "stdout",
     "output_type": "stream",
     "text": [
      "\n",
      "\n",
      "------------------Creating variables in loop------------------\n",
      "\n",
      "variables CREATED in a loop are not visible outside the loop\n",
      "Trying to print Tor after the loop would give an error message (try it)\n",
      "\n",
      "In contrast, variables CHANGED in a loop are visible outside the loop\n",
      "Oden 0.2837\n"
     ]
    }
   ],
   "source": [
    "println(\"\\n\\n------------------Creating variables in loop------------------\")\n",
    "\n",
    "for i = 1:5\n",
    "  Tor = cos(i)\n",
    "end\n",
    "println(\"\\nvariables CREATED in a loop are not visible outside the loop\n",
    "Trying to print Tor after the loop would give an error message (try it)\")\n",
    "\n",
    "println(\"\\n\",\"In contrast, variables CHANGED in a loop are visible outside the loop\")\n",
    "Oden = []\n",
    "for i = 1:5\n",
    "  Oden = cos(i)\n",
    "end\n",
    "println(\"Oden \",round(Oden,4))"
   ]
  },
  {
   "cell_type": "code",
   "execution_count": 5,
   "metadata": {
    "collapsed": false
   },
   "outputs": [
    {
     "name": "stdout",
     "output_type": "stream",
     "text": [
      "\n",
      "\n",
      "----------------------Adding rows to an array----------------------\n",
      "\n",
      "A and B: [1 11] [3 13]\n",
      "\n",
      "To append B at the end of A, you have to use [A;B],\n",
      "doing A[2,:] = B does not work \n",
      "[1 11\n",
      " 3 13]\n"
     ]
    }
   ],
   "source": [
    "println(\"\\n\\n----------------------Adding rows to an array----------------------\")\n",
    "\n",
    "A =  [1 11]\n",
    "B =  [3 13]\n",
    "println(\"\\nA and B: \",A,\" \",B)\n",
    "println(\"\\nTo append B at the end of A, you have to use [A;B],\n",
    "doing A[2,:] = B does not work \")\n",
    "println([A;B])"
   ]
  },
  {
   "cell_type": "code",
   "execution_count": 6,
   "metadata": {
    "collapsed": false
   },
   "outputs": [
    {
     "name": "stdout",
     "output_type": "stream",
     "text": [
      "\n",
      "\n",
      "---------------------------Cell arrays------------------------\n",
      "\n",
      "Create Any[x1,x2,...]\n",
      "\n",
      "The array A: \n",
      "Any[\n",
      "[0.8513387312721881 0.46674773435955696\n",
      " 0.03546499427194316 0.027225921601931047\n",
      " 0.4145837173515068 0.6198806952049067],\n",
      "\n",
      "\"A nice dog\",27]\n",
      "\n",
      "Alternatively, you can use A= cell(3) and fill as A[3] = 27\n",
      "\n",
      "Element 3,2 of A[1]: 0.6198806952049067\n"
     ]
    }
   ],
   "source": [
    "println(\"\\n\\n---------------------------Cell arrays------------------------\")\n",
    "\n",
    "println(\"\\nCreate Any[x1,x2,...]\")\n",
    "A = Any[rand(3,2),\"A nice dog\",27]\n",
    "println(\"\\nThe array A: \")\n",
    "println(A)\n",
    "println(\"\\nAlternatively, you can use A= cell(3) and fill as A[3] = 27\")\n",
    "println(\"\\nElement 3,2 of A[1]: \",A[1][3,2])"
   ]
  },
  {
   "cell_type": "code",
   "execution_count": null,
   "metadata": {
    "collapsed": true
   },
   "outputs": [],
   "source": []
  }
 ],
 "metadata": {
  "kernelspec": {
   "display_name": "Julia 0.4.5",
   "language": "julia",
   "name": "julia-0.4"
  },
  "language_info": {
   "file_extension": ".jl",
   "mimetype": "application/julia",
   "name": "julia",
   "version": "0.4.5"
  }
 },
 "nbformat": 4,
 "nbformat_minor": 0
}
