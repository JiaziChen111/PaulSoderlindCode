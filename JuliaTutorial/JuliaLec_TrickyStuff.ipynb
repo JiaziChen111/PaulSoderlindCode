{
 "cells": [
  {
   "cell_type": "code",
   "execution_count": null,
   "metadata": {
    "collapsed": true
   },
   "outputs": [],
   "source": [
    "#  This file highlights some tricky aspects of Julia (from the perspective of\n",
    "#  a matlab user)\n",
    "#\n",
    "#\n",
    "#\n",
    "#\n",
    "#\n",
    "#  Paul Söderlind (Paul.Soderlind at unisg.ch), December 2015\n",
    "#-------------------------------------------------------------------------"
   ]
  },
  {
   "cell_type": "code",
   "execution_count": 1,
   "metadata": {
    "collapsed": false
   },
   "outputs": [
    {
     "name": "stdout",
     "output_type": "stream",
     "text": [
      "\n",
      "\n",
      "------- A = B means that A and B are the same forever-------\n",
      "\n",
      "(the arrays) old A,B,C,D: [2 2] [2 2] 4 [2 2]\n",
      "new A,B,C,D after after changing element A[2]: [2 3] [2 3] 4 [2 2]\n",
      "\n",
      "Notice that when A is changed, then it carries over to B since\n",
      "A and B are one and the same. Actually, if you instead changed B, then it\n",
      "would carry over to A as well. In contrast, C and D are not changed when A is:\n",
      "they are not the same as A.\n"
     ]
    }
   ],
   "source": [
    "println(\"\\n\\n------- A = B means that A and B are the same forever-------\",\"\\n\")\n",
    "A = [2 2]\n",
    "B = A\n",
    "C = sum(B)\n",
    "D = A + 0\n",
    "println(\"(the arrays) old A,B,C,D: \",A,\" \",B,\" \",C,\" \",D)\n",
    "A[2] = 3\n",
    "println(\"new A,B,C,D after after changing element A[2]: \",A,\" \",B,\" \",C,\" \",D)\n",
    "println(\"\\nNotice that when A is changed, then it carries over to B since\n",
    "A and B are one and the same. Actually, if you instead changed B, then it\n",
    "would carry over to A as well. In contrast, C and D are not changed when A is:\n",
    "they are not the same as A.\")"
   ]
  },
  {
   "cell_type": "code",
   "execution_count": 2,
   "metadata": {
    "collapsed": false
   },
   "outputs": [
    {
     "name": "stdout",
     "output_type": "stream",
     "text": [
      "\n",
      "\n",
      "------------------- 1x1 arrays are not scalars  ------------------\n",
      "\n",
      "A and b: [1 2] [3]\n",
      "You cannot do A + b, if A is a Txn array and b is a 1x1 array.\n",
      "Instead, use A .+ b: [4 5]\n",
      "This works since b is expanded ('broadcasted') to have the same dimension as A\n",
      "\n",
      "You cannot do A[2] = b, if A is a Txn array and b is a 1x1 array.\n",
      "Instead use A[2] = b[1]:  new A [1 3]\n",
      "\n",
      "c and d: [1.0,1.0] [10,11]\n",
      "You cannot do A[2] = c'd, if A is a Txn array and c and d are vectors.\n",
      "Instead use A[2] = (c'd)[1]:  new A [1 21]\n"
     ]
    }
   ],
   "source": [
    "println(\"\\n\\n------------------- 1x1 arrays are not scalars  ------------------\")\n",
    "A = [1 2]\n",
    "b = [3]\n",
    "println(\"\\nA and b: \",A,\" \",b)\n",
    "println(\"You cannot do A + b, if A is a Txn array and b is a 1x1 array.\n",
    "Instead, use A .+ b: \",A .+ b)\n",
    "println(\"This works since b is expanded ('broadcasted') to have the same dimension as A\")\n",
    "\n",
    "A[2] = b[1]\n",
    "println(\"\\nYou cannot do A[2] = b, if A is a Txn array and b is a 1x1 array.\n",
    "Instead use A[2] = b[1]: \",\" new A \",A)\n",
    "\n",
    "c = ones(2)\n",
    "d = [10;11]\n",
    "println(\"\\nc and d: \",c,\" \",d)\n",
    "A[2] = (c'd)[1]\n",
    "println(\"You cannot do A[2] = c'd, if A is a Txn array and c and d are vectors.\n",
    "Instead use A[2] = (c'd)[1]: \",\" new A \",A)"
   ]
  },
  {
   "cell_type": "code",
   "execution_count": 3,
   "metadata": {
    "collapsed": false
   },
   "outputs": [
    {
     "name": "stdout",
     "output_type": "stream",
     "text": [
      "\n",
      "\n",
      "------------------Creating variables in loop------------------\n",
      "\n",
      "variables CREATED in a loop are not visible outside the loop\n",
      "Trying to print Tor after the loop would give an error message (try it)\n",
      "\n",
      "In contrast, variables CHANGED in a loop are visible outside the loop\n",
      "Oden 0.2837\n"
     ]
    }
   ],
   "source": [
    "println(\"\\n\\n------------------Creating variables in loop------------------\")\n",
    "\n",
    "for i = 1:5\n",
    "  Tor = cos(i)\n",
    "end\n",
    "println(\"\\nvariables CREATED in a loop are not visible outside the loop\n",
    "Trying to print Tor after the loop would give an error message (try it)\")\n",
    "\n",
    "println(\"\\n\",\"In contrast, variables CHANGED in a loop are visible outside the loop\")\n",
    "Oden = []\n",
    "for i = 1:5\n",
    "  Oden = cos(i)\n",
    "end\n",
    "println(\"Oden \",round(Oden,4))"
   ]
  },
  {
   "cell_type": "code",
   "execution_count": 4,
   "metadata": {
    "collapsed": false
   },
   "outputs": [
    {
     "name": "stdout",
     "output_type": "stream",
     "text": [
      "\n",
      "\n",
      "----------------------Adding rows to an array----------------------\n",
      "\n",
      "A and B: [1 11] [3 13]\n",
      "\n",
      "To append B at the end of A, you have to use [A;B],\n",
      "doing A[2,:] = B does not work \n",
      "[1 11\n",
      " 3 13]\n"
     ]
    }
   ],
   "source": [
    "println(\"\\n\\n----------------------Adding rows to an array----------------------\")\n",
    "\n",
    "A =  [1 11]\n",
    "B =  [3 13]\n",
    "println(\"\\nA and B: \",A,\" \",B)\n",
    "println(\"\\nTo append B at the end of A, you have to use [A;B],\n",
    "doing A[2,:] = B does not work \")\n",
    "println([A;B])"
   ]
  },
  {
   "cell_type": "code",
   "execution_count": 5,
   "metadata": {
    "collapsed": false
   },
   "outputs": [
    {
     "name": "stdout",
     "output_type": "stream",
     "text": [
      "\n",
      "\n",
      "---------------------------Cell arrays------------------------\n",
      "\n",
      "Create Any[x1,x2,...]\n",
      "\n",
      "The array A: \n",
      "Any[\n",
      "[0.32071472677311275 0.09342019312171135\n",
      " 0.9273213431889458 0.5541801272751645\n",
      " 0.29606039577207177 0.4174194149645194],\n",
      "\n",
      "\"A nice dog\",27]\n",
      "\n",
      "Alternatively, you can use A= cell(3) and fill as A[3] = 27\n",
      "\n",
      "Element 3,2 of A[1]: 0.4174194149645194\n"
     ]
    }
   ],
   "source": [
    "println(\"\\n\\n---------------------------Cell arrays------------------------\")\n",
    "\n",
    "println(\"\\nCreate Any[x1,x2,...]\")\n",
    "A = Any[rand(3,2),\"A nice dog\",27]\n",
    "println(\"\\nThe array A: \")\n",
    "println(A)\n",
    "println(\"\\nAlternatively, you can use A= cell(3) and fill as A[3] = 27\")\n",
    "println(\"\\nElement 3,2 of A[1]: \",A[1][3,2])"
   ]
  },
  {
   "cell_type": "code",
   "execution_count": null,
   "metadata": {
    "collapsed": true
   },
   "outputs": [],
   "source": []
  }
 ],
 "metadata": {
  "kernelspec": {
   "display_name": "Julia 0.4.3",
   "language": "julia",
   "name": "julia-0.4"
  },
  "language_info": {
   "file_extension": ".jl",
   "mimetype": "application/julia",
   "name": "julia",
   "version": "0.4.3"
  }
 },
 "nbformat": 4,
 "nbformat_minor": 0
}
