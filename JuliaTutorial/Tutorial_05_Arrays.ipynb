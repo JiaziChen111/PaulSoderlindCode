{
 "cells": [
  {
   "cell_type": "markdown",
   "metadata": {
    "collapsed": true,
    "deletable": true,
    "editable": true
   },
   "source": [
    "# Julia Tutorial"
   ]
  },
  {
   "cell_type": "markdown",
   "metadata": {
    "deletable": true,
    "editable": true
   },
   "source": [
    "## Loading Packages"
   ]
  },
  {
   "cell_type": "code",
   "execution_count": 1,
   "metadata": {
    "collapsed": false,
    "deletable": true,
    "editable": true
   },
   "outputs": [
    {
     "data": {
      "text/plain": [
       "printlnPs (generic function with 1 method)"
      ]
     },
     "execution_count": 1,
     "metadata": {},
     "output_type": "execute_result"
    }
   ],
   "source": [
    "include(\"printmat.jl\")   #just a function for prettier matrix printing"
   ]
  },
  {
   "cell_type": "markdown",
   "metadata": {
    "deletable": true,
    "editable": true
   },
   "source": [
    "# Creating Arrays\n",
    "\n",
    "The typical ways of getting an array are \n",
    "\n",
    "* filling an array with by hardcoding the contents\n",
    "* reading in data from a file\n",
    "* as a result from computations on already existing arrays \n",
    "* you allocate an array and then fill it with its contents\n",
    "* (often not so smart) grow the array by adding rows(colums,...)\n",
    "* by list comprehension\n",
    "\n",
    "The next few cells give simple examples."
   ]
  },
  {
   "cell_type": "markdown",
   "metadata": {
    "collapsed": true,
    "deletable": true,
    "editable": true
   },
   "source": [
    "## 1. Filling an Array by Hardcoding or Reading from a File"
   ]
  },
  {
   "cell_type": "code",
   "execution_count": 2,
   "metadata": {
    "collapsed": false,
    "deletable": true,
    "editable": true
   },
   "outputs": [
    {
     "name": "stdout",
     "output_type": "stream",
     "text": [
      "        11        12\n",
      "        21        22\n",
      "\n",
      "first four lines of x from csv file:\n",
      "197901.000     4.180     0.770    10.960\n",
      "197902.000    -3.410     0.730    -2.090\n",
      "197903.000     5.750     0.810    11.710\n",
      "197904.000     0.050     0.800     3.270\n",
      "\n"
     ]
    }
   ],
   "source": [
    "z = [11 12; 21 22]\n",
    "printmat(z)\n",
    "\n",
    "\n",
    "xx   = readdlm(\"Data/MyData.csv\",',',header=true)      \n",
    "x    = xx[1]                                #xx[1] contains the data\n",
    "println(\"first four lines of x from csv file:\") \n",
    "printmat(x[1:4,:])"
   ]
  },
  {
   "cell_type": "markdown",
   "metadata": {
    "deletable": true,
    "editable": true
   },
   "source": [
    "## 2. Allocating an Array and then Filling It\n",
    "\n",
    "You an allocate an array by eg.\n",
    "```\n",
    "A = Array{Int}(10,2)\n",
    "B = zeros(10,2)\n",
    "C = fill(NaN,(10,2))\n",
    "D = Array{Any}(10)\n",
    "```"
   ]
  },
  {
   "cell_type": "code",
   "execution_count": 3,
   "metadata": {
    "collapsed": false,
    "deletable": true,
    "editable": true
   },
   "outputs": [
    {
     "name": "stdout",
     "output_type": "stream",
     "text": [
      "so far, x is filled with garbage. For instance, x[1,1] is 1.0698527297e-314\n",
      "\n",
      "x after some computations\n",
      "     1.000     0.500\n",
      "     2.000     1.000\n",
      "     3.000     1.500\n",
      "\n"
     ]
    }
   ],
   "source": [
    "x = Array{Float64}(3,2)                     #allocates a 3x2 matrix what can be filled with floats\n",
    "println(\"so far, x is filled with garbage. For instance, x[1,1] is $(x[1,1])\")\n",
    "\n",
    "for i = 1:size(x,1)\n",
    "    for j = 1:size(x,2)\n",
    "        x[i,j] = i/j\n",
    "    end\n",
    "end\n",
    "\n",
    "println(\"\\nx after some computations\")\n",
    "printmat(x)"
   ]
  },
  {
   "cell_type": "code",
   "execution_count": 4,
   "metadata": {
    "collapsed": false,
    "deletable": true,
    "editable": true
   },
   "outputs": [
    {
     "name": "stdout",
     "output_type": "stream",
     "text": [
      "   [1,2,3]\n",
      "Sultans of Swing\n",
      "      1978\n",
      "\n"
     ]
    }
   ],
   "source": [
    "D = Array{Any}(3)            #\"Any\"  arrays can have mixed types as elements\n",
    "D[1] = [1;2;3]\n",
    "D[2] = \"Sultans of Swing\"\n",
    "D[3] = 1978\n",
    "\n",
    "printmat(D)"
   ]
  },
  {
   "cell_type": "markdown",
   "metadata": {
    "deletable": true,
    "editable": true
   },
   "source": [
    "## 3. Growing an Array\n",
    "\n",
    "(only if you must, since this is slow)"
   ]
  },
  {
   "cell_type": "code",
   "execution_count": 5,
   "metadata": {
    "collapsed": false,
    "deletable": true,
    "editable": true
   },
   "outputs": [
    {
     "name": "stdout",
     "output_type": "stream",
     "text": [
      "a 3x2 matrix:\n",
      "        11        12\n",
      "       101       102\n",
      "      1001      1002\n",
      "\n"
     ]
    }
   ],
   "source": [
    "A = Array{Int}(0,2)       #an empty matrix: zero rows and 3 columns\n",
    "\n",
    "for i = 1:3\n",
    "    x_i = [1 2] + 10^i\n",
    "    A   = vcat(A,x_i)         #adding a row at the bottom  \n",
    "end \n",
    "\n",
    "println(\"a 3x2 matrix:\")\n",
    "printmat(A)"
   ]
  },
  {
   "cell_type": "markdown",
   "metadata": {
    "deletable": true,
    "editable": true
   },
   "source": [
    "## 4. List Comprehension\n",
    "\n",
    "sounds fancy, but is a simple way to create arrays from repeated calculations. Similar to a \"for loop.\""
   ]
  },
  {
   "cell_type": "code",
   "execution_count": 6,
   "metadata": {
    "collapsed": false,
    "deletable": true,
    "editable": true
   },
   "outputs": [
    {
     "name": "stdout",
     "output_type": "stream",
     "text": [
      "Compare with the matrix created above\n",
      "        11        12\n",
      "       101       102\n",
      "      1001      1002\n",
      "\n"
     ]
    }
   ],
   "source": [
    "A = [j + 10^i for i =1:3,j=1:2]\n",
    "\n",
    "println(\"Compare with the matrix created above\")\n",
    "printmat(A)"
   ]
  },
  {
   "cell_type": "markdown",
   "metadata": {
    "deletable": true,
    "editable": true
   },
   "source": [
    "# (Elementwise) Functions of Arrays\n",
    "\n",
    "y = fn.(A) will generate an array y where y[i,j] = fn(A[i,j])"
   ]
  },
  {
   "cell_type": "code",
   "execution_count": 7,
   "metadata": {
    "collapsed": false,
    "deletable": true,
    "editable": true
   },
   "outputs": [
    {
     "data": {
      "text/plain": [
       "fn (generic function with 1 method)"
      ]
     },
     "execution_count": 7,
     "metadata": {},
     "output_type": "execute_result"
    }
   ],
   "source": [
    "fn(a) = 1/a"
   ]
  },
  {
   "cell_type": "code",
   "execution_count": 8,
   "metadata": {
    "collapsed": false,
    "deletable": true,
    "editable": true
   },
   "outputs": [
    {
     "name": "stdout",
     "output_type": "stream",
     "text": [
      "     0.091     0.083\n",
      "     0.010     0.010\n",
      "     0.001     0.001\n",
      "\n"
     ]
    }
   ],
   "source": [
    "printmat(fn.(A))     "
   ]
  },
  {
   "cell_type": "markdown",
   "metadata": {
    "deletable": true,
    "editable": true
   },
   "source": [
    "# Basic Linear Algebra"
   ]
  },
  {
   "cell_type": "code",
   "execution_count": 9,
   "metadata": {
    "collapsed": false,
    "deletable": true,
    "editable": true
   },
   "outputs": [
    {
     "name": "stdout",
     "output_type": "stream",
     "text": [
      "A and B\n",
      "        11        12\n",
      "        21        22\n",
      "\n",
      "         1         2\n",
      "         0        10\n",
      "\n"
     ]
    }
   ],
   "source": [
    "A = [11 12;21 22]\n",
    "B = [1 2; 0 10]\n",
    "\n",
    "println(\"A and B\")\n",
    "printmat(A)\n",
    "printmat(B)"
   ]
  },
  {
   "cell_type": "markdown",
   "metadata": {
    "deletable": true,
    "editable": true
   },
   "source": [
    "## Transposing"
   ]
  },
  {
   "cell_type": "code",
   "execution_count": 10,
   "metadata": {
    "collapsed": false,
    "deletable": true,
    "editable": true
   },
   "outputs": [
    {
     "name": "stdout",
     "output_type": "stream",
     "text": [
      "\n",
      "the transpose of A: \n",
      "        11        21\n",
      "        12        22\n",
      "\n"
     ]
    }
   ],
   "source": [
    "println(\"\\n\",\"the transpose of A: \")      #transposing by q'\n",
    "printmat(A')"
   ]
  },
  {
   "cell_type": "markdown",
   "metadata": {
    "deletable": true,
    "editable": true
   },
   "source": [
    "## Adding and Multiplying Matrices"
   ]
  },
  {
   "cell_type": "code",
   "execution_count": 11,
   "metadata": {
    "collapsed": false,
    "deletable": true,
    "editable": true
   },
   "outputs": [
    {
     "name": "stdout",
     "output_type": "stream",
     "text": [
      "\n",
      "A + B\n",
      "        12        14\n",
      "        21        32\n",
      "\n",
      "\n",
      "A.*B\n",
      "        11        24\n",
      "         0       220\n",
      "\n",
      "\n",
      "A'A\n",
      "       562       594\n",
      "       594       628\n"
     ]
    }
   ],
   "source": [
    "println(\"\\n\",\"A + B\")             #matrix addition\n",
    "printmat(A+B)\n",
    "\n",
    "println(\"\\n\",\"A.*B\")              #element-by-element multiplication\n",
    "printmat(A.*B)\n",
    "       \n",
    "println(\"\\n\",\"A'A\") \n",
    "printmat(A'A)"
   ]
  },
  {
   "cell_type": "markdown",
   "metadata": {
    "deletable": true,
    "editable": true
   },
   "source": [
    "## Matrix inverse"
   ]
  },
  {
   "cell_type": "code",
   "execution_count": 12,
   "metadata": {
    "collapsed": false,
    "deletable": true,
    "editable": true
   },
   "outputs": [
    {
     "name": "stdout",
     "output_type": "stream",
     "text": [
      "\n",
      "inv(A)\n",
      "    -2.200     1.200\n",
      "     2.100    -1.100\n",
      "\n",
      "\n",
      "inv(A)*A\n",
      "     1.000     0.000\n",
      "     0.000     1.000\n",
      "\n"
     ]
    }
   ],
   "source": [
    "println(\"\\n\",\"inv(A)\") \n",
    "printmat(inv(A))\n",
    "\n",
    "println(\"\\n\",\"inv(A)*A\") \n",
    "printmat(inv(A)*A)"
   ]
  },
  {
   "cell_type": "markdown",
   "metadata": {
    "deletable": true,
    "editable": true
   },
   "source": [
    "# Reshuffling Matrices"
   ]
  },
  {
   "cell_type": "code",
   "execution_count": 13,
   "metadata": {
    "collapsed": false,
    "deletable": true,
    "editable": true
   },
   "outputs": [
    {
     "data": {
      "text/plain": [
       "2×2 Array{Int64,2}:\n",
       " 11  12\n",
       " 21  22"
      ]
     },
     "execution_count": 13,
     "metadata": {},
     "output_type": "execute_result"
    }
   ],
   "source": [
    "A = [11 12;21 22]"
   ]
  },
  {
   "cell_type": "markdown",
   "metadata": {
    "deletable": true,
    "editable": true
   },
   "source": [
    "## Using Parts of an Array\n",
    "\n",
    "The most common way to use parts of an array is by indexing. For instance, to use the second column of A, do\n",
    "```\n",
    "A[:,2]\n",
    "```\n",
    "\n",
    "Notice that \n",
    "```\n",
    "A[1,:]\n",
    "```\n",
    "gives a (column) vector, while\n",
    "```\n",
    "A[1:1,:]\n",
    "```\n",
    "gives a 1xk matrix."
   ]
  },
  {
   "cell_type": "code",
   "execution_count": 14,
   "metadata": {
    "collapsed": false,
    "deletable": true,
    "editable": true
   },
   "outputs": [
    {
     "name": "stdout",
     "output_type": "stream",
     "text": [
      "\n",
      "second column of A:\n",
      "        12\n",
      "        22\n",
      "\n",
      "\n",
      "first line of A (as a vector): \n",
      "        11\n",
      "        12\n",
      "\n",
      "\n",
      "first line of A: \n",
      "        11        12\n",
      "\n"
     ]
    }
   ],
   "source": [
    "println(\"\\nsecond column of A:\")\n",
    "printmat(A[:,2])\n",
    "\n",
    "println(\"\\n\",\"first line of A (as a vector): \")\n",
    "printmat(A[1,:])                          #notice 1 makes it a vector\n",
    "\n",
    "\n",
    "println(\"\\n\",\"first line of A: \")\n",
    "printmat(A[1:1,:])                        #notice 1:1 to keep it as a row vector"
   ]
  },
  {
   "cell_type": "markdown",
   "metadata": {
    "deletable": true,
    "editable": true
   },
   "source": [
    "### Stacking Matrices (\"Concatenating\")"
   ]
  },
  {
   "cell_type": "code",
   "execution_count": 15,
   "metadata": {
    "collapsed": false,
    "deletable": true,
    "editable": true
   },
   "outputs": [
    {
     "name": "stdout",
     "output_type": "stream",
     "text": [
      "\n",
      "stacking A and A/10 vertically\n",
      "    11.000    12.000\n",
      "    21.000    22.000\n",
      "     1.100     1.200\n",
      "     2.100     2.200\n",
      "\n",
      "\n",
      "stacking A and A/10 horizontally\n",
      "    11.000    12.000     1.100     1.200\n",
      "    21.000    22.000     2.100     2.200\n",
      "\n"
     ]
    }
   ],
   "source": [
    "z = [A;A/10]                       \n",
    "println(\"\\n\",\"stacking A and A/10 vertically\")  \n",
    "printmat(z)\n",
    "\n",
    "z2 = [A A/10]                 #stacking q and q/10 horizontally\n",
    "println(\"\\n\",\"stacking A and A/10 horizontally\")  \n",
    "printmat(z2) "
   ]
  },
  {
   "cell_type": "markdown",
   "metadata": {
    "deletable": true,
    "editable": true
   },
   "source": [
    "## Splitting up an Array\n",
    "\n",
    "sometimes you want to assign separate names to the columns (or rows) in a matrix"
   ]
  },
  {
   "cell_type": "code",
   "execution_count": 16,
   "metadata": {
    "collapsed": false,
    "deletable": true,
    "editable": true
   },
   "outputs": [
    {
     "name": "stdout",
     "output_type": "stream",
     "text": [
      "A simple way...which works well when you want to create a few variables\n",
      "        12\n",
      "        22\n",
      "\n",
      "Another, prettier way\n",
      "        12\n",
      "        22\n",
      "\n"
     ]
    }
   ],
   "source": [
    "println(\"A simple way...which works well when you want to create a few variables\")\n",
    "x1 = A[:,1]                    \n",
    "x2 = A[:,2]\n",
    "printmat(x2)\n",
    "\n",
    "println(\"Another, prettier way\")\n",
    "(z1,z2) = [A[:,i] for i = 1:2]    \n",
    "printmat(z2)"
   ]
  },
  {
   "cell_type": "markdown",
   "metadata": {
    "deletable": true,
    "editable": true
   },
   "source": [
    "## A View into an Array\n",
    "\n",
    "Creating new variables (as in \"Splitting up\") can be slow and a waste of memory. Instead, you may create a view into the array and give it a name."
   ]
  },
  {
   "cell_type": "code",
   "execution_count": 17,
   "metadata": {
    "collapsed": false,
    "deletable": true,
    "editable": true
   },
   "outputs": [
    {
     "name": "stdout",
     "output_type": "stream",
     "text": [
      "A[:,2] but with a separate name:\n",
      "        12\n",
      "        22\n",
      "\n"
     ]
    }
   ],
   "source": [
    "y2 = view(A,:,2)\n",
    "\n",
    "println(\"A[:,2] but with a separate name:\")\n",
    "printmat(y2)"
   ]
  },
  {
   "cell_type": "markdown",
   "metadata": {
    "deletable": true,
    "editable": true
   },
   "source": [
    "# Arrays vs. Vectors vs. Scalars\n",
    "\n",
    "Matrices, vectors and scalars are different things, even if they contain the same number of elements. In particular,\n",
    "\n",
    "(a) an nx1 matrix is not the same as an n vector\n",
    "\n",
    "(b) a 1x1 matrix is not the same as a scalar"
   ]
  },
  {
   "cell_type": "code",
   "execution_count": 18,
   "metadata": {
    "collapsed": false,
    "deletable": true,
    "editable": true
   },
   "outputs": [
    {
     "name": "stdout",
     "output_type": "stream",
     "text": [
      "The sizes of matrix A and vector B: (3,1) (3,)\n",
      "Testing if A==B: false\n",
      "\n",
      "The matrix A and vector B can often be used together, for instance, as in A+B, whose size is (3,1)\n",
      "     2.000\n",
      "     2.000\n",
      "     2.000\n",
      "\n"
     ]
    }
   ],
   "source": [
    "A = ones(3,1)\n",
    "B = ones(3)\n",
    "\n",
    "println(\"The sizes of matrix A and vector B: $(size(A)) $(size(B))\")\n",
    "println(\"Testing if A==B: \",isequal(A,B))\n",
    "\n",
    "println(\"\\nThe matrix A and vector B can often be used together, for instance, as in A+B, whose size is \",size(A+B))\n",
    "printmat(A+B)"
   ]
  },
  {
   "cell_type": "code",
   "execution_count": 19,
   "metadata": {
    "collapsed": false,
    "deletable": true,
    "editable": true
   },
   "outputs": [
    {
     "name": "stdout",
     "output_type": "stream",
     "text": [
      "\n",
      "c/C gives an error since C is a (1x1) matrix\n"
     ]
    }
   ],
   "source": [
    "C = ones(1,1)\n",
    "c = 1\n",
    "\n",
    "try\n",
    "    println(c/C)\n",
    "catch    \n",
    "    println(\"\\nc/C gives an error since C is a (1x1) matrix\")\n",
    "end"
   ]
  },
  {
   "cell_type": "markdown",
   "metadata": {
    "deletable": true,
    "editable": true
   },
   "source": [
    "# (extra) Arrays are Different...\n",
    "\n",
    "Vectors and matrices (arrays) can take lots of memory space, so **Julia is designed to avoid unnecessary copies of arrays**.\n",
    "\n",
    "Hint: read the sub-headings below. If they seem obvious, skip the code. Otherwise, read it all."
   ]
  },
  {
   "cell_type": "markdown",
   "metadata": {
    "deletable": true,
    "editable": true
   },
   "source": [
    "## Issue 1. B = A Creates Two Names of the Same Array\n",
    "\n",
    "If A is an array, then\n",
    "```\n",
    "B = A\n",
    "```\n",
    "creates two names of the *same* matrix. If you later change A, then B is changed automatically. (Similarly, if you change B, then A is changed automatically.)"
   ]
  },
  {
   "cell_type": "code",
   "execution_count": 20,
   "metadata": {
    "collapsed": false,
    "deletable": true,
    "editable": true
   },
   "outputs": [
    {
     "name": "stdout",
     "output_type": "stream",
     "text": [
      "\n",
      "old A,B,C: \n",
      "         1         1         1\n",
      "         2         2         2\n",
      "\n",
      "after changing element A[2] to -999\n",
      "         1         1         1\n",
      "      -999      -999         2\n",
      "\n",
      "\u001b[1m\u001b[34m\n",
      "Notice that B changed, but C did not\n",
      "\u001b[0m"
     ]
    }
   ],
   "source": [
    "A = [1;2]\n",
    "B = A                                 #A and B are the same\n",
    "C = A + 0                             #A and C are not the same\n",
    "println()\n",
    "println(\"old A,B,C: \")\n",
    "printmat([A B C])\n",
    "\n",
    "A[2] = -999\n",
    "println(\"after changing element A[2] to -999\")\n",
    "printmat([A B C])\n",
    "\n",
    "print_with_color(:blue,\"\\nNotice that B changed, but C did not\\n\")"
   ]
  },
  {
   "cell_type": "markdown",
   "metadata": {
    "deletable": true,
    "editable": true
   },
   "source": [
    "## Issue 2. A Reshaped Array still Refers to the Original Array\n",
    "\n",
    "If you create a reshaped array by either \n",
    "```\n",
    "B = reshape(A,n,m)\n",
    "C = vec(A)\n",
    "D = A'  (in Julia 0.6, at least for vectors)\n",
    "```\n",
    "then A,B,C,D contain the same values. Changing one changes the others automatically."
   ]
  },
  {
   "cell_type": "code",
   "execution_count": 21,
   "metadata": {
    "collapsed": false,
    "deletable": true,
    "editable": true
   },
   "outputs": [
    {
     "name": "stdout",
     "output_type": "stream",
     "text": [
      "original A: \n",
      "         1         2\n",
      "\n",
      "old B,C: \n",
      "         1         1\n",
      "         2         2\n",
      "\n",
      "after changing element A[2] to -999\n",
      "         1         1\n",
      "      -999      -999\n",
      "\n",
      "\u001b[1m\u001b[34m\n",
      "Notice that B and C also changed\n",
      "\u001b[0m"
     ]
    }
   ],
   "source": [
    "A = [1 2]\n",
    "println(\"original A: \")\n",
    "printmat(A)\n",
    "\n",
    "B = reshape(A,2,1)\n",
    "C = vec(A)\n",
    "\n",
    "println(\"old B,C: \")\n",
    "printmat([B C])\n",
    "\n",
    "A[2] = -999\n",
    "println(\"after changing element A[2] to -999\")\n",
    "printmat([B C])\n",
    "\n",
    "print_with_color(:blue,\"\\nNotice that B and C also changed\\n\")"
   ]
  },
  {
   "cell_type": "markdown",
   "metadata": {
    "collapsed": true,
    "deletable": true,
    "editable": true
   },
   "source": [
    "## Issue 3. Changing an Array Inside a Function Can Have Effects *Outside* the Function"
   ]
  },
  {
   "cell_type": "markdown",
   "metadata": {
    "collapsed": false,
    "deletable": true,
    "editable": true
   },
   "source": [
    "When you use an array as a function argument, then that is passed as a reference to the function. \n",
    "\n",
    "This means that if you change some elements of the array (A[1] = A[1]/2, say) inside the function, then it will also affect the array outside the function (even if they have different names). \n",
    "\n",
    "In contrast, if you change the entire array (A/2, say) inside the function, then that does not affect the array outside the function.\n",
    "\n",
    "This applies to arrays, but not to scalars or strings.\n",
    "\n",
    "If you really need an independent copy of an array, create it by \n",
    "```\n",
    "B = deepcopy(A)\n",
    "```"
   ]
  },
  {
   "cell_type": "code",
   "execution_count": 22,
   "metadata": {
    "collapsed": false,
    "deletable": true,
    "editable": true
   },
   "outputs": [
    {
     "name": "stdout",
     "output_type": "stream",
     "text": [
      "original x:      1.000     2.000\n",
      "x (outside function) after calling f1(x):      0.500     2.000\n",
      "\n",
      "original x:      1.000     2.000\n",
      "x (outside function) after calling f2(x):      1.000     2.000\n",
      "\u001b[1m\u001b[34m\n",
      "Notice that f1() changed x also outside the function, but f2() did not\n",
      "\u001b[0m"
     ]
    }
   ],
   "source": [
    "function f1(A)\n",
    "    A[1] = A[1]/2          #changes ELEMENTS of A, affects outside value\n",
    "  return A\n",
    "end\n",
    "function f2(A)\n",
    "    A = A/2                #changes all of A, does not affect outside value\n",
    "  return A\n",
    "end\n",
    "\n",
    "x  = [1.0 2.0]\n",
    "printlnPs(\"original x: \",x)\n",
    "\n",
    "y1 = f1(x)\n",
    "printlnPs(\"x (outside function) after calling f1(x): \",x)\n",
    "\n",
    "x  = [1.0 2.0]\n",
    "printlnPs(\"\\noriginal x: \",x)\n",
    "\n",
    "y2 = f2(x)\n",
    "printlnPs(\"x (outside function) after calling f2(x): \",x)\n",
    "\n",
    "print_with_color(:blue,\"\\nNotice that f1() changed x also outside the function, but f2() did not\\n\")"
   ]
  },
  {
   "cell_type": "code",
   "execution_count": 23,
   "metadata": {
    "collapsed": false,
    "deletable": true,
    "editable": true
   },
   "outputs": [
    {
     "name": "stdout",
     "output_type": "stream",
     "text": [
      "original x:      1.000     2.000\n",
      "x (outside function) after calling f3(x):      1.000     2.000\n",
      "\u001b[1m\u001b[34m\n",
      "Notice that f3() did not change x outside the function\n",
      "\u001b[0m"
     ]
    }
   ],
   "source": [
    "function f3(A)\n",
    "    B    = deepcopy(A)                #B is an independent copy\n",
    "    B[1] = B[1]/2          \n",
    "  return B\n",
    "end\n",
    "\n",
    "x  = [1.0 2.0]\n",
    "printlnPs(\"original x: \",x)\n",
    "\n",
    "y1 = f3(x)\n",
    "printlnPs(\"x (outside function) after calling f3(x): \",x)\n",
    "\n",
    "print_with_color(:blue,\"\\nNotice that f3() did not change x outside the function\\n\")"
   ]
  },
  {
   "cell_type": "code",
   "execution_count": null,
   "metadata": {
    "collapsed": true,
    "deletable": true,
    "editable": true
   },
   "outputs": [],
   "source": []
  }
 ],
 "metadata": {
  "anaconda-cloud": {},
  "kernelspec": {
   "display_name": "Julia 0.5.1",
   "language": "julia",
   "name": "julia-0.5"
  },
  "language_info": {
   "file_extension": ".jl",
   "mimetype": "application/julia",
   "name": "julia",
   "version": "0.5.1"
  }
 },
 "nbformat": 4,
 "nbformat_minor": 0
}
