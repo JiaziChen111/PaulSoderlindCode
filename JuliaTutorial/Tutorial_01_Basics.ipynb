{
 "cells": [
  {
   "cell_type": "markdown",
   "metadata": {
    "collapsed": true,
    "deletable": true,
    "editable": true
   },
   "source": [
    "# Basic Julia Tutorial"
   ]
  },
  {
   "cell_type": "markdown",
   "metadata": {
    "deletable": true,
    "editable": true
   },
   "source": [
    "## Loading Packages"
   ]
  },
  {
   "cell_type": "code",
   "execution_count": 1,
   "metadata": {
    "collapsed": false,
    "deletable": true,
    "editable": true
   },
   "outputs": [
    {
     "data": {
      "text/plain": [
       "printlnPs (generic function with 1 method)"
      ]
     },
     "execution_count": 1,
     "metadata": {},
     "output_type": "execute_result"
    }
   ],
   "source": [
    "include(\"printmat.jl\")   #just a function for prettier matrix printing"
   ]
  },
  {
   "cell_type": "code",
   "execution_count": 2,
   "metadata": {
    "collapsed": true,
    "deletable": true,
    "editable": true
   },
   "outputs": [],
   "source": [
    "using Plots\n",
    "\n",
    "backend = \"gr\"              #\"gr\" (default), \"pyplot\" \n",
    "\n",
    "if backend == \"pyplot\"\n",
    "    pyplot(size=(600,400))\n",
    "    default(show=false)               #for pyplot: avoids pop-ups\n",
    "else    \n",
    "    gr(size=(600,400))\n",
    "    default(show=true)\n",
    "end"
   ]
  },
  {
   "cell_type": "markdown",
   "metadata": {
    "deletable": true,
    "editable": true
   },
   "source": [
    "# Scalars and Matrices"
   ]
  },
  {
   "cell_type": "markdown",
   "metadata": {
    "deletable": true,
    "editable": true
   },
   "source": [
    "### Create a Matrix and a Scalar"
   ]
  },
  {
   "cell_type": "code",
   "execution_count": 3,
   "metadata": {
    "collapsed": false,
    "deletable": true,
    "editable": true
   },
   "outputs": [
    {
     "name": "stdout",
     "output_type": "stream",
     "text": [
      "\n",
      "q is a scalar. To print, use println() or printlnPs()\n",
      "1\n",
      "\n",
      "Q is a matrix. To print, use display() or printmat()\n",
      "         1         2         3\n",
      "         4         5         6\n",
      "\n"
     ]
    }
   ],
   "source": [
    "q = 1                             #create a scalar\n",
    "Q = [ 1 2 3;                      #create 2x3 matrix\n",
    "      4 5 6 ] \n",
    "println(\"\\n\",\"q is a scalar. To print, use println() or printlnPs()\")    #\"\\n\" creates a line break\n",
    "println(q)  \n",
    "\n",
    "println(\"\\nQ is a matrix. To print, use display() or printmat()\") \n",
    "printmat(Q)                       #case sensitive (q and Q are different)"
   ]
  },
  {
   "cell_type": "markdown",
   "metadata": {
    "deletable": true,
    "editable": true
   },
   "source": [
    "### Picking Out Parts of a Matrix"
   ]
  },
  {
   "cell_type": "code",
   "execution_count": 4,
   "metadata": {
    "collapsed": false,
    "deletable": true,
    "editable": true
   },
   "outputs": [
    {
     "name": "stdout",
     "output_type": "stream",
     "text": [
      "\n",
      "element [1,2] of Q: 2\n",
      "\n",
      "columns 2 and 3 of Q: \n",
      "         2         3\n",
      "         5         6\n",
      "\n"
     ]
    }
   ],
   "source": [
    "println(\"\\n\",\"element [1,2] of Q: \",Q[1,2])\n",
    "\n",
    "println(\"\\ncolumns 2 and 3 of Q: \")\n",
    "printmat(Q[:,2:3])"
   ]
  },
  {
   "cell_type": "markdown",
   "metadata": {
    "deletable": true,
    "editable": true
   },
   "source": [
    "### Basic Linear Algebra"
   ]
  },
  {
   "cell_type": "code",
   "execution_count": 5,
   "metadata": {
    "collapsed": false,
    "deletable": true,
    "editable": true
   },
   "outputs": [
    {
     "name": "stdout",
     "output_type": "stream",
     "text": [
      "transpose of Q:\n",
      "         1         4\n",
      "         2         5\n",
      "         3         6\n",
      "\n",
      "Q'Q:\n",
      "        17        22        27\n",
      "        22        29        36\n",
      "        27        36        45\n",
      "\n",
      "determinant of Q'Q:\n",
      "    -0.000\n",
      "\n"
     ]
    }
   ],
   "source": [
    "println(\"transpose of Q:\")\n",
    "printmat(Q')\n",
    "\n",
    "println(\"Q'Q:\")\n",
    "printmat(Q'Q)\n",
    "\n",
    "println(\"determinant of Q'Q:\")\n",
    "printmat(det(Q'Q))"
   ]
  },
  {
   "cell_type": "markdown",
   "metadata": {
    "deletable": true,
    "editable": true
   },
   "source": [
    "### Creating a Sequence and a Vector"
   ]
  },
  {
   "cell_type": "code",
   "execution_count": 6,
   "metadata": {
    "collapsed": false,
    "deletable": true,
    "editable": true
   },
   "outputs": [
    {
     "name": "stdout",
     "output_type": "stream",
     "text": [
      "\n",
      "the sequence: 1:10:21\n",
      "\n",
      "p is a vector with a sequence starting at 1 ending in 21: \n",
      "         1\n",
      "        11\n",
      "        21\n",
      "\n"
     ]
    }
   ],
   "source": [
    "pSeq = 1:10:21                  #a sequence        \n",
    "p    = collect(pSeq)            #a vector\n",
    "println(\"\\n\",\"the sequence: \", pSeq)\n",
    "\n",
    "println(\"\\n\",\"p is a vector with a sequence starting at 1 ending in 21: \")\n",
    "printmat(p)"
   ]
  },
  {
   "cell_type": "markdown",
   "metadata": {
    "deletable": true,
    "editable": true
   },
   "source": [
    "# Comparing Things"
   ]
  },
  {
   "cell_type": "code",
   "execution_count": 7,
   "metadata": {
    "collapsed": false,
    "deletable": true,
    "editable": true
   },
   "outputs": [
    {
     "name": "stdout",
     "output_type": "stream",
     "text": [
      "x values: \n",
      "    -1.500\n",
      "    -1.000\n",
      "    -0.500\n",
      "     0.000\n",
      "     0.500\n",
      "\n",
      "true if x is in (-1,0]: \n",
      "     false\n",
      "     false\n",
      "      true\n",
      "      true\n",
      "     false\n",
      "\n",
      "x values that are in (-1,0]: \n",
      "    -0.500\n",
      "     0.000\n",
      "\n"
     ]
    }
   ],
   "source": [
    "x =  [-1.5;-1.0;-0.5;0;0.5]\n",
    "\n",
    "println(\"x values: \")\n",
    "printmat(x)\n",
    "\n",
    "vv = -1 .< x .<= 0                      #true for x values (-1,0], boolean\n",
    "println(\"true if x is in (-1,0]: \")\n",
    "printmat(vv)\n",
    "\n",
    "x2 = x[vv]\n",
    "println(\"x values that are in (-1,0]: \")\n",
    "printmat(x2)"
   ]
  },
  {
   "cell_type": "markdown",
   "metadata": {
    "deletable": true,
    "editable": true
   },
   "source": [
    "# Loops"
   ]
  },
  {
   "cell_type": "markdown",
   "metadata": {
    "deletable": true,
    "editable": true
   },
   "source": [
    "### A Simple Loop"
   ]
  },
  {
   "cell_type": "code",
   "execution_count": 8,
   "metadata": {
    "collapsed": false,
    "deletable": true,
    "editable": true
   },
   "outputs": [
    {
     "name": "stdout",
     "output_type": "stream",
     "text": [
      "iteration 1 and x value 1\n",
      "iteration 2 and x value 3\n",
      "iteration 3 and x value 6\n",
      "iteration 4 and x value 10\n",
      "iteration 5 and x value 15\n",
      "iteration 6 and x value 21\n",
      "iteration 7 and x value 28\n",
      "iteration 8 and x value 36\n",
      "iteration 9 and x value 45\n",
      "iteration 10 and x value 55\n"
     ]
    }
   ],
   "source": [
    "i = 1 \n",
    "x = 0 \n",
    "while i <= 10\n",
    "  x = x + i \n",
    "    println(\"iteration $i and x value $x\")         #using $x prints the value of x\n",
    "  i = i + 1 \n",
    "end"
   ]
  },
  {
   "cell_type": "markdown",
   "metadata": {
    "deletable": true,
    "editable": true
   },
   "source": [
    "### A Double Loop"
   ]
  },
  {
   "cell_type": "code",
   "execution_count": 9,
   "metadata": {
    "collapsed": false,
    "deletable": true,
    "editable": true
   },
   "outputs": [
    {
     "name": "stdout",
     "output_type": "stream",
     "text": [
      "Pick out elements on and below diagonal from a square matrix x\n",
      "\n",
      "original matrix: \n",
      "         1         4         7\n",
      "         2         5         8\n",
      "         3         6         9\n",
      "\n",
      "vech of the matrix (stack elements on and below diagonal): \n",
      "         1\n",
      "         2\n",
      "         3\n",
      "         5\n",
      "         6\n",
      "         9\n",
      "\n"
     ]
    }
   ],
   "source": [
    "println(\"Pick out elements on and below diagonal from a square matrix x\")\n",
    "\n",
    "x = reshape(1:9,3,3)              #generate square matrix\n",
    "(m,n) = size(x,1,2)               #find no. rows and columns\n",
    "println(\"\\n\",\"original matrix: \")\n",
    "printmat(x)\n",
    "\n",
    "nRows = round(Int,n*(n+1)/2)      #must be an integer, so use round()\n",
    "v = fill(-999,(nRows,1))          #to put results in, initialized as -999\n",
    "k = 1                             #fill(value,integer,integer) so must convert\n",
    "for j = 1:n                       #loop over columns in x\n",
    "  for i = j:n                     #loop over rows on and below diagonal\n",
    "    v[k] = x[i,j] \n",
    "    k = k + 1                     #update index in v\n",
    "  end\n",
    "end\n",
    "println(\"vech of the matrix (stack elements on and below diagonal): \") \n",
    "printmat(v)"
   ]
  },
  {
   "cell_type": "markdown",
   "metadata": {
    "deletable": true,
    "editable": true
   },
   "source": [
    "# A Simple Function"
   ]
  },
  {
   "cell_type": "code",
   "execution_count": 10,
   "metadata": {
    "collapsed": false,
    "deletable": true,
    "editable": true
   },
   "outputs": [
    {
     "name": "stdout",
     "output_type": "stream",
     "text": [
      "result from the function fn1(x): \n",
      "    -0.490\n",
      "    -0.340\n",
      "\n"
     ]
    }
   ],
   "source": [
    "function fn1(x)\n",
    "  y = (x-1.1)^2 - 0.5                \n",
    "  return y\n",
    "end  \n",
    "\n",
    "x = [1;1.5] \n",
    "y = fn1.(x)                   #calling on the function, dot to broadcast over input\n",
    "printlnPs(\"result from the function fn1(x): \")\n",
    "printmat(y)"
   ]
  },
  {
   "cell_type": "markdown",
   "metadata": {
    "deletable": true,
    "editable": true
   },
   "source": [
    "# A First Plot"
   ]
  },
  {
   "cell_type": "code",
   "execution_count": 11,
   "metadata": {
    "collapsed": false,
    "deletable": true,
    "editable": true
   },
   "outputs": [
    {
     "data": {
      "text/html": [
       "<?xml version=\"1.0\" encoding=\"utf-8\"?>\n",
       "<svg xmlns=\"http://www.w3.org/2000/svg\" xmlns:xlink=\"http://www.w3.org/1999/xlink\" width=\"600\" height=\"400\" viewBox=\"0 0 600 400\">\n",
       "<defs>\n",
       "  <clipPath id=\"clip00\">\n",
       "    <rect x=\"0\" y=\"0\" width=\"600\" height=\"400\"/>\n",
       "  </clipPath>\n",
       "</defs>\n",
       "<polygon clip-path=\"url(#clip00)\" points=\"\n",
       "0,400 600,400 600,0 0,0 \n",
       "  \" fill=\"#ffffff\" fill-opacity=\"1\"/>\n",
       "<defs>\n",
       "  <clipPath id=\"clip01\">\n",
       "    <rect x=\"120\" y=\"0\" width=\"421\" height=\"400\"/>\n",
       "  </clipPath>\n",
       "</defs>\n",
       "<polygon clip-path=\"url(#clip00)\" points=\"\n",
       "36.9926,369.674 596.063,369.674 596.063,23.3815 36.9926,23.3815 \n",
       "  \" fill=\"#ffffff\" fill-opacity=\"1\"/>\n",
       "<defs>\n",
       "  <clipPath id=\"clip02\">\n",
       "    <rect x=\"36\" y=\"23\" width=\"560\" height=\"347\"/>\n",
       "  </clipPath>\n",
       "</defs>\n",
       "<polyline clip-path=\"url(#clip02)\" style=\"stroke:#00002d; stroke-width:0.8; stroke-opacity:0.5; fill:none\" stroke-dasharray=\"1, 2\" points=\"\n",
       "  99.3214,364.48 99.3214,28.5758 \n",
       "  \"/>\n",
       "<polyline clip-path=\"url(#clip02)\" style=\"stroke:#00002d; stroke-width:0.8; stroke-opacity:0.5; fill:none\" stroke-dasharray=\"1, 2\" points=\"\n",
       "  223.979,364.48 223.979,28.5758 \n",
       "  \"/>\n",
       "<polyline clip-path=\"url(#clip02)\" style=\"stroke:#00002d; stroke-width:0.8; stroke-opacity:0.5; fill:none\" stroke-dasharray=\"1, 2\" points=\"\n",
       "  348.637,364.48 348.637,28.5758 \n",
       "  \"/>\n",
       "<polyline clip-path=\"url(#clip02)\" style=\"stroke:#00002d; stroke-width:0.8; stroke-opacity:0.5; fill:none\" stroke-dasharray=\"1, 2\" points=\"\n",
       "  473.294,364.48 473.294,28.5758 \n",
       "  \"/>\n",
       "<polyline clip-path=\"url(#clip02)\" style=\"stroke:#00002d; stroke-width:0.8; stroke-opacity:0.5; fill:none\" stroke-dasharray=\"1, 2\" points=\"\n",
       "  45.3786,355.376 587.677,355.376 \n",
       "  \"/>\n",
       "<polyline clip-path=\"url(#clip02)\" style=\"stroke:#00002d; stroke-width:0.8; stroke-opacity:0.5; fill:none\" stroke-dasharray=\"1, 2\" points=\"\n",
       "  45.3786,212.361 587.677,212.361 \n",
       "  \"/>\n",
       "<polyline clip-path=\"url(#clip02)\" style=\"stroke:#00002d; stroke-width:0.8; stroke-opacity:0.5; fill:none\" stroke-dasharray=\"1, 2\" points=\"\n",
       "  45.3786,69.3457 587.677,69.3457 \n",
       "  \"/>\n",
       "<polyline clip-path=\"url(#clip02)\" style=\"stroke:#00002d; stroke-width:0.8; stroke-opacity:1; fill:none\" points=\"\n",
       "  36.9926,369.674 596.063,369.674 \n",
       "  \"/>\n",
       "<polyline clip-path=\"url(#clip02)\" style=\"stroke:#00002d; stroke-width:0.8; stroke-opacity:1; fill:none\" points=\"\n",
       "  99.3214,369.674 99.3214,364.48 \n",
       "  \"/>\n",
       "<polyline clip-path=\"url(#clip02)\" style=\"stroke:#00002d; stroke-width:0.8; stroke-opacity:1; fill:none\" points=\"\n",
       "  223.979,369.674 223.979,364.48 \n",
       "  \"/>\n",
       "<polyline clip-path=\"url(#clip02)\" style=\"stroke:#00002d; stroke-width:0.8; stroke-opacity:1; fill:none\" points=\"\n",
       "  348.637,369.674 348.637,364.48 \n",
       "  \"/>\n",
       "<polyline clip-path=\"url(#clip02)\" style=\"stroke:#00002d; stroke-width:0.8; stroke-opacity:1; fill:none\" points=\"\n",
       "  473.294,369.674 473.294,364.48 \n",
       "  \"/>\n",
       "<polyline clip-path=\"url(#clip02)\" style=\"stroke:#00002d; stroke-width:0.8; stroke-opacity:1; fill:none\" points=\"\n",
       "  36.9926,369.674 36.9926,23.3815 \n",
       "  \"/>\n",
       "<polyline clip-path=\"url(#clip02)\" style=\"stroke:#00002d; stroke-width:0.8; stroke-opacity:1; fill:none\" points=\"\n",
       "  36.9926,355.376 45.3786,355.376 \n",
       "  \"/>\n",
       "<polyline clip-path=\"url(#clip02)\" style=\"stroke:#00002d; stroke-width:0.8; stroke-opacity:1; fill:none\" points=\"\n",
       "  36.9926,212.361 45.3786,212.361 \n",
       "  \"/>\n",
       "<polyline clip-path=\"url(#clip02)\" style=\"stroke:#00002d; stroke-width:0.8; stroke-opacity:1; fill:none\" points=\"\n",
       "  36.9926,69.3457 45.3786,69.3457 \n",
       "  \"/>\n",
       "<g clip-path=\"url(#clip00)\">\n",
       "<text style=\"fill:#00002d; fill-opacity:1; font-family:Arial,Helvetica Neue,Helvetica,sans-serif; font-size:12; text-anchor:middle;\" transform=\"rotate(0, 99.3214, 381.674)\" x=\"99.3214\" y=\"381.674\">-2</text>\n",
       "</g>\n",
       "<g clip-path=\"url(#clip00)\">\n",
       "<text style=\"fill:#00002d; fill-opacity:1; font-family:Arial,Helvetica Neue,Helvetica,sans-serif; font-size:12; text-anchor:middle;\" transform=\"rotate(0, 223.979, 381.674)\" x=\"223.979\" y=\"381.674\">0</text>\n",
       "</g>\n",
       "<g clip-path=\"url(#clip00)\">\n",
       "<text style=\"fill:#00002d; fill-opacity:1; font-family:Arial,Helvetica Neue,Helvetica,sans-serif; font-size:12; text-anchor:middle;\" transform=\"rotate(0, 348.637, 381.674)\" x=\"348.637\" y=\"381.674\">2</text>\n",
       "</g>\n",
       "<g clip-path=\"url(#clip00)\">\n",
       "<text style=\"fill:#00002d; fill-opacity:1; font-family:Arial,Helvetica Neue,Helvetica,sans-serif; font-size:12; text-anchor:middle;\" transform=\"rotate(0, 473.294, 381.674)\" x=\"473.294\" y=\"381.674\">4</text>\n",
       "</g>\n",
       "<g clip-path=\"url(#clip00)\">\n",
       "<text style=\"fill:#00002d; fill-opacity:1; font-family:Arial,Helvetica Neue,Helvetica,sans-serif; font-size:12; text-anchor:end;\" transform=\"rotate(0, 35.7926, 359.876)\" x=\"35.7926\" y=\"359.876\">0</text>\n",
       "</g>\n",
       "<g clip-path=\"url(#clip00)\">\n",
       "<text style=\"fill:#00002d; fill-opacity:1; font-family:Arial,Helvetica Neue,Helvetica,sans-serif; font-size:12; text-anchor:end;\" transform=\"rotate(0, 35.7926, 216.861)\" x=\"35.7926\" y=\"216.861\">10</text>\n",
       "</g>\n",
       "<g clip-path=\"url(#clip00)\">\n",
       "<text style=\"fill:#00002d; fill-opacity:1; font-family:Arial,Helvetica Neue,Helvetica,sans-serif; font-size:12; text-anchor:end;\" transform=\"rotate(0, 35.7926, 73.8457)\" x=\"35.7926\" y=\"73.8457\">20</text>\n",
       "</g>\n",
       "<g clip-path=\"url(#clip00)\">\n",
       "<text style=\"fill:#00002d; fill-opacity:1; font-family:Arial,Helvetica Neue,Helvetica,sans-serif; font-size:21; text-anchor:middle;\" transform=\"rotate(0, 316.528, 18)\" x=\"316.528\" y=\"18\">My Results</text>\n",
       "</g>\n",
       "<g clip-path=\"url(#clip00)\">\n",
       "<text style=\"fill:#00002d; fill-opacity:1; font-family:Arial,Helvetica Neue,Helvetica,sans-serif; font-size:16; text-anchor:middle;\" transform=\"rotate(0, 316.528, 397.6)\" x=\"316.528\" y=\"397.6\">x</text>\n",
       "</g>\n",
       "<g clip-path=\"url(#clip00)\">\n",
       "<text style=\"fill:#00002d; fill-opacity:1; font-family:Arial,Helvetica Neue,Helvetica,sans-serif; font-size:16; text-anchor:middle;\" transform=\"rotate(-90, 14.4, 196.528)\" x=\"14.4\" y=\"196.528\">my output value</text>\n",
       "</g>\n",
       "<polyline clip-path=\"url(#clip02)\" style=\"stroke:#ff0000; stroke-width:1.6; stroke-opacity:1; fill:none\" points=\"\n",
       "  36.9926,122.118 40.7701,129.173 44.5476,136.123 48.3251,142.968 52.1026,149.707 55.8801,156.342 59.6576,162.872 63.4351,169.296 67.2126,175.616 70.9901,181.83 \n",
       "  74.7676,187.939 78.5451,193.944 82.3226,199.843 86.1001,205.637 89.8776,211.326 93.6551,216.91 97.4326,222.389 101.21,227.763 104.988,233.032 108.765,238.195 \n",
       "  112.543,243.254 116.32,248.208 120.098,253.056 123.875,257.8 127.653,262.438 131.43,266.972 135.208,271.4 138.985,275.723 142.763,279.942 146.54,284.055 \n",
       "  150.318,288.063 154.095,291.966 157.873,295.764 161.65,299.457 165.428,303.045 169.205,306.527 172.983,309.905 176.76,313.178 180.538,316.345 184.315,319.408 \n",
       "  188.093,322.365 191.87,325.218 195.648,327.965 199.425,330.607 203.203,333.145 206.98,335.577 210.758,337.904 214.535,340.126 218.313,342.243 222.09,344.255 \n",
       "  225.868,346.162 229.645,347.964 233.423,349.66 237.2,351.252 240.978,352.739 244.755,354.12 248.533,355.397 252.31,356.568 256.088,357.635 259.865,358.596 \n",
       "  263.643,359.452 267.42,360.203 271.198,360.849 274.975,361.39 278.753,361.826 282.53,362.157 286.308,362.383 290.085,362.504 293.863,362.52 297.64,362.431 \n",
       "  301.418,362.236 305.195,361.937 308.973,361.532 312.75,361.023 316.528,360.408 320.305,359.688 324.083,358.864 327.86,357.934 331.638,356.899 335.415,355.759 \n",
       "  339.193,354.514 342.97,353.164 346.748,351.709 350.525,350.149 354.303,348.484 358.08,346.713 361.858,344.838 365.635,342.858 369.413,340.772 373.19,338.582 \n",
       "  376.968,336.286 380.745,333.885 384.523,331.38 388.3,328.769 392.078,326.053 395.855,323.232 399.633,320.306 403.41,317.275 407.188,314.139 410.965,310.898 \n",
       "  414.743,307.552 418.52,304.1 422.298,300.544 426.075,296.883 429.853,293.116 433.63,289.245 437.408,285.268 441.185,281.187 444.963,277 448.74,272.708 \n",
       "  452.518,268.311 456.295,263.809 460.073,259.202 463.85,254.49 467.628,249.673 471.405,244.751 475.183,239.724 478.96,234.592 482.738,229.354 486.515,224.012 \n",
       "  490.293,218.565 494.07,213.012 497.848,207.355 501.625,201.592 505.403,195.724 509.18,189.752 512.958,183.674 516.735,177.491 520.513,171.203 524.29,164.81 \n",
       "  528.068,158.312 531.845,151.709 535.623,145.001 539.4,138.187 543.178,131.269 546.955,124.246 550.733,117.117 554.51,109.884 558.288,102.545 562.065,95.1017 \n",
       "  565.843,87.553 569.62,79.8993 573.398,72.1405 577.175,64.2766 580.953,56.3077 584.73,48.2337 588.508,40.0547 592.285,31.7706 596.063,23.3815 \n",
       "  \"/>\n",
       "<polyline clip-path=\"url(#clip02)\" style=\"stroke:#0000ff; stroke-width:0.8; stroke-opacity:1; fill:none\" stroke-dasharray=\"8, 5\" points=\"\n",
       "  36.9926,369.534 40.7701,369.386 44.5476,369.186 48.3251,368.936 52.1026,368.635 55.8801,368.287 59.6576,367.89 63.4351,367.448 67.2126,366.961 70.9901,366.432 \n",
       "  74.7676,365.863 78.5451,365.254 82.3226,364.61 86.1001,363.932 89.8776,363.222 93.6551,362.483 97.4326,361.718 101.21,360.93 104.988,360.122 108.765,359.296 \n",
       "  112.543,358.456 116.32,357.604 120.098,356.745 123.875,355.88 127.653,355.013 131.43,354.148 135.208,353.287 138.985,352.434 142.763,351.592 146.54,350.763 \n",
       "  150.318,349.952 154.095,349.16 157.873,348.392 161.65,347.648 165.428,346.934 169.205,346.25 172.983,345.6 176.76,344.985 180.538,344.409 184.315,343.873 \n",
       "  188.093,343.38 191.87,342.93 195.648,342.526 199.425,342.17 203.203,341.861 206.98,341.603 210.758,341.395 214.535,341.238 218.313,341.133 222.09,341.081 \n",
       "  225.868,341.081 229.645,341.133 233.423,341.238 237.2,341.395 240.978,341.603 244.755,341.861 248.533,342.17 252.31,342.526 256.088,342.93 259.865,343.38 \n",
       "  263.643,343.873 267.42,344.409 271.198,344.985 274.975,345.6 278.753,346.25 282.53,346.934 286.308,347.648 290.085,348.392 293.863,349.16 297.64,349.952 \n",
       "  301.418,350.763 305.195,351.592 308.973,352.434 312.75,353.287 316.528,354.148 320.305,355.013 324.083,355.88 327.86,356.745 331.638,357.604 335.415,358.456 \n",
       "  339.193,359.296 342.97,360.122 346.748,360.93 350.525,361.718 354.303,362.483 358.08,363.222 361.858,363.932 365.635,364.61 369.413,365.254 373.19,365.863 \n",
       "  376.968,366.432 380.745,366.961 384.523,367.448 388.3,367.89 392.078,368.287 395.855,368.635 399.633,368.936 403.41,369.186 407.188,369.386 410.965,369.534 \n",
       "  414.743,369.63 418.52,369.674 422.298,369.666 426.075,369.604 429.853,369.491 433.63,369.326 437.408,369.11 441.185,368.843 444.963,368.527 448.74,368.162 \n",
       "  452.518,367.75 456.295,367.294 460.073,366.793 463.85,366.25 467.628,365.668 471.405,365.047 475.183,364.391 478.96,363.702 482.738,362.983 486.515,362.235 \n",
       "  490.293,361.463 494.07,360.668 497.848,359.853 501.625,359.022 505.403,358.178 509.18,357.324 512.958,356.462 516.735,355.596 520.513,354.73 524.29,353.865 \n",
       "  528.068,353.007 531.845,352.157 535.623,351.319 539.4,350.496 543.178,349.69 546.955,348.906 550.733,348.145 554.51,347.411 558.288,346.706 562.065,346.033 \n",
       "  565.843,345.395 569.62,344.793 573.398,344.229 577.175,343.707 580.953,343.228 584.73,342.793 588.508,342.404 592.285,342.063 596.063,341.771 \n",
       "  \"/>\n",
       "<polygon clip-path=\"url(#clip00)\" points=\"\n",
       "493.696,89.6215 578.063,89.6215 578.063,44.2615 493.696,44.2615 \n",
       "  \" fill=\"#ffffff\" fill-opacity=\"1\"/>\n",
       "<polyline clip-path=\"url(#clip00)\" style=\"stroke:#00002d; stroke-width:0.8; stroke-opacity:1; fill:none\" points=\"\n",
       "  493.696,89.6215 578.063,89.6215 578.063,44.2615 493.696,44.2615 493.696,89.6215 \n",
       "  \"/>\n",
       "<polyline clip-path=\"url(#clip00)\" style=\"stroke:#ff0000; stroke-width:1.6; stroke-opacity:1; fill:none\" points=\"\n",
       "  499.696,59.3815 535.696,59.3815 \n",
       "  \"/>\n",
       "<g clip-path=\"url(#clip00)\">\n",
       "<text style=\"fill:#00002d; fill-opacity:1; font-family:Arial,Helvetica Neue,Helvetica,sans-serif; font-size:12; text-anchor:start;\" transform=\"rotate(0, 541.696, 63.8815)\" x=\"541.696\" y=\"63.8815\">fn1()</text>\n",
       "</g>\n",
       "<polyline clip-path=\"url(#clip00)\" style=\"stroke:#0000ff; stroke-width:0.8; stroke-opacity:1; fill:none\" stroke-dasharray=\"8, 5\" points=\"\n",
       "  499.696,74.5015 535.696,74.5015 \n",
       "  \"/>\n",
       "<g clip-path=\"url(#clip00)\">\n",
       "<text style=\"fill:#00002d; fill-opacity:1; font-family:Arial,Helvetica Neue,Helvetica,sans-serif; font-size:12; text-anchor:start;\" transform=\"rotate(0, 541.696, 79.0015)\" x=\"541.696\" y=\"79.0015\">cos</text>\n",
       "</g>\n",
       "</svg>\n"
      ]
     },
     "execution_count": 11,
     "metadata": {},
     "output_type": "execute_result"
    }
   ],
   "source": [
    "x = collect(-3:6/99:6) \n",
    "\n",
    "plot(x,fn1.(x),color=:red,linewidth=2,label=\"fn1()\")\n",
    "plot!(x,cos.(x),color=:blue,line=(:dash),label=\"cos\")\n",
    "title!(\"My Results\")\n",
    "xlabel!(\"x\")\n",
    "ylabel!(\"my output value\")"
   ]
  },
  {
   "cell_type": "code",
   "execution_count": 12,
   "metadata": {
    "collapsed": false,
    "deletable": true,
    "editable": true
   },
   "outputs": [
    {
     "name": "stdout",
     "output_type": "stream",
     "text": [
      "end of program\n"
     ]
    }
   ],
   "source": [
    "println(\"end of program\")"
   ]
  },
  {
   "cell_type": "code",
   "execution_count": null,
   "metadata": {
    "collapsed": true,
    "deletable": true,
    "editable": true
   },
   "outputs": [],
   "source": []
  }
 ],
 "metadata": {
  "anaconda-cloud": {},
  "kernelspec": {
   "display_name": "Julia 0.5.1",
   "language": "julia",
   "name": "julia-0.5"
  },
  "language_info": {
   "file_extension": ".jl",
   "mimetype": "application/julia",
   "name": "julia",
   "version": "0.5.1"
  }
 },
 "nbformat": 4,
 "nbformat_minor": 0
}
