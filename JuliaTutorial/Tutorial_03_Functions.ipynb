{
 "cells": [
  {
   "cell_type": "markdown",
   "metadata": {
    "collapsed": true,
    "deletable": true,
    "editable": true
   },
   "source": [
    "# Functions"
   ]
  },
  {
   "cell_type": "markdown",
   "metadata": {
    "deletable": true,
    "editable": true
   },
   "source": [
    "## Loading Packages"
   ]
  },
  {
   "cell_type": "code",
   "execution_count": 1,
   "metadata": {
    "collapsed": false,
    "deletable": true,
    "editable": true
   },
   "outputs": [
    {
     "data": {
      "text/plain": [
       "printlnPs (generic function with 1 method)"
      ]
     },
     "execution_count": 1,
     "metadata": {},
     "output_type": "execute_result"
    }
   ],
   "source": [
    "using Roots\n",
    "\n",
    "include(\"printmat.jl\")   #just a function for prettier matrix printing"
   ]
  },
  {
   "cell_type": "code",
   "execution_count": 2,
   "metadata": {
    "collapsed": false,
    "deletable": true,
    "editable": true
   },
   "outputs": [],
   "source": [
    "using Plots\n",
    "\n",
    "backend = \"gr\"              #\"gr\" (default), \"pyplot\" \n",
    "\n",
    "if backend == \"pyplot\"\n",
    "    pyplot(size=(600,400))\n",
    "    default(show=false)               #for pyplot: avoids pop-ups\n",
    "else    \n",
    "    gr(size=(600,400))\n",
    "    default(show=true)\n",
    "end"
   ]
  },
  {
   "cell_type": "markdown",
   "metadata": {
    "deletable": true,
    "editable": true
   },
   "source": [
    "## A Function with One Input and One Output"
   ]
  },
  {
   "cell_type": "code",
   "execution_count": 3,
   "metadata": {
    "collapsed": false,
    "deletable": true,
    "editable": true
   },
   "outputs": [
    {
     "data": {
      "text/plain": [
       "fn1 (generic function with 1 method)"
      ]
     },
     "execution_count": 3,
     "metadata": {},
     "output_type": "execute_result"
    }
   ],
   "source": [
    "function fn1(x)\n",
    "    y = (x-1.1).^2 - 0.5      # .^2 means that x could be an array \n",
    "    q     = 1/2               #just to make the code a bit longer...\n",
    "    value = y - q + 1/2\n",
    "    return y\n",
    "end"
   ]
  },
  {
   "cell_type": "code",
   "execution_count": 4,
   "metadata": {
    "collapsed": false,
    "deletable": true,
    "editable": true
   },
   "outputs": [
    {
     "name": "stdout",
     "output_type": "stream",
     "text": [
      "result from the function fn1(x): \n",
      "    -0.490\n",
      "    -0.340\n",
      "\n",
      "the output is one vector since x is a vector\n"
     ]
    }
   ],
   "source": [
    "x = [1;1.5] \n",
    "\n",
    "y = fn1(x)                   #calling on the function\n",
    "println(\"result from the function fn1(x): \")\n",
    "printmat(y)\n",
    "\n",
    "println(\"the output is one vector since x is a vector\")"
   ]
  },
  {
   "cell_type": "code",
   "execution_count": 5,
   "metadata": {
    "collapsed": false,
    "deletable": true,
    "editable": true
   },
   "outputs": [
    {
     "data": {
      "text/html": [
       "<?xml version=\"1.0\" encoding=\"utf-8\"?>\n",
       "<svg xmlns=\"http://www.w3.org/2000/svg\" xmlns:xlink=\"http://www.w3.org/1999/xlink\" width=\"600\" height=\"400\" viewBox=\"0 0 600 400\">\n",
       "<defs>\n",
       "  <clipPath id=\"clip00\">\n",
       "    <rect x=\"0\" y=\"0\" width=\"600\" height=\"400\"/>\n",
       "  </clipPath>\n",
       "</defs>\n",
       "<polygon clip-path=\"url(#clip00)\" points=\"\n",
       "0,400 600,400 600,0 0,0 \n",
       "  \" fill=\"#ffffff\" fill-opacity=\"1\"/>\n",
       "<defs>\n",
       "  <clipPath id=\"clip01\">\n",
       "    <rect x=\"120\" y=\"0\" width=\"421\" height=\"400\"/>\n",
       "  </clipPath>\n",
       "</defs>\n",
       "<polygon clip-path=\"url(#clip00)\" points=\"\n",
       "21.7148,384.952 596.063,384.952 596.063,3.93701 21.7148,3.93701 \n",
       "  \" fill=\"#ffffff\" fill-opacity=\"1\"/>\n",
       "<defs>\n",
       "  <clipPath id=\"clip02\">\n",
       "    <rect x=\"21\" y=\"3\" width=\"575\" height=\"382\"/>\n",
       "  </clipPath>\n",
       "</defs>\n",
       "<polyline clip-path=\"url(#clip02)\" style=\"stroke:#00002d; stroke-width:0.8; stroke-opacity:0.5; fill:none\" stroke-dasharray=\"1, 2\" points=\"\n",
       "  85.5313,379.237 85.5313,9.65223 \n",
       "  \"/>\n",
       "<polyline clip-path=\"url(#clip02)\" style=\"stroke:#00002d; stroke-width:0.8; stroke-opacity:0.5; fill:none\" stroke-dasharray=\"1, 2\" points=\"\n",
       "  213.164,379.237 213.164,9.65223 \n",
       "  \"/>\n",
       "<polyline clip-path=\"url(#clip02)\" style=\"stroke:#00002d; stroke-width:0.8; stroke-opacity:0.5; fill:none\" stroke-dasharray=\"1, 2\" points=\"\n",
       "  340.797,379.237 340.797,9.65223 \n",
       "  \"/>\n",
       "<polyline clip-path=\"url(#clip02)\" style=\"stroke:#00002d; stroke-width:0.8; stroke-opacity:0.5; fill:none\" stroke-dasharray=\"1, 2\" points=\"\n",
       "  468.43,379.237 468.43,9.65223 \n",
       "  \"/>\n",
       "<polyline clip-path=\"url(#clip02)\" style=\"stroke:#00002d; stroke-width:0.8; stroke-opacity:0.5; fill:none\" stroke-dasharray=\"1, 2\" points=\"\n",
       "  596.063,379.237 596.063,9.65223 \n",
       "  \"/>\n",
       "<polyline clip-path=\"url(#clip02)\" style=\"stroke:#00002d; stroke-width:0.8; stroke-opacity:0.5; fill:none\" stroke-dasharray=\"1, 2\" points=\"\n",
       "  30.33,377.017 587.448,377.017 \n",
       "  \"/>\n",
       "<polyline clip-path=\"url(#clip02)\" style=\"stroke:#00002d; stroke-width:0.8; stroke-opacity:0.5; fill:none\" stroke-dasharray=\"1, 2\" points=\"\n",
       "  30.33,218.327 587.448,218.327 \n",
       "  \"/>\n",
       "<polyline clip-path=\"url(#clip02)\" style=\"stroke:#00002d; stroke-width:0.8; stroke-opacity:0.5; fill:none\" stroke-dasharray=\"1, 2\" points=\"\n",
       "  30.33,59.6372 587.448,59.6372 \n",
       "  \"/>\n",
       "<polyline clip-path=\"url(#clip02)\" style=\"stroke:#00002d; stroke-width:0.8; stroke-opacity:1; fill:none\" points=\"\n",
       "  21.7148,384.952 596.063,384.952 \n",
       "  \"/>\n",
       "<polyline clip-path=\"url(#clip02)\" style=\"stroke:#00002d; stroke-width:0.8; stroke-opacity:1; fill:none\" points=\"\n",
       "  85.5313,384.952 85.5313,379.237 \n",
       "  \"/>\n",
       "<polyline clip-path=\"url(#clip02)\" style=\"stroke:#00002d; stroke-width:0.8; stroke-opacity:1; fill:none\" points=\"\n",
       "  213.164,384.952 213.164,379.237 \n",
       "  \"/>\n",
       "<polyline clip-path=\"url(#clip02)\" style=\"stroke:#00002d; stroke-width:0.8; stroke-opacity:1; fill:none\" points=\"\n",
       "  340.797,384.952 340.797,379.237 \n",
       "  \"/>\n",
       "<polyline clip-path=\"url(#clip02)\" style=\"stroke:#00002d; stroke-width:0.8; stroke-opacity:1; fill:none\" points=\"\n",
       "  468.43,384.952 468.43,379.237 \n",
       "  \"/>\n",
       "<polyline clip-path=\"url(#clip02)\" style=\"stroke:#00002d; stroke-width:0.8; stroke-opacity:1; fill:none\" points=\"\n",
       "  596.063,384.952 596.063,379.237 \n",
       "  \"/>\n",
       "<polyline clip-path=\"url(#clip02)\" style=\"stroke:#00002d; stroke-width:0.8; stroke-opacity:1; fill:none\" points=\"\n",
       "  21.7148,384.952 21.7148,3.93701 \n",
       "  \"/>\n",
       "<polyline clip-path=\"url(#clip02)\" style=\"stroke:#00002d; stroke-width:0.8; stroke-opacity:1; fill:none\" points=\"\n",
       "  21.7148,377.017 30.33,377.017 \n",
       "  \"/>\n",
       "<polyline clip-path=\"url(#clip02)\" style=\"stroke:#00002d; stroke-width:0.8; stroke-opacity:1; fill:none\" points=\"\n",
       "  21.7148,218.327 30.33,218.327 \n",
       "  \"/>\n",
       "<polyline clip-path=\"url(#clip02)\" style=\"stroke:#00002d; stroke-width:0.8; stroke-opacity:1; fill:none\" points=\"\n",
       "  21.7148,59.6372 30.33,59.6372 \n",
       "  \"/>\n",
       "<g clip-path=\"url(#clip00)\">\n",
       "<text style=\"fill:#00002d; fill-opacity:1; font-family:Arial,Helvetica Neue,Helvetica,sans-serif; font-size:12; text-anchor:middle;\" transform=\"rotate(0, 85.5313, 396.952)\" x=\"85.5313\" y=\"396.952\">-2</text>\n",
       "</g>\n",
       "<g clip-path=\"url(#clip00)\">\n",
       "<text style=\"fill:#00002d; fill-opacity:1; font-family:Arial,Helvetica Neue,Helvetica,sans-serif; font-size:12; text-anchor:middle;\" transform=\"rotate(0, 213.164, 396.952)\" x=\"213.164\" y=\"396.952\">0</text>\n",
       "</g>\n",
       "<g clip-path=\"url(#clip00)\">\n",
       "<text style=\"fill:#00002d; fill-opacity:1; font-family:Arial,Helvetica Neue,Helvetica,sans-serif; font-size:12; text-anchor:middle;\" transform=\"rotate(0, 340.797, 396.952)\" x=\"340.797\" y=\"396.952\">2</text>\n",
       "</g>\n",
       "<g clip-path=\"url(#clip00)\">\n",
       "<text style=\"fill:#00002d; fill-opacity:1; font-family:Arial,Helvetica Neue,Helvetica,sans-serif; font-size:12; text-anchor:middle;\" transform=\"rotate(0, 468.43, 396.952)\" x=\"468.43\" y=\"396.952\">4</text>\n",
       "</g>\n",
       "<g clip-path=\"url(#clip00)\">\n",
       "<text style=\"fill:#00002d; fill-opacity:1; font-family:Arial,Helvetica Neue,Helvetica,sans-serif; font-size:12; text-anchor:middle;\" transform=\"rotate(0, 596.063, 396.952)\" x=\"596.063\" y=\"396.952\">6</text>\n",
       "</g>\n",
       "<g clip-path=\"url(#clip00)\">\n",
       "<text style=\"fill:#00002d; fill-opacity:1; font-family:Arial,Helvetica Neue,Helvetica,sans-serif; font-size:12; text-anchor:end;\" transform=\"rotate(0, 20.5148, 381.517)\" x=\"20.5148\" y=\"381.517\">0</text>\n",
       "</g>\n",
       "<g clip-path=\"url(#clip00)\">\n",
       "<text style=\"fill:#00002d; fill-opacity:1; font-family:Arial,Helvetica Neue,Helvetica,sans-serif; font-size:12; text-anchor:end;\" transform=\"rotate(0, 20.5148, 222.827)\" x=\"20.5148\" y=\"222.827\">10</text>\n",
       "</g>\n",
       "<g clip-path=\"url(#clip00)\">\n",
       "<text style=\"fill:#00002d; fill-opacity:1; font-family:Arial,Helvetica Neue,Helvetica,sans-serif; font-size:12; text-anchor:end;\" transform=\"rotate(0, 20.5148, 64.1372)\" x=\"20.5148\" y=\"64.1372\">20</text>\n",
       "</g>\n",
       "<polyline clip-path=\"url(#clip02)\" style=\"stroke:#0099ff; stroke-width:0.8; stroke-opacity:1; fill:none\" points=\"\n",
       "  21.7148,118.194 22.353,119.494 22.9911,120.79 23.6293,122.083 24.2674,123.374 24.9056,124.66 25.5438,125.944 26.1819,127.225 26.8201,128.502 27.4583,129.777 \n",
       "  28.0964,131.048 28.7346,132.316 29.3728,133.58 30.0109,134.842 30.6491,136.1 31.2873,137.356 31.9254,138.608 32.5636,139.857 33.2017,141.102 33.8399,142.345 \n",
       "  34.4781,143.584 35.1162,144.82 35.7544,146.053 36.3926,147.283 37.0307,148.51 37.6689,149.734 38.3071,150.954 38.9452,152.171 39.5834,153.385 40.2216,154.596 \n",
       "  40.8597,155.803 41.4979,157.008 42.1361,158.209 42.7742,159.407 43.4124,160.602 44.0505,161.794 44.6887,162.983 45.3269,164.168 45.965,165.35 46.6032,166.529 \n",
       "  47.2414,167.705 47.8795,168.878 48.5177,170.047 49.1559,171.214 49.794,172.377 50.4322,173.537 51.0704,174.694 51.7085,175.848 52.3467,176.998 52.9849,178.145 \n",
       "  53.623,179.29 54.2612,180.431 54.8993,181.568 55.5375,182.703 56.1757,183.834 56.8138,184.963 57.452,186.088 58.0902,187.21 58.7283,188.329 59.3665,189.444 \n",
       "  60.0047,190.557 60.6428,191.666 61.281,192.772 61.9192,193.875 62.5573,194.974 63.1955,196.071 63.8337,197.164 64.4718,198.255 65.11,199.342 65.7481,200.425 \n",
       "  66.3863,201.506 67.0245,202.584 67.6626,203.658 68.3008,204.729 68.939,205.797 69.5771,206.862 70.2153,207.924 70.8535,208.982 71.4916,210.037 72.1298,211.089 \n",
       "  72.768,212.138 73.4061,213.184 74.0443,214.227 74.6825,215.266 75.3206,216.302 75.9588,217.335 76.5969,218.365 77.2351,219.392 77.8733,220.416 78.5114,221.436 \n",
       "  79.1496,222.453 79.7878,223.467 80.4259,224.478 81.0641,225.486 81.7023,226.49 82.3404,227.492 82.9786,228.49 83.6168,229.485 84.2549,230.477 84.8931,231.465 \n",
       "  85.5313,232.451 86.1694,233.433 86.8076,234.412 87.4457,235.388 88.0839,236.361 88.7221,237.33 89.3602,238.297 89.9984,239.26 90.6366,240.22 91.2747,241.177 \n",
       "  91.9129,242.131 92.5511,243.081 93.1892,244.029 93.8274,244.973 94.4656,245.914 95.1037,246.852 95.7419,247.787 96.3801,248.718 97.0182,249.646 97.6564,250.572 \n",
       "  98.2945,251.494 98.9327,252.412 99.5709,253.328 100.209,254.24 100.847,255.15 101.485,256.056 102.124,256.959 102.762,257.859 103.4,258.755 104.038,259.649 \n",
       "  104.676,260.539 105.314,261.426 105.953,262.31 106.591,263.191 107.229,264.068 107.867,264.943 108.505,265.814 109.143,266.682 109.782,267.547 110.42,268.408 \n",
       "  111.058,269.267 111.696,270.122 112.334,270.974 112.972,271.823 113.61,272.669 114.249,273.512 114.887,274.351 115.525,275.188 116.163,276.021 116.801,276.851 \n",
       "  117.439,277.677 118.078,278.501 118.716,279.321 119.354,280.139 119.992,280.953 120.63,281.764 121.268,282.571 121.907,283.376 122.545,284.177 123.183,284.976 \n",
       "  123.821,285.771 124.459,286.562 125.097,287.351 125.736,288.137 126.374,288.919 127.012,289.698 127.65,290.474 128.288,291.247 128.926,292.017 129.565,292.783 \n",
       "  130.203,293.546 130.841,294.307 131.479,295.063 132.117,295.817 132.755,296.568 133.394,297.315 134.032,298.06 134.67,298.801 135.308,299.539 135.946,300.273 \n",
       "  136.584,301.005 137.223,301.733 137.861,302.458 138.499,303.18 139.137,303.899 139.775,304.615 140.413,305.328 141.052,306.037 141.69,306.743 142.328,307.446 \n",
       "  142.966,308.146 143.604,308.843 144.242,309.536 144.881,310.226 145.519,310.913 146.157,311.597 146.795,312.278 147.433,312.956 148.071,313.63 148.71,314.301 \n",
       "  149.348,314.97 149.986,315.634 150.624,316.296 151.262,316.955 151.9,317.61 152.539,318.262 153.177,318.911 153.815,319.557 154.453,320.2 155.091,320.84 \n",
       "  155.729,321.476 156.368,322.109 157.006,322.739 157.644,323.366 158.282,323.99 158.92,324.61 159.558,325.227 160.197,325.841 160.835,326.452 161.473,327.06 \n",
       "  162.111,327.665 162.749,328.266 163.387,328.864 164.026,329.46 164.664,330.051 165.302,330.64 165.94,331.226 166.578,331.808 167.216,332.387 167.854,332.963 \n",
       "  168.493,333.536 169.131,334.106 169.769,334.673 170.407,335.236 171.045,335.796 171.683,336.353 172.322,336.907 172.96,337.458 173.598,338.005 174.236,338.549 \n",
       "  174.874,339.09 175.512,339.628 176.151,340.163 176.789,340.695 177.427,341.223 178.065,341.749 178.703,342.271 179.341,342.79 179.98,343.305 180.618,343.818 \n",
       "  181.256,344.327 181.894,344.833 182.532,345.336 183.17,345.836 183.809,346.333 184.447,346.827 185.085,347.317 185.723,347.804 186.361,348.288 186.999,348.769 \n",
       "  187.638,349.247 188.276,349.721 188.914,350.192 189.552,350.661 190.19,351.126 190.828,351.587 191.467,352.046 192.105,352.501 192.743,352.954 193.381,353.403 \n",
       "  194.019,353.849 194.657,354.291 195.296,354.731 195.934,355.167 196.572,355.601 197.21,356.031 197.848,356.457 198.486,356.881 199.125,357.302 199.763,357.719 \n",
       "  200.401,358.133 201.039,358.544 201.677,358.952 202.315,359.357 202.954,359.758 203.592,360.157 204.23,360.552 204.868,360.944 205.506,361.332 206.144,361.718 \n",
       "  206.783,362.101 207.421,362.48 208.059,362.856 208.697,363.229 209.335,363.599 209.973,363.965 210.612,364.329 211.25,364.689 211.888,365.046 212.526,365.4 \n",
       "  213.164,365.75 213.802,366.098 214.441,366.442 215.079,366.783 215.717,367.121 216.355,367.456 216.993,367.788 217.631,368.116 218.27,368.442 218.908,368.764 \n",
       "  219.546,369.083 220.184,369.399 220.822,369.711 221.46,370.021 222.098,370.327 222.737,370.63 223.375,370.93 224.013,371.227 224.651,371.52 225.289,371.811 \n",
       "  225.927,372.098 226.566,372.382 227.204,372.663 227.842,372.941 228.48,373.215 229.118,373.487 229.756,373.755 230.395,374.02 231.033,374.282 231.671,374.54 \n",
       "  232.309,374.796 232.947,375.048 233.585,375.297 234.224,375.543 234.862,375.786 235.5,376.026 236.138,376.262 236.776,376.495 237.414,376.725 238.053,376.952 \n",
       "  238.691,377.176 239.329,377.397 239.967,377.614 240.605,377.828 241.243,378.039 241.882,378.247 242.52,378.452 243.158,378.653 243.796,378.852 244.434,379.047 \n",
       "  245.072,379.239 245.711,379.428 246.349,379.614 246.987,379.796 247.625,379.975 248.263,380.152 248.901,380.324 249.54,380.494 250.178,380.661 250.816,380.824 \n",
       "  251.454,380.985 252.092,381.142 252.73,381.296 253.369,381.446 254.007,381.594 254.645,381.738 255.283,381.88 255.921,382.018 256.559,382.153 257.198,382.284 \n",
       "  257.836,382.413 258.474,382.538 259.112,382.66 259.75,382.779 260.388,382.895 261.027,383.008 261.665,383.117 262.303,383.224 262.941,383.327 263.579,383.427 \n",
       "  264.217,383.524 264.856,383.617 265.494,383.708 266.132,383.795 266.77,383.879 267.408,383.96 268.046,384.038 268.685,384.112 269.323,384.184 269.961,384.252 \n",
       "  270.599,384.317 271.237,384.379 271.875,384.438 272.514,384.493 273.152,384.546 273.79,384.595 274.428,384.641 275.066,384.684 275.704,384.723 276.342,384.76 \n",
       "  276.981,384.793 277.619,384.823 278.257,384.85 278.895,384.874 279.533,384.895 280.171,384.912 280.81,384.926 281.448,384.938 282.086,384.946 282.724,384.95 \n",
       "  283.362,384.952 284,384.95 284.639,384.946 285.277,384.938 285.915,384.926 286.553,384.912 287.191,384.895 287.829,384.874 288.468,384.85 289.106,384.823 \n",
       "  289.744,384.793 290.382,384.76 291.02,384.723 291.658,384.684 292.297,384.641 292.935,384.595 293.573,384.546 294.211,384.493 294.849,384.438 295.487,384.379 \n",
       "  296.126,384.317 296.764,384.252 297.402,384.184 298.04,384.112 298.678,384.038 299.316,383.96 299.955,383.879 300.593,383.795 301.231,383.708 301.869,383.617 \n",
       "  302.507,383.524 303.145,383.427 303.784,383.327 304.422,383.224 305.06,383.117 305.698,383.008 306.336,382.895 306.974,382.779 307.613,382.66 308.251,382.538 \n",
       "  308.889,382.413 309.527,382.284 310.165,382.153 310.803,382.018 311.442,381.88 312.08,381.738 312.718,381.594 313.356,381.446 313.994,381.296 314.632,381.142 \n",
       "  315.271,380.985 315.909,380.824 316.547,380.661 317.185,380.494 317.823,380.324 318.461,380.152 319.1,379.975 319.738,379.796 320.376,379.614 321.014,379.428 \n",
       "  321.652,379.239 322.29,379.047 322.929,378.852 323.567,378.653 324.205,378.452 324.843,378.247 325.481,378.039 326.119,377.828 326.757,377.614 327.396,377.397 \n",
       "  328.034,377.176 328.672,376.952 329.31,376.725 329.948,376.495 330.586,376.262 331.225,376.026 331.863,375.786 332.501,375.543 333.139,375.297 333.777,375.048 \n",
       "  334.415,374.796 335.054,374.54 335.692,374.282 336.33,374.02 336.968,373.755 337.606,373.487 338.244,373.215 338.883,372.941 339.521,372.663 340.159,372.382 \n",
       "  340.797,372.098 341.435,371.811 342.073,371.52 342.712,371.227 343.35,370.93 343.988,370.63 344.626,370.327 345.264,370.021 345.902,369.711 346.541,369.399 \n",
       "  347.179,369.083 347.817,368.764 348.455,368.442 349.093,368.116 349.731,367.788 350.37,367.456 351.008,367.121 351.646,366.783 352.284,366.442 352.922,366.098 \n",
       "  353.56,365.75 354.199,365.4 354.837,365.046 355.475,364.689 356.113,364.329 356.751,363.965 357.389,363.599 358.028,363.229 358.666,362.856 359.304,362.48 \n",
       "  359.942,362.101 360.58,361.718 361.218,361.332 361.857,360.944 362.495,360.552 363.133,360.157 363.771,359.758 364.409,359.357 365.047,358.952 365.686,358.544 \n",
       "  366.324,358.133 366.962,357.719 367.6,357.302 368.238,356.881 368.876,356.457 369.515,356.031 370.153,355.601 370.791,355.167 371.429,354.731 372.067,354.291 \n",
       "  372.705,353.849 373.344,353.403 373.982,352.954 374.62,352.501 375.258,352.046 375.896,351.587 376.534,351.126 377.173,350.661 377.811,350.192 378.449,349.721 \n",
       "  379.087,349.247 379.725,348.769 380.363,348.288 381.001,347.804 381.64,347.317 382.278,346.827 382.916,346.333 383.554,345.836 384.192,345.336 384.83,344.833 \n",
       "  385.469,344.327 386.107,343.818 386.745,343.305 387.383,342.79 388.021,342.271 388.659,341.749 389.298,341.223 389.936,340.695 390.574,340.163 391.212,339.628 \n",
       "  391.85,339.09 392.488,338.549 393.127,338.005 393.765,337.458 394.403,336.907 395.041,336.353 395.679,335.796 396.317,335.236 396.956,334.673 397.594,334.106 \n",
       "  398.232,333.536 398.87,332.963 399.508,332.387 400.146,331.808 400.785,331.226 401.423,330.64 402.061,330.051 402.699,329.46 403.337,328.864 403.975,328.266 \n",
       "  404.614,327.665 405.252,327.06 405.89,326.452 406.528,325.841 407.166,325.227 407.804,324.61 408.443,323.99 409.081,323.366 409.719,322.739 410.357,322.109 \n",
       "  410.995,321.476 411.633,320.84 412.272,320.2 412.91,319.557 413.548,318.911 414.186,318.262 414.824,317.61 415.462,316.955 416.101,316.296 416.739,315.634 \n",
       "  417.377,314.97 418.015,314.301 418.653,313.63 419.291,312.956 419.93,312.278 420.568,311.597 421.206,310.913 421.844,310.226 422.482,309.536 423.12,308.843 \n",
       "  423.759,308.146 424.397,307.446 425.035,306.743 425.673,306.037 426.311,305.328 426.949,304.615 427.588,303.899 428.226,303.18 428.864,302.458 429.502,301.733 \n",
       "  430.14,301.005 430.778,300.273 431.417,299.539 432.055,298.801 432.693,298.06 433.331,297.315 433.969,296.568 434.607,295.817 435.245,295.063 435.884,294.307 \n",
       "  436.522,293.546 437.16,292.783 437.798,292.017 438.436,291.247 439.074,290.474 439.713,289.698 440.351,288.919 440.989,288.137 441.627,287.351 442.265,286.562 \n",
       "  442.903,285.771 443.542,284.976 444.18,284.177 444.818,283.376 445.456,282.571 446.094,281.764 446.732,280.953 447.371,280.139 448.009,279.321 448.647,278.501 \n",
       "  449.285,277.677 449.923,276.851 450.561,276.021 451.2,275.188 451.838,274.351 452.476,273.512 453.114,272.669 453.752,271.823 454.39,270.974 455.029,270.122 \n",
       "  455.667,269.267 456.305,268.408 456.943,267.547 457.581,266.682 458.219,265.814 458.858,264.943 459.496,264.068 460.134,263.191 460.772,262.31 461.41,261.426 \n",
       "  462.048,260.539 462.687,259.649 463.325,258.755 463.963,257.859 464.601,256.959 465.239,256.056 465.877,255.15 466.516,254.24 467.154,253.328 467.792,252.412 \n",
       "  468.43,251.494 469.068,250.572 469.706,249.646 470.345,248.718 470.983,247.787 471.621,246.852 472.259,245.914 472.897,244.973 473.535,244.029 474.174,243.081 \n",
       "  474.812,242.131 475.45,241.177 476.088,240.22 476.726,239.26 477.364,238.297 478.003,237.33 478.641,236.361 479.279,235.388 479.917,234.412 480.555,233.433 \n",
       "  481.193,232.451 481.832,231.465 482.47,230.477 483.108,229.485 483.746,228.49 484.384,227.492 485.022,226.49 485.661,225.486 486.299,224.478 486.937,223.467 \n",
       "  487.575,222.453 488.213,221.436 488.851,220.416 489.489,219.392 490.128,218.365 490.766,217.335 491.404,216.302 492.042,215.266 492.68,214.227 493.318,213.184 \n",
       "  493.957,212.138 494.595,211.089 495.233,210.037 495.871,208.982 496.509,207.924 497.147,206.862 497.786,205.797 498.424,204.729 499.062,203.658 499.7,202.584 \n",
       "  500.338,201.506 500.976,200.425 501.615,199.342 502.253,198.255 502.891,197.164 503.529,196.071 504.167,194.974 504.805,193.875 505.444,192.772 506.082,191.666 \n",
       "  506.72,190.557 507.358,189.444 507.996,188.329 508.634,187.21 509.273,186.088 509.911,184.963 510.549,183.834 511.187,182.703 511.825,181.568 512.463,180.431 \n",
       "  513.102,179.29 513.74,178.145 514.378,176.998 515.016,175.848 515.654,174.694 516.292,173.537 516.931,172.377 517.569,171.214 518.207,170.047 518.845,168.878 \n",
       "  519.483,167.705 520.121,166.529 520.76,165.35 521.398,164.168 522.036,162.983 522.674,161.794 523.312,160.602 523.95,159.407 524.589,158.209 525.227,157.008 \n",
       "  525.865,155.803 526.503,154.596 527.141,153.385 527.779,152.171 528.418,150.954 529.056,149.734 529.694,148.51 530.332,147.283 530.97,146.053 531.608,144.82 \n",
       "  532.247,143.584 532.885,142.345 533.523,141.102 534.161,139.857 534.799,138.608 535.437,137.356 536.076,136.1 536.714,134.842 537.352,133.58 537.99,132.316 \n",
       "  538.628,131.048 539.266,129.777 539.905,128.502 540.543,127.225 541.181,125.944 541.819,124.66 542.457,123.374 543.095,122.083 543.733,120.79 544.372,119.494 \n",
       "  545.01,118.194 545.648,116.891 546.286,115.585 546.924,114.276 547.562,112.963 548.201,111.648 548.839,110.329 549.477,109.007 550.115,107.682 550.753,106.354 \n",
       "  551.391,105.023 552.03,103.688 552.668,102.35 553.306,101.009 553.944,99.6652 554.582,98.3179 555.22,96.9675 555.859,95.6139 556.497,94.2571 557.135,92.8971 \n",
       "  557.773,91.5339 558.411,90.1676 559.049,88.7981 559.688,87.4254 560.326,86.0496 560.964,84.6706 561.602,83.2884 562.24,81.903 562.878,80.5145 563.517,79.1228 \n",
       "  564.155,77.7279 564.793,76.3298 565.431,74.9286 566.069,73.5242 566.707,72.1166 567.346,70.7059 567.984,69.2919 568.622,67.8748 569.26,66.4546 569.898,65.0311 \n",
       "  570.536,63.6045 571.175,62.1747 571.813,60.7417 572.451,59.3056 573.089,57.8662 573.727,56.4238 574.365,54.9781 575.004,53.5292 575.642,52.0772 576.28,50.622 \n",
       "  576.918,49.1637 577.556,47.7021 578.194,46.2374 578.833,44.7696 579.471,43.2985 580.109,41.8243 580.747,40.3469 581.385,38.8663 582.023,37.3825 582.662,35.8956 \n",
       "  583.3,34.4055 583.938,32.9122 584.576,31.4158 585.214,29.9162 585.852,28.4134 586.491,26.9074 587.129,25.3983 587.767,23.8859 588.405,22.3704 589.043,20.8518 \n",
       "  589.681,19.3299 590.32,17.8049 590.958,16.2767 591.596,14.7454 592.234,13.2109 592.872,11.6731 593.51,10.1323 594.148,8.58821 594.787,7.04099 595.425,5.49058 \n",
       "  596.063,3.93701 \n",
       "  \"/>\n",
       "<polygon clip-path=\"url(#clip00)\" points=\"\n",
       "487.77,55.057 578.063,55.057 578.063,24.817 487.77,24.817 \n",
       "  \" fill=\"#ffffff\" fill-opacity=\"1\"/>\n",
       "<polyline clip-path=\"url(#clip00)\" style=\"stroke:#00002d; stroke-width:0.8; stroke-opacity:1; fill:none\" points=\"\n",
       "  487.77,55.057 578.063,55.057 578.063,24.817 487.77,24.817 487.77,55.057 \n",
       "  \"/>\n",
       "<polyline clip-path=\"url(#clip00)\" style=\"stroke:#0099ff; stroke-width:0.8; stroke-opacity:1; fill:none\" points=\"\n",
       "  493.77,39.937 529.77,39.937 \n",
       "  \"/>\n",
       "<g clip-path=\"url(#clip00)\">\n",
       "<text style=\"fill:#00002d; fill-opacity:1; font-family:Arial,Helvetica Neue,Helvetica,sans-serif; font-size:12; text-anchor:start;\" transform=\"rotate(0, 535.77, 44.437)\" x=\"535.77\" y=\"44.437\">fn1(x)</text>\n",
       "</g>\n",
       "</svg>\n"
      ]
     },
     "execution_count": 5,
     "metadata": {},
     "output_type": "execute_result"
    }
   ],
   "source": [
    "x2 = -3:0.01:6                        #plotting the function\n",
    "\n",
    "plot(x2,fn1(x2),label=\"fn1(x)\")"
   ]
  },
  {
   "cell_type": "markdown",
   "metadata": {
    "deletable": true,
    "editable": true
   },
   "source": [
    "## An \"Anonymous\" Function\n",
    "\n",
    "The expression \n",
    "```\n",
    "x->(x-1.1).^2 - 0.5\n",
    "```\n",
    "creates an anonymous function (a function without a name). It is useful as an input to another function (see below)."
   ]
  },
  {
   "cell_type": "code",
   "execution_count": 6,
   "metadata": {
    "collapsed": false,
    "deletable": true,
    "editable": true
   },
   "outputs": [
    {
     "name": "stdout",
     "output_type": "stream",
     "text": [
      "A root at:      0.393\n"
     ]
    }
   ],
   "source": [
    "x1 = fzero(x->(x-1.1).^2 - 0.5,[-1;1])      #finding a root of a function      \n",
    "                                            #[-1;1] searches roots in this interval\n",
    "printlnPs(\"A root at: \",x1)"
   ]
  },
  {
   "cell_type": "markdown",
   "metadata": {
    "deletable": true,
    "editable": true
   },
   "source": [
    "## A \"one-liner\"\n",
    "\n",
    "We can also create a short version of a function as in the cell below. Notice, however, that it can (essentially) only contain one expression."
   ]
  },
  {
   "cell_type": "code",
   "execution_count": 7,
   "metadata": {
    "collapsed": false,
    "deletable": true,
    "editable": true
   },
   "outputs": [
    {
     "data": {
      "text/plain": [
       "fn1b (generic function with 1 method)"
      ]
     },
     "execution_count": 7,
     "metadata": {},
     "output_type": "execute_result"
    }
   ],
   "source": [
    "fn1b(x) = (x-1.1).^2 - 0.5          #short form of a function"
   ]
  },
  {
   "cell_type": "code",
   "execution_count": 8,
   "metadata": {
    "collapsed": false,
    "deletable": true,
    "editable": true
   },
   "outputs": [
    {
     "name": "stdout",
     "output_type": "stream",
     "text": [
      "result from the function fn1b(x): \n",
      "    -0.490\n",
      "    -0.340\n",
      "\n"
     ]
    }
   ],
   "source": [
    "y = fn1b(x)                 \n",
    "println(\"result from the function fn1b(x): \")\n",
    "printmat(y)"
   ]
  },
  {
   "cell_type": "markdown",
   "metadata": {
    "deletable": true,
    "editable": true
   },
   "source": [
    "## Elementwise Evaluation\n",
    "\n",
    "The functions above were written to accept an array as the input (by using .^2) and give an array as output. \n",
    "\n",
    "Suppose instead that you have a traditional function that only works on a scalar input (by using ^2 instead of .^2). You can still supply an array as input, provided you use the dot syntax: fn1c.(x)"
   ]
  },
  {
   "cell_type": "code",
   "execution_count": 9,
   "metadata": {
    "collapsed": false,
    "deletable": true,
    "editable": true
   },
   "outputs": [
    {
     "data": {
      "text/plain": [
       "fn1c (generic function with 1 method)"
      ]
     },
     "execution_count": 9,
     "metadata": {},
     "output_type": "execute_result"
    }
   ],
   "source": [
    "function fn1c(x)                     #similar to fn1(), but would not work when x is an array\n",
    "    y = (x-1.1)^2 - 0.5\n",
    "    return y\n",
    "end"
   ]
  },
  {
   "cell_type": "code",
   "execution_count": 10,
   "metadata": {
    "collapsed": false,
    "deletable": true,
    "editable": true
   },
   "outputs": [
    {
     "name": "stdout",
     "output_type": "stream",
     "text": [
      "fn1c.(x) evaluates fn1c(x[i,j]) for each element x[i,j]\n",
      "    -0.490\n",
      "    -0.340\n",
      "\n"
     ]
    }
   ],
   "source": [
    "println(\"fn1c.(x) evaluates fn1c(x[i,j]) for each element x[i,j]\")\n",
    "\n",
    "y5 = fn1c.(x)\n",
    "\n",
    "printmat(y5)"
   ]
  },
  {
   "cell_type": "markdown",
   "metadata": {
    "deletable": true,
    "editable": true
   },
   "source": [
    "## Several Inputs\n",
    "\n",
    "It is straightforward to define functions with several inputs. You can also specify default values on the inputs. They are used when you do not supply that input when calling on the function."
   ]
  },
  {
   "cell_type": "code",
   "execution_count": 11,
   "metadata": {
    "collapsed": false,
    "deletable": true,
    "editable": true
   },
   "outputs": [
    {
     "data": {
      "text/plain": [
       "fn2 (generic function with 2 methods)"
      ]
     },
     "execution_count": 11,
     "metadata": {},
     "output_type": "execute_result"
    }
   ],
   "source": [
    "function fn2(x,b=1)                 #b=1 is the default in case we call as fn2(x)\n",
    "    y = b*(x-1.1).^2 - 0.5\n",
    "    return y\n",
    "end"
   ]
  },
  {
   "cell_type": "code",
   "execution_count": 12,
   "metadata": {
    "collapsed": false,
    "deletable": true,
    "editable": true
   },
   "outputs": [
    {
     "name": "stdout",
     "output_type": "stream",
     "text": [
      "result from the function fn2(x): \n",
      "    -0.490\n",
      "    -0.340\n",
      "\n",
      "result from the function fn2(x,7): \n",
      "    -0.430\n",
      "     0.620\n",
      "\n"
     ]
    }
   ],
   "source": [
    "y2 = fn2(x)\n",
    "println(\"result from the function fn2(x): \")\n",
    "printmat(y2)\n",
    "\n",
    "y2b = fn2(x,7)\n",
    "println(\"result from the function fn2(x,7): \")\n",
    "printmat(y2b)"
   ]
  },
  {
   "cell_type": "markdown",
   "metadata": {
    "deletable": true,
    "editable": true
   },
   "source": [
    "## Several Outputs\n",
    "\n",
    "Functions can preduce a \"tuple\" (y1,y2,y3) as outputs. (There could be more values)\n",
    "\n",
    "In case you only want the first two outputs, call as (y1,y2,) = fn().\n",
    "\n",
    "Instead, if you only want the 2nd and third outputs, call as (_,y2,y3) = fn()\n",
    "\n",
    "You can also extract the second output as y2 = fn()[2]"
   ]
  },
  {
   "cell_type": "code",
   "execution_count": 13,
   "metadata": {
    "collapsed": false,
    "deletable": true,
    "editable": true
   },
   "outputs": [
    {
     "data": {
      "text/plain": [
       "fn3 (generic function with 2 methods)"
      ]
     },
     "execution_count": 13,
     "metadata": {},
     "output_type": "execute_result"
    }
   ],
   "source": [
    "function fn3(x,b=1)                 \n",
    "    y1 = b*(x-1.1).^2 - 0.5\n",
    "    y2 = b*x\n",
    "    y3 = 3\n",
    "    return y1, y2, y3\n",
    "end"
   ]
  },
  {
   "cell_type": "code",
   "execution_count": 14,
   "metadata": {
    "collapsed": false,
    "deletable": true,
    "editable": true
   },
   "outputs": [
    {
     "name": "stdout",
     "output_type": "stream",
     "text": [
      "result from the function fn3(x,7): \n",
      "    -0.430     7.000\n",
      "     0.620    10.500\n",
      "\n",
      "the output is two vectors since x is a vector\n"
     ]
    }
   ],
   "source": [
    "(y1,y2,) = fn3(x,7)\n",
    "\n",
    "println(\"result from the function fn3(x,7): \")\n",
    "printmat([y1 y2])\n",
    "\n",
    "println(\"the output is two vectors since x is a vector\")"
   ]
  },
  {
   "cell_type": "code",
   "execution_count": 15,
   "metadata": {
    "collapsed": false,
    "deletable": true,
    "editable": true
   },
   "outputs": [
    {
     "name": "stdout",
     "output_type": "stream",
     "text": [
      "the first result from the function fn3(x,7): \n",
      "    -0.430\n",
      "     0.620\n",
      "\n",
      "result from the function fn3(x,7)[2]: \n",
      "     7.000\n",
      "    10.500\n",
      "\n"
     ]
    }
   ],
   "source": [
    "y1, = fn3(x,7)           #to grab just the first output  \n",
    "\n",
    "y2 = fn3(x,7)[2]         #to grab just the second output from the function\n",
    "\n",
    "println(\"the first result from the function fn3(x,7): \")\n",
    "printmat(y1)\n",
    "println(\"result from the function fn3(x,7)[2]: \")\n",
    "printmat(y2)"
   ]
  },
  {
   "cell_type": "code",
   "execution_count": null,
   "metadata": {
    "collapsed": true,
    "deletable": true,
    "editable": true
   },
   "outputs": [],
   "source": []
  }
 ],
 "metadata": {
  "anaconda-cloud": {},
  "kernelspec": {
   "display_name": "Julia 0.5.1",
   "language": "julia",
   "name": "julia-0.5"
  },
  "language_info": {
   "file_extension": ".jl",
   "mimetype": "application/julia",
   "name": "julia",
   "version": "0.5.1"
  }
 },
 "nbformat": 4,
 "nbformat_minor": 0
}
