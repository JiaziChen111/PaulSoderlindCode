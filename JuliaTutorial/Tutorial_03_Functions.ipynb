{
 "cells": [
  {
   "cell_type": "markdown",
   "metadata": {
    "collapsed": true
   },
   "source": [
    "# Functions"
   ]
  },
  {
   "cell_type": "code",
   "execution_count": 1,
   "metadata": {
    "collapsed": false
   },
   "outputs": [
    {
     "data": {
      "text/plain": [
       "printlnPs (generic function with 1 method)"
      ]
     },
     "execution_count": 1,
     "metadata": {},
     "output_type": "execute_result"
    }
   ],
   "source": [
    "include(\"printmat.jl\")   #just a function for prettier matrix printing"
   ]
  },
  {
   "cell_type": "markdown",
   "metadata": {},
   "source": [
    "## A Function with One Input and One Output"
   ]
  },
  {
   "cell_type": "code",
   "execution_count": 2,
   "metadata": {
    "collapsed": false
   },
   "outputs": [
    {
     "data": {
      "text/plain": [
       "fn1 (generic function with 1 method)"
      ]
     },
     "execution_count": 2,
     "metadata": {},
     "output_type": "execute_result"
    }
   ],
   "source": [
    "function fn1(a)\n",
    "    value = (a-1.1).^2 - 0.5\n",
    "    q     = 1/2               #just to make the code a bit longer...\n",
    "    value = value - q + 1/2\n",
    "    return value\n",
    "end"
   ]
  },
  {
   "cell_type": "code",
   "execution_count": 3,
   "metadata": {
    "collapsed": false
   },
   "outputs": [
    {
     "name": "stdout",
     "output_type": "stream",
     "text": [
      "result from the function fn1(x): \n",
      "    -0.490\n",
      "    -0.340\n",
      "\n",
      "the output is one vector since x is a vector\n"
     ]
    }
   ],
   "source": [
    "x = [1;1.5] \n",
    "\n",
    "y = fn1(x)                   #calling on the function\n",
    "println(\"result from the function fn1(x): \")\n",
    "printmat(y)\n",
    "\n",
    "println(\"the output is one vector since x is a vector\")"
   ]
  },
  {
   "cell_type": "markdown",
   "metadata": {},
   "source": [
    "## An \"Anonymous\" Function\n",
    "\n",
    "The expression \n",
    "```\n",
    "a->(a-1.1).^2 - 0.5\n",
    "```\n",
    "creates an anonymous function (a function without a name). It is useful as an input to another function (see below)."
   ]
  },
  {
   "cell_type": "code",
   "execution_count": 4,
   "metadata": {
    "collapsed": false
   },
   "outputs": [
    {
     "name": "stdout",
     "output_type": "stream",
     "text": [
      "A root at:      0.393\n"
     ]
    }
   ],
   "source": [
    "using Roots\n",
    "\n",
    "x1 = fzero(a->(a-1.1).^2 - 0.5,[-1;1])            \n",
    "                                            #[-1;1] searches roots in this interval\n",
    "printlnPs(\"A root at: \",x1)"
   ]
  },
  {
   "cell_type": "markdown",
   "metadata": {},
   "source": [
    "## A \"one-liner\""
   ]
  },
  {
   "cell_type": "code",
   "execution_count": 5,
   "metadata": {
    "collapsed": false
   },
   "outputs": [
    {
     "data": {
      "text/plain": [
       "fn1b (generic function with 1 method)"
      ]
     },
     "execution_count": 5,
     "metadata": {},
     "output_type": "execute_result"
    }
   ],
   "source": [
    "fn1b(a) = (a-1.1).^2 - 0.5          #compact form of a function. Can only have one expression."
   ]
  },
  {
   "cell_type": "code",
   "execution_count": 6,
   "metadata": {
    "collapsed": false
   },
   "outputs": [
    {
     "name": "stdout",
     "output_type": "stream",
     "text": [
      "result from the function fn1b(x): \n",
      "    -0.490\n",
      "    -0.340\n",
      "\n"
     ]
    }
   ],
   "source": [
    "y = fn1b(x)                 \n",
    "println(\"result from the function fn1b(x): \")\n",
    "printmat(y)"
   ]
  },
  {
   "cell_type": "markdown",
   "metadata": {},
   "source": [
    "## Several Inputs"
   ]
  },
  {
   "cell_type": "code",
   "execution_count": 7,
   "metadata": {
    "collapsed": false
   },
   "outputs": [
    {
     "data": {
      "text/plain": [
       "fn2 (generic function with 2 methods)"
      ]
     },
     "execution_count": 7,
     "metadata": {},
     "output_type": "execute_result"
    }
   ],
   "source": [
    "function fn2(a,b=1)                 #b=1 is the default in case we call as fn2(x)\n",
    "    value = b*(a-1.1).^2 - 0.5\n",
    "    return value\n",
    "end"
   ]
  },
  {
   "cell_type": "code",
   "execution_count": 8,
   "metadata": {
    "collapsed": false
   },
   "outputs": [
    {
     "name": "stdout",
     "output_type": "stream",
     "text": [
      "result from the function fn2(x): \n",
      "    -0.490\n",
      "    -0.340\n",
      "\n",
      "result from the function fn2(x,7): \n",
      "    -0.430\n",
      "     0.620\n",
      "\n"
     ]
    }
   ],
   "source": [
    "y2 = fn2(x)\n",
    "println(\"result from the function fn2(x): \")\n",
    "printmat(y2)\n",
    "\n",
    "y2b = fn2(x,7)\n",
    "println(\"result from the function fn2(x,7): \")\n",
    "printmat(y2b)"
   ]
  },
  {
   "cell_type": "markdown",
   "metadata": {},
   "source": [
    "## Several Outputs"
   ]
  },
  {
   "cell_type": "code",
   "execution_count": 9,
   "metadata": {
    "collapsed": false
   },
   "outputs": [
    {
     "data": {
      "text/plain": [
       "fn3 (generic function with 2 methods)"
      ]
     },
     "execution_count": 9,
     "metadata": {},
     "output_type": "execute_result"
    }
   ],
   "source": [
    "function fn3(a,b=1)                 #b=1 is the default in case we call as fn2(x)\n",
    "    value1 = b*(a-1.1).^2 - 0.5\n",
    "    value2 = b*a\n",
    "    return value1, value2\n",
    "end"
   ]
  },
  {
   "cell_type": "code",
   "execution_count": 10,
   "metadata": {
    "collapsed": false
   },
   "outputs": [
    {
     "name": "stdout",
     "output_type": "stream",
     "text": [
      "result from the function fn3(x,7): \n",
      "    -0.430     7.000\n",
      "     0.620    10.500\n",
      "\n",
      "the output is two vector since x is a vector\n"
     ]
    }
   ],
   "source": [
    "(y3a,y3b) = fn3(x,7)\n",
    "\n",
    "println(\"result from the function fn3(x,7): \")\n",
    "printmat([y3a y3b])\n",
    "\n",
    "println(\"the output is two vector since x is a vector\")"
   ]
  },
  {
   "cell_type": "code",
   "execution_count": null,
   "metadata": {
    "collapsed": true
   },
   "outputs": [],
   "source": []
  }
 ],
 "metadata": {
  "anaconda-cloud": {},
  "kernelspec": {
   "display_name": "Julia 0.5.0",
   "language": "julia",
   "name": "julia-0.5"
  },
  "language_info": {
   "file_extension": ".jl",
   "mimetype": "application/julia",
   "name": "julia",
   "version": "0.5.0"
  }
 },
 "nbformat": 4,
 "nbformat_minor": 0
}
