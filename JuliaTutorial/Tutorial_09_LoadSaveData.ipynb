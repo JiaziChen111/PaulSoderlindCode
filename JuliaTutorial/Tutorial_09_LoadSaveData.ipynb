{
 "cells": [
  {
   "cell_type": "code",
   "execution_count": 1,
   "metadata": {
    "collapsed": false,
    "deletable": true,
    "editable": true
   },
   "outputs": [],
   "source": [
    "include(\"printmat.jl\")            #a function for prettier matrix printing\n",
    "\n",
    "if !isdir(\"Results\")\n",
    "    error(\"create the subfolder Results before running this program\")\n",
    "end"
   ]
  },
  {
   "cell_type": "markdown",
   "metadata": {
    "deletable": true,
    "editable": true
   },
   "source": [
    "# Saving and Loading a csv File"
   ]
  },
  {
   "cell_type": "code",
   "execution_count": 2,
   "metadata": {
    "collapsed": false,
    "deletable": true,
    "editable": true
   },
   "outputs": [
    {
     "name": "stdout",
     "output_type": "stream",
     "text": [
      "NewCsvFile.csv has been created in the subfolder Results\n"
     ]
    }
   ],
   "source": [
    "A = reshape(1:20,5,4) + 0               #+ 0 to create a new matrix\n",
    "writedlm(\"Results/NewCsvFile.csv\",A,',')\n",
    "println(\"NewCsvFile.csv has been created in the subfolder Results\")"
   ]
  },
  {
   "cell_type": "code",
   "execution_count": 3,
   "metadata": {
    "collapsed": false,
    "deletable": true,
    "editable": true
   },
   "outputs": [
    {
     "name": "stdout",
     "output_type": "stream",
     "text": [
      "\n",
      "A (in memory) and A2 (loaded from csv file which we just created):\n",
      "         1         6        11        16\n",
      "         2         7        12        17\n",
      "         3         8        13        18\n",
      "         4         9        14        19\n",
      "         5        10        15        20\n",
      "\n",
      "         1         6        11        16\n",
      "         2         7        12        17\n",
      "         3         8        13        18\n",
      "         4         9        14        19\n",
      "         5        10        15        20\n",
      "\n"
     ]
    }
   ],
   "source": [
    "A2 = readdlm(\"Results/NewCsvFile.csv\",',',Int)  #try Float64 instead of Int\n",
    "println(\"\\nA (in memory) and A2 (loaded from csv file which we just created):\")\n",
    "printmat(A)\n",
    "printmat(A2)"
   ]
  },
  {
   "cell_type": "markdown",
   "metadata": {
    "deletable": true,
    "editable": true
   },
   "source": [
    "# Saving and Loading a jld File"
   ]
  },
  {
   "cell_type": "code",
   "execution_count": 4,
   "metadata": {
    "collapsed": false,
    "deletable": true,
    "editable": true
   },
   "outputs": [
    {
     "name": "stdout",
     "output_type": "stream",
     "text": [
      "NewJldFile.jld has been created in the subfolder Results\n"
     ]
    }
   ],
   "source": [
    "using JLD       #see https://github.com/JuliaLang/JLD.jl for more examples\n",
    "\n",
    "B   = reshape(1:20,5,4) + 0\n",
    "B27 = 1\n",
    "save(\"Results/NewJldFile.jld\",\"B\",B,\"B27\",B27)\n",
    "println(\"NewJldFile.jld has been created in the subfolder Results\")"
   ]
  },
  {
   "cell_type": "code",
   "execution_count": 5,
   "metadata": {
    "collapsed": false,
    "deletable": true,
    "editable": true
   },
   "outputs": [
    {
     "name": "stdout",
     "output_type": "stream",
     "text": [
      "\n",
      "B from jld file is\n",
      "         1         6        11        16\n",
      "         2         7        12        17\n",
      "         3         8        13        18\n",
      "         4         9        14        19\n",
      "         5        10        15        20\n",
      "\n",
      "\n",
      "All variables in the JLD file: String[\"B\",\"B27\"]\n",
      "\n",
      "B from jld file is (2nd way of loading)\n",
      "         1         6        11        16\n",
      "         2         7        12        17\n",
      "         3         8        13        18\n",
      "         4         9        14        19\n",
      "         5        10        15        20\n",
      "\n"
     ]
    }
   ],
   "source": [
    "B2 = load(\"Results/NewJldFile.jld\",\"B\")\n",
    "println(\"\\nB from jld file is\")\n",
    "printmat(B2)\n",
    "                                                 #alternative approach\n",
    "xx = load(\"Results/NewJldFile.jld\")                      #load all variables into dictionary\n",
    "println(\"\\nAll variables in the JLD file: \",keys(xx))\n",
    "B3 = xx[\"B\"]\n",
    "println(\"\\nB from jld file is (2nd way of loading)\")\n",
    "printmat(B3)"
   ]
  },
  {
   "cell_type": "markdown",
   "metadata": {
    "deletable": true,
    "editable": true
   },
   "source": [
    "# Saving and Loading a Matlab mat File (extra)"
   ]
  },
  {
   "cell_type": "code",
   "execution_count": 6,
   "metadata": {
    "collapsed": false,
    "deletable": true,
    "editable": true
   },
   "outputs": [
    {
     "name": "stdout",
     "output_type": "stream",
     "text": [
      "\n",
      "NewMatFile.mat has been created in the subfolder Results\n"
     ]
    }
   ],
   "source": [
    "using MAT     #see https://github.com/simonster/MAT.jl for more examples\n",
    "\n",
    "C   = reshape(1:20,5,4) + 0\n",
    "C27 = 1\n",
    "fh = matopen(\"Results/NewMatFile.mat\",\"w\")               #create a mat file\n",
    "write(fh,\"C\",C)\n",
    "write(fh,\"C27\",C27)\n",
    "close(fh)\n",
    "println(\"\\nNewMatFile.mat has been created in the subfolder Results\")"
   ]
  },
  {
   "cell_type": "code",
   "execution_count": 7,
   "metadata": {
    "collapsed": false,
    "deletable": true,
    "editable": true
   },
   "outputs": [
    {
     "name": "stdout",
     "output_type": "stream",
     "text": [
      "\n",
      "Variables in mat file: String[\"C\",\"C27\"]\n",
      "\n",
      "C from mat file is \n",
      "         1         6        11        16\n",
      "         2         7        12        17\n",
      "         3         8        13        18\n",
      "         4         9        14        19\n",
      "         5        10        15        20\n",
      "\n",
      "\n",
      "C from mat file is (2nd way of loading) \n",
      "         1         6        11        16\n",
      "         2         7        12        17\n",
      "         3         8        13        18\n",
      "         4         9        14        19\n",
      "         5        10        15        20\n",
      "\n"
     ]
    }
   ],
   "source": [
    "fh = matopen(\"Results/NewMatFile.mat\")           #open the mat file\n",
    "println(\"\\nVariables in mat file: \",names(fh))\n",
    "C2 = read(fh,\"C\")                                #read variable C\n",
    "close(fh)                                        #close the mat file\n",
    "println(\"\\nC from mat file is \")\n",
    "printmat(C2)\n",
    "                                                 #alternative approach\n",
    "xx = matread(\"Results/NewMatFile.mat\")                   #read whole mat file into Dict xx\n",
    "C3 = xx[\"C\"]\n",
    "println(\"\\nC from mat file is (2nd way of loading) \")\n",
    "printmat(C3)"
   ]
  },
  {
   "cell_type": "markdown",
   "metadata": {
    "deletable": true,
    "editable": true
   },
   "source": [
    "# Loading csv with Headers, Fixing Missing Values (extra)"
   ]
  },
  {
   "cell_type": "code",
   "execution_count": 8,
   "metadata": {
    "collapsed": false,
    "deletable": true,
    "editable": true
   },
   "outputs": [
    {
     "name": "stdout",
     "output_type": "stream",
     "text": [
      "\n",
      "x\n",
      "      1861    10.094     9.998          \n",
      "      1862    10.128     9.994     0.037\n",
      "      1863    10.156    10.044     0.092\n",
      "      1864              10.061     0.098\n",
      "      1865    10.197    10.076     0.078\n",
      "      1866    10.234    10.064     0.061\n",
      "      1867    10.242     10.06     0.025\n",
      "      1868    10.186    10.057    -0.002\n",
      "      1869    10.235    10.068     0.107\n",
      "      1870    10.343     10.16     0.071\n",
      "      1871    10.379    10.188     0.022\n",
      "      1872    10.438    10.256    -0.022\n",
      "      1873    10.494    10.315     -0.06\n",
      "      1874    10.505    10.337     0.005\n",
      "      1875    10.485    10.305     0.074\n",
      "\n"
     ]
    }
   ],
   "source": [
    "xx = readdlm(\"Data/loadCsvTsT_Data.csv\",',',header=true)\n",
    "x  = xx[1]                                        #xx is Any[] array\n",
    "println(\"\\nx\")\n",
    "printmat(x)"
   ]
  },
  {
   "cell_type": "code",
   "execution_count": 9,
   "metadata": {
    "collapsed": false,
    "deletable": true,
    "editable": true
   },
   "outputs": [
    {
     "name": "stdout",
     "output_type": "stream",
     "text": [
      "\n",
      "after fix\n",
      "  1861.000    10.094     9.998       NaN\n",
      "  1862.000    10.128     9.994     0.037\n",
      "  1863.000    10.156    10.044     0.092\n",
      "  1864.000       NaN    10.061     0.098\n",
      "  1865.000    10.197    10.076     0.078\n",
      "  1866.000    10.234    10.064     0.061\n",
      "  1867.000    10.242    10.060     0.025\n",
      "  1868.000    10.186    10.057    -0.002\n",
      "  1869.000    10.235    10.068     0.107\n",
      "  1870.000    10.343    10.160     0.071\n",
      "  1871.000    10.379    10.188     0.022\n",
      "  1872.000    10.438    10.256    -0.022\n",
      "  1873.000    10.494    10.315    -0.060\n",
      "  1874.000    10.505    10.337     0.005\n",
      "  1875.000    10.485    10.305     0.074\n",
      "\n"
     ]
    }
   ],
   "source": [
    "include(\"readdlmFixPs.jl\")                       #function for fixing missing values\n",
    "x2 = readdlmFixPs(x)                             #fixing missing value at x[1,4]\n",
    "println(\"\\nafter fix\")\n",
    "printmat(x2)"
   ]
  },
  {
   "cell_type": "markdown",
   "metadata": {
    "deletable": true,
    "editable": true
   },
   "source": [
    "# Loading xlsfile (extra, needs Python and xlrd)"
   ]
  },
  {
   "cell_type": "code",
   "execution_count": 10,
   "metadata": {
    "collapsed": false,
    "deletable": true,
    "editable": true
   },
   "outputs": [
    {
     "name": "stdout",
     "output_type": "stream",
     "text": [
      "\n",
      "------------Approach 1: readxl-------------------\n",
      "\n",
      "Numeric part after conversion:\n",
      "    16.660  -999.990\n",
      "    16.850  -999.990\n",
      "    16.930  -999.990\n",
      "    16.980  -999.990\n",
      "    17.080  -999.990\n",
      "    17.030     7.000\n",
      "    17.090     8.000\n",
      "    16.760  -999.990\n",
      "    16.670  -999.990\n",
      "    16.720  -999.990\n",
      "\n"
     ]
    }
   ],
   "source": [
    "using ExcelReaders\n",
    "#see https://github.com/davidanthoff/ExcelReaders.jl for more examples\n",
    "#Notice: you need python's xlrd libarary for this to work.\n",
    "\n",
    "println(\"\\n------------Approach 1: readxl-------------------\")\n",
    "\n",
    "data1 = readxl(\"Data/readXlsTsT_Data.xlsx\",\"Data!B2:C11\")       #reading using range\n",
    "x1    = convert(Array{Float64},data1)            #convert from DataArray to traditional matrix\n",
    "println(\"\\nNumeric part after conversion:\")\n",
    "printmat(x1)"
   ]
  },
  {
   "cell_type": "code",
   "execution_count": 11,
   "metadata": {
    "collapsed": false,
    "deletable": true,
    "editable": true
   },
   "outputs": [
    {
     "name": "stdout",
     "output_type": "stream",
     "text": [
      "\n",
      "------------Approach 2: readxlsheet--------------\n",
      "\n",
      "Numeric part after conversion: \n",
      "    16.660  -999.990\n",
      "    16.850  -999.990\n",
      "    16.930  -999.990\n",
      "    16.980  -999.990\n",
      "    17.080  -999.990\n",
      "    17.030     7.000\n",
      "    17.090     8.000\n",
      "    16.760  -999.990\n",
      "    16.670  -999.990\n",
      "    16.720  -999.990\n",
      "\n",
      "\n",
      "Numeric part after changing -999.99 to NaN:\n",
      "    16.660       NaN\n",
      "    16.850       NaN\n",
      "    16.930       NaN\n",
      "    16.980       NaN\n",
      "    17.080       NaN\n",
      "    17.030     7.000\n",
      "    17.090     8.000\n",
      "    16.760       NaN\n",
      "    16.670       NaN\n",
      "    16.720       NaN\n",
      "\n"
     ]
    }
   ],
   "source": [
    "println(\"\\n------------Approach 2: readxlsheet--------------\")\n",
    "\n",
    "data2 = readxlsheet(\"Data/readXlsTsT_Data.xlsx\",\"Data\",skipstartrows=1)  #reading all columns\n",
    "x2    = convert(Array{Float64},data2[:,2:end])\n",
    "println(\"\\nNumeric part after conversion: \")\n",
    "printmat(x2)\n",
    "\n",
    "x2[x2 .== -999.99] = NaN                     #converting to NaNs\n",
    "println(\"\\nNumeric part after changing -999.99 to NaN:\")\n",
    "printmat(x2)"
   ]
  },
  {
   "cell_type": "code",
   "execution_count": null,
   "metadata": {
    "collapsed": true,
    "deletable": true,
    "editable": true
   },
   "outputs": [],
   "source": []
  }
 ],
 "metadata": {
  "anaconda-cloud": {},
  "kernelspec": {
   "display_name": "Julia 0.5.1",
   "language": "julia",
   "name": "julia-0.5"
  },
  "language_info": {
   "file_extension": ".jl",
   "mimetype": "application/julia",
   "name": "julia",
   "version": "0.5.1"
  }
 },
 "nbformat": 4,
 "nbformat_minor": 1
}
