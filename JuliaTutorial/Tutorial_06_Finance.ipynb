{
 "cells": [
  {
   "cell_type": "markdown",
   "metadata": {
    "collapsed": true,
    "deletable": true,
    "editable": true
   },
   "source": [
    "# Some Typical Financial Calculations"
   ]
  },
  {
   "cell_type": "code",
   "execution_count": 1,
   "metadata": {
    "collapsed": false,
    "deletable": true,
    "editable": true
   },
   "outputs": [
    {
     "data": {
      "text/plain": [
       "printlnPs (generic function with 1 method)"
      ]
     },
     "execution_count": 1,
     "metadata": {},
     "output_type": "execute_result"
    }
   ],
   "source": [
    "using StatsBase, Roots, SpecialFunctions \n",
    "\n",
    "include(\"printmat.jl\")            #function for prettier matrix printing"
   ]
  },
  {
   "cell_type": "code",
   "execution_count": 2,
   "metadata": {
    "collapsed": true,
    "deletable": true,
    "editable": true
   },
   "outputs": [],
   "source": [
    "using Plots\n",
    "\n",
    "backend = \"gr\"              #\"gr\" (default), \"pyplot\" \n",
    "\n",
    "if backend == \"pyplot\"\n",
    "    pyplot(size=(600,400))\n",
    "    default(show=false)               #for pyplot: avoids pop-ups\n",
    "else    \n",
    "    gr(size=(600,400))\n",
    "    default(show=true)\n",
    "end"
   ]
  },
  {
   "cell_type": "markdown",
   "metadata": {
    "deletable": true,
    "editable": true
   },
   "source": [
    "# OLS and Autocorrelations"
   ]
  },
  {
   "cell_type": "markdown",
   "metadata": {
    "deletable": true,
    "editable": true
   },
   "source": [
    "### Load Data"
   ]
  },
  {
   "cell_type": "code",
   "execution_count": 3,
   "metadata": {
    "collapsed": false,
    "deletable": true,
    "editable": true
   },
   "outputs": [
    {
     "data": {
      "text/html": [
       "388"
      ],
      "text/plain": [
       "388"
      ]
     },
     "execution_count": 3,
     "metadata": {},
     "output_type": "execute_result"
    }
   ],
   "source": [
    "xx  = readdlm(\"Data/MyData.csv\",',',header=true)\n",
    "x   = xx[1]\n",
    "ym  = x[:,1]                 #yearmonth\n",
    "Rme = x[:,2]                 #market excess return\n",
    "Rf  = x[:,3]                 #interest rate\n",
    "R   = x[:,4]                 #return small growth stocks\n",
    "Re  = R - Rf                 #excess returns\n",
    "T   = size(Rme,1)"
   ]
  },
  {
   "cell_type": "markdown",
   "metadata": {
    "deletable": true,
    "editable": true
   },
   "source": [
    "### CAPM regression and Autocorrelations"
   ]
  },
  {
   "cell_type": "code",
   "execution_count": 4,
   "metadata": {
    "collapsed": false,
    "deletable": true,
    "editable": true
   },
   "outputs": [
    {
     "name": "stdout",
     "output_type": "stream",
     "text": [
      "OLS coefficients (col 1) and their std (col 2)\n",
      "    -0.504     0.304\n",
      "     1.341     0.066\n",
      "\n",
      "R2:      0.519\n",
      "no. of observations:        388\n"
     ]
    }
   ],
   "source": [
    "x    = [ones(T) Rme]             #regressors\n",
    "y    = copy(Re)                  #to get standard OLS notation\n",
    "b    = x\\y                       #OLS\n",
    "u    = y - x*b                   #residuals\n",
    "covb = inv(x'x)*var(u)           #cov(b)\n",
    "stdb = sqrt(diag(covb))          #std(b)\n",
    "R2a  = 1 - var(u)/var(y)\n",
    "\n",
    "println(\"OLS coefficients (col 1) and their std (col 2)\")\n",
    "printmat([b stdb])\n",
    "printlnPs(\"R2: \",R2a)\n",
    "printlnPs(\"no. of observations: \",T)"
   ]
  },
  {
   "cell_type": "code",
   "execution_count": 5,
   "metadata": {
    "collapsed": false,
    "deletable": true,
    "editable": true
   },
   "outputs": [
    {
     "name": "stdout",
     "output_type": "stream",
     "text": [
      "\n",
      " lag (col 1) autocorrr (col 2) and its t-stat (col 3)\n",
      "     1.000     0.216     4.253\n",
      "     2.000     0.002     0.046\n",
      "     3.000    -0.018    -0.359\n",
      "     4.000    -0.065    -1.289\n",
      "     5.000    -0.027    -0.536\n",
      "\n"
     ]
    }
   ],
   "source": [
    "plags = 1:5\n",
    "xCorr = autocor(Re,plags)\n",
    "\n",
    "println(\"\\n lag (col 1) autocorrr (col 2) and its t-stat (col 3)\")\n",
    "printmat([plags xCorr sqrt(T)*xCorr])"
   ]
  },
  {
   "cell_type": "markdown",
   "metadata": {
    "deletable": true,
    "editable": true
   },
   "source": [
    "# Value at Risk"
   ]
  },
  {
   "cell_type": "code",
   "execution_count": 6,
   "metadata": {
    "collapsed": false,
    "deletable": true,
    "editable": true
   },
   "outputs": [
    {
     "data": {
      "text/plain": [
       "388-element Array{Float64,1}:\n",
       " 6.4961 \n",
       " 6.44361\n",
       " 6.38066\n",
       " 6.47026\n",
       " 6.28037\n",
       " 6.14912\n",
       " 6.09348\n",
       " 5.91481\n",
       " 6.02466\n",
       " 5.85366\n",
       " 6.33799\n",
       " 6.41068\n",
       " 6.25113\n",
       " ⋮      \n",
       " 8.32903\n",
       " 8.67378\n",
       " 8.70052\n",
       " 8.71098\n",
       " 8.67052\n",
       " 8.89147\n",
       " 8.69606\n",
       " 8.45105\n",
       " 8.44683\n",
       " 8.21349\n",
       " 8.03808\n",
       " 7.81245"
      ]
     },
     "execution_count": 6,
     "metadata": {},
     "output_type": "execute_result"
    }
   ],
   "source": [
    "lambda = 0.95                         #weight on old volatility\n",
    "\n",
    "Rm     = Rme + Rf                     #equity market return in %\n",
    "sigma2 = var(Rm)\n",
    "mu     = mean(Rm)\n",
    "\n",
    "vol2 = fill(sigma2,T)                 #RiskMetrics approach to estimate variance     \n",
    "for t = 2:T\n",
    "  vol2[t] = lambda*vol2[t-1] + (1-lambda)*(Rm[t-1]-mu)^2    \n",
    "end\n",
    "\n",
    "VaR95 = -(mu - 1.64*sqrt.(vol2))      #VaR at 95% level"
   ]
  },
  {
   "cell_type": "code",
   "execution_count": 7,
   "metadata": {
    "collapsed": false,
    "deletable": true,
    "editable": true
   },
   "outputs": [
    {
     "data": {
      "text/html": [
       "<?xml version=\"1.0\" encoding=\"utf-8\"?>\n",
       "<svg xmlns=\"http://www.w3.org/2000/svg\" xmlns:xlink=\"http://www.w3.org/1999/xlink\" width=\"600\" height=\"400\" viewBox=\"0 0 600 400\">\n",
       "<defs>\n",
       "  <clipPath id=\"clip00\">\n",
       "    <rect x=\"0\" y=\"0\" width=\"600\" height=\"400\"/>\n",
       "  </clipPath>\n",
       "</defs>\n",
       "<polygon clip-path=\"url(#clip00)\" points=\"\n",
       "0,400 600,400 600,0 0,0 \n",
       "  \" fill=\"#ffffff\" fill-opacity=\"1\"/>\n",
       "<defs>\n",
       "  <clipPath id=\"clip01\">\n",
       "    <rect x=\"120\" y=\"0\" width=\"421\" height=\"400\"/>\n",
       "  </clipPath>\n",
       "</defs>\n",
       "<polygon clip-path=\"url(#clip00)\" points=\"\n",
       "36.9926,384.952 596.063,384.952 596.063,23.3815 36.9926,23.3815 \n",
       "  \" fill=\"#ffffff\" fill-opacity=\"1\"/>\n",
       "<defs>\n",
       "  <clipPath id=\"clip02\">\n",
       "    <rect x=\"36\" y=\"23\" width=\"560\" height=\"362\"/>\n",
       "  </clipPath>\n",
       "</defs>\n",
       "<polyline clip-path=\"url(#clip02)\" style=\"stroke:#00002d; stroke-width:0.8; stroke-opacity:0.5; fill:none\" stroke-dasharray=\"1, 2\" points=\"\n",
       "  69.8791,379.528 69.8791,28.805 \n",
       "  \"/>\n",
       "<polyline clip-path=\"url(#clip02)\" style=\"stroke:#00002d; stroke-width:0.8; stroke-opacity:0.5; fill:none\" stroke-dasharray=\"1, 2\" points=\"\n",
       "  234.312,379.528 234.312,28.805 \n",
       "  \"/>\n",
       "<polyline clip-path=\"url(#clip02)\" style=\"stroke:#00002d; stroke-width:0.8; stroke-opacity:0.5; fill:none\" stroke-dasharray=\"1, 2\" points=\"\n",
       "  398.744,379.528 398.744,28.805 \n",
       "  \"/>\n",
       "<polyline clip-path=\"url(#clip02)\" style=\"stroke:#00002d; stroke-width:0.8; stroke-opacity:0.5; fill:none\" stroke-dasharray=\"1, 2\" points=\"\n",
       "  563.176,379.528 563.176,28.805 \n",
       "  \"/>\n",
       "<polyline clip-path=\"url(#clip02)\" style=\"stroke:#00002d; stroke-width:0.8; stroke-opacity:0.5; fill:none\" stroke-dasharray=\"1, 2\" points=\"\n",
       "  45.3786,384.952 587.677,384.952 \n",
       "  \"/>\n",
       "<polyline clip-path=\"url(#clip02)\" style=\"stroke:#00002d; stroke-width:0.8; stroke-opacity:0.5; fill:none\" stroke-dasharray=\"1, 2\" points=\"\n",
       "  45.3786,319.212 587.677,319.212 \n",
       "  \"/>\n",
       "<polyline clip-path=\"url(#clip02)\" style=\"stroke:#00002d; stroke-width:0.8; stroke-opacity:0.5; fill:none\" stroke-dasharray=\"1, 2\" points=\"\n",
       "  45.3786,253.472 587.677,253.472 \n",
       "  \"/>\n",
       "<polyline clip-path=\"url(#clip02)\" style=\"stroke:#00002d; stroke-width:0.8; stroke-opacity:0.5; fill:none\" stroke-dasharray=\"1, 2\" points=\"\n",
       "  45.3786,187.732 587.677,187.732 \n",
       "  \"/>\n",
       "<polyline clip-path=\"url(#clip02)\" style=\"stroke:#00002d; stroke-width:0.8; stroke-opacity:0.5; fill:none\" stroke-dasharray=\"1, 2\" points=\"\n",
       "  45.3786,121.992 587.677,121.992 \n",
       "  \"/>\n",
       "<polyline clip-path=\"url(#clip02)\" style=\"stroke:#00002d; stroke-width:0.8; stroke-opacity:0.5; fill:none\" stroke-dasharray=\"1, 2\" points=\"\n",
       "  45.3786,56.2515 587.677,56.2515 \n",
       "  \"/>\n",
       "<polyline clip-path=\"url(#clip02)\" style=\"stroke:#00002d; stroke-width:0.8; stroke-opacity:1; fill:none\" points=\"\n",
       "  36.9926,384.952 596.063,384.952 \n",
       "  \"/>\n",
       "<polyline clip-path=\"url(#clip02)\" style=\"stroke:#00002d; stroke-width:0.8; stroke-opacity:1; fill:none\" points=\"\n",
       "  69.8791,384.952 69.8791,379.528 \n",
       "  \"/>\n",
       "<polyline clip-path=\"url(#clip02)\" style=\"stroke:#00002d; stroke-width:0.8; stroke-opacity:1; fill:none\" points=\"\n",
       "  234.312,384.952 234.312,379.528 \n",
       "  \"/>\n",
       "<polyline clip-path=\"url(#clip02)\" style=\"stroke:#00002d; stroke-width:0.8; stroke-opacity:1; fill:none\" points=\"\n",
       "  398.744,384.952 398.744,379.528 \n",
       "  \"/>\n",
       "<polyline clip-path=\"url(#clip02)\" style=\"stroke:#00002d; stroke-width:0.8; stroke-opacity:1; fill:none\" points=\"\n",
       "  563.176,384.952 563.176,379.528 \n",
       "  \"/>\n",
       "<polyline clip-path=\"url(#clip02)\" style=\"stroke:#00002d; stroke-width:0.8; stroke-opacity:1; fill:none\" points=\"\n",
       "  36.9926,384.952 36.9926,23.3815 \n",
       "  \"/>\n",
       "<polyline clip-path=\"url(#clip02)\" style=\"stroke:#00002d; stroke-width:0.8; stroke-opacity:1; fill:none\" points=\"\n",
       "  36.9926,384.952 45.3786,384.952 \n",
       "  \"/>\n",
       "<polyline clip-path=\"url(#clip02)\" style=\"stroke:#00002d; stroke-width:0.8; stroke-opacity:1; fill:none\" points=\"\n",
       "  36.9926,319.212 45.3786,319.212 \n",
       "  \"/>\n",
       "<polyline clip-path=\"url(#clip02)\" style=\"stroke:#00002d; stroke-width:0.8; stroke-opacity:1; fill:none\" points=\"\n",
       "  36.9926,253.472 45.3786,253.472 \n",
       "  \"/>\n",
       "<polyline clip-path=\"url(#clip02)\" style=\"stroke:#00002d; stroke-width:0.8; stroke-opacity:1; fill:none\" points=\"\n",
       "  36.9926,187.732 45.3786,187.732 \n",
       "  \"/>\n",
       "<polyline clip-path=\"url(#clip02)\" style=\"stroke:#00002d; stroke-width:0.8; stroke-opacity:1; fill:none\" points=\"\n",
       "  36.9926,121.992 45.3786,121.992 \n",
       "  \"/>\n",
       "<polyline clip-path=\"url(#clip02)\" style=\"stroke:#00002d; stroke-width:0.8; stroke-opacity:1; fill:none\" points=\"\n",
       "  36.9926,56.2515 45.3786,56.2515 \n",
       "  \"/>\n",
       "<g clip-path=\"url(#clip00)\">\n",
       "<text style=\"fill:#00002d; fill-opacity:1; font-family:Arial,Helvetica Neue,Helvetica,sans-serif; font-size:12; text-anchor:middle;\" transform=\"rotate(0, 69.8791, 396.952)\" x=\"69.8791\" y=\"396.952\">1980</text>\n",
       "</g>\n",
       "<g clip-path=\"url(#clip00)\">\n",
       "<text style=\"fill:#00002d; fill-opacity:1; font-family:Arial,Helvetica Neue,Helvetica,sans-serif; font-size:12; text-anchor:middle;\" transform=\"rotate(0, 234.312, 396.952)\" x=\"234.312\" y=\"396.952\">1990</text>\n",
       "</g>\n",
       "<g clip-path=\"url(#clip00)\">\n",
       "<text style=\"fill:#00002d; fill-opacity:1; font-family:Arial,Helvetica Neue,Helvetica,sans-serif; font-size:12; text-anchor:middle;\" transform=\"rotate(0, 398.744, 396.952)\" x=\"398.744\" y=\"396.952\">2000</text>\n",
       "</g>\n",
       "<g clip-path=\"url(#clip00)\">\n",
       "<text style=\"fill:#00002d; fill-opacity:1; font-family:Arial,Helvetica Neue,Helvetica,sans-serif; font-size:12; text-anchor:middle;\" transform=\"rotate(0, 563.176, 396.952)\" x=\"563.176\" y=\"396.952\">2010</text>\n",
       "</g>\n",
       "<g clip-path=\"url(#clip00)\">\n",
       "<text style=\"fill:#00002d; fill-opacity:1; font-family:Arial,Helvetica Neue,Helvetica,sans-serif; font-size:12; text-anchor:end;\" transform=\"rotate(0, 35.7926, 389.452)\" x=\"35.7926\" y=\"389.452\">0</text>\n",
       "</g>\n",
       "<g clip-path=\"url(#clip00)\">\n",
       "<text style=\"fill:#00002d; fill-opacity:1; font-family:Arial,Helvetica Neue,Helvetica,sans-serif; font-size:12; text-anchor:end;\" transform=\"rotate(0, 35.7926, 323.712)\" x=\"35.7926\" y=\"323.712\">2</text>\n",
       "</g>\n",
       "<g clip-path=\"url(#clip00)\">\n",
       "<text style=\"fill:#00002d; fill-opacity:1; font-family:Arial,Helvetica Neue,Helvetica,sans-serif; font-size:12; text-anchor:end;\" transform=\"rotate(0, 35.7926, 257.972)\" x=\"35.7926\" y=\"257.972\">4</text>\n",
       "</g>\n",
       "<g clip-path=\"url(#clip00)\">\n",
       "<text style=\"fill:#00002d; fill-opacity:1; font-family:Arial,Helvetica Neue,Helvetica,sans-serif; font-size:12; text-anchor:end;\" transform=\"rotate(0, 35.7926, 192.232)\" x=\"35.7926\" y=\"192.232\">6</text>\n",
       "</g>\n",
       "<g clip-path=\"url(#clip00)\">\n",
       "<text style=\"fill:#00002d; fill-opacity:1; font-family:Arial,Helvetica Neue,Helvetica,sans-serif; font-size:12; text-anchor:end;\" transform=\"rotate(0, 35.7926, 126.492)\" x=\"35.7926\" y=\"126.492\">8</text>\n",
       "</g>\n",
       "<g clip-path=\"url(#clip00)\">\n",
       "<text style=\"fill:#00002d; fill-opacity:1; font-family:Arial,Helvetica Neue,Helvetica,sans-serif; font-size:12; text-anchor:end;\" transform=\"rotate(0, 35.7926, 60.7515)\" x=\"35.7926\" y=\"60.7515\">10</text>\n",
       "</g>\n",
       "<g clip-path=\"url(#clip00)\">\n",
       "<text style=\"fill:#00002d; fill-opacity:1; font-family:Arial,Helvetica Neue,Helvetica,sans-serif; font-size:21; text-anchor:middle;\" transform=\"rotate(0, 316.528, 18)\" x=\"316.528\" y=\"18\">1-month Value at Risk (95%) for US equity market</text>\n",
       "</g>\n",
       "<g clip-path=\"url(#clip00)\">\n",
       "<text style=\"fill:#00002d; fill-opacity:1; font-family:Arial,Helvetica Neue,Helvetica,sans-serif; font-size:16; text-anchor:middle;\" transform=\"rotate(-90, 14.4, 204.167)\" x=\"14.4\" y=\"204.167\">%</text>\n",
       "</g>\n",
       "<polyline clip-path=\"url(#clip02)\" style=\"stroke:#0000ff; stroke-width:0.8; stroke-opacity:1; fill:none\" points=\"\n",
       "  53.4358,171.425 54.8061,173.15 56.1764,175.219 57.5466,172.274 58.9169,178.516 60.2872,182.83 61.6574,184.659 63.0277,190.532 64.398,186.921 65.7682,192.542 \n",
       "  67.1385,176.622 68.5088,174.233 69.8791,179.477 71.2493,176.268 72.6196,182.148 73.9899,139.604 75.3601,142.05 76.7304,142.513 78.1007,147.523 79.471,145.028 \n",
       "  80.8412,151.5 82.2115,157.268 83.5818,163.635 84.952,145.263 86.3223,146.788 87.6926,146.791 89.0628,153.619 90.4331,156.778 91.8034,162.086 93.1737,168.568 \n",
       "  94.5439,173.652 95.9142,179.316 97.2845,171.944 98.6547,162.134 100.025,161.561 101.395,164.492 102.766,166.636 104.136,169.104 105.506,164.406 106.876,169.629 \n",
       "  108.247,172.743 109.617,174.514 110.987,177.147 112.357,180.35 113.728,152.138 115.098,158.787 116.468,133.852 117.839,136.621 119.209,143.733 120.579,148.042 \n",
       "  121.949,153.836 123.32,158.907 124.69,154.109 126.06,160.8 127.43,165.192 128.801,166.495 130.171,172.753 131.541,178.897 132.912,180.446 134.282,185.347 \n",
       "  135.652,189.878 137.022,193.909 138.393,191.644 139.763,197.377 141.133,202.784 142.503,195.124 143.874,200.239 145.244,202.532 146.614,174.673 147.984,180.559 \n",
       "  149.355,186.257 150.725,190.732 152.095,195.944 153.466,183.441 154.836,189.279 156.206,194.625 157.576,199.783 158.947,198.458 160.317,203.898 161.687,208.952 \n",
       "  163.057,213.456 164.428,209.727 165.798,210.966 167.168,204.232 168.539,206.007 169.909,211.405 171.279,203.29 172.649,202.332 174.02,206.673 175.39,206.416 \n",
       "  176.76,211.755 178.13,200.051 179.501,195.272 180.871,175.777 182.241,177.36 183.612,183.416 184.982,185.14 186.352,150.316 187.722,153.261 189.093,159.503 \n",
       "  190.463,163.929 191.833,170.311 193.203,173.321 194.574,176.115 195.944,180.099 197.314,183.134 198.685,53.4956 200.055,49.0711 201.425,51.2962 202.795,58.213 \n",
       "  204.166,63.8546 205.536,71.3241 206.906,80.1325 208.276,88.4976 209.647,93.0922 211.017,100.633 212.387,105.264 213.757,111.517 215.128,119.184 216.498,124.998 \n",
       "  217.868,132.16 219.239,131.494 220.609,136.921 221.979,143.746 223.349,146.888 224.72,151.512 226.09,157.638 227.46,151.895 228.83,158.284 230.201,164.486 \n",
       "  231.571,166.36 232.941,172.603 234.312,178.66 235.682,165.454 237.052,171.821 238.422,177.523 239.793,179.062 241.163,166.754 242.533,172.516 243.903,177.578 \n",
       "  245.274,153.354 246.644,148.769 248.014,154.172 249.385,152.431 250.755,158.172 252.125,160.547 253.495,155.07 254.866,160.798 256.236,167.195 257.606,170.881 \n",
       "  258.976,168.436 260.347,170.885 261.717,176.37 263.087,181.114 264.457,186.974 265.828,185.658 267.198,163.647 268.568,169.724 269.939,176.015 271.309,178.631 \n",
       "  272.679,184.695 274.049,190.582 275.42,193.509 276.79,196.375 278.16,198.78 279.53,204.349 280.901,209.788 282.271,211.961 283.641,217.014 285.012,222.116 \n",
       "  286.382,227.012 287.752,231.046 289.122,230.795 290.493,234.118 291.863,238.703 293.233,242.755 294.603,243.689 295.974,247.725 297.344,251.811 298.714,252.59 \n",
       "  300.085,256.441 301.455,258.543 302.825,257.145 304.195,247.324 305.566,251.673 306.936,255.911 308.306,253.477 309.676,255.854 311.047,255.337 312.417,255.751 \n",
       "  313.787,259.815 315.158,253.584 316.528,257.757 317.898,261.387 319.268,261.416 320.639,264.12 322.009,267.031 323.379,268.187 324.749,269.898 326.12,269.145 \n",
       "  327.49,272.939 328.86,273.246 330.23,274.552 331.601,272.948 332.971,276.536 334.341,278.527 335.712,281.907 337.082,285.383 338.452,287.513 339.822,289.34 \n",
       "  341.193,290.632 342.563,271.906 343.933,273.192 345.303,267.921 346.674,271.7 348.044,260.801 349.414,262.587 350.785,257.966 352.155,261.437 353.525,251.594 \n",
       "  354.895,251.355 356.266,239.758 357.636,239.655 359.006,226.934 360.376,223.522 361.747,219.87 363.117,217.545 364.487,221.183 365.858,225.993 367.228,230.75 \n",
       "  368.598,220.504 369.968,219.368 371.339,224.428 372.709,224.43 374.079,227.607 375.449,228.059 376.82,143.84 378.19,143.211 379.56,139.367 380.93,139.459 \n",
       "  382.301,139.249 383.671,144.248 385.041,144.902 386.412,149.805 387.782,152.521 389.152,156.581 390.522,158.647 391.893,160.452 393.263,165.805 394.633,168.995 \n",
       "  396.003,167.504 397.374,171.827 398.744,162.383 400.114,161.726 401.485,166.928 402.855,167.895 404.225,160.163 405.595,159.789 406.966,161.534 408.336,165.876 \n",
       "  409.706,159.986 411.076,155.891 412.447,159.109 413.817,131.464 415.187,138.493 416.558,143.367 417.928,119.58 419.298,111.384 420.668,106.415 422.039,114.336 \n",
       "  423.409,120.155 424.779,125.678 426.149,121.123 427.52,103.762 428.89,111.038 430.26,107.74 431.631,115.494 433.001,121.476 434.371,126.442 435.741,130.881 \n",
       "  437.112,129.017 438.482,135.243 439.852,125.827 441.222,112.712 442.593,120.459 443.963,99.044 445.333,97.6204 446.703,99.822 448.074,98.5723 449.444,104.043 \n",
       "  450.814,110.45 452.185,118.268 453.555,113.192 454.925,114.158 456.295,121.798 457.666,128.927 459.036,135.733 460.406,141.91 461.776,142.328 463.147,149.236 \n",
       "  464.517,152.698 465.887,159.005 467.258,165.521 468.628,170.637 469.998,173.362 471.368,179.547 472.739,185.228 474.109,183.89 475.479,189.66 476.849,195.144 \n",
       "  478.22,200.637 479.59,201.361 480.96,204.788 482.331,205.506 483.701,210.393 485.071,213.032 486.441,213.716 487.812,216.181 489.182,221.318 490.552,222.302 \n",
       "  491.922,226.282 493.293,231.167 494.663,232.104 496.033,233.298 497.404,237.813 498.774,238.85 500.144,242.82 501.514,246.969 502.885,251.302 504.255,248.106 \n",
       "  505.625,251.929 506.995,255.489 508.366,258.658 509.736,262.351 511.106,262.979 512.476,266.098 513.847,269.974 515.217,273.352 516.587,274.029 517.958,277.671 \n",
       "  519.328,276.755 520.698,276.184 522.068,276.554 523.439,271.185 524.809,274.926 526.179,273.862 527.549,276.336 528.92,262.446 530.29,265.388 531.66,245.537 \n",
       "  533.031,245.481 534.401,248.03 535.771,245.277 537.141,248.906 538.512,221.553 539.882,224.465 541.252,229.394 542.622,192.556 543.993,96.5315 545.363,84.2039 \n",
       "  546.733,92.4142 548.104,83.5195 549.474,65.4796 550.844,62.077 552.214,50.8127 553.585,53.6559 554.955,62.5612 556.325,60.9304 557.695,69.0449 559.066,75.333 \n",
       "  560.436,80.7888 561.806,84.5343 563.176,92.225 564.547,95.3971 565.917,102.176 567.287,103.405 568.658,111.176 570.028,99.8443 571.398,98.9653 572.768,98.6217 \n",
       "  574.139,99.9516 575.509,92.6891 576.879,99.1121 578.249,107.166 579.62,107.304 580.99,114.974 582.36,120.74 583.731,128.156 \n",
       "  \"/>\n",
       "</svg>\n"
      ]
     },
     "execution_count": 7,
     "metadata": {},
     "output_type": "execute_result"
    }
   ],
   "source": [
    "YearFrac = floor(ym/100) + (mod(ym,100)-1)/12    #eg 1990.92 for Dec 1990\n",
    "\n",
    "plot1 = plot(YearFrac,VaR95,color=:blue,legend=false)\n",
    "plot!(xlims=(1978,2012),ylims=(0,11))\n",
    "title!(\"1-month Value at Risk (95%) for US equity market\")\n",
    "ylabel!(\"%\")"
   ]
  },
  {
   "cell_type": "markdown",
   "metadata": {
    "deletable": true,
    "editable": true
   },
   "source": [
    "# Mean-variance Frontier"
   ]
  },
  {
   "cell_type": "code",
   "execution_count": 8,
   "metadata": {
    "collapsed": false,
    "deletable": true,
    "editable": true
   },
   "outputs": [
    {
     "data": {
      "text/plain": [
       "151-element LinSpace{Float64}:\n",
       " 0.0,0.001,0.002,0.003,0.004,0.005,0.006,…,0.145,0.146,0.147,0.148,0.149,0.15"
      ]
     },
     "execution_count": 8,
     "metadata": {},
     "output_type": "execute_result"
    }
   ],
   "source": [
    "Rf    = 0.04                       #some inputs, here riskfree\n",
    "mu    = [0.125; 0.105; 0.07]       #mean returns\n",
    "stdd  = [0.129; 0.08; 0.1]         #std\n",
    "Corr  = [ 1   0.33   0.45;         #correlation matrix\n",
    "          0.33  1    0.05;\n",
    "          0.45  0.05  1];\n",
    "Sigma  = (stdd*stdd').*Corr        #covariance matrix\n",
    "N      = length(mu)                #number of assets\n",
    "\n",
    "mu_p = linspace(0,0.15,151)        #average returns to calculate min(Std(R_p)) at"
   ]
  },
  {
   "cell_type": "code",
   "execution_count": 9,
   "metadata": {
    "collapsed": false,
    "deletable": true,
    "editable": true
   },
   "outputs": [
    {
     "data": {
      "text/plain": [
       "151-element Array{Float64,1}:\n",
       " 0.0437051\n",
       " 0.0426125\n",
       " 0.0415199\n",
       " 0.0404273\n",
       " 0.0393346\n",
       " 0.038242 \n",
       " 0.0371494\n",
       " 0.0360567\n",
       " 0.0349641\n",
       " 0.0338715\n",
       " 0.0327789\n",
       " 0.0316862\n",
       " 0.0305936\n",
       " ⋮        \n",
       " 0.10817  \n",
       " 0.109263 \n",
       " 0.110355 \n",
       " 0.111448 \n",
       " 0.112541 \n",
       " 0.113633 \n",
       " 0.114726 \n",
       " 0.115819 \n",
       " 0.116911 \n",
       " 0.118004 \n",
       " 0.119097 \n",
       " 0.120189 "
      ]
     },
     "execution_count": 9,
     "metadata": {},
     "output_type": "execute_result"
    }
   ],
   "source": [
    "ettor   = ones(N)                  #ettor means ones in Swedish: this a vector of those\n",
    "Sigma_1 = inv(Sigma)               #mean-variance arithmetic\n",
    "A       = (ettor'Sigma_1*mu)[1]          # [1] transforms from 1x1 array to scalar\n",
    "B       = (mu'Sigma_1*mu)[1]\n",
    "C       = (ettor'Sigma_1*ettor)[1]\n",
    "D       = B*C - A^2\n",
    "K       = length(mu_p)\n",
    "\n",
    "Var_p = fill(NaN,K)                        #to store results in\n",
    "for i = 1:K                                #loop over mean returns in Std x  mean figure\n",
    "  g        = ( B*(Sigma_1*ettor) - A*(Sigma_1*mu) )/D\n",
    "  h        = ( C*(Sigma_1*mu)  - A*(Sigma_1*ettor) )/D\n",
    "  w_pi     = g + h.*mu_p[i]                        #portfolio weights at mean mu_p[i]\n",
    "  Var_p[i] = (w_pi'Sigma*w_pi)[1]                  #variance of portfolio with mean mu_p[i]\n",
    "end\n",
    "\n",
    "SR_T    = sqrt.((mu-Rf)'Sigma_1*(mu-Rf))          #Sharpe ratio of Tangency portfolio\n",
    "CML_std = sqrt.(((mu_p-Rf)./SR_T).^2)             #std according to CLM"
   ]
  },
  {
   "cell_type": "code",
   "execution_count": 10,
   "metadata": {
    "collapsed": false,
    "deletable": true,
    "editable": true
   },
   "outputs": [
    {
     "data": {
      "text/html": [
       "<?xml version=\"1.0\" encoding=\"utf-8\"?>\n",
       "<svg xmlns=\"http://www.w3.org/2000/svg\" xmlns:xlink=\"http://www.w3.org/1999/xlink\" width=\"600\" height=\"400\" viewBox=\"0 0 600 400\">\n",
       "<defs>\n",
       "  <clipPath id=\"clip00\">\n",
       "    <rect x=\"0\" y=\"0\" width=\"600\" height=\"400\"/>\n",
       "  </clipPath>\n",
       "</defs>\n",
       "<polygon clip-path=\"url(#clip00)\" points=\"\n",
       "0,400 600,400 600,0 0,0 \n",
       "  \" fill=\"#ffffff\" fill-opacity=\"1\"/>\n",
       "<defs>\n",
       "  <clipPath id=\"clip01\">\n",
       "    <rect x=\"120\" y=\"0\" width=\"421\" height=\"400\"/>\n",
       "  </clipPath>\n",
       "</defs>\n",
       "<polygon clip-path=\"url(#clip00)\" points=\"\n",
       "63.6592,369.674 596.063,369.674 596.063,23.3815 63.6592,23.3815 \n",
       "  \" fill=\"#ffffff\" fill-opacity=\"1\"/>\n",
       "<defs>\n",
       "  <clipPath id=\"clip02\">\n",
       "    <rect x=\"63\" y=\"23\" width=\"533\" height=\"347\"/>\n",
       "  </clipPath>\n",
       "</defs>\n",
       "<polyline clip-path=\"url(#clip02)\" style=\"stroke:#00002d; stroke-width:0.8; stroke-opacity:0.5; fill:none\" stroke-dasharray=\"1, 2\" points=\"\n",
       "  63.6592,364.48 63.6592,28.5758 \n",
       "  \"/>\n",
       "<polyline clip-path=\"url(#clip02)\" style=\"stroke:#00002d; stroke-width:0.8; stroke-opacity:0.5; fill:none\" stroke-dasharray=\"1, 2\" points=\"\n",
       "  190.858,364.48 190.858,28.5758 \n",
       "  \"/>\n",
       "<polyline clip-path=\"url(#clip02)\" style=\"stroke:#00002d; stroke-width:0.8; stroke-opacity:0.5; fill:none\" stroke-dasharray=\"1, 2\" points=\"\n",
       "  318.057,364.48 318.057,28.5758 \n",
       "  \"/>\n",
       "<polyline clip-path=\"url(#clip02)\" style=\"stroke:#00002d; stroke-width:0.8; stroke-opacity:0.5; fill:none\" stroke-dasharray=\"1, 2\" points=\"\n",
       "  445.256,364.48 445.256,28.5758 \n",
       "  \"/>\n",
       "<polyline clip-path=\"url(#clip02)\" style=\"stroke:#00002d; stroke-width:0.8; stroke-opacity:0.5; fill:none\" stroke-dasharray=\"1, 2\" points=\"\n",
       "  572.454,364.48 572.454,28.5758 \n",
       "  \"/>\n",
       "<polyline clip-path=\"url(#clip02)\" style=\"stroke:#00002d; stroke-width:0.8; stroke-opacity:0.5; fill:none\" stroke-dasharray=\"1, 2\" points=\"\n",
       "  71.6453,369.674 588.077,369.674 \n",
       "  \"/>\n",
       "<polyline clip-path=\"url(#clip02)\" style=\"stroke:#00002d; stroke-width:0.8; stroke-opacity:0.5; fill:none\" stroke-dasharray=\"1, 2\" points=\"\n",
       "  71.6453,311.959 588.077,311.959 \n",
       "  \"/>\n",
       "<polyline clip-path=\"url(#clip02)\" style=\"stroke:#00002d; stroke-width:0.8; stroke-opacity:0.5; fill:none\" stroke-dasharray=\"1, 2\" points=\"\n",
       "  71.6453,254.243 588.077,254.243 \n",
       "  \"/>\n",
       "<polyline clip-path=\"url(#clip02)\" style=\"stroke:#00002d; stroke-width:0.8; stroke-opacity:0.5; fill:none\" stroke-dasharray=\"1, 2\" points=\"\n",
       "  71.6453,196.528 588.077,196.528 \n",
       "  \"/>\n",
       "<polyline clip-path=\"url(#clip02)\" style=\"stroke:#00002d; stroke-width:0.8; stroke-opacity:0.5; fill:none\" stroke-dasharray=\"1, 2\" points=\"\n",
       "  71.6453,138.812 588.077,138.812 \n",
       "  \"/>\n",
       "<polyline clip-path=\"url(#clip02)\" style=\"stroke:#00002d; stroke-width:0.8; stroke-opacity:0.5; fill:none\" stroke-dasharray=\"1, 2\" points=\"\n",
       "  71.6453,81.0969 588.077,81.0969 \n",
       "  \"/>\n",
       "<polyline clip-path=\"url(#clip02)\" style=\"stroke:#00002d; stroke-width:0.8; stroke-opacity:1; fill:none\" points=\"\n",
       "  63.6592,369.674 596.063,369.674 \n",
       "  \"/>\n",
       "<polyline clip-path=\"url(#clip02)\" style=\"stroke:#00002d; stroke-width:0.8; stroke-opacity:1; fill:none\" points=\"\n",
       "  63.6592,369.674 63.6592,364.48 \n",
       "  \"/>\n",
       "<polyline clip-path=\"url(#clip02)\" style=\"stroke:#00002d; stroke-width:0.8; stroke-opacity:1; fill:none\" points=\"\n",
       "  190.858,369.674 190.858,364.48 \n",
       "  \"/>\n",
       "<polyline clip-path=\"url(#clip02)\" style=\"stroke:#00002d; stroke-width:0.8; stroke-opacity:1; fill:none\" points=\"\n",
       "  318.057,369.674 318.057,364.48 \n",
       "  \"/>\n",
       "<polyline clip-path=\"url(#clip02)\" style=\"stroke:#00002d; stroke-width:0.8; stroke-opacity:1; fill:none\" points=\"\n",
       "  445.256,369.674 445.256,364.48 \n",
       "  \"/>\n",
       "<polyline clip-path=\"url(#clip02)\" style=\"stroke:#00002d; stroke-width:0.8; stroke-opacity:1; fill:none\" points=\"\n",
       "  572.454,369.674 572.454,364.48 \n",
       "  \"/>\n",
       "<polyline clip-path=\"url(#clip02)\" style=\"stroke:#00002d; stroke-width:0.8; stroke-opacity:1; fill:none\" points=\"\n",
       "  63.6592,369.674 63.6592,23.3815 \n",
       "  \"/>\n",
       "<polyline clip-path=\"url(#clip02)\" style=\"stroke:#00002d; stroke-width:0.8; stroke-opacity:1; fill:none\" points=\"\n",
       "  63.6592,369.674 71.6453,369.674 \n",
       "  \"/>\n",
       "<polyline clip-path=\"url(#clip02)\" style=\"stroke:#00002d; stroke-width:0.8; stroke-opacity:1; fill:none\" points=\"\n",
       "  63.6592,311.959 71.6453,311.959 \n",
       "  \"/>\n",
       "<polyline clip-path=\"url(#clip02)\" style=\"stroke:#00002d; stroke-width:0.8; stroke-opacity:1; fill:none\" points=\"\n",
       "  63.6592,254.243 71.6453,254.243 \n",
       "  \"/>\n",
       "<polyline clip-path=\"url(#clip02)\" style=\"stroke:#00002d; stroke-width:0.8; stroke-opacity:1; fill:none\" points=\"\n",
       "  63.6592,196.528 71.6453,196.528 \n",
       "  \"/>\n",
       "<polyline clip-path=\"url(#clip02)\" style=\"stroke:#00002d; stroke-width:0.8; stroke-opacity:1; fill:none\" points=\"\n",
       "  63.6592,138.812 71.6453,138.812 \n",
       "  \"/>\n",
       "<polyline clip-path=\"url(#clip02)\" style=\"stroke:#00002d; stroke-width:0.8; stroke-opacity:1; fill:none\" points=\"\n",
       "  63.6592,81.0969 71.6453,81.0969 \n",
       "  \"/>\n",
       "<g clip-path=\"url(#clip00)\">\n",
       "<text style=\"fill:#00002d; fill-opacity:1; font-family:Arial,Helvetica Neue,Helvetica,sans-serif; font-size:12; text-anchor:middle;\" transform=\"rotate(0, 63.6592, 381.674)\" x=\"63.6592\" y=\"381.674\">0.00</text>\n",
       "</g>\n",
       "<g clip-path=\"url(#clip00)\">\n",
       "<text style=\"fill:#00002d; fill-opacity:1; font-family:Arial,Helvetica Neue,Helvetica,sans-serif; font-size:12; text-anchor:middle;\" transform=\"rotate(0, 190.858, 381.674)\" x=\"190.858\" y=\"381.674\">0.05</text>\n",
       "</g>\n",
       "<g clip-path=\"url(#clip00)\">\n",
       "<text style=\"fill:#00002d; fill-opacity:1; font-family:Arial,Helvetica Neue,Helvetica,sans-serif; font-size:12; text-anchor:middle;\" transform=\"rotate(0, 318.057, 381.674)\" x=\"318.057\" y=\"381.674\">0.10</text>\n",
       "</g>\n",
       "<g clip-path=\"url(#clip00)\">\n",
       "<text style=\"fill:#00002d; fill-opacity:1; font-family:Arial,Helvetica Neue,Helvetica,sans-serif; font-size:12; text-anchor:middle;\" transform=\"rotate(0, 445.256, 381.674)\" x=\"445.256\" y=\"381.674\">0.15</text>\n",
       "</g>\n",
       "<g clip-path=\"url(#clip00)\">\n",
       "<text style=\"fill:#00002d; fill-opacity:1; font-family:Arial,Helvetica Neue,Helvetica,sans-serif; font-size:12; text-anchor:middle;\" transform=\"rotate(0, 572.454, 381.674)\" x=\"572.454\" y=\"381.674\">0.20</text>\n",
       "</g>\n",
       "<g clip-path=\"url(#clip00)\">\n",
       "<text style=\"fill:#00002d; fill-opacity:1; font-family:Arial,Helvetica Neue,Helvetica,sans-serif; font-size:12; text-anchor:end;\" transform=\"rotate(0, 62.4592, 374.174)\" x=\"62.4592\" y=\"374.174\">0.000</text>\n",
       "</g>\n",
       "<g clip-path=\"url(#clip00)\">\n",
       "<text style=\"fill:#00002d; fill-opacity:1; font-family:Arial,Helvetica Neue,Helvetica,sans-serif; font-size:12; text-anchor:end;\" transform=\"rotate(0, 62.4592, 316.459)\" x=\"62.4592\" y=\"316.459\">0.025</text>\n",
       "</g>\n",
       "<g clip-path=\"url(#clip00)\">\n",
       "<text style=\"fill:#00002d; fill-opacity:1; font-family:Arial,Helvetica Neue,Helvetica,sans-serif; font-size:12; text-anchor:end;\" transform=\"rotate(0, 62.4592, 258.743)\" x=\"62.4592\" y=\"258.743\">0.050</text>\n",
       "</g>\n",
       "<g clip-path=\"url(#clip00)\">\n",
       "<text style=\"fill:#00002d; fill-opacity:1; font-family:Arial,Helvetica Neue,Helvetica,sans-serif; font-size:12; text-anchor:end;\" transform=\"rotate(0, 62.4592, 201.028)\" x=\"62.4592\" y=\"201.028\">0.075</text>\n",
       "</g>\n",
       "<g clip-path=\"url(#clip00)\">\n",
       "<text style=\"fill:#00002d; fill-opacity:1; font-family:Arial,Helvetica Neue,Helvetica,sans-serif; font-size:12; text-anchor:end;\" transform=\"rotate(0, 62.4592, 143.312)\" x=\"62.4592\" y=\"143.312\">0.100</text>\n",
       "</g>\n",
       "<g clip-path=\"url(#clip00)\">\n",
       "<text style=\"fill:#00002d; fill-opacity:1; font-family:Arial,Helvetica Neue,Helvetica,sans-serif; font-size:12; text-anchor:end;\" transform=\"rotate(0, 62.4592, 85.5969)\" x=\"62.4592\" y=\"85.5969\">0.125</text>\n",
       "</g>\n",
       "<g clip-path=\"url(#clip00)\">\n",
       "<text style=\"fill:#00002d; fill-opacity:1; font-family:Arial,Helvetica Neue,Helvetica,sans-serif; font-size:21; text-anchor:middle;\" transform=\"rotate(0, 329.861, 18)\" x=\"329.861\" y=\"18\">Mean-variance frontier</text>\n",
       "</g>\n",
       "<g clip-path=\"url(#clip00)\">\n",
       "<text style=\"fill:#00002d; fill-opacity:1; font-family:Arial,Helvetica Neue,Helvetica,sans-serif; font-size:16; text-anchor:middle;\" transform=\"rotate(0, 329.861, 397.6)\" x=\"329.861\" y=\"397.6\">Std</text>\n",
       "</g>\n",
       "<g clip-path=\"url(#clip00)\">\n",
       "<text style=\"fill:#00002d; fill-opacity:1; font-family:Arial,Helvetica Neue,Helvetica,sans-serif; font-size:16; text-anchor:middle;\" transform=\"rotate(-90, 14.4, 196.528)\" x=\"14.4\" y=\"196.528\">mean</text>\n",
       "</g>\n",
       "<polyline clip-path=\"url(#clip02)\" style=\"stroke:#ff0000; stroke-width:0.8; stroke-opacity:1; fill:none\" points=\"\n",
       "  596.063,369.674 590.747,367.365 585.436,365.057 580.132,362.748 574.833,360.44 569.54,358.131 564.254,355.822 558.975,353.514 553.702,351.205 548.436,348.897 \n",
       "  543.178,346.588 537.927,344.279 532.683,341.971 527.448,339.662 522.221,337.353 517.003,335.045 511.793,332.736 506.593,330.428 501.402,328.119 496.221,325.81 \n",
       "  491.05,323.502 485.89,321.193 480.74,318.885 475.602,316.576 470.476,314.267 465.362,311.959 460.261,309.65 455.173,307.341 450.099,305.033 445.039,302.724 \n",
       "  439.994,300.416 434.965,298.107 429.952,295.798 424.955,293.49 419.976,291.181 415.015,288.872 410.073,286.564 405.152,284.255 400.25,281.947 395.371,279.638 \n",
       "  390.514,277.329 385.681,275.021 380.872,272.712 376.09,270.404 371.334,268.095 366.607,265.786 361.909,263.478 357.243,261.169 352.609,258.86 348.009,256.552 \n",
       "  343.446,254.243 338.92,251.935 334.433,249.626 329.989,247.317 325.587,245.009 321.232,242.7 316.925,240.392 312.669,238.083 308.467,235.774 304.321,233.466 \n",
       "  300.234,231.157 296.209,228.848 292.25,226.54 288.36,224.231 284.543,221.923 280.802,219.614 277.142,217.305 273.567,214.997 270.082,212.688 266.69,210.379 \n",
       "  263.396,208.071 260.207,205.762 257.126,203.454 254.159,201.145 251.311,198.836 248.589,196.528 245.997,194.219 243.541,191.911 241.227,189.602 239.06,187.293 \n",
       "  237.046,184.985 235.191,182.676 233.499,180.367 231.975,178.059 230.625,175.75 229.452,173.442 228.46,171.133 227.652,168.824 227.032,166.516 226.601,164.207 \n",
       "  226.36,161.899 226.311,159.59 226.454,157.281 226.788,154.973 227.313,152.664 228.025,150.355 228.923,148.047 230.004,145.738 231.265,143.43 232.701,141.121 \n",
       "  234.307,138.812 236.08,136.504 238.014,134.195 240.103,131.886 242.343,129.578 244.727,127.269 247.25,124.961 249.907,122.652 252.692,120.343 255.598,118.035 \n",
       "  258.622,115.726 261.757,113.418 264.998,111.109 268.34,108.8 271.779,106.492 275.309,104.183 278.926,101.874 282.626,99.5658 286.404,97.2572 290.258,94.9486 \n",
       "  294.182,92.64 298.173,90.3314 302.229,88.0227 306.345,85.7141 310.52,83.4055 314.749,81.0969 319.03,78.7883 323.361,76.4797 327.739,74.171 332.162,71.8624 \n",
       "  336.627,69.5538 341.133,67.2452 345.678,64.9366 350.259,62.628 354.876,60.3193 359.526,58.0107 364.208,55.7021 368.92,53.3935 373.661,51.0849 378.43,48.7762 \n",
       "  383.226,46.4676 388.046,44.159 392.891,41.8504 397.76,39.5418 402.65,37.2332 407.561,34.9245 412.493,32.6159 417.444,30.3073 422.414,27.9987 427.402,25.6901 \n",
       "  432.406,23.3815 \n",
       "  \"/>\n",
       "<polyline clip-path=\"url(#clip02)\" style=\"stroke:#0000ff; stroke-width:0.8; stroke-opacity:1; fill:none\" points=\"\n",
       "  174.844,369.674 172.064,367.365 169.285,365.057 166.505,362.748 163.726,360.44 160.946,358.131 158.166,355.822 155.387,353.514 152.607,351.205 149.827,348.897 \n",
       "  147.048,346.588 144.268,344.279 141.489,341.971 138.709,339.662 135.929,337.353 133.15,335.045 130.37,332.736 127.591,330.428 124.811,328.119 122.031,325.81 \n",
       "  119.252,323.502 116.472,321.193 113.692,318.885 110.913,316.576 108.133,314.267 105.354,311.959 102.574,309.65 99.7943,307.341 97.0147,305.033 94.2351,302.724 \n",
       "  91.4554,300.416 88.6758,298.107 85.8962,295.798 83.1166,293.49 80.337,291.181 77.5573,288.872 74.7777,286.564 71.9981,284.255 69.2185,281.947 66.4389,279.638 \n",
       "  63.6592,277.329 66.4389,275.021 69.2185,272.712 71.9981,270.404 74.7777,268.095 77.5573,265.786 80.337,263.478 83.1166,261.169 85.8962,258.86 88.6758,256.552 \n",
       "  91.4554,254.243 94.2351,251.935 97.0147,249.626 99.7943,247.317 102.574,245.009 105.354,242.7 108.133,240.392 110.913,238.083 113.692,235.774 116.472,233.466 \n",
       "  119.252,231.157 122.031,228.848 124.811,226.54 127.591,224.231 130.37,221.923 133.15,219.614 135.929,217.305 138.709,214.997 141.489,212.688 144.268,210.379 \n",
       "  147.048,208.071 149.827,205.762 152.607,203.454 155.387,201.145 158.166,198.836 160.946,196.528 163.726,194.219 166.505,191.911 169.285,189.602 172.064,187.293 \n",
       "  174.844,184.985 177.624,182.676 180.403,180.367 183.183,178.059 185.963,175.75 188.742,173.442 191.522,171.133 194.301,168.824 197.081,166.516 199.861,164.207 \n",
       "  202.64,161.899 205.42,159.59 208.2,157.281 210.979,154.973 213.759,152.664 216.538,150.355 219.318,148.047 222.098,145.738 224.877,143.43 227.657,141.121 \n",
       "  230.436,138.812 233.216,136.504 235.996,134.195 238.775,131.886 241.555,129.578 244.335,127.269 247.114,124.961 249.894,122.652 252.673,120.343 255.453,118.035 \n",
       "  258.233,115.726 261.012,113.418 263.792,111.109 266.572,108.8 269.351,106.492 272.131,104.183 274.91,101.874 277.69,99.5658 280.47,97.2572 283.249,94.9486 \n",
       "  286.029,92.64 288.809,90.3314 291.588,88.0227 294.368,85.7141 297.147,83.4055 299.927,81.0969 302.707,78.7883 305.486,76.4797 308.266,74.171 311.045,71.8624 \n",
       "  313.825,69.5538 316.605,67.2452 319.384,64.9366 322.164,62.628 324.944,60.3193 327.723,58.0107 330.503,55.7021 333.282,53.3935 336.062,51.0849 338.842,48.7762 \n",
       "  341.621,46.4676 344.401,44.159 347.181,41.8504 349.96,39.5418 352.74,37.2332 355.519,34.9245 358.299,32.6159 361.079,30.3073 363.858,27.9987 366.638,25.6901 \n",
       "  369.418,23.3815 \n",
       "  \"/>\n",
       "<polygon clip-path=\"url(#clip00)\" points=\"\n",
       "437.067,89.6215 578.063,89.6215 578.063,44.2615 437.067,44.2615 \n",
       "  \" fill=\"#ffffff\" fill-opacity=\"1\"/>\n",
       "<polyline clip-path=\"url(#clip00)\" style=\"stroke:#00002d; stroke-width:0.8; stroke-opacity:1; fill:none\" points=\"\n",
       "  437.067,89.6215 578.063,89.6215 578.063,44.2615 437.067,44.2615 437.067,89.6215 \n",
       "  \"/>\n",
       "<polyline clip-path=\"url(#clip00)\" style=\"stroke:#ff0000; stroke-width:0.8; stroke-opacity:1; fill:none\" points=\"\n",
       "  443.067,59.3815 479.067,59.3815 \n",
       "  \"/>\n",
       "<g clip-path=\"url(#clip00)\">\n",
       "<text style=\"fill:#00002d; fill-opacity:1; font-family:Arial,Helvetica Neue,Helvetica,sans-serif; font-size:12; text-anchor:start;\" transform=\"rotate(0, 485.067, 63.8815)\" x=\"485.067\" y=\"63.8815\">risky assets</text>\n",
       "</g>\n",
       "<polyline clip-path=\"url(#clip00)\" style=\"stroke:#0000ff; stroke-width:0.8; stroke-opacity:1; fill:none\" points=\"\n",
       "  443.067,74.5015 479.067,74.5015 \n",
       "  \"/>\n",
       "<g clip-path=\"url(#clip00)\">\n",
       "<text style=\"fill:#00002d; fill-opacity:1; font-family:Arial,Helvetica Neue,Helvetica,sans-serif; font-size:12; text-anchor:start;\" transform=\"rotate(0, 485.067, 79.0015)\" x=\"485.067\" y=\"79.0015\">risky &amp; riskfree </text>\n",
       "</g>\n",
       "</svg>\n"
      ]
     },
     "execution_count": 10,
     "metadata": {},
     "output_type": "execute_result"
    }
   ],
   "source": [
    "plot1 = plot(sqrt.(Var_p),mu_p,color=:red,label=\"risky assets\")\n",
    "plot!(CML_std,mu_p,color=:blue,label=\"risky & riskfree \")\n",
    "title!(\"Mean-variance frontier\")\n",
    "xlabel!(\"Std\")\n",
    "ylabel!(\"mean\")"
   ]
  },
  {
   "cell_type": "markdown",
   "metadata": {
    "deletable": true,
    "editable": true
   },
   "source": [
    "# (extra) Mean-variance Frontier without Short Selling"
   ]
  },
  {
   "cell_type": "code",
   "execution_count": 11,
   "metadata": {
    "collapsed": false,
    "deletable": true,
    "editable": true
   },
   "outputs": [],
   "source": [
    "using MathProgBase, Ipopt  "
   ]
  },
  {
   "cell_type": "code",
   "execution_count": 12,
   "metadata": {
    "collapsed": false,
    "deletable": true,
    "editable": true
   },
   "outputs": [
    {
     "data": {
      "text/plain": [
       "MeanVarNoSSPs (generic function with 1 method)"
      ]
     },
     "execution_count": 12,
     "metadata": {},
     "output_type": "execute_result"
    }
   ],
   "source": [
    "function MeanVarNoSSPs(mu,Sigma,mu_p)\n",
    "#MeanVarNoSSPs     Calculate mean variance frontier when no short sales are allowed\n",
    "#\n",
    "#  Usage:  (Var_p,w_p) = MeanVarNoSSPs(mu,Sigma,mu_p)\n",
    "#\n",
    "#  Input:     mu        Nx1, vector of mean returns\n",
    "#             Sigma     NxN, covariance matrix of returns, can contain riskfree assets\n",
    "#             mu_p      Kx1, mean returns to calculate results for\n",
    "#\n",
    "#\n",
    "#  Output:    Var_p     Kx1, variance of mean-variance portfolio (risky only) with mean mu_p\n",
    "#             w_p       KxN, portfolio weights of       \"\"\n",
    "#\n",
    "#\n",
    "#\n",
    "#  Notice:  (a) uses quadprog from MathProgBase\n",
    "#           (b) with a riskfree asset, put zeros row j and column j in Sigma\n",
    "#------------------------------------------------------------------------------\n",
    "\n",
    "  K = length(mu_p)                #MV with no short-sales, numerical minimization\n",
    "  N = length(mu)\n",
    "\n",
    "  vv = find((mu_p .>= minimum(mu)) & (mu_p .<= maximum(mu)))  #solve only if feasible\n",
    "\n",
    "  lb   = zeros(N,1)              #w >= 0\n",
    "  ub   = ones(N,1)               #w <= 1\n",
    "  Aeq  = [ones(1,N);mu']         #1'w=1, mu'w = mu_p\n",
    "\n",
    "  w_p   = fill(NaN,(K,N))\n",
    "  Var_p = fill(NaN,K)                       #to store results in\n",
    "  for i = vv\n",
    "    beq  = [1;mu_p[i]]\n",
    "    Sol = quadprog(zeros(N),Sigma,Aeq,'=',beq,zeros(N),ones(N),IpoptSolver(print_level=1))\n",
    "    w_i = Sol.sol\n",
    "    if Sol.status == :Optimal\n",
    "      w_p[i,:] = w_i'\n",
    "      Var_p[i] = (w_i'*Sigma*w_i)[1]\n",
    "    end\n",
    "  end\n",
    "\n",
    "  return  Var_p,w_p\n",
    "\n",
    "end"
   ]
  },
  {
   "cell_type": "code",
   "execution_count": 13,
   "metadata": {
    "collapsed": false,
    "deletable": true,
    "editable": true
   },
   "outputs": [
    {
     "data": {
      "text/plain": [
       "([NaN,NaN,NaN,NaN,NaN,NaN,NaN,NaN,NaN,NaN  …  NaN,NaN,NaN,NaN,NaN,NaN,NaN,NaN,NaN,NaN],\n",
       "[NaN NaN NaN; NaN NaN NaN; … ; NaN NaN NaN; NaN NaN NaN])"
      ]
     },
     "execution_count": 13,
     "metadata": {},
     "output_type": "execute_result"
    }
   ],
   "source": [
    "Var_no_ss, = MeanVarNoSSPs(mu,Sigma,mu_p)   #calculating MV without short selling"
   ]
  },
  {
   "cell_type": "code",
   "execution_count": 14,
   "metadata": {
    "collapsed": false,
    "deletable": true,
    "editable": true
   },
   "outputs": [
    {
     "data": {
      "text/html": [
       "<?xml version=\"1.0\" encoding=\"utf-8\"?>\n",
       "<svg xmlns=\"http://www.w3.org/2000/svg\" xmlns:xlink=\"http://www.w3.org/1999/xlink\" width=\"600\" height=\"400\" viewBox=\"0 0 600 400\">\n",
       "<defs>\n",
       "  <clipPath id=\"clip00\">\n",
       "    <rect x=\"0\" y=\"0\" width=\"600\" height=\"400\"/>\n",
       "  </clipPath>\n",
       "</defs>\n",
       "<polygon clip-path=\"url(#clip00)\" points=\"\n",
       "0,400 600,400 600,0 0,0 \n",
       "  \" fill=\"#ffffff\" fill-opacity=\"1\"/>\n",
       "<defs>\n",
       "  <clipPath id=\"clip01\">\n",
       "    <rect x=\"120\" y=\"0\" width=\"421\" height=\"400\"/>\n",
       "  </clipPath>\n",
       "</defs>\n",
       "<polygon clip-path=\"url(#clip00)\" points=\"\n",
       "63.6592,369.674 596.063,369.674 596.063,23.3815 63.6592,23.3815 \n",
       "  \" fill=\"#ffffff\" fill-opacity=\"1\"/>\n",
       "<defs>\n",
       "  <clipPath id=\"clip02\">\n",
       "    <rect x=\"63\" y=\"23\" width=\"533\" height=\"347\"/>\n",
       "  </clipPath>\n",
       "</defs>\n",
       "<polyline clip-path=\"url(#clip02)\" style=\"stroke:#00002d; stroke-width:0.8; stroke-opacity:0.5; fill:none\" stroke-dasharray=\"1, 2\" points=\"\n",
       "  63.6592,364.48 63.6592,28.5758 \n",
       "  \"/>\n",
       "<polyline clip-path=\"url(#clip02)\" style=\"stroke:#00002d; stroke-width:0.8; stroke-opacity:0.5; fill:none\" stroke-dasharray=\"1, 2\" points=\"\n",
       "  190.858,364.48 190.858,28.5758 \n",
       "  \"/>\n",
       "<polyline clip-path=\"url(#clip02)\" style=\"stroke:#00002d; stroke-width:0.8; stroke-opacity:0.5; fill:none\" stroke-dasharray=\"1, 2\" points=\"\n",
       "  318.057,364.48 318.057,28.5758 \n",
       "  \"/>\n",
       "<polyline clip-path=\"url(#clip02)\" style=\"stroke:#00002d; stroke-width:0.8; stroke-opacity:0.5; fill:none\" stroke-dasharray=\"1, 2\" points=\"\n",
       "  445.256,364.48 445.256,28.5758 \n",
       "  \"/>\n",
       "<polyline clip-path=\"url(#clip02)\" style=\"stroke:#00002d; stroke-width:0.8; stroke-opacity:0.5; fill:none\" stroke-dasharray=\"1, 2\" points=\"\n",
       "  572.454,364.48 572.454,28.5758 \n",
       "  \"/>\n",
       "<polyline clip-path=\"url(#clip02)\" style=\"stroke:#00002d; stroke-width:0.8; stroke-opacity:0.5; fill:none\" stroke-dasharray=\"1, 2\" points=\"\n",
       "  71.6453,369.674 588.077,369.674 \n",
       "  \"/>\n",
       "<polyline clip-path=\"url(#clip02)\" style=\"stroke:#00002d; stroke-width:0.8; stroke-opacity:0.5; fill:none\" stroke-dasharray=\"1, 2\" points=\"\n",
       "  71.6453,311.959 588.077,311.959 \n",
       "  \"/>\n",
       "<polyline clip-path=\"url(#clip02)\" style=\"stroke:#00002d; stroke-width:0.8; stroke-opacity:0.5; fill:none\" stroke-dasharray=\"1, 2\" points=\"\n",
       "  71.6453,254.243 588.077,254.243 \n",
       "  \"/>\n",
       "<polyline clip-path=\"url(#clip02)\" style=\"stroke:#00002d; stroke-width:0.8; stroke-opacity:0.5; fill:none\" stroke-dasharray=\"1, 2\" points=\"\n",
       "  71.6453,196.528 588.077,196.528 \n",
       "  \"/>\n",
       "<polyline clip-path=\"url(#clip02)\" style=\"stroke:#00002d; stroke-width:0.8; stroke-opacity:0.5; fill:none\" stroke-dasharray=\"1, 2\" points=\"\n",
       "  71.6453,138.812 588.077,138.812 \n",
       "  \"/>\n",
       "<polyline clip-path=\"url(#clip02)\" style=\"stroke:#00002d; stroke-width:0.8; stroke-opacity:0.5; fill:none\" stroke-dasharray=\"1, 2\" points=\"\n",
       "  71.6453,81.0969 588.077,81.0969 \n",
       "  \"/>\n",
       "<polyline clip-path=\"url(#clip02)\" style=\"stroke:#00002d; stroke-width:0.8; stroke-opacity:1; fill:none\" points=\"\n",
       "  63.6592,369.674 596.063,369.674 \n",
       "  \"/>\n",
       "<polyline clip-path=\"url(#clip02)\" style=\"stroke:#00002d; stroke-width:0.8; stroke-opacity:1; fill:none\" points=\"\n",
       "  63.6592,369.674 63.6592,364.48 \n",
       "  \"/>\n",
       "<polyline clip-path=\"url(#clip02)\" style=\"stroke:#00002d; stroke-width:0.8; stroke-opacity:1; fill:none\" points=\"\n",
       "  190.858,369.674 190.858,364.48 \n",
       "  \"/>\n",
       "<polyline clip-path=\"url(#clip02)\" style=\"stroke:#00002d; stroke-width:0.8; stroke-opacity:1; fill:none\" points=\"\n",
       "  318.057,369.674 318.057,364.48 \n",
       "  \"/>\n",
       "<polyline clip-path=\"url(#clip02)\" style=\"stroke:#00002d; stroke-width:0.8; stroke-opacity:1; fill:none\" points=\"\n",
       "  445.256,369.674 445.256,364.48 \n",
       "  \"/>\n",
       "<polyline clip-path=\"url(#clip02)\" style=\"stroke:#00002d; stroke-width:0.8; stroke-opacity:1; fill:none\" points=\"\n",
       "  572.454,369.674 572.454,364.48 \n",
       "  \"/>\n",
       "<polyline clip-path=\"url(#clip02)\" style=\"stroke:#00002d; stroke-width:0.8; stroke-opacity:1; fill:none\" points=\"\n",
       "  63.6592,369.674 63.6592,23.3815 \n",
       "  \"/>\n",
       "<polyline clip-path=\"url(#clip02)\" style=\"stroke:#00002d; stroke-width:0.8; stroke-opacity:1; fill:none\" points=\"\n",
       "  63.6592,369.674 71.6453,369.674 \n",
       "  \"/>\n",
       "<polyline clip-path=\"url(#clip02)\" style=\"stroke:#00002d; stroke-width:0.8; stroke-opacity:1; fill:none\" points=\"\n",
       "  63.6592,311.959 71.6453,311.959 \n",
       "  \"/>\n",
       "<polyline clip-path=\"url(#clip02)\" style=\"stroke:#00002d; stroke-width:0.8; stroke-opacity:1; fill:none\" points=\"\n",
       "  63.6592,254.243 71.6453,254.243 \n",
       "  \"/>\n",
       "<polyline clip-path=\"url(#clip02)\" style=\"stroke:#00002d; stroke-width:0.8; stroke-opacity:1; fill:none\" points=\"\n",
       "  63.6592,196.528 71.6453,196.528 \n",
       "  \"/>\n",
       "<polyline clip-path=\"url(#clip02)\" style=\"stroke:#00002d; stroke-width:0.8; stroke-opacity:1; fill:none\" points=\"\n",
       "  63.6592,138.812 71.6453,138.812 \n",
       "  \"/>\n",
       "<polyline clip-path=\"url(#clip02)\" style=\"stroke:#00002d; stroke-width:0.8; stroke-opacity:1; fill:none\" points=\"\n",
       "  63.6592,81.0969 71.6453,81.0969 \n",
       "  \"/>\n",
       "<g clip-path=\"url(#clip00)\">\n",
       "<text style=\"fill:#00002d; fill-opacity:1; font-family:Arial,Helvetica Neue,Helvetica,sans-serif; font-size:12; text-anchor:middle;\" transform=\"rotate(0, 63.6592, 381.674)\" x=\"63.6592\" y=\"381.674\">0.00</text>\n",
       "</g>\n",
       "<g clip-path=\"url(#clip00)\">\n",
       "<text style=\"fill:#00002d; fill-opacity:1; font-family:Arial,Helvetica Neue,Helvetica,sans-serif; font-size:12; text-anchor:middle;\" transform=\"rotate(0, 190.858, 381.674)\" x=\"190.858\" y=\"381.674\">0.05</text>\n",
       "</g>\n",
       "<g clip-path=\"url(#clip00)\">\n",
       "<text style=\"fill:#00002d; fill-opacity:1; font-family:Arial,Helvetica Neue,Helvetica,sans-serif; font-size:12; text-anchor:middle;\" transform=\"rotate(0, 318.057, 381.674)\" x=\"318.057\" y=\"381.674\">0.10</text>\n",
       "</g>\n",
       "<g clip-path=\"url(#clip00)\">\n",
       "<text style=\"fill:#00002d; fill-opacity:1; font-family:Arial,Helvetica Neue,Helvetica,sans-serif; font-size:12; text-anchor:middle;\" transform=\"rotate(0, 445.256, 381.674)\" x=\"445.256\" y=\"381.674\">0.15</text>\n",
       "</g>\n",
       "<g clip-path=\"url(#clip00)\">\n",
       "<text style=\"fill:#00002d; fill-opacity:1; font-family:Arial,Helvetica Neue,Helvetica,sans-serif; font-size:12; text-anchor:middle;\" transform=\"rotate(0, 572.454, 381.674)\" x=\"572.454\" y=\"381.674\">0.20</text>\n",
       "</g>\n",
       "<g clip-path=\"url(#clip00)\">\n",
       "<text style=\"fill:#00002d; fill-opacity:1; font-family:Arial,Helvetica Neue,Helvetica,sans-serif; font-size:12; text-anchor:end;\" transform=\"rotate(0, 62.4592, 374.174)\" x=\"62.4592\" y=\"374.174\">0.000</text>\n",
       "</g>\n",
       "<g clip-path=\"url(#clip00)\">\n",
       "<text style=\"fill:#00002d; fill-opacity:1; font-family:Arial,Helvetica Neue,Helvetica,sans-serif; font-size:12; text-anchor:end;\" transform=\"rotate(0, 62.4592, 316.459)\" x=\"62.4592\" y=\"316.459\">0.025</text>\n",
       "</g>\n",
       "<g clip-path=\"url(#clip00)\">\n",
       "<text style=\"fill:#00002d; fill-opacity:1; font-family:Arial,Helvetica Neue,Helvetica,sans-serif; font-size:12; text-anchor:end;\" transform=\"rotate(0, 62.4592, 258.743)\" x=\"62.4592\" y=\"258.743\">0.050</text>\n",
       "</g>\n",
       "<g clip-path=\"url(#clip00)\">\n",
       "<text style=\"fill:#00002d; fill-opacity:1; font-family:Arial,Helvetica Neue,Helvetica,sans-serif; font-size:12; text-anchor:end;\" transform=\"rotate(0, 62.4592, 201.028)\" x=\"62.4592\" y=\"201.028\">0.075</text>\n",
       "</g>\n",
       "<g clip-path=\"url(#clip00)\">\n",
       "<text style=\"fill:#00002d; fill-opacity:1; font-family:Arial,Helvetica Neue,Helvetica,sans-serif; font-size:12; text-anchor:end;\" transform=\"rotate(0, 62.4592, 143.312)\" x=\"62.4592\" y=\"143.312\">0.100</text>\n",
       "</g>\n",
       "<g clip-path=\"url(#clip00)\">\n",
       "<text style=\"fill:#00002d; fill-opacity:1; font-family:Arial,Helvetica Neue,Helvetica,sans-serif; font-size:12; text-anchor:end;\" transform=\"rotate(0, 62.4592, 85.5969)\" x=\"62.4592\" y=\"85.5969\">0.125</text>\n",
       "</g>\n",
       "<g clip-path=\"url(#clip00)\">\n",
       "<text style=\"fill:#00002d; fill-opacity:1; font-family:Arial,Helvetica Neue,Helvetica,sans-serif; font-size:21; text-anchor:middle;\" transform=\"rotate(0, 329.861, 18)\" x=\"329.861\" y=\"18\">Mean-variance frontier</text>\n",
       "</g>\n",
       "<g clip-path=\"url(#clip00)\">\n",
       "<text style=\"fill:#00002d; fill-opacity:1; font-family:Arial,Helvetica Neue,Helvetica,sans-serif; font-size:16; text-anchor:middle;\" transform=\"rotate(0, 329.861, 397.6)\" x=\"329.861\" y=\"397.6\">Std</text>\n",
       "</g>\n",
       "<g clip-path=\"url(#clip00)\">\n",
       "<text style=\"fill:#00002d; fill-opacity:1; font-family:Arial,Helvetica Neue,Helvetica,sans-serif; font-size:16; text-anchor:middle;\" transform=\"rotate(-90, 14.4, 196.528)\" x=\"14.4\" y=\"196.528\">mean</text>\n",
       "</g>\n",
       "<polyline clip-path=\"url(#clip02)\" style=\"stroke:#ff0000; stroke-width:0.8; stroke-opacity:1; fill:none\" points=\"\n",
       "  596.063,369.674 590.747,367.365 585.436,365.057 580.132,362.748 574.833,360.44 569.54,358.131 564.254,355.822 558.975,353.514 553.702,351.205 548.436,348.897 \n",
       "  543.178,346.588 537.927,344.279 532.683,341.971 527.448,339.662 522.221,337.353 517.003,335.045 511.793,332.736 506.593,330.428 501.402,328.119 496.221,325.81 \n",
       "  491.05,323.502 485.89,321.193 480.74,318.885 475.602,316.576 470.476,314.267 465.362,311.959 460.261,309.65 455.173,307.341 450.099,305.033 445.039,302.724 \n",
       "  439.994,300.416 434.965,298.107 429.952,295.798 424.955,293.49 419.976,291.181 415.015,288.872 410.073,286.564 405.152,284.255 400.25,281.947 395.371,279.638 \n",
       "  390.514,277.329 385.681,275.021 380.872,272.712 376.09,270.404 371.334,268.095 366.607,265.786 361.909,263.478 357.243,261.169 352.609,258.86 348.009,256.552 \n",
       "  343.446,254.243 338.92,251.935 334.433,249.626 329.989,247.317 325.587,245.009 321.232,242.7 316.925,240.392 312.669,238.083 308.467,235.774 304.321,233.466 \n",
       "  300.234,231.157 296.209,228.848 292.25,226.54 288.36,224.231 284.543,221.923 280.802,219.614 277.142,217.305 273.567,214.997 270.082,212.688 266.69,210.379 \n",
       "  263.396,208.071 260.207,205.762 257.126,203.454 254.159,201.145 251.311,198.836 248.589,196.528 245.997,194.219 243.541,191.911 241.227,189.602 239.06,187.293 \n",
       "  237.046,184.985 235.191,182.676 233.499,180.367 231.975,178.059 230.625,175.75 229.452,173.442 228.46,171.133 227.652,168.824 227.032,166.516 226.601,164.207 \n",
       "  226.36,161.899 226.311,159.59 226.454,157.281 226.788,154.973 227.313,152.664 228.025,150.355 228.923,148.047 230.004,145.738 231.265,143.43 232.701,141.121 \n",
       "  234.307,138.812 236.08,136.504 238.014,134.195 240.103,131.886 242.343,129.578 244.727,127.269 247.25,124.961 249.907,122.652 252.692,120.343 255.598,118.035 \n",
       "  258.622,115.726 261.757,113.418 264.998,111.109 268.34,108.8 271.779,106.492 275.309,104.183 278.926,101.874 282.626,99.5658 286.404,97.2572 290.258,94.9486 \n",
       "  294.182,92.64 298.173,90.3314 302.229,88.0227 306.345,85.7141 310.52,83.4055 314.749,81.0969 319.03,78.7883 323.361,76.4797 327.739,74.171 332.162,71.8624 \n",
       "  336.627,69.5538 341.133,67.2452 345.678,64.9366 350.259,62.628 354.876,60.3193 359.526,58.0107 364.208,55.7021 368.92,53.3935 373.661,51.0849 378.43,48.7762 \n",
       "  383.226,46.4676 388.046,44.159 392.891,41.8504 397.76,39.5418 402.65,37.2332 407.561,34.9245 412.493,32.6159 417.444,30.3073 422.414,27.9987 427.402,25.6901 \n",
       "  432.406,23.3815 \n",
       "  \"/>\n",
       "<polyline clip-path=\"url(#clip02)\" style=\"stroke:#0000ff; stroke-width:0.8; stroke-opacity:1; fill:none\" points=\"\n",
       "  174.844,369.674 172.064,367.365 169.285,365.057 166.505,362.748 163.726,360.44 160.946,358.131 158.166,355.822 155.387,353.514 152.607,351.205 149.827,348.897 \n",
       "  147.048,346.588 144.268,344.279 141.489,341.971 138.709,339.662 135.929,337.353 133.15,335.045 130.37,332.736 127.591,330.428 124.811,328.119 122.031,325.81 \n",
       "  119.252,323.502 116.472,321.193 113.692,318.885 110.913,316.576 108.133,314.267 105.354,311.959 102.574,309.65 99.7943,307.341 97.0147,305.033 94.2351,302.724 \n",
       "  91.4554,300.416 88.6758,298.107 85.8962,295.798 83.1166,293.49 80.337,291.181 77.5573,288.872 74.7777,286.564 71.9981,284.255 69.2185,281.947 66.4389,279.638 \n",
       "  63.6592,277.329 66.4389,275.021 69.2185,272.712 71.9981,270.404 74.7777,268.095 77.5573,265.786 80.337,263.478 83.1166,261.169 85.8962,258.86 88.6758,256.552 \n",
       "  91.4554,254.243 94.2351,251.935 97.0147,249.626 99.7943,247.317 102.574,245.009 105.354,242.7 108.133,240.392 110.913,238.083 113.692,235.774 116.472,233.466 \n",
       "  119.252,231.157 122.031,228.848 124.811,226.54 127.591,224.231 130.37,221.923 133.15,219.614 135.929,217.305 138.709,214.997 141.489,212.688 144.268,210.379 \n",
       "  147.048,208.071 149.827,205.762 152.607,203.454 155.387,201.145 158.166,198.836 160.946,196.528 163.726,194.219 166.505,191.911 169.285,189.602 172.064,187.293 \n",
       "  174.844,184.985 177.624,182.676 180.403,180.367 183.183,178.059 185.963,175.75 188.742,173.442 191.522,171.133 194.301,168.824 197.081,166.516 199.861,164.207 \n",
       "  202.64,161.899 205.42,159.59 208.2,157.281 210.979,154.973 213.759,152.664 216.538,150.355 219.318,148.047 222.098,145.738 224.877,143.43 227.657,141.121 \n",
       "  230.436,138.812 233.216,136.504 235.996,134.195 238.775,131.886 241.555,129.578 244.335,127.269 247.114,124.961 249.894,122.652 252.673,120.343 255.453,118.035 \n",
       "  258.233,115.726 261.012,113.418 263.792,111.109 266.572,108.8 269.351,106.492 272.131,104.183 274.91,101.874 277.69,99.5658 280.47,97.2572 283.249,94.9486 \n",
       "  286.029,92.64 288.809,90.3314 291.588,88.0227 294.368,85.7141 297.147,83.4055 299.927,81.0969 302.707,78.7883 305.486,76.4797 308.266,74.171 311.045,71.8624 \n",
       "  313.825,69.5538 316.605,67.2452 319.384,64.9366 322.164,62.628 324.944,60.3193 327.723,58.0107 330.503,55.7021 333.282,53.3935 336.062,51.0849 338.842,48.7762 \n",
       "  341.621,46.4676 344.401,44.159 347.181,41.8504 349.96,39.5418 352.74,37.2332 355.519,34.9245 358.299,32.6159 361.079,30.3073 363.858,27.9987 366.638,25.6901 \n",
       "  369.418,23.3815 \n",
       "  \"/>\n",
       "<polyline clip-path=\"url(#clip02)\" style=\"stroke:#008100; stroke-width:0.8; stroke-opacity:1; fill:none\" points=\"\n",
       "  318.057,208.071 311.147,205.762 304.382,203.454 297.773,201.145 291.334,198.836 285.08,196.528 279.028,194.219 273.194,191.911 267.597,189.602 262.258,187.293 \n",
       "  257.198,184.985 252.439,182.676 248.004,180.367 243.918,178.059 240.205,175.75 236.888,173.442 233.991,171.133 231.535,168.824 229.541,166.516 228.024,164.207 \n",
       "  226.999,161.899 226.474,159.59 226.454,157.281 226.788,154.973 227.313,152.664 228.025,150.355 228.923,148.047 230.004,145.738 231.265,143.43 232.701,141.121 \n",
       "  234.307,138.812 236.08,136.504 238.014,134.195 240.103,131.886 242.343,129.578 244.727,127.269 247.25,124.961 249.907,122.652 252.692,120.343 255.598,118.035 \n",
       "  258.622,115.726 261.757,113.418 265.454,111.109 270.353,108.8 276.375,106.492 283.431,104.183 291.422,101.874 300.255,99.5658 309.839,97.2572 320.09,94.9486 \n",
       "  330.93,92.64 342.292,90.3314 354.113,88.0227 366.341,85.7141 378.928,83.4055 391.832,81.0969 \n",
       "  \"/>\n",
       "<polygon clip-path=\"url(#clip00)\" points=\"\n",
       "437.067,104.741 578.063,104.741 578.063,44.2615 437.067,44.2615 \n",
       "  \" fill=\"#ffffff\" fill-opacity=\"1\"/>\n",
       "<polyline clip-path=\"url(#clip00)\" style=\"stroke:#00002d; stroke-width:0.8; stroke-opacity:1; fill:none\" points=\"\n",
       "  437.067,104.741 578.063,104.741 578.063,44.2615 437.067,44.2615 437.067,104.741 \n",
       "  \"/>\n",
       "<polyline clip-path=\"url(#clip00)\" style=\"stroke:#ff0000; stroke-width:0.8; stroke-opacity:1; fill:none\" points=\"\n",
       "  443.067,59.3815 479.067,59.3815 \n",
       "  \"/>\n",
       "<g clip-path=\"url(#clip00)\">\n",
       "<text style=\"fill:#00002d; fill-opacity:1; font-family:Arial,Helvetica Neue,Helvetica,sans-serif; font-size:12; text-anchor:start;\" transform=\"rotate(0, 485.067, 63.8815)\" x=\"485.067\" y=\"63.8815\">risky assets</text>\n",
       "</g>\n",
       "<polyline clip-path=\"url(#clip00)\" style=\"stroke:#0000ff; stroke-width:0.8; stroke-opacity:1; fill:none\" points=\"\n",
       "  443.067,74.5015 479.067,74.5015 \n",
       "  \"/>\n",
       "<g clip-path=\"url(#clip00)\">\n",
       "<text style=\"fill:#00002d; fill-opacity:1; font-family:Arial,Helvetica Neue,Helvetica,sans-serif; font-size:12; text-anchor:start;\" transform=\"rotate(0, 485.067, 79.0015)\" x=\"485.067\" y=\"79.0015\">risky &amp; riskfree </text>\n",
       "</g>\n",
       "<polyline clip-path=\"url(#clip00)\" style=\"stroke:#008100; stroke-width:0.8; stroke-opacity:1; fill:none\" points=\"\n",
       "  443.067,89.6215 479.067,89.6215 \n",
       "  \"/>\n",
       "<g clip-path=\"url(#clip00)\">\n",
       "<text style=\"fill:#00002d; fill-opacity:1; font-family:Arial,Helvetica Neue,Helvetica,sans-serif; font-size:12; text-anchor:start;\" transform=\"rotate(0, 485.067, 94.1215)\" x=\"485.067\" y=\"94.1215\">risky, no ss</text>\n",
       "</g>\n",
       "</svg>\n"
      ]
     },
     "execution_count": 14,
     "metadata": {},
     "output_type": "execute_result"
    }
   ],
   "source": [
    "plot1 = plot(sqrt.(Var_p),mu_p,color=:red,label=\"risky assets\")\n",
    "plot!(CML_std,mu_p,color=:blue,label=\"risky & riskfree \")\n",
    "plot!(sqrt.(Var_no_ss),mu_p,color=:green,label=\"risky, no ss\")\n",
    "title!(\"Mean-variance frontier\")\n",
    "xlabel!(\"Std\")\n",
    "ylabel!(\"mean\")"
   ]
  },
  {
   "cell_type": "markdown",
   "metadata": {
    "deletable": true,
    "editable": true
   },
   "source": [
    "# Options"
   ]
  },
  {
   "cell_type": "markdown",
   "metadata": {
    "deletable": true,
    "editable": true
   },
   "source": [
    "### Black-Scholes Option Price"
   ]
  },
  {
   "cell_type": "code",
   "execution_count": 15,
   "metadata": {
    "collapsed": false,
    "deletable": true,
    "editable": true
   },
   "outputs": [
    {
     "data": {
      "text/plain": [
       "OptionBlackSPs (generic function with 1 method)"
      ]
     },
     "execution_count": 15,
     "metadata": {},
     "output_type": "execute_result"
    }
   ],
   "source": [
    "function Stdn_cdfPs(a)\n",
    "#Stdn_cdfPs    Calculates Pr(X<=a) for X which is N(0,1)\n",
    "  cdf = 0.5*SpecialFunctions.erfc.(-a/sqrt(2))\n",
    "  return cdf\n",
    "end\n",
    "\n",
    "function OptionBlackSPs(S,X,T,r,sigma)\n",
    "#Calculates Black-Scholes european call option price\n",
    "  d1 = ( log.(S./X) + (r+1/2*sigma.^2)*T ) ./ (sigma*sqrt(T))\n",
    "  d2 = d1 - sigma*sqrt(T)\n",
    "  c  = S.*Stdn_cdfPs(d1) - X.*exp(-r*T).*Stdn_cdfPs(d2)\n",
    "  return c\n",
    "end"
   ]
  },
  {
   "cell_type": "code",
   "execution_count": 16,
   "metadata": {
    "collapsed": false,
    "deletable": true,
    "editable": true
   },
   "outputs": [
    {
     "name": "stdout",
     "output_type": "stream",
     "text": [
      "\n",
      "call price according to Black-Scholes:      1.358\n"
     ]
    },
    {
     "data": {
      "text/plain": [
       "51-element Array{Float64,1}:\n",
       " 3.41867 \n",
       " 3.31625 \n",
       " 3.21509 \n",
       " 3.11527 \n",
       " 3.01685 \n",
       " 2.9199  \n",
       " 2.82449 \n",
       " 2.73066 \n",
       " 2.63849 \n",
       " 2.54802 \n",
       " 2.4593  \n",
       " 2.37238 \n",
       " 2.28729 \n",
       " ⋮       \n",
       " 0.712569\n",
       " 0.678616\n",
       " 0.646071\n",
       " 0.614891\n",
       " 0.585035\n",
       " 0.55646 \n",
       " 0.529124\n",
       " 0.502986\n",
       " 0.478005\n",
       " 0.454139\n",
       " 0.431351\n",
       " 0.409599"
      ]
     },
     "execution_count": 16,
     "metadata": {},
     "output_type": "execute_result"
    }
   ],
   "source": [
    "sigma = 0.4\n",
    "c1 = OptionBlackSPs(10,10,0.5,0.1,sigma)\n",
    "printlnPs(\"\\n\",\"call price according to Black-Scholes: \",c1)\n",
    "\n",
    "X = linspace(7,13,51)\n",
    "c = OptionBlackSPs(10,X,0.5,0.1,sigma)"
   ]
  },
  {
   "cell_type": "code",
   "execution_count": 17,
   "metadata": {
    "collapsed": false,
    "deletable": true,
    "editable": true
   },
   "outputs": [
    {
     "data": {
      "text/html": [
       "<?xml version=\"1.0\" encoding=\"utf-8\"?>\n",
       "<svg xmlns=\"http://www.w3.org/2000/svg\" xmlns:xlink=\"http://www.w3.org/1999/xlink\" width=\"600\" height=\"400\" viewBox=\"0 0 600 400\">\n",
       "<defs>\n",
       "  <clipPath id=\"clip00\">\n",
       "    <rect x=\"0\" y=\"0\" width=\"600\" height=\"400\"/>\n",
       "  </clipPath>\n",
       "</defs>\n",
       "<polygon clip-path=\"url(#clip00)\" points=\"\n",
       "0,400 600,400 600,0 0,0 \n",
       "  \" fill=\"#ffffff\" fill-opacity=\"1\"/>\n",
       "<defs>\n",
       "  <clipPath id=\"clip01\">\n",
       "    <rect x=\"120\" y=\"0\" width=\"421\" height=\"400\"/>\n",
       "  </clipPath>\n",
       "</defs>\n",
       "<polygon clip-path=\"url(#clip00)\" points=\"\n",
       "28.1037,369.674 596.063,369.674 596.063,23.3815 28.1037,23.3815 \n",
       "  \" fill=\"#ffffff\" fill-opacity=\"1\"/>\n",
       "<defs>\n",
       "  <clipPath id=\"clip02\">\n",
       "    <rect x=\"28\" y=\"23\" width=\"568\" height=\"347\"/>\n",
       "  </clipPath>\n",
       "</defs>\n",
       "<polyline clip-path=\"url(#clip02)\" style=\"stroke:#00002d; stroke-width:0.8; stroke-opacity:0.5; fill:none\" stroke-dasharray=\"1, 2\" points=\"\n",
       "  28.1037,364.48 28.1037,28.5758 \n",
       "  \"/>\n",
       "<polyline clip-path=\"url(#clip02)\" style=\"stroke:#00002d; stroke-width:0.8; stroke-opacity:0.5; fill:none\" stroke-dasharray=\"1, 2\" points=\"\n",
       "  122.764,364.48 122.764,28.5758 \n",
       "  \"/>\n",
       "<polyline clip-path=\"url(#clip02)\" style=\"stroke:#00002d; stroke-width:0.8; stroke-opacity:0.5; fill:none\" stroke-dasharray=\"1, 2\" points=\"\n",
       "  217.423,364.48 217.423,28.5758 \n",
       "  \"/>\n",
       "<polyline clip-path=\"url(#clip02)\" style=\"stroke:#00002d; stroke-width:0.8; stroke-opacity:0.5; fill:none\" stroke-dasharray=\"1, 2\" points=\"\n",
       "  312.083,364.48 312.083,28.5758 \n",
       "  \"/>\n",
       "<polyline clip-path=\"url(#clip02)\" style=\"stroke:#00002d; stroke-width:0.8; stroke-opacity:0.5; fill:none\" stroke-dasharray=\"1, 2\" points=\"\n",
       "  406.743,364.48 406.743,28.5758 \n",
       "  \"/>\n",
       "<polyline clip-path=\"url(#clip02)\" style=\"stroke:#00002d; stroke-width:0.8; stroke-opacity:0.5; fill:none\" stroke-dasharray=\"1, 2\" points=\"\n",
       "  501.403,364.48 501.403,28.5758 \n",
       "  \"/>\n",
       "<polyline clip-path=\"url(#clip02)\" style=\"stroke:#00002d; stroke-width:0.8; stroke-opacity:0.5; fill:none\" stroke-dasharray=\"1, 2\" points=\"\n",
       "  596.063,364.48 596.063,28.5758 \n",
       "  \"/>\n",
       "<polyline clip-path=\"url(#clip02)\" style=\"stroke:#00002d; stroke-width:0.8; stroke-opacity:0.5; fill:none\" stroke-dasharray=\"1, 2\" points=\"\n",
       "  36.6231,301.729 587.544,301.729 \n",
       "  \"/>\n",
       "<polyline clip-path=\"url(#clip02)\" style=\"stroke:#00002d; stroke-width:0.8; stroke-opacity:0.5; fill:none\" stroke-dasharray=\"1, 2\" points=\"\n",
       "  36.6231,186.646 587.544,186.646 \n",
       "  \"/>\n",
       "<polyline clip-path=\"url(#clip02)\" style=\"stroke:#00002d; stroke-width:0.8; stroke-opacity:0.5; fill:none\" stroke-dasharray=\"1, 2\" points=\"\n",
       "  36.6231,71.5628 587.544,71.5628 \n",
       "  \"/>\n",
       "<polyline clip-path=\"url(#clip02)\" style=\"stroke:#00002d; stroke-width:0.8; stroke-opacity:1; fill:none\" points=\"\n",
       "  28.1037,369.674 596.063,369.674 \n",
       "  \"/>\n",
       "<polyline clip-path=\"url(#clip02)\" style=\"stroke:#00002d; stroke-width:0.8; stroke-opacity:1; fill:none\" points=\"\n",
       "  28.1037,369.674 28.1037,364.48 \n",
       "  \"/>\n",
       "<polyline clip-path=\"url(#clip02)\" style=\"stroke:#00002d; stroke-width:0.8; stroke-opacity:1; fill:none\" points=\"\n",
       "  122.764,369.674 122.764,364.48 \n",
       "  \"/>\n",
       "<polyline clip-path=\"url(#clip02)\" style=\"stroke:#00002d; stroke-width:0.8; stroke-opacity:1; fill:none\" points=\"\n",
       "  217.423,369.674 217.423,364.48 \n",
       "  \"/>\n",
       "<polyline clip-path=\"url(#clip02)\" style=\"stroke:#00002d; stroke-width:0.8; stroke-opacity:1; fill:none\" points=\"\n",
       "  312.083,369.674 312.083,364.48 \n",
       "  \"/>\n",
       "<polyline clip-path=\"url(#clip02)\" style=\"stroke:#00002d; stroke-width:0.8; stroke-opacity:1; fill:none\" points=\"\n",
       "  406.743,369.674 406.743,364.48 \n",
       "  \"/>\n",
       "<polyline clip-path=\"url(#clip02)\" style=\"stroke:#00002d; stroke-width:0.8; stroke-opacity:1; fill:none\" points=\"\n",
       "  501.403,369.674 501.403,364.48 \n",
       "  \"/>\n",
       "<polyline clip-path=\"url(#clip02)\" style=\"stroke:#00002d; stroke-width:0.8; stroke-opacity:1; fill:none\" points=\"\n",
       "  596.063,369.674 596.063,364.48 \n",
       "  \"/>\n",
       "<polyline clip-path=\"url(#clip02)\" style=\"stroke:#00002d; stroke-width:0.8; stroke-opacity:1; fill:none\" points=\"\n",
       "  28.1037,369.674 28.1037,23.3815 \n",
       "  \"/>\n",
       "<polyline clip-path=\"url(#clip02)\" style=\"stroke:#00002d; stroke-width:0.8; stroke-opacity:1; fill:none\" points=\"\n",
       "  28.1037,301.729 36.6231,301.729 \n",
       "  \"/>\n",
       "<polyline clip-path=\"url(#clip02)\" style=\"stroke:#00002d; stroke-width:0.8; stroke-opacity:1; fill:none\" points=\"\n",
       "  28.1037,186.646 36.6231,186.646 \n",
       "  \"/>\n",
       "<polyline clip-path=\"url(#clip02)\" style=\"stroke:#00002d; stroke-width:0.8; stroke-opacity:1; fill:none\" points=\"\n",
       "  28.1037,71.5628 36.6231,71.5628 \n",
       "  \"/>\n",
       "<g clip-path=\"url(#clip00)\">\n",
       "<text style=\"fill:#00002d; fill-opacity:1; font-family:Arial,Helvetica Neue,Helvetica,sans-serif; font-size:12; text-anchor:middle;\" transform=\"rotate(0, 28.1037, 381.674)\" x=\"28.1037\" y=\"381.674\">7</text>\n",
       "</g>\n",
       "<g clip-path=\"url(#clip00)\">\n",
       "<text style=\"fill:#00002d; fill-opacity:1; font-family:Arial,Helvetica Neue,Helvetica,sans-serif; font-size:12; text-anchor:middle;\" transform=\"rotate(0, 122.764, 381.674)\" x=\"122.764\" y=\"381.674\">8</text>\n",
       "</g>\n",
       "<g clip-path=\"url(#clip00)\">\n",
       "<text style=\"fill:#00002d; fill-opacity:1; font-family:Arial,Helvetica Neue,Helvetica,sans-serif; font-size:12; text-anchor:middle;\" transform=\"rotate(0, 217.423, 381.674)\" x=\"217.423\" y=\"381.674\">9</text>\n",
       "</g>\n",
       "<g clip-path=\"url(#clip00)\">\n",
       "<text style=\"fill:#00002d; fill-opacity:1; font-family:Arial,Helvetica Neue,Helvetica,sans-serif; font-size:12; text-anchor:middle;\" transform=\"rotate(0, 312.083, 381.674)\" x=\"312.083\" y=\"381.674\">10</text>\n",
       "</g>\n",
       "<g clip-path=\"url(#clip00)\">\n",
       "<text style=\"fill:#00002d; fill-opacity:1; font-family:Arial,Helvetica Neue,Helvetica,sans-serif; font-size:12; text-anchor:middle;\" transform=\"rotate(0, 406.743, 381.674)\" x=\"406.743\" y=\"381.674\">11</text>\n",
       "</g>\n",
       "<g clip-path=\"url(#clip00)\">\n",
       "<text style=\"fill:#00002d; fill-opacity:1; font-family:Arial,Helvetica Neue,Helvetica,sans-serif; font-size:12; text-anchor:middle;\" transform=\"rotate(0, 501.403, 381.674)\" x=\"501.403\" y=\"381.674\">12</text>\n",
       "</g>\n",
       "<g clip-path=\"url(#clip00)\">\n",
       "<text style=\"fill:#00002d; fill-opacity:1; font-family:Arial,Helvetica Neue,Helvetica,sans-serif; font-size:12; text-anchor:middle;\" transform=\"rotate(0, 596.063, 381.674)\" x=\"596.063\" y=\"381.674\">13</text>\n",
       "</g>\n",
       "<g clip-path=\"url(#clip00)\">\n",
       "<text style=\"fill:#00002d; fill-opacity:1; font-family:Arial,Helvetica Neue,Helvetica,sans-serif; font-size:12; text-anchor:end;\" transform=\"rotate(0, 26.9037, 306.229)\" x=\"26.9037\" y=\"306.229\">1</text>\n",
       "</g>\n",
       "<g clip-path=\"url(#clip00)\">\n",
       "<text style=\"fill:#00002d; fill-opacity:1; font-family:Arial,Helvetica Neue,Helvetica,sans-serif; font-size:12; text-anchor:end;\" transform=\"rotate(0, 26.9037, 191.146)\" x=\"26.9037\" y=\"191.146\">2</text>\n",
       "</g>\n",
       "<g clip-path=\"url(#clip00)\">\n",
       "<text style=\"fill:#00002d; fill-opacity:1; font-family:Arial,Helvetica Neue,Helvetica,sans-serif; font-size:12; text-anchor:end;\" transform=\"rotate(0, 26.9037, 76.0628)\" x=\"26.9037\" y=\"76.0628\">3</text>\n",
       "</g>\n",
       "<g clip-path=\"url(#clip00)\">\n",
       "<text style=\"fill:#00002d; fill-opacity:1; font-family:Arial,Helvetica Neue,Helvetica,sans-serif; font-size:21; text-anchor:middle;\" transform=\"rotate(0, 312.083, 18)\" x=\"312.083\" y=\"18\">Black-Scholes call option price</text>\n",
       "</g>\n",
       "<g clip-path=\"url(#clip00)\">\n",
       "<text style=\"fill:#00002d; fill-opacity:1; font-family:Arial,Helvetica Neue,Helvetica,sans-serif; font-size:16; text-anchor:middle;\" transform=\"rotate(0, 312.083, 397.6)\" x=\"312.083\" y=\"397.6\">strike price</text>\n",
       "</g>\n",
       "<g clip-path=\"url(#clip00)\">\n",
       "<text style=\"fill:#00002d; fill-opacity:1; font-family:Arial,Helvetica Neue,Helvetica,sans-serif; font-size:16; text-anchor:middle;\" transform=\"rotate(-90, 14.4, 196.528)\" x=\"14.4\" y=\"196.528\">option price</text>\n",
       "</g>\n",
       "<polyline clip-path=\"url(#clip02)\" style=\"stroke:#ff0000; stroke-width:0.8; stroke-opacity:1; fill:none\" points=\"\n",
       "  28.1037,23.3815 39.4629,35.1682 50.822,46.8095 62.1812,58.2973 73.5404,69.6236 84.8996,80.7808 96.2588,91.7615 107.618,102.559 118.977,113.166 130.336,123.578 \n",
       "  141.696,133.788 153.055,143.792 164.414,153.584 175.773,163.161 187.132,172.519 198.491,181.656 209.851,190.568 221.21,199.253 232.569,207.711 243.928,215.941 \n",
       "  255.287,223.941 266.647,231.712 278.006,239.255 289.365,246.57 300.724,253.66 312.083,260.525 323.443,267.167 334.802,273.591 346.161,279.797 357.52,285.789 \n",
       "  368.879,291.572 380.238,297.147 391.598,302.52 402.957,307.693 414.316,312.673 425.675,317.462 437.034,322.065 448.394,326.487 459.753,330.733 471.112,334.807 \n",
       "  482.471,338.715 493.83,342.46 505.19,346.048 516.549,349.484 527.908,352.773 539.267,355.919 550.626,358.927 561.985,361.802 573.345,364.548 584.704,367.171 \n",
       "  596.063,369.674 \n",
       "  \"/>\n",
       "</svg>\n"
      ]
     },
     "execution_count": 17,
     "metadata": {},
     "output_type": "execute_result"
    }
   ],
   "source": [
    "plot1 = plot(X,c,color=:red,legend=false)\n",
    "title!(\"Black-Scholes call option price\")\n",
    "xlabel!(\"strike price\")\n",
    "ylabel!(\"option price\")"
   ]
  },
  {
   "cell_type": "markdown",
   "metadata": {
    "deletable": true,
    "editable": true
   },
   "source": [
    "# Implied Volatility"
   ]
  },
  {
   "cell_type": "code",
   "execution_count": 18,
   "metadata": {
    "collapsed": false,
    "deletable": true,
    "editable": true
   },
   "outputs": [
    {
     "name": "stdout",
     "output_type": "stream",
     "text": [
      "Implied volatility for theoretical case (should be the same as above):      0.400\n"
     ]
    }
   ],
   "source": [
    "                                #simple (crude) way to solve for implied vol\n",
    "iv = Roots.fzero(sigma->OptionBlackSPs(10,10,0.5,0.1,sigma)-c1,[-1;1])\n",
    "printlnPs(\"Implied volatility for theoretical case (should be the same as above): \",iv)"
   ]
  },
  {
   "cell_type": "code",
   "execution_count": 19,
   "metadata": {
    "collapsed": false,
    "deletable": true,
    "editable": true
   },
   "outputs": [
    {
     "data": {
      "text/html": [
       "21"
      ],
      "text/plain": [
       "21"
      ]
     },
     "execution_count": 19,
     "metadata": {},
     "output_type": "execute_result"
    }
   ],
   "source": [
    "#  LIFFE Bunds option data, trade date April 6, 1994\n",
    "X = [                        #strike prices; Mx1 vector\n",
    "      92.00;  94.00;  94.50;  95.00;  95.50;  96.00;  96.50;  97.00;\n",
    "      97.50;  98.00;  98.50;  99.00;  99.50;  100.0;  100.5;  101.0;\n",
    "     101.5;  102.0;  102.5;  103.0;  103.5 ];\n",
    "C = [                        #call prices; Mx1 vector\n",
    "      5.13;    3.25;    2.83;    2.40;    2.00;    1.64;    1.31;    1.02;\n",
    "      0.770;   0.570;   0.400;   0.280;   0.190;   0.130;  0.0800;  0.0500;\n",
    "      0.0400;  0.0300;  0.0200;  0.0100;  0.0100 ];\n",
    "F = 97.05                #Forward price\n",
    "m = 48/365               #time to expiry in years\n",
    "r = 0.0                  #Interest rate: LIFFE=>no discounting\n",
    "N = length(X)"
   ]
  },
  {
   "cell_type": "code",
   "execution_count": 20,
   "metadata": {
    "collapsed": false,
    "deletable": true,
    "editable": true
   },
   "outputs": [
    {
     "name": "stdout",
     "output_type": "stream",
     "text": [
      "Strike and iv for data: \n",
      "    92.000     0.094\n",
      "    94.000     0.081\n",
      "    94.500     0.081\n",
      "    95.000     0.078\n",
      "    95.500     0.075\n",
      "    96.000     0.074\n",
      "    96.500     0.072\n",
      "    97.000     0.071\n",
      "    97.500     0.070\n",
      "    98.000     0.069\n",
      "    98.500     0.068\n",
      "    99.000     0.067\n",
      "    99.500     0.067\n",
      "   100.000     0.068\n",
      "   100.500     0.067\n",
      "   101.000     0.067\n",
      "   101.500     0.070\n",
      "   102.000     0.073\n",
      "   102.500     0.074\n",
      "   103.000     0.072\n",
      "   103.500     0.077\n",
      "\n"
     ]
    }
   ],
   "source": [
    "iv = fill(NaN,N)\n",
    "for i = 1:N\n",
    "  iv[i] = Roots.fzero(sigma->OptionBlackSPs(exp(-m*r)*F,X[i],m,r,sigma)-C[i],[-1;1])\n",
    "end\n",
    "println(\"Strike and iv for data: \")\n",
    "printmat([X iv])"
   ]
  },
  {
   "cell_type": "code",
   "execution_count": 21,
   "metadata": {
    "collapsed": false,
    "deletable": true,
    "editable": true
   },
   "outputs": [
    {
     "data": {
      "text/html": [
       "<?xml version=\"1.0\" encoding=\"utf-8\"?>\n",
       "<svg xmlns=\"http://www.w3.org/2000/svg\" xmlns:xlink=\"http://www.w3.org/1999/xlink\" width=\"600\" height=\"400\" viewBox=\"0 0 600 400\">\n",
       "<defs>\n",
       "  <clipPath id=\"clip00\">\n",
       "    <rect x=\"0\" y=\"0\" width=\"600\" height=\"400\"/>\n",
       "  </clipPath>\n",
       "</defs>\n",
       "<polygon clip-path=\"url(#clip00)\" points=\"\n",
       "0,400 600,400 600,0 0,0 \n",
       "  \" fill=\"#ffffff\" fill-opacity=\"1\"/>\n",
       "<defs>\n",
       "  <clipPath id=\"clip01\">\n",
       "    <rect x=\"120\" y=\"0\" width=\"421\" height=\"400\"/>\n",
       "  </clipPath>\n",
       "</defs>\n",
       "<polygon clip-path=\"url(#clip00)\" points=\"\n",
       "39.4926,369.674 596.063,369.674 596.063,23.3815 39.4926,23.3815 \n",
       "  \" fill=\"#ffffff\" fill-opacity=\"1\"/>\n",
       "<defs>\n",
       "  <clipPath id=\"clip02\">\n",
       "    <rect x=\"39\" y=\"23\" width=\"557\" height=\"347\"/>\n",
       "  </clipPath>\n",
       "</defs>\n",
       "<polyline clip-path=\"url(#clip02)\" style=\"stroke:#00002d; stroke-width:0.8; stroke-opacity:0.5; fill:none\" stroke-dasharray=\"1, 2\" points=\"\n",
       "  39.4926,364.48 39.4926,28.5758 \n",
       "  \"/>\n",
       "<polyline clip-path=\"url(#clip02)\" style=\"stroke:#00002d; stroke-width:0.8; stroke-opacity:0.5; fill:none\" stroke-dasharray=\"1, 2\" points=\"\n",
       "  136.287,364.48 136.287,28.5758 \n",
       "  \"/>\n",
       "<polyline clip-path=\"url(#clip02)\" style=\"stroke:#00002d; stroke-width:0.8; stroke-opacity:0.5; fill:none\" stroke-dasharray=\"1, 2\" points=\"\n",
       "  233.082,364.48 233.082,28.5758 \n",
       "  \"/>\n",
       "<polyline clip-path=\"url(#clip02)\" style=\"stroke:#00002d; stroke-width:0.8; stroke-opacity:0.5; fill:none\" stroke-dasharray=\"1, 2\" points=\"\n",
       "  329.877,364.48 329.877,28.5758 \n",
       "  \"/>\n",
       "<polyline clip-path=\"url(#clip02)\" style=\"stroke:#00002d; stroke-width:0.8; stroke-opacity:0.5; fill:none\" stroke-dasharray=\"1, 2\" points=\"\n",
       "  426.672,364.48 426.672,28.5758 \n",
       "  \"/>\n",
       "<polyline clip-path=\"url(#clip02)\" style=\"stroke:#00002d; stroke-width:0.8; stroke-opacity:0.5; fill:none\" stroke-dasharray=\"1, 2\" points=\"\n",
       "  523.467,364.48 523.467,28.5758 \n",
       "  \"/>\n",
       "<polyline clip-path=\"url(#clip02)\" style=\"stroke:#00002d; stroke-width:0.8; stroke-opacity:0.5; fill:none\" stroke-dasharray=\"1, 2\" points=\"\n",
       "  47.8411,328.837 587.714,328.837 \n",
       "  \"/>\n",
       "<polyline clip-path=\"url(#clip02)\" style=\"stroke:#00002d; stroke-width:0.8; stroke-opacity:0.5; fill:none\" stroke-dasharray=\"1, 2\" points=\"\n",
       "  47.8411,200.55 587.714,200.55 \n",
       "  \"/>\n",
       "<polyline clip-path=\"url(#clip02)\" style=\"stroke:#00002d; stroke-width:0.8; stroke-opacity:0.5; fill:none\" stroke-dasharray=\"1, 2\" points=\"\n",
       "  47.8411,72.2634 587.714,72.2634 \n",
       "  \"/>\n",
       "<polyline clip-path=\"url(#clip02)\" style=\"stroke:#00002d; stroke-width:0.8; stroke-opacity:1; fill:none\" points=\"\n",
       "  39.4926,369.674 596.063,369.674 \n",
       "  \"/>\n",
       "<polyline clip-path=\"url(#clip02)\" style=\"stroke:#00002d; stroke-width:0.8; stroke-opacity:1; fill:none\" points=\"\n",
       "  39.4926,369.674 39.4926,364.48 \n",
       "  \"/>\n",
       "<polyline clip-path=\"url(#clip02)\" style=\"stroke:#00002d; stroke-width:0.8; stroke-opacity:1; fill:none\" points=\"\n",
       "  136.287,369.674 136.287,364.48 \n",
       "  \"/>\n",
       "<polyline clip-path=\"url(#clip02)\" style=\"stroke:#00002d; stroke-width:0.8; stroke-opacity:1; fill:none\" points=\"\n",
       "  233.082,369.674 233.082,364.48 \n",
       "  \"/>\n",
       "<polyline clip-path=\"url(#clip02)\" style=\"stroke:#00002d; stroke-width:0.8; stroke-opacity:1; fill:none\" points=\"\n",
       "  329.877,369.674 329.877,364.48 \n",
       "  \"/>\n",
       "<polyline clip-path=\"url(#clip02)\" style=\"stroke:#00002d; stroke-width:0.8; stroke-opacity:1; fill:none\" points=\"\n",
       "  426.672,369.674 426.672,364.48 \n",
       "  \"/>\n",
       "<polyline clip-path=\"url(#clip02)\" style=\"stroke:#00002d; stroke-width:0.8; stroke-opacity:1; fill:none\" points=\"\n",
       "  523.467,369.674 523.467,364.48 \n",
       "  \"/>\n",
       "<polyline clip-path=\"url(#clip02)\" style=\"stroke:#00002d; stroke-width:0.8; stroke-opacity:1; fill:none\" points=\"\n",
       "  39.4926,369.674 39.4926,23.3815 \n",
       "  \"/>\n",
       "<polyline clip-path=\"url(#clip02)\" style=\"stroke:#00002d; stroke-width:0.8; stroke-opacity:1; fill:none\" points=\"\n",
       "  39.4926,328.837 47.8411,328.837 \n",
       "  \"/>\n",
       "<polyline clip-path=\"url(#clip02)\" style=\"stroke:#00002d; stroke-width:0.8; stroke-opacity:1; fill:none\" points=\"\n",
       "  39.4926,200.55 47.8411,200.55 \n",
       "  \"/>\n",
       "<polyline clip-path=\"url(#clip02)\" style=\"stroke:#00002d; stroke-width:0.8; stroke-opacity:1; fill:none\" points=\"\n",
       "  39.4926,72.2634 47.8411,72.2634 \n",
       "  \"/>\n",
       "<g clip-path=\"url(#clip00)\">\n",
       "<text style=\"fill:#00002d; fill-opacity:1; font-family:Arial,Helvetica Neue,Helvetica,sans-serif; font-size:12; text-anchor:middle;\" transform=\"rotate(0, 39.4926, 381.674)\" x=\"39.4926\" y=\"381.674\">92</text>\n",
       "</g>\n",
       "<g clip-path=\"url(#clip00)\">\n",
       "<text style=\"fill:#00002d; fill-opacity:1; font-family:Arial,Helvetica Neue,Helvetica,sans-serif; font-size:12; text-anchor:middle;\" transform=\"rotate(0, 136.287, 381.674)\" x=\"136.287\" y=\"381.674\">94</text>\n",
       "</g>\n",
       "<g clip-path=\"url(#clip00)\">\n",
       "<text style=\"fill:#00002d; fill-opacity:1; font-family:Arial,Helvetica Neue,Helvetica,sans-serif; font-size:12; text-anchor:middle;\" transform=\"rotate(0, 233.082, 381.674)\" x=\"233.082\" y=\"381.674\">96</text>\n",
       "</g>\n",
       "<g clip-path=\"url(#clip00)\">\n",
       "<text style=\"fill:#00002d; fill-opacity:1; font-family:Arial,Helvetica Neue,Helvetica,sans-serif; font-size:12; text-anchor:middle;\" transform=\"rotate(0, 329.877, 381.674)\" x=\"329.877\" y=\"381.674\">98</text>\n",
       "</g>\n",
       "<g clip-path=\"url(#clip00)\">\n",
       "<text style=\"fill:#00002d; fill-opacity:1; font-family:Arial,Helvetica Neue,Helvetica,sans-serif; font-size:12; text-anchor:middle;\" transform=\"rotate(0, 426.672, 381.674)\" x=\"426.672\" y=\"381.674\">100</text>\n",
       "</g>\n",
       "<g clip-path=\"url(#clip00)\">\n",
       "<text style=\"fill:#00002d; fill-opacity:1; font-family:Arial,Helvetica Neue,Helvetica,sans-serif; font-size:12; text-anchor:middle;\" transform=\"rotate(0, 523.467, 381.674)\" x=\"523.467\" y=\"381.674\">102</text>\n",
       "</g>\n",
       "<g clip-path=\"url(#clip00)\">\n",
       "<text style=\"fill:#00002d; fill-opacity:1; font-family:Arial,Helvetica Neue,Helvetica,sans-serif; font-size:12; text-anchor:end;\" transform=\"rotate(0, 38.2926, 333.337)\" x=\"38.2926\" y=\"333.337\">0.07</text>\n",
       "</g>\n",
       "<g clip-path=\"url(#clip00)\">\n",
       "<text style=\"fill:#00002d; fill-opacity:1; font-family:Arial,Helvetica Neue,Helvetica,sans-serif; font-size:12; text-anchor:end;\" transform=\"rotate(0, 38.2926, 205.05)\" x=\"38.2926\" y=\"205.05\">0.08</text>\n",
       "</g>\n",
       "<g clip-path=\"url(#clip00)\">\n",
       "<text style=\"fill:#00002d; fill-opacity:1; font-family:Arial,Helvetica Neue,Helvetica,sans-serif; font-size:12; text-anchor:end;\" transform=\"rotate(0, 38.2926, 76.7634)\" x=\"38.2926\" y=\"76.7634\">0.09</text>\n",
       "</g>\n",
       "<g clip-path=\"url(#clip00)\">\n",
       "<text style=\"fill:#00002d; fill-opacity:1; font-family:Arial,Helvetica Neue,Helvetica,sans-serif; font-size:21; text-anchor:middle;\" transform=\"rotate(0, 317.778, 18)\" x=\"317.778\" y=\"18\">Implied volatility, Bunds options April 6, 1994</text>\n",
       "</g>\n",
       "<g clip-path=\"url(#clip00)\">\n",
       "<text style=\"fill:#00002d; fill-opacity:1; font-family:Arial,Helvetica Neue,Helvetica,sans-serif; font-size:16; text-anchor:middle;\" transform=\"rotate(0, 317.778, 397.6)\" x=\"317.778\" y=\"397.6\">strike price</text>\n",
       "</g>\n",
       "<polyline clip-path=\"url(#clip02)\" style=\"stroke:#ff0000; stroke-width:0.8; stroke-opacity:1; fill:none\" points=\"\n",
       "  39.4926,23.3815 136.287,183.495 160.486,186.55 184.685,230.262 208.884,261.876 233.082,279.607 257.281,300.178 281.48,317.64 305.678,334.763 329.877,342.993 \n",
       "  354.076,360.729 378.275,363.433 402.473,366.126 426.672,358.903 450.871,369.674 475.069,369.418 499.268,325.235 523.467,294.168 547.666,281.97 571.864,305.15 \n",
       "  596.063,240.502 \n",
       "  \"/>\n",
       "</svg>\n"
      ]
     },
     "execution_count": 21,
     "metadata": {},
     "output_type": "execute_result"
    }
   ],
   "source": [
    "plot1 = plot(X,iv,color=:red,legend=false)\n",
    "title!(\"Implied volatility, Bunds options April 6, 1994\")\n",
    "xlabel!(\"strike price\")"
   ]
  },
  {
   "cell_type": "code",
   "execution_count": null,
   "metadata": {
    "collapsed": true,
    "deletable": true,
    "editable": true
   },
   "outputs": [],
   "source": []
  }
 ],
 "metadata": {
  "anaconda-cloud": {},
  "kernelspec": {
   "display_name": "Julia 0.5.1",
   "language": "julia",
   "name": "julia-0.5"
  },
  "language_info": {
   "file_extension": ".jl",
   "mimetype": "application/julia",
   "name": "julia",
   "version": "0.5.1"
  }
 },
 "nbformat": 4,
 "nbformat_minor": 0
}
