{
 "cells": [
  {
   "cell_type": "code",
   "execution_count": 1,
   "metadata": {
    "collapsed": false,
    "deletable": true,
    "editable": true
   },
   "outputs": [
    {
     "data": {
      "text/plain": [
       "printlnPs (generic function with 1 method)"
      ]
     },
     "execution_count": 1,
     "metadata": {},
     "output_type": "execute_result"
    }
   ],
   "source": [
    "include(\"printmat.jl\")            #just a function for prettier matrix printing"
   ]
  },
  {
   "cell_type": "markdown",
   "metadata": {
    "deletable": true,
    "editable": true
   },
   "source": [
    "# The Effect of NaNs\n",
    "\n",
    "Most computations involving NaNs give NaN as the result.\n",
    "\n",
    "NaNs are often used to represent missing data."
   ]
  },
  {
   "cell_type": "code",
   "execution_count": 2,
   "metadata": {
    "collapsed": false,
    "deletable": true,
    "editable": true
   },
   "outputs": [
    {
     "name": "stdout",
     "output_type": "stream",
     "text": [
      "NaN\n"
     ]
    }
   ],
   "source": [
    "a = 2\n",
    "b = NaN\n",
    "println(a+b)"
   ]
  },
  {
   "cell_type": "markdown",
   "metadata": {
    "deletable": true,
    "editable": true
   },
   "source": [
    "## NaNs in a Matrix\n",
    "\n",
    "The code below shows that if a matrix contains NaNs, then many calculations (eg. summing all elements) give NaN as the result"
   ]
  },
  {
   "cell_type": "code",
   "execution_count": 3,
   "metadata": {
    "collapsed": false,
    "deletable": true,
    "editable": true
   },
   "outputs": [
    {
     "name": "stdout",
     "output_type": "stream",
     "text": [
      "z: \n",
      "     1.000       NaN\n",
      "     2.000    12.000\n",
      "     3.000    13.000\n",
      "\n",
      "z has some NaNs\n",
      "\n",
      "The average of each column: \n",
      "     2.000       NaN\n",
      "\n"
     ]
    }
   ],
   "source": [
    "z = [1 NaN;\n",
    "     2 12 ;\n",
    "     3 13]                 #a matrix with NaNs\n",
    "println(\"z: \")\n",
    "printmat(z)\n",
    "\n",
    "if any(isnan.(z))                      #check if any NaNs\n",
    "  println(\"z has some NaNs\")\n",
    "end\n",
    "\n",
    "\n",
    "println(\"\\nThe average of each column: \")\n",
    "printmat(mean(z,1))"
   ]
  },
  {
   "cell_type": "markdown",
   "metadata": {
    "deletable": true,
    "editable": true
   },
   "source": [
    "# Getting Rid NaNs\n",
    "\n",
    "It is a common procedure in statistics to throw out all cases with NaNs. For instance, if z[t,:] is the data for period t, then it is common to throw out that entire row. \n",
    "\n",
    "The code below shows a simple way of how."
   ]
  },
  {
   "cell_type": "code",
   "execution_count": 4,
   "metadata": {
    "collapsed": false,
    "deletable": true,
    "editable": true
   },
   "outputs": [
    {
     "name": "stdout",
     "output_type": "stream",
     "text": [
      "z2: a new matrix where all rows with any NaNs have been pruned:\n",
      "     2.000    12.000\n",
      "     3.000    13.000\n",
      "\n"
     ]
    }
   ],
   "source": [
    "#vv = vec(!any(isnan(z),2))             #indicates rows with no NaNs\n",
    "va  = isnan.(z)                          #v[i,j]=true if z[i,j]=NaN\n",
    "vb = vec(any(va,2))                      #indicates rows with NaNs\n",
    "vc = broadcast(!,vb)                     #indicates rows without NaN, works in 0.5 and 0.6, do .!vb in 0.6\n",
    "\n",
    "z2 = z[vc,:]                           #keep only rows without NaNs\n",
    "println(\"z2: a new matrix where all rows with any NaNs have been pruned:\")\n",
    "printmat(z2)"
   ]
  },
  {
   "cell_type": "code",
   "execution_count": null,
   "metadata": {
    "collapsed": true,
    "deletable": true,
    "editable": true
   },
   "outputs": [],
   "source": []
  }
 ],
 "metadata": {
  "anaconda-cloud": {},
  "kernelspec": {
   "display_name": "Julia 0.5.1",
   "language": "julia",
   "name": "julia-0.5"
  },
  "language_info": {
   "file_extension": ".jl",
   "mimetype": "application/julia",
   "name": "julia",
   "version": "0.5.1"
  }
 },
 "nbformat": 4,
 "nbformat_minor": 1
}
