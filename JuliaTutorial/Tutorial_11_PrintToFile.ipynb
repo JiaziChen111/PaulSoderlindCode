{
 "cells": [
  {
   "cell_type": "code",
   "execution_count": 1,
   "metadata": {
    "collapsed": false
   },
   "outputs": [
    {
     "data": {
      "text/plain": [
       "printlnPs (generic function with 1 method)"
      ]
     },
     "execution_count": 1,
     "metadata": {},
     "output_type": "execute_result"
    }
   ],
   "source": [
    "include(\"printmat.jl\")            #a function for prettier matrix printing"
   ]
  },
  {
   "cell_type": "code",
   "execution_count": 2,
   "metadata": {
    "collapsed": false
   },
   "outputs": [
    {
     "name": "stdout",
     "output_type": "stream",
     "text": [
      "NewTxtFile.txt has been created in the subfolder Results. It's still empty.\n"
     ]
    }
   ],
   "source": [
    "fh = open(\"Results/NewTxtFile.txt\", \"w\")        #open the file, \"w\" for writing\n",
    "\n",
    "println(\"NewTxtFile.txt has been created in the subfolder Results. It's still empty.\")"
   ]
  },
  {
   "cell_type": "code",
   "execution_count": 3,
   "metadata": {
    "collapsed": true
   },
   "outputs": [],
   "source": [
    "println(fh,\"Dogs are \")          #printing something to the file   \n",
    "println(fh,\"nicer than cats.\")\n",
    "println(fh,\"\\n\")                 #give me some space\n",
    "\n",
    "x = rand(1:7,(4,3))\n",
    "println(fh,printmat(x,true))   #to pretty print the matrix"
   ]
  },
  {
   "cell_type": "code",
   "execution_count": 4,
   "metadata": {
    "collapsed": false
   },
   "outputs": [
    {
     "name": "stdout",
     "output_type": "stream",
     "text": [
      "NewTxtFile.txt has been closed. You can now work on it using another program.\n"
     ]
    }
   ],
   "source": [
    "close(fh)                               #close the file\n",
    "\n",
    "println(\"NewTxtFile.txt has been closed. You can now work on it using another program.\")"
   ]
  },
  {
   "cell_type": "code",
   "execution_count": null,
   "metadata": {
    "collapsed": true
   },
   "outputs": [],
   "source": []
  }
 ],
 "metadata": {
  "anaconda-cloud": {},
  "kernelspec": {
   "display_name": "Julia 0.6.0-pre.alpha",
   "language": "julia",
   "name": "julia-0.6"
  },
  "language_info": {
   "file_extension": ".jl",
   "mimetype": "application/julia",
   "name": "julia",
   "version": "0.6.0"
  }
 },
 "nbformat": 4,
 "nbformat_minor": 1
}
