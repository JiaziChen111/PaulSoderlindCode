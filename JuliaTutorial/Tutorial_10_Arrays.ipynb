{
 "cells": [
  {
   "cell_type": "markdown",
   "metadata": {
    "collapsed": true
   },
   "source": [
    "# Julia Tutorial"
   ]
  },
  {
   "cell_type": "code",
   "execution_count": 1,
   "metadata": {
    "collapsed": false
   },
   "outputs": [
    {
     "data": {
      "text/plain": [
       "printlnPs (generic function with 1 method)"
      ]
     },
     "execution_count": 1,
     "metadata": {},
     "output_type": "execute_result"
    }
   ],
   "source": [
    "include(\"printmat.jl\")   #just a function for prettier matrix printing"
   ]
  },
  {
   "cell_type": "markdown",
   "metadata": {},
   "source": [
    "# Arrays are Different\n",
    "\n",
    "Vectors and matrices (arrays) can take lots of memory space, so **Julia is designed to avoid unnecessary copies of arrays**."
   ]
  },
  {
   "cell_type": "markdown",
   "metadata": {},
   "source": [
    "## Issue 1. B = A Creates Two Names of the Same Array\n",
    "\n",
    "If A is an array, then\n",
    "```\n",
    "B = A\n",
    "```\n",
    "creates two names of the *same* matrix. If you later change A, then B is changed automatically. (Similarly, if you change B, then A is changed automatically.)"
   ]
  },
  {
   "cell_type": "code",
   "execution_count": 2,
   "metadata": {
    "collapsed": false
   },
   "outputs": [
    {
     "name": "stdout",
     "output_type": "stream",
     "text": [
      "\n",
      "old A,B,C: \n",
      "         1         1         1\n",
      "         2         2         2\n",
      "\n",
      "after changing element A[2] to -999\n",
      "         1         1         1\n",
      "      -999      -999         2\n",
      "\n"
     ]
    }
   ],
   "source": [
    "A = [1;2]\n",
    "B = A                                 #A and B are the same\n",
    "C = A + 0                             #A and C are not the same\n",
    "println()\n",
    "println(\"old A,B,C: \")\n",
    "printmat([A B C])\n",
    "\n",
    "A[2] = -999\n",
    "println(\"after changing element A[2] to -999\")\n",
    "printmat([A B C])"
   ]
  },
  {
   "cell_type": "markdown",
   "metadata": {},
   "source": [
    "## Issue 2. A Reshaped Array still Refers to the Original Array\n",
    "\n",
    "If you create a reshaped array by either \n",
    "```\n",
    "B = reshape(A,n,m)\n",
    "C = vec(A)\n",
    "D = A'  (in Julia 0.6, at least for vectors)\n",
    "```\n",
    "then A,B,C,D contain the same values. Changing one changes the others automatically."
   ]
  },
  {
   "cell_type": "code",
   "execution_count": 3,
   "metadata": {
    "collapsed": false
   },
   "outputs": [
    {
     "name": "stdout",
     "output_type": "stream",
     "text": [
      "original A: \n",
      "         1\n",
      "         2\n",
      "\n",
      "B: \n",
      "         1         2\n",
      "\n",
      "B after changing A: \n",
      "      -999         2\n",
      "\n"
     ]
    }
   ],
   "source": [
    "A = [1;2]\n",
    "println(\"original A: \")\n",
    "printmat(A)\n",
    "\n",
    "B = reshape(A,1,2)\n",
    "println(\"B: \")\n",
    "printmat(B)\n",
    "\n",
    "A[1] = -999\n",
    "println(\"B after changing A: \")\n",
    "printmat(B)"
   ]
  },
  {
   "cell_type": "markdown",
   "metadata": {
    "collapsed": true
   },
   "source": [
    "## Issue 3. Changing an Array Inside a Function Can Have Effects *Outside* the Function"
   ]
  },
  {
   "cell_type": "markdown",
   "metadata": {
    "collapsed": false
   },
   "source": [
    "When you use an array as a function argument, then that is passed as a reference to the function. This means that if you change some elements of the array (A[1] = A[1]/2, say) inside the function, then it will also affect the array outside the function (even if they have different names). In contrast, if you change the entire array (A/2, say) inside the function, then that does not affect the array outside the function.\n",
    "\n",
    "This applies to arrays, but not to scalars or strings.\n",
    "\n",
    "If you really need an independent copy of an array, create it by \n",
    "```\n",
    "B = deepcopy(A)\n",
    "```"
   ]
  },
  {
   "cell_type": "code",
   "execution_count": 4,
   "metadata": {
    "collapsed": false
   },
   "outputs": [
    {
     "name": "stdout",
     "output_type": "stream",
     "text": [
      "original x:      1.000     2.000\n",
      "x (outside function) after calling f1(x):      0.500     2.000\n",
      "\n",
      "original x:      1.000     2.000\n",
      "x (outside function) after calling f2(x):      1.000     2.000\n"
     ]
    }
   ],
   "source": [
    "function f1(A)\n",
    "    A[1] = A[1]/2          #changes ELEMENTS of A, affects outside value\n",
    "  return A\n",
    "end\n",
    "function f2(A)\n",
    "    A = A/2                #changes all of A, does not affect outside value\n",
    "  return A\n",
    "end\n",
    "\n",
    "x  = [1.0 2.0]\n",
    "printlnPs(\"original x: \",x)\n",
    "\n",
    "y1 = f1(x)\n",
    "printlnPs(\"x (outside function) after calling f1(x): \",x)\n",
    "\n",
    "x  = [1.0 2.0]\n",
    "printlnPs(\"\\noriginal x: \",x)\n",
    "\n",
    "y2 = f2(x)\n",
    "printlnPs(\"x (outside function) after calling f2(x): \",x)"
   ]
  },
  {
   "cell_type": "code",
   "execution_count": 5,
   "metadata": {
    "collapsed": false
   },
   "outputs": [
    {
     "name": "stdout",
     "output_type": "stream",
     "text": [
      "original x:      1.000     2.000\n",
      "x (outside function) after calling f3(x):      1.000     2.000\n"
     ]
    }
   ],
   "source": [
    "function f3(A)\n",
    "    B    = deepcopy(A)                #B is an independent copy\n",
    "    B[1] = B[1]/2          \n",
    "  return B\n",
    "end\n",
    "\n",
    "x  = [1.0 2.0]\n",
    "printlnPs(\"original x: \",x)\n",
    "\n",
    "y1 = f3(x)\n",
    "printlnPs(\"x (outside function) after calling f3(x): \",x)"
   ]
  }
 ],
 "metadata": {
  "anaconda-cloud": {},
  "kernelspec": {
   "display_name": "Julia 0.5.0",
   "language": "julia",
   "name": "julia-0.5"
  },
  "language_info": {
   "file_extension": ".jl",
   "mimetype": "application/julia",
   "name": "julia",
   "version": "0.5.0"
  }
 },
 "nbformat": 4,
 "nbformat_minor": 0
}
