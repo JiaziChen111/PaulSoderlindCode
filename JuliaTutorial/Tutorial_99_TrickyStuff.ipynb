{
 "cells": [
  {
   "cell_type": "markdown",
   "metadata": {
    "deletable": true,
    "editable": true
   },
   "source": [
    "# Tricky Stuff"
   ]
  },
  {
   "cell_type": "markdown",
   "metadata": {
    "collapsed": true,
    "deletable": true,
    "editable": true
   },
   "source": [
    "This file highlights some tricky aspects of Julia (from the perspective of a matlab user)\n",
    "\n",
    "Paul Söderlind (Paul.Soderlind at unisg.ch), April 2016, updated Nov 2016"
   ]
  },
  {
   "cell_type": "code",
   "execution_count": 1,
   "metadata": {
    "collapsed": false,
    "deletable": true,
    "editable": true
   },
   "outputs": [
    {
     "data": {
      "text/plain": [
       "printlnPs (generic function with 1 method)"
      ]
     },
     "execution_count": 1,
     "metadata": {},
     "output_type": "execute_result"
    }
   ],
   "source": [
    "include(\"printmat.jl\")            #function for prettier matrix printing"
   ]
  },
  {
   "cell_type": "markdown",
   "metadata": {
    "deletable": true,
    "editable": true
   },
   "source": [
    "# Julia Arrays\n",
    "\n",
    "See also the separate notebook on Arrays for more on this topic."
   ]
  },
  {
   "cell_type": "markdown",
   "metadata": {
    "deletable": true,
    "editable": true
   },
   "source": [
    "# An Nx1 Array is not a Vector"
   ]
  },
  {
   "cell_type": "markdown",
   "metadata": {
    "deletable": true,
    "editable": true
   },
   "source": [
    "and it sometimes matters. \n",
    "\n",
    "Julia has both vectors and Nx1 arrays (the latter being a special case of NxM arrays). They can often be used interchangeably, but not always (see below for an example).\n",
    "\n",
    "In particular, you typically use a vector when you want to pull out particular rows from a larger array."
   ]
  },
  {
   "cell_type": "code",
   "execution_count": 2,
   "metadata": {
    "collapsed": false,
    "deletable": true,
    "editable": true
   },
   "outputs": [
    {
     "name": "stdout",
     "output_type": "stream",
     "text": [
      "v and v2 look similar, but they have different sizes: \n",
      "         1\n",
      "         1\n",
      "\n",
      "         1\n",
      "         1\n",
      "\n",
      "size of v and v2: (2,) (2,1)\n",
      "\n",
      "x: \n",
      "        11        12\n",
      "        21        22\n",
      "        31        32\n",
      "\n",
      "x[v,:] is\n",
      "        11        12\n",
      "        11        12\n",
      "\n",
      "while, x[v2,:] is\n",
      "x[:,:,1]\n",
      "        11\n",
      "        11\n",
      "x[:,:,2]\n",
      "        12\n",
      "        12\n",
      "\n"
     ]
    }
   ],
   "source": [
    "v  = ones(Int,2)                     #a vector with two elements\n",
    "v2 = ones(Int,2,1)                   #a 2x1 'matrix (Array)\n",
    "\n",
    "println(\"v and v2 look similar, but they have different sizes: \")\n",
    "printmat(v)\n",
    "printmat(v2)\n",
    "println(\"size of v and v2: \",size(v),\" \",size(v2))\n",
    "\n",
    "x = [11 12;21 22;31 32]\n",
    "println(\"\\nx: \")\n",
    "printmat(x)\n",
    "\n",
    "println(\"x[v,:] is\") \n",
    "printmat(x[v,:])\n",
    "\n",
    "println(\"while, x[v2,:] is\")\n",
    "printmat(x[v2,:])"
   ]
  },
  {
   "cell_type": "markdown",
   "metadata": {
    "deletable": true,
    "editable": true
   },
   "source": [
    "# Creating Variables in a Loop"
   ]
  },
  {
   "cell_type": "code",
   "execution_count": 3,
   "metadata": {
    "collapsed": false,
    "deletable": true,
    "editable": true
   },
   "outputs": [
    {
     "name": "stdout",
     "output_type": "stream",
     "text": [
      "Variables CREATED in a for loop are not visible outside the loop\n",
      "\n",
      "In contrast, variables CHANGED in a for loop are visible outside the loop\n",
      "Oden: 0.2837\n"
     ]
    }
   ],
   "source": [
    "for i = 1:5\n",
    "  Tor = cos(i)\n",
    "end\n",
    "try\n",
    "    println(Tor)\n",
    "catch\n",
    "    println(\"Variables CREATED in a for loop are not visible outside the loop\")\n",
    "end    \n",
    "\n",
    "println(\"\\nIn contrast, variables CHANGED in a for loop are visible outside the loop\")\n",
    "Oden = Float64[]\n",
    "for i = 1:5\n",
    "  Oden = cos(i)\n",
    "end\n",
    "println(\"Oden: \",round(Oden,4))"
   ]
  },
  {
   "cell_type": "markdown",
   "metadata": {
    "deletable": true,
    "editable": true
   },
   "source": [
    "# Cell Arrays"
   ]
  },
  {
   "cell_type": "markdown",
   "metadata": {
    "deletable": true,
    "editable": true
   },
   "source": [
    "To creata a cell array, use Any[x1,x2,...]\n",
    "\n",
    "Alternatively, you can preallocate as in B = Array{Any}(3) and then fill by, for instance, B[3] = 27"
   ]
  },
  {
   "cell_type": "code",
   "execution_count": 4,
   "metadata": {
    "collapsed": false,
    "deletable": true,
    "editable": true
   },
   "outputs": [
    {
     "name": "stdout",
     "output_type": "stream",
     "text": [
      "\n",
      "The array A: \n",
      "        11        12\n",
      "        21        22\n",
      "\n",
      "A nice dog\n",
      "\n",
      "        27\n",
      "\n",
      "\n",
      "The array B: \n",
      "        11        12\n",
      "\n",
      "A bad cat\n",
      "\n",
      "π = 3.1415926535897...\n",
      "\n"
     ]
    }
   ],
   "source": [
    "A = Any[[11 12;21 22],\"A nice dog\",27]\n",
    "\n",
    "println(\"\\nThe array A: \")\n",
    "for i = 1:length(A)\n",
    "    printmat(A[i])\n",
    "end  \n",
    "\n",
    "B = Array{Any}(3)\n",
    "B[1] = [11 12]\n",
    "B[2] = \"A bad cat\"\n",
    "B[3] = pi\n",
    "\n",
    "println(\"\\nThe array B: \")\n",
    "for i = 1:length(B)\n",
    "    printmat(B[i])\n",
    "end"
   ]
  },
  {
   "cell_type": "markdown",
   "metadata": {
    "deletable": true,
    "editable": true
   },
   "source": [
    "# New Things in Julia 0.5"
   ]
  },
  {
   "cell_type": "code",
   "execution_count": 5,
   "metadata": {
    "collapsed": false,
    "deletable": true,
    "editable": true
   },
   "outputs": [
    {
     "name": "stdout",
     "output_type": "stream",
     "text": [
      "x\n",
      "        11        12\n",
      "        21        22\n",
      "\n",
      "x[1,:] gives a row vector in Julia 0.4.x, but a column vector in Julia 0.5.x: \n",
      "        11\n",
      "        12\n",
      "\n",
      "do x[1:1,:] or x[[true;false],:] to get a row vector in either version: \n",
      "        11        12\n",
      "\n",
      "        11        12\n",
      "\n",
      "use log.(x) to calculate the log of each element of an array x (similar for exp., round.,...)\n",
      "     2.398     2.485\n",
      "     3.045     3.091\n",
      "\n"
     ]
    }
   ],
   "source": [
    "x = [11 12;21 22]\n",
    "println(\"x\")\n",
    "printmat(x)\n",
    "\n",
    "println(\"x[1,:] gives a row vector in Julia 0.4.x, but a column vector in Julia 0.5.x: \")\n",
    "printmat(x[1,:])\n",
    "\n",
    "println(\"do x[1:1,:] or x[[true;false],:] to get a row vector in either version: \")\n",
    "printmat(x[1:1,:])\n",
    "printmat(x[[true;false],:])\n",
    "\n",
    "println(\"use log.(x) to calculate the log of each element of an array x (similar for exp., round.,...)\")\n",
    "printmat(log.(x))"
   ]
  },
  {
   "cell_type": "markdown",
   "metadata": {
    "deletable": true,
    "editable": true
   },
   "source": [
    "# New Things in Julia 0.6\n",
    "\n",
    "\n",
    "Probably too early (as of mid Jan 2017) to tell, but it looks like \n",
    "```\n",
    "x = [1;2]\n",
    "y = x'\n",
    "```\n",
    "will be similar to \n",
    "```\n",
    "z = reshape(x,1,2)\n",
    "```\n",
    "in the sense that x,y,z will all refer to the same memory space. (Change one and you change the others too.)"
   ]
  },
  {
   "cell_type": "code",
   "execution_count": null,
   "metadata": {
    "collapsed": true,
    "deletable": true,
    "editable": true
   },
   "outputs": [],
   "source": []
  }
 ],
 "metadata": {
  "anaconda-cloud": {},
  "kernelspec": {
   "display_name": "Julia 0.5.1",
   "language": "julia",
   "name": "julia-0.5"
  },
  "language_info": {
   "file_extension": ".jl",
   "mimetype": "application/julia",
   "name": "julia",
   "version": "0.5.1"
  }
 },
 "nbformat": 4,
 "nbformat_minor": 0
}
