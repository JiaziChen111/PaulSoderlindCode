{
 "cells": [
  {
   "cell_type": "markdown",
   "metadata": {
    "deletable": true,
    "editable": true
   },
   "source": [
    "# Some Simple Commands for Handling Dates"
   ]
  },
  {
   "cell_type": "markdown",
   "metadata": {
    "deletable": true,
    "editable": true
   },
   "source": [
    "## Building a Calendar"
   ]
  },
  {
   "cell_type": "code",
   "execution_count": 1,
   "metadata": {
    "collapsed": false,
    "deletable": true,
    "editable": true
   },
   "outputs": [
    {
     "name": "stdout",
     "output_type": "stream",
     "text": [
      "\n",
      "My calendar and day of week:\n",
      "2014-01-01 3\n",
      "2014-02-01 6\n",
      "2014-03-01 6\n",
      "2014-04-01 2\n",
      "2014-05-01 4\n",
      "2014-06-01 7\n",
      "2014-07-01 2\n",
      "2014-08-01 5\n",
      "2014-09-01 1\n",
      "2014-10-01 3\n",
      "2014-11-01 6\n",
      "2014-12-01 1\n"
     ]
    }
   ],
   "source": [
    "dNb = collect(Date(2014,1,1):Dates.Month(1):Date(2014,12,1))    #build a monthly calendar\n",
    "\n",
    "println(\"\\nMy calendar and day of week:\")\n",
    "for i = 1:length(dNb)\n",
    "  println(dNb[i],\" \", Dates.dayofweek(dNb[i]))\n",
    "end"
   ]
  },
  {
   "cell_type": "markdown",
   "metadata": {
    "deletable": true,
    "editable": true
   },
   "source": [
    "# Converting Excel and Matlab Dates"
   ]
  },
  {
   "cell_type": "markdown",
   "metadata": {
    "deletable": true,
    "editable": true
   },
   "source": [
    "## Convert from DateTime to Date\n",
    "\n",
    "Background: importing xls sheets gives DateTime, even if the sheets only contain dates (daily data, say)"
   ]
  },
  {
   "cell_type": "code",
   "execution_count": 1,
   "metadata": {
    "collapsed": false,
    "deletable": true,
    "editable": true
   },
   "outputs": [
    {
     "name": "stdout",
     "output_type": "stream",
     "text": [
      "\n",
      "DateTime from from xls and converted to Date:\n",
      "2014-01-01T00:00:00 2014-01-01\n"
     ]
    }
   ],
   "source": [
    "xlsDate = DateTime(2014,1,1)               #to be converted\n",
    "\n",
    "jlDate  = Date(xlsDate)\n",
    "\n",
    "println(\"\\nDateTime from from xls and converted to Date:\")\n",
    "println(xlsDate,\" \",jlDate)\n",
    "\n",
    "#if xlsDate is a vector, loop over the elements"
   ]
  },
  {
   "cell_type": "markdown",
   "metadata": {
    "deletable": true,
    "editable": true
   },
   "source": [
    "## Convert from Matlab's datenum to Date\n",
    "\n",
    "Background: in matlab datenum(2016,3,31) gives 736420.0"
   ]
  },
  {
   "cell_type": "code",
   "execution_count": 2,
   "metadata": {
    "collapsed": false,
    "deletable": true,
    "editable": true
   },
   "outputs": [
    {
     "name": "stdout",
     "output_type": "stream",
     "text": [
      "\n",
      "matlab datenum and Julia Date:\n",
      "736420.0 2016-03-31\n"
     ]
    }
   ],
   "source": [
    "dNml = 736420.0                       #to be converted\n",
    "\n",
    "dN = round(Int,dNml) - 366            #convert to integer, subtract 366\n",
    "dN = Date(Dates.rata2datetime(dN))\n",
    "\n",
    "println(\"\\nmatlab datenum and Julia Date:\")\n",
    "println(dNml,\" \",dN)\n",
    "\n",
    "#if dNml is a vector, loop over the elements"
   ]
  },
  {
   "cell_type": "code",
   "execution_count": null,
   "metadata": {
    "collapsed": true,
    "deletable": true,
    "editable": true
   },
   "outputs": [],
   "source": []
  }
 ],
 "metadata": {
  "anaconda-cloud": {},
  "kernelspec": {
   "display_name": "Julia 0.5.1",
   "language": "julia",
   "name": "julia-0.5"
  },
  "language_info": {
   "file_extension": ".jl",
   "mimetype": "application/julia",
   "name": "julia",
   "version": "0.5.1"
  }
 },
 "nbformat": 4,
 "nbformat_minor": 1
}
