{
 "cells": [
  {
   "cell_type": "markdown",
   "metadata": {
    "collapsed": true
   },
   "source": [
    "# Downloading Files from Internet"
   ]
  },
  {
   "cell_type": "code",
   "execution_count": 2,
   "metadata": {
    "collapsed": true
   },
   "outputs": [],
   "source": [
    "if !isdir(\"Results\")\n",
    "    error(\"create the subfolder Results before running this program\")\n",
    "end"
   ]
  },
  {
   "cell_type": "markdown",
   "metadata": {},
   "source": [
    "## Some Data from Kenneth French's Homepage"
   ]
  },
  {
   "cell_type": "code",
   "execution_count": 3,
   "metadata": {
    "collapsed": false
   },
   "outputs": [
    {
     "name": "stdout",
     "output_type": "stream",
     "text": [
      "File to download: http://mba.tuck.dartmouth.edu/pages/faculty/ken.french/ftp/F-F_Research_Data_Factors_daily_CSV.zip\n",
      "check the subfolder Results\n"
     ]
    }
   ],
   "source": [
    "http   = \"http://mba.tuck.dartmouth.edu/pages/faculty/ken.french/ftp/\"\n",
    "File_i = \"F-F_Research_Data_Factors_daily_CSV.zip\"\n",
    "\n",
    "println(\"File to download: \",string(http,File_i))\n",
    "download(string(http,File_i),\"Results/WhatIJustDownloaded.zip\")\n",
    "\n",
    "println(\"check the subfolder Results\")"
   ]
  },
  {
   "cell_type": "markdown",
   "metadata": {},
   "source": [
    "## Some Lecture Notes by a Finance Prof"
   ]
  },
  {
   "cell_type": "code",
   "execution_count": 4,
   "metadata": {
    "collapsed": false
   },
   "outputs": [
    {
     "name": "stdout",
     "output_type": "stream",
     "text": [
      "File to download: https://sites.google.com/site/paulsoderlindecon/home/courses/Fin1MiQEFAll.pdf\n",
      "check the subfolder Results\n"
     ]
    }
   ],
   "source": [
    "http   = \"https://sites.google.com/site/paulsoderlindecon/home/courses/\"\n",
    "File_i = \"Fin1MiQEFAll.pdf\"\n",
    "\n",
    "println(\"File to download: \",string(http,File_i))\n",
    "download(string(http,File_i),\"Results/SomethingElseIJustDownloaded.pdf\")\n",
    "\n",
    "println(\"check the subfolder Results\")"
   ]
  },
  {
   "cell_type": "code",
   "execution_count": null,
   "metadata": {
    "collapsed": true
   },
   "outputs": [],
   "source": []
  }
 ],
 "metadata": {
  "anaconda-cloud": {},
  "kernelspec": {
   "display_name": "Julia 0.5.0",
   "language": "julia",
   "name": "julia-0.5"
  },
  "language_info": {
   "file_extension": ".jl",
   "mimetype": "application/julia",
   "name": "julia",
   "version": "0.5.0"
  }
 },
 "nbformat": 4,
 "nbformat_minor": 0
}
