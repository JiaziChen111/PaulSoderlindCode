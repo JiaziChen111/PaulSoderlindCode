{
 "cells": [
  {
   "cell_type": "markdown",
   "metadata": {
    "collapsed": true,
    "deletable": true,
    "editable": true
   },
   "source": [
    "# Downloading Files from Internet"
   ]
  },
  {
   "cell_type": "code",
   "execution_count": 1,
   "metadata": {
    "collapsed": true,
    "deletable": true,
    "editable": true
   },
   "outputs": [],
   "source": [
    "if !isdir(\"Results\")\n",
    "    error(\"create the subfolder Results before running this program\")\n",
    "end"
   ]
  },
  {
   "cell_type": "markdown",
   "metadata": {
    "deletable": true,
    "editable": true
   },
   "source": [
    "## Some Data from Kenneth French's Homepage"
   ]
  },
  {
   "cell_type": "code",
   "execution_count": 2,
   "metadata": {
    "collapsed": false,
    "deletable": true,
    "editable": true
   },
   "outputs": [
    {
     "name": "stdout",
     "output_type": "stream",
     "text": [
      "File to download: http://mba.tuck.dartmouth.edu/pages/faculty/ken.french/ftp/F-F_Research_Data_Factors_daily_CSV.zip\n",
      "\u001b[1m\u001b[34m\n",
      "check the subfolder Results\n",
      "\u001b[0m"
     ]
    }
   ],
   "source": [
    "http   = \"http://mba.tuck.dartmouth.edu/pages/faculty/ken.french/ftp/\"\n",
    "File_i = \"F-F_Research_Data_Factors_daily_CSV.zip\"\n",
    "\n",
    "println(\"File to download: \",string(http,File_i))\n",
    "download(string(http,File_i),\"Results/WhatIJustDownloaded.zip\")\n",
    "\n",
    "print_with_color(:blue,\"\\ncheck the subfolder Results\\n\")"
   ]
  },
  {
   "cell_type": "markdown",
   "metadata": {
    "deletable": true,
    "editable": true
   },
   "source": [
    "## Some Lecture Notes by a Finance Prof"
   ]
  },
  {
   "cell_type": "code",
   "execution_count": 4,
   "metadata": {
    "collapsed": false,
    "deletable": true,
    "editable": true
   },
   "outputs": [
    {
     "name": "stdout",
     "output_type": "stream",
     "text": [
      "File to download: https://sites.google.com/site/paulsoderlindecon/home/courses/Fin1MiQEFAll.pdf\n",
      "\u001b[1m\u001b[34m\n",
      "check the subfolder Results\n",
      "\u001b[0m"
     ]
    }
   ],
   "source": [
    "http   = \"https://sites.google.com/site/paulsoderlindecon/home/courses/\"\n",
    "File_i = \"Fin1MiQEFAll.pdf\"\n",
    "\n",
    "println(\"File to download: \",string(http,File_i))\n",
    "download(string(http,File_i),\"Results/SomethingElseIJustDownloaded.pdf\")\n",
    "\n",
    "print_with_color(:blue,\"\\ncheck the subfolder Results\\n\")"
   ]
  },
  {
   "cell_type": "code",
   "execution_count": null,
   "metadata": {
    "collapsed": true,
    "deletable": true,
    "editable": true
   },
   "outputs": [],
   "source": []
  }
 ],
 "metadata": {
  "anaconda-cloud": {},
  "kernelspec": {
   "display_name": "Julia 0.5.1",
   "language": "julia",
   "name": "julia-0.5"
  },
  "language_info": {
   "file_extension": ".jl",
   "mimetype": "application/julia",
   "name": "julia",
   "version": "0.5.1"
  }
 },
 "nbformat": 4,
 "nbformat_minor": 0
}
