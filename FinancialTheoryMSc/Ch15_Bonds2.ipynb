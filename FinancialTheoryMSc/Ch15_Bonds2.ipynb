{
 "cells": [
  {
   "cell_type": "markdown",
   "metadata": {},
   "source": [
    "# Bond Return after a Sudden Interest Rate Change"
   ]
  },
  {
   "cell_type": "code",
   "execution_count": 10,
   "metadata": {
    "collapsed": false
   },
   "outputs": [
    {
     "name": "stdout",
     "output_type": "stream",
     "text": [
      "Bond price before and after change of interest from 0.02 to 0.03: [0.906 0.863]\n",
      "Exact price change: -0.043\n"
     ]
    }
   ],
   "source": [
    "m  = 5\n",
    "θ₋ = 0.02                   #initial interest rate\n",
    "θ₊ = 0.03                   #interest rate after sudden change\n",
    "B₋ = (1+θ₋)^(-m)\n",
    "B₊ = (1+θ₊)^(-m)\n",
    "\n",
    "PriceChange = B₊ - B₋\n",
    "\n",
    "println(\"Bond price before and after change of interest from $θ₋ to $θ₊: \",round([B₋ B₊],3))\n",
    "\n",
    "println(\"Exact price change: \",round(PriceChange,3))"
   ]
  },
  {
   "cell_type": "markdown",
   "metadata": {},
   "source": [
    "# From Ch 14"
   ]
  },
  {
   "cell_type": "code",
   "execution_count": 11,
   "metadata": {
    "collapsed": false
   },
   "outputs": [
    {
     "name": "stdout",
     "output_type": "stream",
     "text": [
      "Price of bond with 0% coupon: 0.906\n",
      "ytm: 0.02\n"
     ]
    }
   ],
   "source": [
    "function BondPrice3Ps(Y,cf,mk)              #cf is a vector of all cash flows\n",
    "    if length(Y)==1 & length(mk)>1          #to handle case with Y being a scalar\n",
    "        Y = fill(Y,length(mk))      \n",
    "    end    \n",
    "    cfac = cf./((1+Y).^mk)                  #c/(1+y1)^t1 + c/(1+y2)^t2 + ...+ c/(1+y2)^m\n",
    "    P    = sum(cfac)                        #price\n",
    "    return P\n",
    "end\n",
    "\n",
    "P = BondPrice3Ps(θ₋,[zeros(4);1],1:5)\n",
    "println(\"Price of bond with 0% coupon: \", round(P,3))\n",
    "\n",
    "using Roots                #package for solving non-linear equations\n",
    "\n",
    "ytm = fzero(y->BondPrice3Ps(y,[zeros(4);1],1:5)-P,[-0.1;0.1])\n",
    "println(\"ytm: \",round(ytm,3))"
   ]
  },
  {
   "cell_type": "markdown",
   "metadata": {},
   "source": [
    "# Macaulay's Duration"
   ]
  },
  {
   "cell_type": "code",
   "execution_count": 12,
   "metadata": {
    "collapsed": false
   },
   "outputs": [
    {
     "name": "stdout",
     "output_type": "stream",
     "text": [
      "Dollar duration and Macaulay's duation: [4.44 5.0]\n",
      "approximate price change according to dollar duration, relative acc to Macaulay's: \n",
      "[-0.044 -0.049]\n"
     ]
    }
   ],
   "source": [
    "function BondDurationMacaulay3Ps(P,cf,mk,ytm)\n",
    "    cfac    = cf.*mk./((1+ytm).^(mk+1))     #c/(1+y)^2 + 2c/(1+y)^3 + ...+ Kc/(1+y)^(K+1)\n",
    "    D       = sum(cfac)                     #Duration, row vector\n",
    "    Da      = D/P                           #adjusted duration\n",
    "    Dmac    = D*(1+ytm)/P                   #Macaulays duration\n",
    "    return D,Da,Dmac\n",
    "end\n",
    "\n",
    "(D,Da,Dmac) = BondDurationMacaulay3Ps(P,[zeros(4);1],1:5,ytm)\n",
    "\n",
    "println(\"Dollar duration and Macaulay's duation: \",round([D Dmac],3))\n",
    "\n",
    "Δθ = θ₊ - θ₋\n",
    "\n",
    "ΔP    = -D*Δθ\n",
    "ΔPrel = -Dmac*Δθ/(1+θ₋)\n",
    "println(\"approximate price change according to dollar duration, relative acc to Macaulay's: \")\n",
    "println(round([ΔP ΔPrel],3))"
   ]
  },
  {
   "cell_type": "code",
   "execution_count": 13,
   "metadata": {
    "collapsed": false
   },
   "outputs": [
    {
     "name": "stdout",
     "output_type": "stream",
     "text": [
      "Durations for 2-year 4% bond with ytm = 0.03: [1.941 1.905 1.962]\n"
     ]
    }
   ],
   "source": [
    "(D,Da,Dmac) = BondDurationMacaulay3Ps(1.019,[0.04;0.04+1],1:2,0.03)\n",
    "println(\"Durations for 2-year 4% bond with ytm = 0.03: \",round([D Da Dmac],3))"
   ]
  },
  {
   "cell_type": "markdown",
   "metadata": {},
   "source": [
    "# Hedging a Liability Stream"
   ]
  },
  {
   "cell_type": "code",
   "execution_count": 14,
   "metadata": {
    "collapsed": false
   },
   "outputs": [
    {
     "name": "stdout",
     "output_type": "stream",
     "text": [
      "Value of liability at interest rates 0.05 and 0.04: [369.615 375.37]\n",
      "Macaulay's duration: 1.613\n"
     ]
    }
   ],
   "source": [
    "cf = [150;250]                   #cash flow of liability stream (as positive numbers)\n",
    "mk = [1;2]                       #times of cash flows   \n",
    "θ₋ = 0.05                        #initial interest rate\n",
    "θ₊ = 0.04                        #interest rate after sudden change\n",
    "Δθ = θ₊ - θ₋\n",
    "\n",
    "PL₋ = BondPrice3Ps(θ₋,cf,mk)      #price at initial interest rate, no face value  \n",
    "PL₊ = BondPrice3Ps(θ₊,cf,mk)      #price at new interest rate\n",
    "\n",
    "println(\"Value of liability at interest rates $θ₋ and $θ₊: \",round([PL₋ PL₊],3))\n",
    "\n",
    "(_,_,Dmac) = BondDurationMacaulay3Ps(PL₋,cf,mk,θ₋)\n",
    "println(\"Macaulay's duration: \",round(Dmac,3))"
   ]
  },
  {
   "cell_type": "markdown",
   "metadata": {},
   "source": [
    "### Naive Hedging with Duration of Hedge Bond DH = 0.5 (flat yield curve) "
   ]
  },
  {
   "cell_type": "code",
   "execution_count": 15,
   "metadata": {
    "collapsed": false
   },
   "outputs": [
    {
     "name": "stdout",
     "output_type": "stream",
     "text": [
      "A zero coupon bond with m=0.5 and face value of 100: price and hedge ratio h: [97.59 3.787]\n",
      "(relative) change of hedge portolio value (exact): -0.0108\n",
      "(relative) change of hedge portolio value (approx): -0.0106\n"
     ]
    }
   ],
   "source": [
    "PH₋ = BondPrice3Ps(θ₋,collect(100),collect(0.5))             #collect() to mae them vectors\n",
    "PH₊ = BondPrice3Ps(θ₊,collect(100),collect(0.5))      \n",
    "h = PL₋/PH₋\n",
    "println(\"A zero coupon bond with m=0.5 and face value of 100: price and hedge ratio h: \", round([PH₋ h],3))\n",
    "\n",
    "ΔV_exact = h*(PH₊-PH₋) - (PL₊-PL₋)\n",
    "println(\"(relative) change of hedge portolio value (exact): \",round(ΔV_exact/PL₋,4))\n",
    "ΔVrel_approx = (Dmac - 0.5)*Δθ/(1+θ₋)\n",
    "println(\"(relative) change of hedge portolio value (approx): \",round(ΔVrel_approx,4))"
   ]
  },
  {
   "cell_type": "markdown",
   "metadata": {},
   "source": [
    "### Duration Hedging  (flat yield curve)"
   ]
  },
  {
   "cell_type": "code",
   "execution_count": 16,
   "metadata": {
    "collapsed": false
   },
   "outputs": [
    {
     "name": "stdout",
     "output_type": "stream",
     "text": [
      "A zero coupon bond with m=1.6134969325153377 and face value of 100: price and hedge ratio h: [92.43 3.999]\n",
      "(relative) change of hedge portolio value (exact): -1.1e-5\n",
      "(relative) change of hedge portolio value (approx): 0.0\n"
     ]
    }
   ],
   "source": [
    "PH₋ = BondPrice3Ps(θ₋,collect(100),collect(Dmac))             \n",
    "PH₊ = BondPrice3Ps(θ₊,collect(100),collect(Dmac))      \n",
    "h = Dmac/Dmac * PL₋/PH₋\n",
    "println(\"A zero coupon bond with m=$Dmac and face value of 100: price and hedge ratio h: \", round([PH₋ h],3))\n",
    "\n",
    "ΔV_exact = h*(PH₊-PH₋) - (PL₊-PL₋)\n",
    "println(\"(relative) change of hedge portolio value (exact): \",round(ΔV_exact/PL₋,6))\n",
    "ΔVrel_approx = Dmac*(Δθ/(1+θ₋) - Δθ/(1+θ₋)) \n",
    "println(\"(relative) change of hedge portolio value (approx): \",round(ΔVrel_approx,6))"
   ]
  },
  {
   "cell_type": "markdown",
   "metadata": {},
   "source": [
    "# Hedging a Liability II (Example in Figure in the Lecture Notes)"
   ]
  },
  {
   "cell_type": "code",
   "execution_count": 17,
   "metadata": {
    "collapsed": false
   },
   "outputs": [
    {
     "name": "stdout",
     "output_type": "stream",
     "text": [
      "Value of liability at interest rates 0.05 and 0.03: [1.544 1.706]\n",
      "Duration: 5.099\n",
      "\n",
      "Value of hedge bond with m=3 at interest rates 0.05 and 0.03: [0.864 0.915]\n",
      "hedge ratio h: 3.039\n"
     ]
    }
   ],
   "source": [
    "cf = ones(10)*0.2               #cash flow of liability stream (as positive numbers)\n",
    "mk = 1:10                       #times of cash flows   \n",
    "θ₋ = 0.05                       #initial interest rate\n",
    "θ₊ = 0.03                       #interest rate after sudden change\n",
    "Δθ = θ₊ - θ₋\n",
    "\n",
    "PL₋ = BondPrice3Ps(θ₋,cf,mk)       #price at initial interest rate\n",
    "PL₊ = BondPrice3Ps(θ₊,cf,mk)       #price at new interest rate\n",
    "println(\"Value of liability at interest rates $θ₋ and $θ₊: \",round([PL₋ PL₊],3))\n",
    "\n",
    "(_,_,Dmac) = BondDurationMacaulay3Ps(PL₋,cf,mk,θ₋)\n",
    "println(\"Duration: \",round(Dmac,3))\n",
    "\n",
    "PH₋ = BondPrice3Ps(θ₋,collect(1),collect(3))             #collect() to makle them \"vectors\"\n",
    "PH₊ = BondPrice3Ps(θ₊,collect(1),collect(3))      \n",
    "h = Dmac/3 * PL₋/PH₋\n",
    "println(\"\\nValue of hedge bond with m=3 at interest rates $θ₋ and $θ₊: \",round([PH₋ PH₊],3))\n",
    "println(\"hedge ratio h: \", round(h,3))"
   ]
  },
  {
   "cell_type": "code",
   "execution_count": null,
   "metadata": {
    "collapsed": true
   },
   "outputs": [],
   "source": []
  }
 ],
 "metadata": {
  "kernelspec": {
   "display_name": "Julia 0.4.6",
   "language": "julia",
   "name": "julia-0.4"
  },
  "language_info": {
   "file_extension": ".jl",
   "mimetype": "application/julia",
   "name": "julia",
   "version": "0.4.6"
  }
 },
 "nbformat": 4,
 "nbformat_minor": 0
}
