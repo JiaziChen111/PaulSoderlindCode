{
 "cells": [
  {
   "cell_type": "markdown",
   "metadata": {},
   "source": [
    "# Covariance Matrix from Betas"
   ]
  },
  {
   "cell_type": "code",
   "execution_count": 5,
   "metadata": {
    "collapsed": false
   },
   "outputs": [
    {
     "name": "stdout",
     "output_type": "stream",
     "text": [
      "[100.0 0.0\n",
      " 0.0 25.0]\n",
      "Covariance matrix calculated from betas: \n",
      "[112.96 15.84\n",
      " 15.84 44.36]\n"
     ]
    }
   ],
   "source": [
    "β      = [0.9;1.1]\n",
    "StdRes = [10;5]\n",
    "VarRm  = 4^2\n",
    "Σ      = diagm(StdRes.^2)                  #correlation matrix -> covariance matrix \n",
    "println(round(Σ,3))\n",
    "\n",
    "CovR = β*β'*VarRm + Σ\n",
    "println(\"Covariance matrix calculated from betas: \")\n",
    "println(round(CovR,2))"
   ]
  },
  {
   "cell_type": "markdown",
   "metadata": {},
   "source": [
    "# Estimating a Single-Index Model"
   ]
  },
  {
   "cell_type": "code",
   "execution_count": 6,
   "metadata": {
    "collapsed": false
   },
   "outputs": [
    {
     "name": "stdout",
     "output_type": "stream",
     "text": [
      "\n",
      "OLS coefficients, regressing Re on constant and Rme\n",
      "[1.341,1.169,0.994,0.943,0.849]\n",
      "\n",
      "Covariance matrix calculated from betas: \n",
      "[73.48 33.23 28.27 26.8 24.15\n",
      " 33.23 37.37 24.64 23.36 21.05\n",
      " 28.27 24.64 26.8 19.87 17.91\n",
      " 26.8 23.36 19.87 25.2 16.97\n",
      " 24.15 21.05 17.91 16.97 25.33]\n",
      "\n",
      "Covariance matrix calculated from data: \n",
      "[73.48 43.02 29.47 25.01 20.19\n",
      " 43.02 37.37 29.07 25.14 21.41\n",
      " 29.47 29.07 26.8 23.63 20.98\n",
      " 25.01 25.14 23.63 25.2 21.53\n",
      " 20.19 21.41 20.98 21.53 25.33]\n"
     ]
    }
   ],
   "source": [
    "xx   = readdlm(\"Data/FFmFactorsPs.csv\",',',header=true)\n",
    "x    = xx[1]\n",
    "Rme  = x[:,2]                #market excess return\n",
    "RSMB = x[:,3]                #small minus big firms\n",
    "RHML = x[:,4]                #high minus low book-to-market ratio\n",
    "Rf   = x[:,5]                #interest rate\n",
    "\n",
    "\n",
    "x  = readdlm(\"Data/FF25Ps.csv\",',') #no header line: x is matrix\n",
    "R  = x[:,2:end]                     #returns for 25 FF portfolios\n",
    "Re = R .- Rf                        #excess returns for the 25 FF portfolios\n",
    "Re = Re[:,[1;7;13;19;25]]           #use just 5 assets to make the printing easier \n",
    "\n",
    "(T,n) = size(Re)                    #no. obs and  no. test assets\n",
    "#-------------------------------------------------------------------------\n",
    "\n",
    "c      = ones(T,1)                 #a vector with ones\n",
    "x      = [c Rme]                   #regressors\n",
    "β      = fill(NaN,n)\n",
    "VarRes = fill(NaN,n)\n",
    "for i = 1:n\n",
    "    b_i       = x\\Re[:,i]                #OLS\n",
    "    residual  = Re[:,i] - x*b_i\n",
    "    β[i]      = b_i[2]\n",
    "    VarRes[i] = var(residual)\n",
    "end    \n",
    "println(\"\\nOLS coefficients, regressing Re on constant and Rme\")\n",
    "println(round(β,3)) \n",
    "#-------------------------------------------------------------------------\n",
    "\n",
    "Σ     = diagm(VarRes)  \n",
    "VarRm = var(Rme)\n",
    "CovR  = β*β'*VarRm + Σ\n",
    "println(\"\\nCovariance matrix calculated from betas: \")\n",
    "println(round(CovR,2))\n",
    "\n",
    "println(\"\\nCovariance matrix calculated from data: \")\n",
    "println(round(cov(Re),2))"
   ]
  },
  {
   "cell_type": "markdown",
   "metadata": {},
   "source": [
    "# A Multi-Index Model"
   ]
  },
  {
   "cell_type": "code",
   "execution_count": 7,
   "metadata": {
    "collapsed": false
   },
   "outputs": [
    {
     "name": "stdout",
     "output_type": "stream",
     "text": [
      "\n",
      "OLS coefficients, regressing Re on [constant, Rme, RSMB, RHML] \n",
      "[1.07 1.08 1.035 1.056 1.041\n",
      " 1.264 0.768 0.437 0.153 -0.088\n",
      " -0.278 0.16 0.487 0.603 0.77]\n",
      "\n",
      "Covariance matrix calculated from betas: \n",
      "[73.48 41.85 31.05 25.45 18.94\n",
      " 41.85 37.37 27.38 24.14 20.15\n",
      " 31.05 27.38 26.8 22.24 20.11\n",
      " 25.45 24.14 22.24 25.2 20.72\n",
      " 18.94 20.15 20.11 20.72 25.33]\n",
      "\n",
      "Covariance matrix calculated from data: \n",
      "[73.48 43.02 29.47 25.01 20.19\n",
      " 43.02 37.37 29.07 25.14 21.41\n",
      " 29.47 29.07 26.8 23.63 20.98\n",
      " 25.01 25.14 23.63 25.2 21.53\n",
      " 20.19 21.41 20.98 21.53 25.33]\n"
     ]
    }
   ],
   "source": [
    "x      = [c Rme RSMB RHML]               #regressors\n",
    "K      = size(x,2) - 1 \n",
    "b      = fill(NaN,(K,n))\n",
    "VarRes = fill(NaN,n)\n",
    "for i = 1:n\n",
    "    b_i       = x\\Re[:,i]                #OLS\n",
    "    residual  = Re[:,i] - x*b_i\n",
    "    b[:,i]    = b_i[2:end]\n",
    "    VarRes[i] = var(residual)\n",
    "end    \n",
    "println(\"\\nOLS coefficients, regressing Re on [constant, Rme, RSMB, RHML] \")\n",
    "println(round(b,3)) \n",
    "#-------------------------------------------------------------------------\n",
    "\n",
    "Omega = cov(x[:,2:end])      #covariance matrix of factors\n",
    "CovR = fill(NaN,(n,n))\n",
    "for i = 1:n    \n",
    "    for j = 1:n\n",
    "        CovR[i,j] = (b[:,i]'Omega*b[:,j])[1]\n",
    "        if i == j\n",
    "            CovR[i,i] = CovR[i,i] + VarRes[i]\n",
    "        end\n",
    "    end    \n",
    "end\n",
    "\n",
    "println(\"\\nCovariance matrix calculated from betas: \")\n",
    "println(round(CovR,2))\n",
    "\n",
    "println(\"\\nCovariance matrix calculated from data: \")\n",
    "println(round(cov(Re),2))"
   ]
  }
 ],
 "metadata": {
  "kernelspec": {
   "display_name": "Julia 0.4.6",
   "language": "julia",
   "name": "julia-0.4"
  },
  "language_info": {
   "file_extension": ".jl",
   "mimetype": "application/julia",
   "name": "julia",
   "version": "0.4.6"
  }
 },
 "nbformat": 4,
 "nbformat_minor": 0
}
