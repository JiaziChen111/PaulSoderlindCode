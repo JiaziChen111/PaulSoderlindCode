{
 "cells": [
  {
   "cell_type": "markdown",
   "metadata": {
    "deletable": true,
    "editable": true
   },
   "source": [
    "## Load Routines for Printing Matrices"
   ]
  },
  {
   "cell_type": "code",
   "execution_count": 1,
   "metadata": {
    "collapsed": false,
    "deletable": true,
    "editable": true
   },
   "outputs": [
    {
     "data": {
      "text/plain": [
       "printlnPs (generic function with 1 method)"
      ]
     },
     "execution_count": 1,
     "metadata": {},
     "output_type": "execute_result"
    }
   ],
   "source": [
    "include(\"printmat.jl\")"
   ]
  },
  {
   "cell_type": "markdown",
   "metadata": {
    "deletable": true,
    "editable": true
   },
   "source": [
    "# Portfolio Return: Definition, Expected Value and Variance"
   ]
  },
  {
   "cell_type": "markdown",
   "metadata": {
    "deletable": true,
    "editable": true
   },
   "source": [
    "With portfolio weights in the vector $w$, the portfolio return, the expected portfolio return and the portfolio variance can be computed as\n",
    "\n",
    "$R_p = w'R$, $ER_p = w'\\mu$ and $Var(R_p) = w'\\Sigma w$"
   ]
  },
  {
   "cell_type": "code",
   "execution_count": 2,
   "metadata": {
    "collapsed": false,
    "deletable": true,
    "editable": true
   },
   "outputs": [
    {
     "name": "stdout",
     "output_type": "stream",
     "text": [
      "portfolio weights: \n",
      "     0.800\n",
      "     0.200\n",
      "\n",
      "Returns of assets: \n",
      "     0.100\n",
      "     0.050\n",
      "\n",
      "Portfolio return:      0.090\n"
     ]
    }
   ],
   "source": [
    "w = [0.8;0.2]\n",
    "R = [10;5]/100          #returns of asset 1 and 2\n",
    "Rp = w'R\n",
    "println(\"portfolio weights: \")\n",
    "printmat(w)\n",
    "println(\"Returns of assets: \")\n",
    "printmat(R)\n",
    "printlnPs(\"Portfolio return: \",Rp)"
   ]
  },
  {
   "cell_type": "code",
   "execution_count": 3,
   "metadata": {
    "collapsed": false,
    "deletable": true,
    "editable": true
   },
   "outputs": [
    {
     "name": "stdout",
     "output_type": "stream",
     "text": [
      "expected returns*100: \n",
      "     9.000\n",
      "     6.000\n",
      "\n",
      "covariance matrix*100^2:\n",
      "   256.000    96.000\n",
      "    96.000   144.000\n",
      "\n"
     ]
    }
   ],
   "source": [
    "μ = [9;6]/100                    #\\mu and tab to get this\n",
    "Σ = [256 96;\n",
    "     96 144]/100^2\n",
    "\n",
    "println(\"expected returns*100: \")\n",
    "printmat(μ*100)\n",
    "\n",
    "println(\"covariance matrix*100^2:\")\n",
    "printmat(Σ*100^2)"
   ]
  },
  {
   "cell_type": "code",
   "execution_count": 12,
   "metadata": {
    "collapsed": false,
    "deletable": true,
    "editable": true
   },
   "outputs": [
    {
     "name": "stdout",
     "output_type": "stream",
     "text": [
      "expected portfolio return, variance and std of portfolio return: \n",
      "     0.084     0.020     0.142\n",
      "\n"
     ]
    }
   ],
   "source": [
    "ERp = w'μ\n",
    "VarRp = w'Σ*w\n",
    "\n",
    "println(\"expected portfolio return, variance and std of portfolio return: \")\n",
    "printmat([ERp VarRp sqrt.(VarRp)])"
   ]
  },
  {
   "cell_type": "code",
   "execution_count": 5,
   "metadata": {
    "collapsed": false,
    "deletable": true,
    "editable": true
   },
   "outputs": [
    {
     "name": "stdout",
     "output_type": "stream",
     "text": [
      "portfolio std when the assets are negatively correlated:     0.118\n"
     ]
    }
   ],
   "source": [
    "Σb = [256 -96;\n",
    "      -96 144]/100^2\n",
    "\n",
    "                                        #()[1] to extract a scalar, not an 1x1 matrix\n",
    "printlnPs(\"portfolio std when the assets are negatively correlated:\",sqrt((w'Σb*w)[1]))"
   ]
  },
  {
   "cell_type": "markdown",
   "metadata": {
    "deletable": true,
    "editable": true
   },
   "source": [
    "# Matrix Appendix"
   ]
  },
  {
   "cell_type": "code",
   "execution_count": 6,
   "metadata": {
    "collapsed": false,
    "deletable": true,
    "editable": true
   },
   "outputs": [
    {
     "name": "stdout",
     "output_type": "stream",
     "text": [
      "        11        13\n",
      "        13        14\n",
      "\n",
      "        10        30\n",
      "        30        40\n",
      "\n"
     ]
    }
   ],
   "source": [
    "A = [1 3;3 4]\n",
    "c = 10\n",
    "printmat(A + c)\n",
    "printmat(A*c)"
   ]
  },
  {
   "cell_type": "code",
   "execution_count": 7,
   "metadata": {
    "collapsed": false,
    "deletable": true,
    "editable": true
   },
   "outputs": [
    {
     "name": "stdout",
     "output_type": "stream",
     "text": [
      "         8\n",
      "         6\n",
      "\n",
      "         2         5\n",
      "         6         2\n",
      "\n"
     ]
    }
   ],
   "source": [
    "A = [10;11]\n",
    "B = [2;5]\n",
    "printmat(A-B)\n",
    "printmat([1 3;3 4] + [1 2;3 -2])"
   ]
  },
  {
   "cell_type": "code",
   "execution_count": 8,
   "metadata": {
    "collapsed": false,
    "deletable": true,
    "editable": true
   },
   "outputs": [
    {
     "name": "stdout",
     "output_type": "stream",
     "text": [
      "        10        11\n",
      "\n",
      "         1         4\n",
      "         2         5\n",
      "         3         6\n",
      "\n"
     ]
    }
   ],
   "source": [
    "printmat([10;11]')\n",
    "printmat([1 2 3;4 5 6]')"
   ]
  },
  {
   "cell_type": "code",
   "execution_count": 9,
   "metadata": {
    "collapsed": false,
    "deletable": true,
    "editable": true
   },
   "outputs": [
    {
     "name": "stdout",
     "output_type": "stream",
     "text": [
      "        10        -4\n",
      "        15        -2\n"
     ]
    }
   ],
   "source": [
    "printmat([1 3;3 4]*[1 2;3 -2])\n",
    "printmat([1 3;3 4]*[2;5])"
   ]
  },
  {
   "cell_type": "code",
   "execution_count": 10,
   "metadata": {
    "collapsed": false,
    "deletable": true,
    "editable": true
   },
   "outputs": [],
   "source": [
    "printmat([10;11]'*[2;5])\n",
    "printmat([10;11]*[2;5]')\n",
    "printmat([10;11]'*[1 3;3 4]*[10;11])"
   ]
  },
  {
   "cell_type": "code",
   "execution_count": 11,
   "metadata": {
    "collapsed": false,
    "deletable": true,
    "editable": true
   },
   "outputs": [
    {
     "name": "stdout",
     "output_type": "stream",
     "text": [
      "    -0.800     0.600\n",
      "     0.600    -0.200\n",
      "\n",
      "     1.000    -0.000\n",
      "     0.000     1.000\n",
      "\n"
     ]
    }
   ],
   "source": [
    "printmat(inv([1 3;3 4]))\n",
    "printmat(inv([1 3;3 4])*[1 3;3 4])"
   ]
  },
  {
   "cell_type": "code",
   "execution_count": null,
   "metadata": {
    "collapsed": true,
    "deletable": true,
    "editable": true
   },
   "outputs": [],
   "source": []
  }
 ],
 "metadata": {
  "anaconda-cloud": {},
  "kernelspec": {
   "display_name": "Julia 0.5.1",
   "language": "julia",
   "name": "julia-0.5"
  },
  "language_info": {
   "file_extension": ".jl",
   "mimetype": "application/julia",
   "name": "julia",
   "version": "0.5.1"
  }
 },
 "nbformat": 4,
 "nbformat_minor": 0
}
