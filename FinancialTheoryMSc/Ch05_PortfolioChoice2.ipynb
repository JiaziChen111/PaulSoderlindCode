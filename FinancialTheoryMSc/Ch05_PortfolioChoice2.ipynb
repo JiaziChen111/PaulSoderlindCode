{
 "cells": [
  {
   "cell_type": "markdown",
   "metadata": {
    "deletable": true,
    "editable": true
   },
   "source": [
    "## Load Packages"
   ]
  },
  {
   "cell_type": "code",
   "execution_count": 1,
   "metadata": {
    "collapsed": false,
    "deletable": true,
    "editable": true
   },
   "outputs": [
    {
     "data": {
      "text/plain": [
       "printlnPs (generic function with 1 method)"
      ]
     },
     "execution_count": 1,
     "metadata": {},
     "output_type": "execute_result"
    }
   ],
   "source": [
    "include(\"printmat.jl\")"
   ]
  },
  {
   "cell_type": "code",
   "execution_count": 2,
   "metadata": {
    "collapsed": true,
    "deletable": true,
    "editable": true
   },
   "outputs": [],
   "source": [
    "using Plots\n",
    "backend = \"gr\"              #\"gr\" (default), \"pyplot\" \n",
    "\n",
    "if backend == \"pyplot\"\n",
    "    pyplot(size=(600,400))\n",
    "    default(show=false)               #for pyplot: avoids pop-ups\n",
    "else    \n",
    "    gr(size=(600,400))\n",
    "    default(show=true)\n",
    "end"
   ]
  },
  {
   "cell_type": "markdown",
   "metadata": {
    "deletable": true,
    "editable": true
   },
   "source": [
    "# From Chapter on Mean-Variance Analysis"
   ]
  },
  {
   "cell_type": "code",
   "execution_count": 3,
   "metadata": {
    "collapsed": false,
    "deletable": true,
    "editable": true
   },
   "outputs": [
    {
     "data": {
      "text/plain": [
       "MVTangencyP (generic function with 1 method)"
      ]
     },
     "execution_count": 3,
     "metadata": {},
     "output_type": "execute_result"
    }
   ],
   "source": [
    "function MVTangencyP(μ,Σ,Rf)           #calculates the tangency portfolio\n",
    "    n     = length(μ)\n",
    "    oneV  = ones(n,1)  \n",
    "    μe    = μ - Rf                    #excess returns            \n",
    "    Σ_1   = inv(Σ)\n",
    "    w     = Σ_1 *μe/(oneV'Σ_1*μe)[1]\n",
    "    muT   = w'μ + (1-sum(w))*Rf\n",
    "    StdRT = sqrt((w'Σ*w)[1])\n",
    "    return w,muT,StdRT\n",
    "end"
   ]
  },
  {
   "cell_type": "markdown",
   "metadata": {
    "deletable": true,
    "editable": true
   },
   "source": [
    "# Several Risky Assets and one Riskfree Asset"
   ]
  },
  {
   "cell_type": "markdown",
   "metadata": {
    "deletable": true,
    "editable": true
   },
   "source": [
    "An investor who maximizes\n",
    "\n",
    "$\\text{E}U(R_{p})   =\\text{E}R_{p}-\\frac{k}{2} \\text{Var}(R_{p})$,\n",
    "\n",
    "subject to \n",
    "\n",
    "$R_{p} = v'R^e + R_f$\n",
    "\n",
    "will pick the portfolio weights (on the risky assets)\n",
    "\n",
    "$v  =\\frac{1}{k}\\Sigma^{-1}\\mu^{e}$\n",
    "\n",
    "The portfolio weight on the riskfree asset is $1-\\mathbf{1}'v$"
   ]
  },
  {
   "cell_type": "code",
   "execution_count": 4,
   "metadata": {
    "collapsed": false,
    "deletable": true,
    "editable": true
   },
   "outputs": [
    {
     "name": "stdout",
     "output_type": "stream",
     "text": [
      "expected returns: \n",
      "     0.090\n",
      "     0.060\n",
      "\n",
      "covariance matrix:\n",
      "     0.026     0.000\n",
      "     0.000     0.014\n",
      "\n"
     ]
    }
   ],
   "source": [
    "μ = [0.09; 0.06]                     #means\n",
    "Σ = [ 256  0;\n",
    "      0    144]/100^2\n",
    "Rf = 0.01\n",
    "println(\"expected returns: \")\n",
    "printmat(μ)\n",
    "println(\"covariance matrix:\")\n",
    "printmat(Σ)"
   ]
  },
  {
   "cell_type": "code",
   "execution_count": 5,
   "metadata": {
    "collapsed": false,
    "deletable": true,
    "editable": true
   },
   "outputs": [
    {
     "name": "stdout",
     "output_type": "stream",
     "text": [
      "optimal portfolio weights on risky and riskfree when k = 15: \n",
      "     0.208\n",
      "     0.231\n",
      "     0.560\n",
      "\n",
      "optimal portfolio weights on risky/their sum: \n",
      "     0.474\n",
      "     0.526\n",
      "\n",
      "Tangency portfolio: \n",
      "     0.474\n",
      "     0.526\n",
      "\n",
      "ERp and Std(Rp) for optimal portfolio when k = 15, %: \n",
      "     3.824     4.339\n",
      "\n"
     ]
    }
   ],
   "source": [
    "function OptimalPortfolio(μ,Σ,Rf,k)           #calculates portfolio weights etc of a portfolio on MVF\n",
    "    n   = length(μ)\n",
    "    μe  = μ - Rf                              #expected excess returns            \n",
    "    Σ_1 = inv(Σ)\n",
    "    v   = Σ_1 * μe/k\n",
    "    mup   = (v'μ + (1-sum(v))*Rf)[1]\n",
    "    StdRp = sqrt((v'Σ*v)[1])\n",
    "    oneV  = ones(n,1)  \n",
    "    kT    = (oneV'Σ_1 * μe)[1]                #k of tangency portfolio\n",
    "    return v, mup, StdRp, kT\n",
    "end    \n",
    "\n",
    "k = 15\n",
    "(vOpt,muOpt,StdOpt,kT) = OptimalPortfolio(μ,Σ,Rf,k)         #find optimal portfolio\n",
    "\n",
    "println(\"optimal portfolio weights on risky and riskfree when k = $k: \")\n",
    "printmat([vOpt;(1-sum(vOpt))])\n",
    "println(\"optimal portfolio weights on risky/their sum: \")\n",
    "printmat(vOpt/sum(vOpt))\n",
    "\n",
    "(wT,muT,StdRT) = MVTangencyP(μ,Σ,Rf)\n",
    "println(\"Tangency portfolio: \")\n",
    "printmat(wT)\n",
    "\n",
    "println(\"ERp and Std(Rp) for optimal portfolio when k = $k, %: \")\n",
    "printmat([muOpt StdOpt]*100)"
   ]
  },
  {
   "cell_type": "code",
   "execution_count": 6,
   "metadata": {
    "collapsed": false,
    "deletable": true,
    "editable": true
   },
   "outputs": [
    {
     "name": "stdout",
     "output_type": "stream",
     "text": [
      "k ERp StdRp, %:\n",
      "     5.000     9.472    13.017\n",
      "     6.000     8.060    10.848\n",
      "     7.000     7.052     9.298\n",
      "     8.000     6.295     8.136\n",
      "     9.000     5.707     7.232\n",
      "    10.000     5.236     6.509\n",
      "    11.000     4.851     5.917\n",
      "    12.000     4.530     5.424\n",
      "    13.000     4.259     5.007\n",
      "    14.000     4.026     4.649\n",
      "    15.000     3.824     4.339\n",
      "    16.000     3.648     4.068\n",
      "    17.000     3.492     3.829\n",
      "    18.000     3.353     3.616\n",
      "    19.000     3.230     3.426\n",
      "    20.000     3.118     3.254\n",
      "    21.000     3.017     3.099\n",
      "    22.000     2.926     2.958\n",
      "    23.000     2.842     2.830\n",
      "    24.000     2.765     2.712\n",
      "    25.000     2.694     2.603\n",
      "\n"
     ]
    },
    {
     "data": {
      "text/html": [
       "<?xml version=\"1.0\" encoding=\"utf-8\"?>\n",
       "<svg xmlns=\"http://www.w3.org/2000/svg\" xmlns:xlink=\"http://www.w3.org/1999/xlink\" width=\"600\" height=\"400\" viewBox=\"0 0 600 400\">\n",
       "<defs>\n",
       "  <clipPath id=\"clip00\">\n",
       "    <rect x=\"0\" y=\"0\" width=\"600\" height=\"400\"/>\n",
       "  </clipPath>\n",
       "</defs>\n",
       "<polygon clip-path=\"url(#clip00)\" points=\"\n",
       "0,400 600,400 600,0 0,0 \n",
       "  \" fill=\"#ffffff\" fill-opacity=\"1\"/>\n",
       "<defs>\n",
       "  <clipPath id=\"clip01\">\n",
       "    <rect x=\"120\" y=\"0\" width=\"421\" height=\"400\"/>\n",
       "  </clipPath>\n",
       "</defs>\n",
       "<polygon clip-path=\"url(#clip00)\" points=\"\n",
       "54.7703,369.674 596.063,369.674 596.063,23.3815 54.7703,23.3815 \n",
       "  \" fill=\"#ffffff\" fill-opacity=\"1\"/>\n",
       "<defs>\n",
       "  <clipPath id=\"clip02\">\n",
       "    <rect x=\"54\" y=\"23\" width=\"542\" height=\"347\"/>\n",
       "  </clipPath>\n",
       "</defs>\n",
       "<polyline clip-path=\"url(#clip02)\" style=\"stroke:#00002d; stroke-width:0.8; stroke-opacity:0.5; fill:none\" stroke-dasharray=\"1, 2\" points=\"\n",
       "  54.7703,364.48 54.7703,28.5758 \n",
       "  \"/>\n",
       "<polyline clip-path=\"url(#clip02)\" style=\"stroke:#00002d; stroke-width:0.8; stroke-opacity:0.5; fill:none\" stroke-dasharray=\"1, 2\" points=\"\n",
       "  144.986,364.48 144.986,28.5758 \n",
       "  \"/>\n",
       "<polyline clip-path=\"url(#clip02)\" style=\"stroke:#00002d; stroke-width:0.8; stroke-opacity:0.5; fill:none\" stroke-dasharray=\"1, 2\" points=\"\n",
       "  235.201,364.48 235.201,28.5758 \n",
       "  \"/>\n",
       "<polyline clip-path=\"url(#clip02)\" style=\"stroke:#00002d; stroke-width:0.8; stroke-opacity:0.5; fill:none\" stroke-dasharray=\"1, 2\" points=\"\n",
       "  325.417,364.48 325.417,28.5758 \n",
       "  \"/>\n",
       "<polyline clip-path=\"url(#clip02)\" style=\"stroke:#00002d; stroke-width:0.8; stroke-opacity:0.5; fill:none\" stroke-dasharray=\"1, 2\" points=\"\n",
       "  415.632,364.48 415.632,28.5758 \n",
       "  \"/>\n",
       "<polyline clip-path=\"url(#clip02)\" style=\"stroke:#00002d; stroke-width:0.8; stroke-opacity:0.5; fill:none\" stroke-dasharray=\"1, 2\" points=\"\n",
       "  505.848,364.48 505.848,28.5758 \n",
       "  \"/>\n",
       "<polyline clip-path=\"url(#clip02)\" style=\"stroke:#00002d; stroke-width:0.8; stroke-opacity:0.5; fill:none\" stroke-dasharray=\"1, 2\" points=\"\n",
       "  596.063,364.48 596.063,28.5758 \n",
       "  \"/>\n",
       "<polyline clip-path=\"url(#clip02)\" style=\"stroke:#00002d; stroke-width:0.8; stroke-opacity:0.5; fill:none\" stroke-dasharray=\"1, 2\" points=\"\n",
       "  62.8897,369.674 587.944,369.674 \n",
       "  \"/>\n",
       "<polyline clip-path=\"url(#clip02)\" style=\"stroke:#00002d; stroke-width:0.8; stroke-opacity:0.5; fill:none\" stroke-dasharray=\"1, 2\" points=\"\n",
       "  62.8897,311.959 587.944,311.959 \n",
       "  \"/>\n",
       "<polyline clip-path=\"url(#clip02)\" style=\"stroke:#00002d; stroke-width:0.8; stroke-opacity:0.5; fill:none\" stroke-dasharray=\"1, 2\" points=\"\n",
       "  62.8897,254.243 587.944,254.243 \n",
       "  \"/>\n",
       "<polyline clip-path=\"url(#clip02)\" style=\"stroke:#00002d; stroke-width:0.8; stroke-opacity:0.5; fill:none\" stroke-dasharray=\"1, 2\" points=\"\n",
       "  62.8897,196.528 587.944,196.528 \n",
       "  \"/>\n",
       "<polyline clip-path=\"url(#clip02)\" style=\"stroke:#00002d; stroke-width:0.8; stroke-opacity:0.5; fill:none\" stroke-dasharray=\"1, 2\" points=\"\n",
       "  62.8897,138.812 587.944,138.812 \n",
       "  \"/>\n",
       "<polyline clip-path=\"url(#clip02)\" style=\"stroke:#00002d; stroke-width:0.8; stroke-opacity:0.5; fill:none\" stroke-dasharray=\"1, 2\" points=\"\n",
       "  62.8897,81.0969 587.944,81.0969 \n",
       "  \"/>\n",
       "<polyline clip-path=\"url(#clip02)\" style=\"stroke:#00002d; stroke-width:0.8; stroke-opacity:0.5; fill:none\" stroke-dasharray=\"1, 2\" points=\"\n",
       "  62.8897,23.3815 587.944,23.3815 \n",
       "  \"/>\n",
       "<polyline clip-path=\"url(#clip02)\" style=\"stroke:#00002d; stroke-width:0.8; stroke-opacity:1; fill:none\" points=\"\n",
       "  54.7703,369.674 596.063,369.674 \n",
       "  \"/>\n",
       "<polyline clip-path=\"url(#clip02)\" style=\"stroke:#00002d; stroke-width:0.8; stroke-opacity:1; fill:none\" points=\"\n",
       "  54.7703,369.674 54.7703,364.48 \n",
       "  \"/>\n",
       "<polyline clip-path=\"url(#clip02)\" style=\"stroke:#00002d; stroke-width:0.8; stroke-opacity:1; fill:none\" points=\"\n",
       "  144.986,369.674 144.986,364.48 \n",
       "  \"/>\n",
       "<polyline clip-path=\"url(#clip02)\" style=\"stroke:#00002d; stroke-width:0.8; stroke-opacity:1; fill:none\" points=\"\n",
       "  235.201,369.674 235.201,364.48 \n",
       "  \"/>\n",
       "<polyline clip-path=\"url(#clip02)\" style=\"stroke:#00002d; stroke-width:0.8; stroke-opacity:1; fill:none\" points=\"\n",
       "  325.417,369.674 325.417,364.48 \n",
       "  \"/>\n",
       "<polyline clip-path=\"url(#clip02)\" style=\"stroke:#00002d; stroke-width:0.8; stroke-opacity:1; fill:none\" points=\"\n",
       "  415.632,369.674 415.632,364.48 \n",
       "  \"/>\n",
       "<polyline clip-path=\"url(#clip02)\" style=\"stroke:#00002d; stroke-width:0.8; stroke-opacity:1; fill:none\" points=\"\n",
       "  505.848,369.674 505.848,364.48 \n",
       "  \"/>\n",
       "<polyline clip-path=\"url(#clip02)\" style=\"stroke:#00002d; stroke-width:0.8; stroke-opacity:1; fill:none\" points=\"\n",
       "  596.063,369.674 596.063,364.48 \n",
       "  \"/>\n",
       "<polyline clip-path=\"url(#clip02)\" style=\"stroke:#00002d; stroke-width:0.8; stroke-opacity:1; fill:none\" points=\"\n",
       "  54.7703,369.674 54.7703,23.3815 \n",
       "  \"/>\n",
       "<polyline clip-path=\"url(#clip02)\" style=\"stroke:#00002d; stroke-width:0.8; stroke-opacity:1; fill:none\" points=\"\n",
       "  54.7703,369.674 62.8897,369.674 \n",
       "  \"/>\n",
       "<polyline clip-path=\"url(#clip02)\" style=\"stroke:#00002d; stroke-width:0.8; stroke-opacity:1; fill:none\" points=\"\n",
       "  54.7703,311.959 62.8897,311.959 \n",
       "  \"/>\n",
       "<polyline clip-path=\"url(#clip02)\" style=\"stroke:#00002d; stroke-width:0.8; stroke-opacity:1; fill:none\" points=\"\n",
       "  54.7703,254.243 62.8897,254.243 \n",
       "  \"/>\n",
       "<polyline clip-path=\"url(#clip02)\" style=\"stroke:#00002d; stroke-width:0.8; stroke-opacity:1; fill:none\" points=\"\n",
       "  54.7703,196.528 62.8897,196.528 \n",
       "  \"/>\n",
       "<polyline clip-path=\"url(#clip02)\" style=\"stroke:#00002d; stroke-width:0.8; stroke-opacity:1; fill:none\" points=\"\n",
       "  54.7703,138.812 62.8897,138.812 \n",
       "  \"/>\n",
       "<polyline clip-path=\"url(#clip02)\" style=\"stroke:#00002d; stroke-width:0.8; stroke-opacity:1; fill:none\" points=\"\n",
       "  54.7703,81.0969 62.8897,81.0969 \n",
       "  \"/>\n",
       "<polyline clip-path=\"url(#clip02)\" style=\"stroke:#00002d; stroke-width:0.8; stroke-opacity:1; fill:none\" points=\"\n",
       "  54.7703,23.3815 62.8897,23.3815 \n",
       "  \"/>\n",
       "<g clip-path=\"url(#clip00)\">\n",
       "<text style=\"fill:#00002d; fill-opacity:1; font-family:Arial,Helvetica Neue,Helvetica,sans-serif; font-size:12; text-anchor:middle;\" transform=\"rotate(0, 54.7703, 381.674)\" x=\"54.7703\" y=\"381.674\">0.0</text>\n",
       "</g>\n",
       "<g clip-path=\"url(#clip00)\">\n",
       "<text style=\"fill:#00002d; fill-opacity:1; font-family:Arial,Helvetica Neue,Helvetica,sans-serif; font-size:12; text-anchor:middle;\" transform=\"rotate(0, 144.986, 381.674)\" x=\"144.986\" y=\"381.674\">2.5</text>\n",
       "</g>\n",
       "<g clip-path=\"url(#clip00)\">\n",
       "<text style=\"fill:#00002d; fill-opacity:1; font-family:Arial,Helvetica Neue,Helvetica,sans-serif; font-size:12; text-anchor:middle;\" transform=\"rotate(0, 235.201, 381.674)\" x=\"235.201\" y=\"381.674\">5.0</text>\n",
       "</g>\n",
       "<g clip-path=\"url(#clip00)\">\n",
       "<text style=\"fill:#00002d; fill-opacity:1; font-family:Arial,Helvetica Neue,Helvetica,sans-serif; font-size:12; text-anchor:middle;\" transform=\"rotate(0, 325.417, 381.674)\" x=\"325.417\" y=\"381.674\">7.5</text>\n",
       "</g>\n",
       "<g clip-path=\"url(#clip00)\">\n",
       "<text style=\"fill:#00002d; fill-opacity:1; font-family:Arial,Helvetica Neue,Helvetica,sans-serif; font-size:12; text-anchor:middle;\" transform=\"rotate(0, 415.632, 381.674)\" x=\"415.632\" y=\"381.674\">10.0</text>\n",
       "</g>\n",
       "<g clip-path=\"url(#clip00)\">\n",
       "<text style=\"fill:#00002d; fill-opacity:1; font-family:Arial,Helvetica Neue,Helvetica,sans-serif; font-size:12; text-anchor:middle;\" transform=\"rotate(0, 505.848, 381.674)\" x=\"505.848\" y=\"381.674\">12.5</text>\n",
       "</g>\n",
       "<g clip-path=\"url(#clip00)\">\n",
       "<text style=\"fill:#00002d; fill-opacity:1; font-family:Arial,Helvetica Neue,Helvetica,sans-serif; font-size:12; text-anchor:middle;\" transform=\"rotate(0, 596.063, 381.674)\" x=\"596.063\" y=\"381.674\">15.0</text>\n",
       "</g>\n",
       "<g clip-path=\"url(#clip00)\">\n",
       "<text style=\"fill:#00002d; fill-opacity:1; font-family:Arial,Helvetica Neue,Helvetica,sans-serif; font-size:12; text-anchor:end;\" transform=\"rotate(0, 53.5703, 374.174)\" x=\"53.5703\" y=\"374.174\">0.0</text>\n",
       "</g>\n",
       "<g clip-path=\"url(#clip00)\">\n",
       "<text style=\"fill:#00002d; fill-opacity:1; font-family:Arial,Helvetica Neue,Helvetica,sans-serif; font-size:12; text-anchor:end;\" transform=\"rotate(0, 53.5703, 316.459)\" x=\"53.5703\" y=\"316.459\">2.5</text>\n",
       "</g>\n",
       "<g clip-path=\"url(#clip00)\">\n",
       "<text style=\"fill:#00002d; fill-opacity:1; font-family:Arial,Helvetica Neue,Helvetica,sans-serif; font-size:12; text-anchor:end;\" transform=\"rotate(0, 53.5703, 258.743)\" x=\"53.5703\" y=\"258.743\">5.0</text>\n",
       "</g>\n",
       "<g clip-path=\"url(#clip00)\">\n",
       "<text style=\"fill:#00002d; fill-opacity:1; font-family:Arial,Helvetica Neue,Helvetica,sans-serif; font-size:12; text-anchor:end;\" transform=\"rotate(0, 53.5703, 201.028)\" x=\"53.5703\" y=\"201.028\">7.5</text>\n",
       "</g>\n",
       "<g clip-path=\"url(#clip00)\">\n",
       "<text style=\"fill:#00002d; fill-opacity:1; font-family:Arial,Helvetica Neue,Helvetica,sans-serif; font-size:12; text-anchor:end;\" transform=\"rotate(0, 53.5703, 143.312)\" x=\"53.5703\" y=\"143.312\">10.0</text>\n",
       "</g>\n",
       "<g clip-path=\"url(#clip00)\">\n",
       "<text style=\"fill:#00002d; fill-opacity:1; font-family:Arial,Helvetica Neue,Helvetica,sans-serif; font-size:12; text-anchor:end;\" transform=\"rotate(0, 53.5703, 85.5969)\" x=\"53.5703\" y=\"85.5969\">12.5</text>\n",
       "</g>\n",
       "<g clip-path=\"url(#clip00)\">\n",
       "<text style=\"fill:#00002d; fill-opacity:1; font-family:Arial,Helvetica Neue,Helvetica,sans-serif; font-size:12; text-anchor:end;\" transform=\"rotate(0, 53.5703, 27.8815)\" x=\"53.5703\" y=\"27.8815\">15.0</text>\n",
       "</g>\n",
       "<g clip-path=\"url(#clip00)\">\n",
       "<text style=\"fill:#00002d; fill-opacity:1; font-family:Arial,Helvetica Neue,Helvetica,sans-serif; font-size:21; text-anchor:middle;\" transform=\"rotate(0, 325.417, 18)\" x=\"325.417\" y=\"18\">Mean vs standard deviation of optimal portfolios</text>\n",
       "</g>\n",
       "<g clip-path=\"url(#clip00)\">\n",
       "<text style=\"fill:#00002d; fill-opacity:1; font-family:Arial,Helvetica Neue,Helvetica,sans-serif; font-size:16; text-anchor:middle;\" transform=\"rotate(0, 325.417, 397.6)\" x=\"325.417\" y=\"397.6\">Std(Rp), %</text>\n",
       "</g>\n",
       "<g clip-path=\"url(#clip00)\">\n",
       "<text style=\"fill:#00002d; fill-opacity:1; font-family:Arial,Helvetica Neue,Helvetica,sans-serif; font-size:16; text-anchor:middle;\" transform=\"rotate(-90, 14.4, 196.528)\" x=\"14.4\" y=\"196.528\">ERp, %</text>\n",
       "</g>\n",
       "<circle clip-path=\"url(#clip02)\" style=\"fill:#00002d; stroke:none; fill-opacity:1\" cx=\"524.507\" cy=\"150.997\" r=\"3\"/>\n",
       "<circle clip-path=\"url(#clip02)\" style=\"fill:#0099ff; stroke:none; fill-opacity:1\" cx=\"524.507\" cy=\"150.997\" r=\"2\"/>\n",
       "<circle clip-path=\"url(#clip02)\" style=\"fill:#00002d; stroke:none; fill-opacity:1\" cx=\"446.218\" cy=\"183.595\" r=\"3\"/>\n",
       "<circle clip-path=\"url(#clip02)\" style=\"fill:#0099ff; stroke:none; fill-opacity:1\" cx=\"446.218\" cy=\"183.595\" r=\"2\"/>\n",
       "<circle clip-path=\"url(#clip02)\" style=\"fill:#00002d; stroke:none; fill-opacity:1\" cx=\"390.297\" cy=\"206.88\" r=\"3\"/>\n",
       "<circle clip-path=\"url(#clip02)\" style=\"fill:#0099ff; stroke:none; fill-opacity:1\" cx=\"390.297\" cy=\"206.88\" r=\"2\"/>\n",
       "<circle clip-path=\"url(#clip02)\" style=\"fill:#00002d; stroke:none; fill-opacity:1\" cx=\"348.356\" cy=\"224.343\" r=\"3\"/>\n",
       "<circle clip-path=\"url(#clip02)\" style=\"fill:#0099ff; stroke:none; fill-opacity:1\" cx=\"348.356\" cy=\"224.343\" r=\"2\"/>\n",
       "<circle clip-path=\"url(#clip02)\" style=\"fill:#00002d; stroke:none; fill-opacity:1\" cx=\"315.735\" cy=\"237.926\" r=\"3\"/>\n",
       "<circle clip-path=\"url(#clip02)\" style=\"fill:#0099ff; stroke:none; fill-opacity:1\" cx=\"315.735\" cy=\"237.926\" r=\"2\"/>\n",
       "<circle clip-path=\"url(#clip02)\" style=\"fill:#00002d; stroke:none; fill-opacity:1\" cx=\"289.639\" cy=\"248.792\" r=\"3\"/>\n",
       "<circle clip-path=\"url(#clip02)\" style=\"fill:#0099ff; stroke:none; fill-opacity:1\" cx=\"289.639\" cy=\"248.792\" r=\"2\"/>\n",
       "<circle clip-path=\"url(#clip02)\" style=\"fill:#00002d; stroke:none; fill-opacity:1\" cx=\"268.287\" cy=\"257.683\" r=\"3\"/>\n",
       "<circle clip-path=\"url(#clip02)\" style=\"fill:#0099ff; stroke:none; fill-opacity:1\" cx=\"268.287\" cy=\"257.683\" r=\"2\"/>\n",
       "<circle clip-path=\"url(#clip02)\" style=\"fill:#00002d; stroke:none; fill-opacity:1\" cx=\"250.494\" cy=\"265.092\" r=\"3\"/>\n",
       "<circle clip-path=\"url(#clip02)\" style=\"fill:#0099ff; stroke:none; fill-opacity:1\" cx=\"250.494\" cy=\"265.092\" r=\"2\"/>\n",
       "<circle clip-path=\"url(#clip02)\" style=\"fill:#00002d; stroke:none; fill-opacity:1\" cx=\"235.438\" cy=\"271.361\" r=\"3\"/>\n",
       "<circle clip-path=\"url(#clip02)\" style=\"fill:#0099ff; stroke:none; fill-opacity:1\" cx=\"235.438\" cy=\"271.361\" r=\"2\"/>\n",
       "<circle clip-path=\"url(#clip02)\" style=\"fill:#00002d; stroke:none; fill-opacity:1\" cx=\"222.533\" cy=\"276.734\" r=\"3\"/>\n",
       "<circle clip-path=\"url(#clip02)\" style=\"fill:#0099ff; stroke:none; fill-opacity:1\" cx=\"222.533\" cy=\"276.734\" r=\"2\"/>\n",
       "<circle clip-path=\"url(#clip02)\" style=\"fill:#00002d; stroke:none; fill-opacity:1\" cx=\"211.349\" cy=\"281.391\" r=\"3\"/>\n",
       "<circle clip-path=\"url(#clip02)\" style=\"fill:#0099ff; stroke:none; fill-opacity:1\" cx=\"211.349\" cy=\"281.391\" r=\"2\"/>\n",
       "<circle clip-path=\"url(#clip02)\" style=\"fill:#00002d; stroke:none; fill-opacity:1\" cx=\"201.563\" cy=\"285.466\" r=\"3\"/>\n",
       "<circle clip-path=\"url(#clip02)\" style=\"fill:#0099ff; stroke:none; fill-opacity:1\" cx=\"201.563\" cy=\"285.466\" r=\"2\"/>\n",
       "<circle clip-path=\"url(#clip02)\" style=\"fill:#00002d; stroke:none; fill-opacity:1\" cx=\"192.928\" cy=\"289.061\" r=\"3\"/>\n",
       "<circle clip-path=\"url(#clip02)\" style=\"fill:#0099ff; stroke:none; fill-opacity:1\" cx=\"192.928\" cy=\"289.061\" r=\"2\"/>\n",
       "<circle clip-path=\"url(#clip02)\" style=\"fill:#00002d; stroke:none; fill-opacity:1\" cx=\"185.253\" cy=\"292.257\" r=\"3\"/>\n",
       "<circle clip-path=\"url(#clip02)\" style=\"fill:#0099ff; stroke:none; fill-opacity:1\" cx=\"185.253\" cy=\"292.257\" r=\"2\"/>\n",
       "<circle clip-path=\"url(#clip02)\" style=\"fill:#00002d; stroke:none; fill-opacity:1\" cx=\"178.385\" cy=\"295.117\" r=\"3\"/>\n",
       "<circle clip-path=\"url(#clip02)\" style=\"fill:#0099ff; stroke:none; fill-opacity:1\" cx=\"178.385\" cy=\"295.117\" r=\"2\"/>\n",
       "<circle clip-path=\"url(#clip02)\" style=\"fill:#00002d; stroke:none; fill-opacity:1\" cx=\"172.205\" cy=\"297.69\" r=\"3\"/>\n",
       "<circle clip-path=\"url(#clip02)\" style=\"fill:#0099ff; stroke:none; fill-opacity:1\" cx=\"172.205\" cy=\"297.69\" r=\"2\"/>\n",
       "<circle clip-path=\"url(#clip02)\" style=\"fill:#00002d; stroke:none; fill-opacity:1\" cx=\"166.612\" cy=\"300.019\" r=\"3\"/>\n",
       "<circle clip-path=\"url(#clip02)\" style=\"fill:#0099ff; stroke:none; fill-opacity:1\" cx=\"166.612\" cy=\"300.019\" r=\"2\"/>\n",
       "<circle clip-path=\"url(#clip02)\" style=\"fill:#00002d; stroke:none; fill-opacity:1\" cx=\"161.529\" cy=\"302.135\" r=\"3\"/>\n",
       "<circle clip-path=\"url(#clip02)\" style=\"fill:#0099ff; stroke:none; fill-opacity:1\" cx=\"161.529\" cy=\"302.135\" r=\"2\"/>\n",
       "<circle clip-path=\"url(#clip02)\" style=\"fill:#00002d; stroke:none; fill-opacity:1\" cx=\"156.887\" cy=\"304.068\" r=\"3\"/>\n",
       "<circle clip-path=\"url(#clip02)\" style=\"fill:#0099ff; stroke:none; fill-opacity:1\" cx=\"156.887\" cy=\"304.068\" r=\"2\"/>\n",
       "<circle clip-path=\"url(#clip02)\" style=\"fill:#00002d; stroke:none; fill-opacity:1\" cx=\"152.632\" cy=\"305.84\" r=\"3\"/>\n",
       "<circle clip-path=\"url(#clip02)\" style=\"fill:#0099ff; stroke:none; fill-opacity:1\" cx=\"152.632\" cy=\"305.84\" r=\"2\"/>\n",
       "<circle clip-path=\"url(#clip02)\" style=\"fill:#00002d; stroke:none; fill-opacity:1\" cx=\"148.718\" cy=\"307.47\" r=\"3\"/>\n",
       "<circle clip-path=\"url(#clip02)\" style=\"fill:#0099ff; stroke:none; fill-opacity:1\" cx=\"148.718\" cy=\"307.47\" r=\"2\"/>\n",
       "</svg>\n"
      ]
     },
     "execution_count": 6,
     "metadata": {},
     "output_type": "execute_result"
    }
   ],
   "source": [
    "k = 5:1:25\n",
    "K = length(k)\n",
    "ERp   = fill(NaN,K)\n",
    "StdRp = fill(NaN,K)\n",
    "for i = 1:K\n",
    "    (v_i,ER_i,Std_i,) = OptimalPortfolio(μ,Σ,Rf,k[i])\n",
    "    ERp[i]   = ER_i \n",
    "    StdRp[i] = Std_i\n",
    "end    \n",
    "\n",
    "println(\"k ERp StdRp, %:\")\n",
    "printmat([collect(k) ERp*100 StdRp*100])\n",
    "\n",
    "scatter(StdRp*100,ERp*100,xlims=(0,15),ylims=(0,15),legend=false)\n",
    "title!(\"Mean vs standard deviation of optimal portfolios\")\n",
    "xlabel!(\"Std(Rp), %\")\n",
    "ylabel!(\"ERp, %\")"
   ]
  },
  {
   "cell_type": "code",
   "execution_count": null,
   "metadata": {
    "collapsed": true,
    "deletable": true,
    "editable": true
   },
   "outputs": [],
   "source": []
  }
 ],
 "metadata": {
  "anaconda-cloud": {},
  "kernelspec": {
   "display_name": "Julia 0.5.1",
   "language": "julia",
   "name": "julia-0.5"
  },
  "language_info": {
   "file_extension": ".jl",
   "mimetype": "application/julia",
   "name": "julia",
   "version": "0.5.1"
  }
 },
 "nbformat": 4,
 "nbformat_minor": 0
}
