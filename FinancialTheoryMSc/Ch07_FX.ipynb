{
 "cells": [
  {
   "cell_type": "markdown",
   "metadata": {
    "deletable": true,
    "editable": true
   },
   "source": [
    "## Load Routines for Printing Matrices"
   ]
  },
  {
   "cell_type": "code",
   "execution_count": 1,
   "metadata": {
    "collapsed": false,
    "deletable": true,
    "editable": true
   },
   "outputs": [
    {
     "data": {
      "text/plain": [
       "printlnPs (generic function with 1 method)"
      ]
     },
     "execution_count": 1,
     "metadata": {},
     "output_type": "execute_result"
    }
   ],
   "source": [
    "      \n",
    "include(\"printmat.jl\")"
   ]
  },
  {
   "cell_type": "markdown",
   "metadata": {
    "deletable": true,
    "editable": true
   },
   "source": [
    "# Exchange Rate Quotations"
   ]
  },
  {
   "cell_type": "code",
   "execution_count": 2,
   "metadata": {
    "collapsed": false,
    "deletable": true,
    "editable": true
   },
   "outputs": [
    {
     "name": "stdout",
     "output_type": "stream",
     "text": [
      "CHF per AUD:      0.811\n"
     ]
    }
   ],
   "source": [
    "CHF_USD = 0.9970\n",
    "USD_AUD = 0.8139\n",
    "\n",
    "CHF_AUD = CHF_USD*USD_AUD\n",
    "\n",
    "printlnPs(\"CHF per AUD: \",CHF_AUD)"
   ]
  },
  {
   "cell_type": "markdown",
   "metadata": {
    "deletable": true,
    "editable": true
   },
   "source": [
    "# Currency Returns\n",
    "\n",
    "The strategy is: in $t=0$, you borrow on the domestic money market (at the safe rate Rf), buy foreign currency (at the price $S_0$) at lend on foreign money market (at the safe rate Rfstar). Finally, in $t=1$ sell the foreign currency (at the price $S_1$). \n",
    "\n",
    "Notice that Rf and Rfstar are the safe rates over the investment period (for instance, one-month period). Conversion from annualized interest rates to these monthly rates is discussed under UIP (below)."
   ]
  },
  {
   "cell_type": "code",
   "execution_count": 3,
   "metadata": {
    "collapsed": false,
    "deletable": true,
    "editable": true
   },
   "outputs": [
    {
     "name": "stdout",
     "output_type": "stream",
     "text": [
      "Currency excess return (from t=0 to t=1)\n",
      "if S₁ = 1.25:      0.053\n",
      "if S₁ = 1.189:      0.001\n",
      "if S₁ = 1.177:     -0.010\n"
     ]
    }
   ],
   "source": [
    "S₀ = 1.2\n",
    "S₁ = 1.25\n",
    "Rfstar = 0.03\n",
    "Rf     = 0.02\n",
    "\n",
    "Re = (1+Rfstar)*S₁/S₀ - 1 - Rf\n",
    "printlnPs(\"Currency excess return (from t=0 to t=1)\")\n",
    "printlnPs(\"if S₁ = $S₁: \",Re)\n",
    "\n",
    "S₁ = 1.189\n",
    "Re = (1+Rfstar)*S₁/S₀ - 1 - Rf\n",
    "printlnPs(\"if S₁ = $S₁: \",Re)\n",
    "\n",
    "S₁ = 1.177\n",
    "Re = (1+Rfstar)*S₁/S₀ - 1 - Rf\n",
    "printlnPs(\"if S₁ = $S₁: \",Re)"
   ]
  },
  {
   "cell_type": "markdown",
   "metadata": {
    "deletable": true,
    "editable": true
   },
   "source": [
    "# Uncovered Interest Rate Parity (UIP)\n",
    "\n",
    "\n",
    "UIP assumes that the expected future exchange rate (E$_0S_m$) is fully determined by the current (as of $t=0$) exchange rate and interest rates, in such a way that the expected excess return on a a foreign investment (on the foreign money market) is zero.\n",
    "\n",
    "Interest rates are typically annualized (denoted $y$ and $y^*$ below). This means that the safe rate over an investment period of $m$ years (eg. $m=1/12$ for a month) is $(1+y)^m$."
   ]
  },
  {
   "cell_type": "code",
   "execution_count": 4,
   "metadata": {
    "collapsed": false,
    "deletable": true,
    "editable": true
   },
   "outputs": [
    {
     "name": "stdout",
     "output_type": "stream",
     "text": [
      "Expected future exchange rate according to UIP:      1.189\n"
     ]
    }
   ],
   "source": [
    "S₀ = 1.2\n",
    "y  = 0.04\n",
    "ystar = 0.06\n",
    "m = 1/2\n",
    "ESm = S₀ * (1+y)^m/(1+ystar)^m\n",
    "\n",
    "printlnPs(\"Expected future exchange rate according to UIP: \",ESm)"
   ]
  },
  {
   "cell_type": "code",
   "execution_count": 5,
   "metadata": {
    "collapsed": false,
    "deletable": true,
    "editable": true
   },
   "outputs": [
    {
     "name": "stdout",
     "output_type": "stream",
     "text": [
      "\n",
      "Gross returns on foreign and domestic investments, difference: \n",
      "     0.987     1.020    -0.033\n",
      "\n"
     ]
    }
   ],
   "source": [
    "Sm = 1.15        #suppose the exchange rate ends up at this value\n",
    "\n",
    "grossR_foreign  = Sm/S₀*(1+ystar)^m\n",
    "grossR_domestic = (1+y)^m\n",
    "\n",
    "println(\"\\nGross returns on foreign and domestic investments, difference: \")\n",
    "printmat([grossR_foreign grossR_domestic grossR_foreign-grossR_domestic])"
   ]
  },
  {
   "cell_type": "code",
   "execution_count": null,
   "metadata": {
    "collapsed": true,
    "deletable": true,
    "editable": true
   },
   "outputs": [],
   "source": []
  }
 ],
 "metadata": {
  "anaconda-cloud": {},
  "kernelspec": {
   "display_name": "Julia 0.5.1",
   "language": "julia",
   "name": "julia-0.5"
  },
  "language_info": {
   "file_extension": ".jl",
   "mimetype": "application/julia",
   "name": "julia",
   "version": "0.5.1"
  }
 },
 "nbformat": 4,
 "nbformat_minor": 0
}
