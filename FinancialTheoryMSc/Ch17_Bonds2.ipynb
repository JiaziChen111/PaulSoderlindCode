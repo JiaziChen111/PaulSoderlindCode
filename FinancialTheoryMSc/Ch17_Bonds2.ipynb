{
 "cells": [
  {
   "cell_type": "markdown",
   "metadata": {
    "deletable": true,
    "editable": true
   },
   "source": [
    "## Load Routines for Printing Matrices"
   ]
  },
  {
   "cell_type": "code",
   "execution_count": 1,
   "metadata": {
    "collapsed": false,
    "deletable": true,
    "editable": true
   },
   "outputs": [
    {
     "data": {
      "text/plain": [
       "printlnPs (generic function with 1 method)"
      ]
     },
     "execution_count": 1,
     "metadata": {},
     "output_type": "execute_result"
    }
   ],
   "source": [
    "    \n",
    "include(\"printmat.jl\")"
   ]
  },
  {
   "cell_type": "markdown",
   "metadata": {
    "deletable": true,
    "editable": true
   },
   "source": [
    "# Bond Return after a Sudden Interest Rate Change"
   ]
  },
  {
   "cell_type": "code",
   "execution_count": 2,
   "metadata": {
    "collapsed": false,
    "deletable": true,
    "editable": true
   },
   "outputs": [
    {
     "name": "stdout",
     "output_type": "stream",
     "text": [
      "Bond price before and after change of interest from 0.02 to 0.03:      0.906     0.863\n",
      "Exact price change:     -0.043\n",
      "Exact relative price change:     -0.048\n"
     ]
    }
   ],
   "source": [
    "m  = 5\n",
    "θ₀ = 0.02                   #initial interest rate\n",
    "θ₁ = 0.03                   #interest rate after sudden change\n",
    "B₀ = (1+θ₀)^(-m)\n",
    "B₁ = (1+θ₁)^(-m)\n",
    "\n",
    "ΔB = B₁ - B₀\n",
    "ΔBrel = ΔB/B₀\n",
    "printlnPs(\"Bond price before and after change of interest from $θ₀ to $θ₁: \",[B₀ B₁])\n",
    "\n",
    "printlnPs(\"Exact price change: \",ΔB)\n",
    "printlnPs(\"Exact relative price change: \",ΔBrel)"
   ]
  },
  {
   "cell_type": "markdown",
   "metadata": {
    "deletable": true,
    "editable": true
   },
   "source": [
    "### From Chapter on Bonds 1"
   ]
  },
  {
   "cell_type": "code",
   "execution_count": 3,
   "metadata": {
    "collapsed": false,
    "deletable": true,
    "editable": true
   },
   "outputs": [
    {
     "data": {
      "text/plain": [
       "BondPrice3Ps (generic function with 1 method)"
      ]
     },
     "execution_count": 3,
     "metadata": {},
     "output_type": "execute_result"
    }
   ],
   "source": [
    "function BondPrice3Ps(Y,cf,mk)              #cf is a vector of all cash flows\n",
    "    cfac = cf./((1+Y).^mk)                  #c/(1+y1)^t1 + c/(1+y2)^t2 + ...+ c/(1+y2)^m\n",
    "    P    = sum(cfac)                        #price\n",
    "    return P\n",
    "end"
   ]
  },
  {
   "cell_type": "code",
   "execution_count": 4,
   "metadata": {
    "collapsed": false,
    "deletable": true,
    "editable": true
   },
   "outputs": [
    {
     "name": "stdout",
     "output_type": "stream",
     "text": [
      "B₀ and P:      0.906     0.906\n",
      "\n",
      "θ₀ and ytm:      0.020     0.020"
     ]
    }
   ],
   "source": [
    "cf = [zeros(4);1]                 #cash flow, 5-period zero-coupon bond          \n",
    "mk = 1:5                          #time periods of the cash flows (could also do cf = 1, mk = 5)\n",
    "P = BondPrice3Ps(θ₀,cf,mk)        #testing the function, using a constant interest rate of θ₀   \n",
    "printlnPs(\"B₀ and P: \",[B₀ P])\n",
    "\n",
    "using Roots                \n",
    "\n",
    "ytm = fzero(y->BondPrice3Ps(y,cf,mk)-P,[-0.1;0.1])   #testing ytm calculation\n",
    "printlnPs(\"\\nθ₀ and ytm: \",[θ₀ ytm])\n",
    "\n",
    "println(\"\\nthe prices should be the same, the rates too\")"
   ]
  },
  {
   "cell_type": "markdown",
   "metadata": {
    "deletable": true,
    "editable": true
   },
   "source": [
    "# Macaulay's Duration"
   ]
  },
  {
   "cell_type": "markdown",
   "metadata": {
    "deletable": true,
    "editable": true
   },
   "source": [
    "$D^M = \\sum_{k=1}^{K} m_{k}\\frac{cf_{k}}{\\left(  1+\\theta\\right)  ^{m_{k}}P}$\n",
    "\n",
    "A first-order Taylor approximation gives\n",
    "\n",
    "$\\frac{\\Delta P}{P} = -D^M \\times \\frac{\\Delta \\theta}{1+\\theta}$ "
   ]
  },
  {
   "cell_type": "code",
   "execution_count": 5,
   "metadata": {
    "collapsed": false,
    "deletable": true,
    "editable": true
   },
   "outputs": [
    {
     "data": {
      "text/plain": [
       "BondDurationMacaulay3Ps (generic function with 1 method)"
      ]
     },
     "execution_count": 5,
     "metadata": {},
     "output_type": "execute_result"
    }
   ],
   "source": [
    "function BondDurationMacaulay3Ps(P,cf,mk,ytm)\n",
    "    cfac    = cf.*mk./((1+ytm).^(mk+1))     #c/(1+y)^2 + 2c/(1+y)^3 + ...+ Kc/(1+y)^(K+1)\n",
    "    D       = sum(cfac)                     #Duration, row vector\n",
    "    Da      = D/P                           #adjusted duration\n",
    "    Dmac    = D*(1+ytm)/P                   #Macaulays duration\n",
    "    return D,Da,Dmac\n",
    "end"
   ]
  },
  {
   "cell_type": "code",
   "execution_count": 6,
   "metadata": {
    "collapsed": false,
    "deletable": true,
    "editable": true
   },
   "outputs": [
    {
     "name": "stdout",
     "output_type": "stream",
     "text": [
      "Dollar duration and Macaulay's duation:      4.440     5.000\n",
      "\n",
      "Exact and approximate price change (according to dollar duration):     -0.043    -0.044\n"
     ]
    }
   ],
   "source": [
    "(D,Da,Dmac) = BondDurationMacaulay3Ps(P,cf,mk,ytm)\n",
    "\n",
    "printlnPs(\"Dollar duration and Macaulay's duation: \",[D Dmac])\n",
    "\n",
    "Δθ = θ₁ - θ₀\n",
    "ΔP = -D*Δθ\n",
    "printlnPs(\"\\nExact and approximate price change (according to dollar duration): \",[ΔB ΔP])"
   ]
  },
  {
   "cell_type": "code",
   "execution_count": 7,
   "metadata": {
    "collapsed": false,
    "deletable": true,
    "editable": true
   },
   "outputs": [
    {
     "name": "stdout",
     "output_type": "stream",
     "text": [
      "Exact and approximate relative price change (according to Macaulay's duration):     -0.048    -0.049\n"
     ]
    }
   ],
   "source": [
    "ΔPrel = -Dmac*Δθ/(1+θ₀)\n",
    "\n",
    "printlnPs(\"Exact and approximate relative price change (according to Macaulay's duration): \",[ΔBrel ΔPrel])"
   ]
  },
  {
   "cell_type": "code",
   "execution_count": 8,
   "metadata": {
    "collapsed": false,
    "deletable": true,
    "editable": true
   },
   "outputs": [
    {
     "name": "stdout",
     "output_type": "stream",
     "text": [
      "Different types of durations for 2-year 4% bond with ytm = 0.03:      1.941     1.905     1.962\n"
     ]
    }
   ],
   "source": [
    "(D,Da,Dmac) = BondDurationMacaulay3Ps(1.019,[0.04;0.04+1],1:2,0.03)\n",
    "printlnPs(\"Different types of durations for 2-year 4% bond with ytm = 0.03: \",[D Da Dmac])"
   ]
  },
  {
   "cell_type": "markdown",
   "metadata": {
    "deletable": true,
    "editable": true
   },
   "source": [
    "# Hedging a Liability Stream"
   ]
  },
  {
   "cell_type": "markdown",
   "metadata": {
    "deletable": true,
    "editable": true
   },
   "source": [
    "We are short one $L$ bond, which is worth $P_L$. To hedge that we buy $h$ units of bond $H$. The balance is put on a money market account $M$ to make the initial value of the portfolio zero ($V=0$)\n",
    "\n",
    "$V=hP_{H}+M-P_{L}$\n",
    "\n",
    "Over a short time interval, the change in the portfolio value is\n",
    "\n",
    "$\\Delta V=h\\Delta P_{H}-\\Delta P_{L}$, which can be approximated as\n",
    "\n",
    "$\\Delta V  =-hD_{H}^{M}P_{H}\\times\\frac{\\Delta\\theta_{H}}{1+\\theta_{H}}+D_{L}^{M} P_{L}\\times\\frac{\\Delta\\theta_{L}}{1+\\theta_{L}}$"
   ]
  },
  {
   "cell_type": "code",
   "execution_count": 9,
   "metadata": {
    "collapsed": false,
    "deletable": true,
    "editable": true
   },
   "outputs": [
    {
     "name": "stdout",
     "output_type": "stream",
     "text": [
      "Value of liability at interest rates 0.05 and 0.04:    369.615   375.370\n",
      "\n",
      "Macaulay's duration:      1.613\n"
     ]
    }
   ],
   "source": [
    "cf = [150;250]                   #cash flow of liability stream (as positive numbers)\n",
    "mk = [1;2]                       #times of cash flows   \n",
    "θ₀ = 0.05                        #initial interest rate\n",
    "θ₁ = 0.04                        #interest rate after sudden change\n",
    "Δθ = θ₁ - θ₀\n",
    "\n",
    "PL₀ = BondPrice3Ps(θ₀,cf,mk)      #price at initial interest rate, no face value  \n",
    "PL₁ = BondPrice3Ps(θ₁,cf,mk)      #price at new interest rate\n",
    "\n",
    "printlnPs(\"Value of liability at interest rates $θ₀ and $θ₁: \",[PL₀ PL₁])\n",
    "\n",
    "(_,_,Dmac) = BondDurationMacaulay3Ps(PL₀,cf,mk,θ₀)\n",
    "printlnPs(\"\\nMacaulay's duration: \",Dmac)"
   ]
  },
  {
   "cell_type": "markdown",
   "metadata": {
    "deletable": true,
    "editable": true
   },
   "source": [
    "### Naive Hedging with Duration of Hedge Bond DH = 0.5 (flat yield curve) "
   ]
  },
  {
   "cell_type": "markdown",
   "metadata": {
    "deletable": true,
    "editable": true
   },
   "source": [
    "set $h=P_{L}/P_{H}$ to get\n",
    "\n",
    "$\\frac{\\Delta V}{P_{L}}\\approx\\left(  D_{L}^{M}-D_{H}^{M}\\right)  \\times\n",
    "\\frac{\\Delta\\theta}{1+\\theta}$"
   ]
  },
  {
   "cell_type": "code",
   "execution_count": 10,
   "metadata": {
    "collapsed": false,
    "deletable": true,
    "editable": true
   },
   "outputs": [
    {
     "name": "stdout",
     "output_type": "stream",
     "text": [
      "A zero coupon bond with m=0.5 and face value of 100: price and hedge ratio h:     97.590     3.787\n",
      "\n",
      "(relative) % change of hedge portfolio value (exact):     -1.077\n",
      "\n",
      "(relative) % change of hedge portfolio value (approx):     -1.060\n"
     ]
    }
   ],
   "source": [
    "PH₀ = BondPrice3Ps(θ₀,100,0.5)\n",
    "PH₁ = BondPrice3Ps(θ₁,100,0.5)      \n",
    "\n",
    "h = PL₀/PH₀\n",
    "\n",
    "printlnPs(\"A zero coupon bond with m=0.5 and face value of 100: price and hedge ratio h: \",[PH₀ h])\n",
    "\n",
    "ΔV_exact = h*(PH₁-PH₀) - (PL₁-PL₀)\n",
    "printlnPs(\"\\n(relative) % change of hedge portfolio value (exact): \",100*ΔV_exact/PL₀)\n",
    "\n",
    "ΔVrel_approx = (Dmac - 0.5)*Δθ/(1+θ₀)\n",
    "printlnPs(\"\\n(relative) % change of hedge portfolio value (approx): \",100*ΔVrel_approx)"
   ]
  },
  {
   "cell_type": "markdown",
   "metadata": {
    "deletable": true,
    "editable": true
   },
   "source": [
    "### Duration Hedging  (flat yield curve)"
   ]
  },
  {
   "cell_type": "markdown",
   "metadata": {
    "deletable": true,
    "editable": true
   },
   "source": [
    "instead, set \n",
    "\n",
    "$h =\\frac{D_{L}^{M}}{D_{H}^{M}}\\times\\frac{P_{L}}{P_{H}}$ to get\n",
    "\n",
    "$\\frac{\\Delta V}{P_{L}}\\approx D_{L}^{M}\\times\\left(  \\frac{\\Delta\\theta_{L} }{1+\\theta_{L}}-\\frac{\\Delta\\theta_{H}}{1+\\theta_{H}}\\right)$"
   ]
  },
  {
   "cell_type": "code",
   "execution_count": 11,
   "metadata": {
    "collapsed": false,
    "deletable": true,
    "editable": true
   },
   "outputs": [
    {
     "name": "stdout",
     "output_type": "stream",
     "text": [
      "A zero coupon bond with m=1.61 and face value of 100: price and hedge ratio h:     92.430     3.999\n",
      "\n",
      "(relative) % change of hedge portolio value (exact):     -0.001\n",
      "\n",
      "(relative) % change of hedge portolio value (approx):      0.000\n"
     ]
    }
   ],
   "source": [
    "PH₀ = BondPrice3Ps(θ₀,100,Dmac)             \n",
    "PH₁ = BondPrice3Ps(θ₁,100,Dmac)      \n",
    "h = Dmac/Dmac * PL₀/PH₀\n",
    "printlnPs(\"A zero coupon bond with m=$(round(Dmac,2)) and face value of 100: price and hedge ratio h: \",[PH₀ h])\n",
    "\n",
    "ΔV_exact = h*(PH₁-PH₀) - (PL₁-PL₀)\n",
    "printlnPs(\"\\n(relative) % change of hedge portolio value (exact): \",100*ΔV_exact/PL₀)\n",
    "\n",
    "ΔVrel_approx = Dmac*(Δθ/(1+θ₀) - Δθ/(1+θ₀)) \n",
    "printlnPs(\"\\n(relative) % change of hedge portolio value (approx): \",100*ΔVrel_approx)"
   ]
  },
  {
   "cell_type": "markdown",
   "metadata": {
    "deletable": true,
    "editable": true
   },
   "source": [
    "# Hedging a Liability II (Example from Figure in the Lecture Notes)"
   ]
  },
  {
   "cell_type": "code",
   "execution_count": 12,
   "metadata": {
    "collapsed": false,
    "deletable": true,
    "editable": true
   },
   "outputs": [
    {
     "name": "stdout",
     "output_type": "stream",
     "text": [
      "Value of liability at interest rates 0.05 and 0.03:      1.544     1.706\n",
      "Duration:      5.099\n",
      "\n",
      "Value of hedge bond with m=3 at interest rates 0.05 and 0.03:      0.864     0.915\n",
      "The hedge ratio (h) is 3.039 and the relative invested amount is 1.7\n"
     ]
    }
   ],
   "source": [
    "cf = ones(10)*0.2               #cash flow of liability stream (as positive numbers)\n",
    "mk = 1:10                       #times of cash flows   \n",
    "θ₀ = 0.05                       #initial interest rate\n",
    "θ₁ = 0.03                       #interest rate after sudden change\n",
    "Δθ = θ₁ - θ₀\n",
    "\n",
    "PL₀ = BondPrice3Ps(θ₀,cf,mk)       #price at initial interest rate\n",
    "PL₁ = BondPrice3Ps(θ₁,cf,mk)       #price at new interest rate\n",
    "printlnPs(\"Value of liability at interest rates $θ₀ and $θ₁: \",[PL₀ PL₁])\n",
    "\n",
    "(_,_,Dmac) = BondDurationMacaulay3Ps(PL₀,cf,mk,θ₀)\n",
    "printlnPs(\"Duration: \",Dmac)\n",
    "\n",
    "PH₀ = BondPrice3Ps(θ₀,1,3)          #hedge bond, paying 1 after 3 years\n",
    "PH₁ = BondPrice3Ps(θ₁,1,3)      \n",
    "h = Dmac/3 * PL₀/PH₀\n",
    "printlnPs(\"\\nValue of hedge bond with m=3 at interest rates $θ₀ and $θ₁: \",[PH₀ PH₁])\n",
    "printlnPs(\"The hedge ratio (h) is $(round(h,3)) and the relative invested amount is $(round(h*PH₀/PL₀,3))\")"
   ]
  },
  {
   "cell_type": "code",
   "execution_count": null,
   "metadata": {
    "collapsed": true,
    "deletable": true,
    "editable": true
   },
   "outputs": [],
   "source": []
  }
 ],
 "metadata": {
  "anaconda-cloud": {},
  "kernelspec": {
   "display_name": "Julia 0.5.1",
   "language": "julia",
   "name": "julia-0.5"
  },
  "language_info": {
   "file_extension": ".jl",
   "mimetype": "application/julia",
   "name": "julia",
   "version": "0.5.1"
  }
 },
 "nbformat": 4,
 "nbformat_minor": 0
}
