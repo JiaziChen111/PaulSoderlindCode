{
 "cells": [
  {
   "cell_type": "markdown",
   "metadata": {},
   "source": [
    "# Example of Moment Conditions and the Basic GMM\n",
    "\n",
    "The first few cells load functions and data. See further down for the estimation."
   ]
  },
  {
   "cell_type": "code",
   "execution_count": 1,
   "metadata": {
    "collapsed": false
   },
   "outputs": [
    {
     "data": {
      "text/plain": [
       "printmat (generic function with 5 methods)"
      ]
     },
     "execution_count": 1,
     "metadata": {},
     "output_type": "execute_result"
    }
   ],
   "source": [
    "import Formatting\n",
    "\n",
    "include(\"jlFiles/printmat.jl\")"
   ]
  },
  {
   "cell_type": "code",
   "execution_count": 2,
   "metadata": {
    "collapsed": false
   },
   "outputs": [
    {
     "data": {
      "text/plain": [
       "388"
      ]
     },
     "execution_count": 2,
     "metadata": {},
     "output_type": "execute_result"
    }
   ],
   "source": [
    "xx = readdlm(\"Data/FFmFactorsPs.csv\",',',header=true)   #start on line 2, column 1\n",
    "x  = xx[1]\n",
    "ym = x[:,1]         #[yearmonth]\n",
    "x  = x[:,2]/100     #excess market returns\n",
    "T  = size(x,1)"
   ]
  },
  {
   "cell_type": "markdown",
   "metadata": {},
   "source": [
    "## Point Estimates and Distribution"
   ]
  },
  {
   "cell_type": "markdown",
   "metadata": {},
   "source": [
    "To estimate the mean of $x_{t}$, use the following moment condition\n",
    "\n",
    "$$\n",
    "\\frac{1}{T}\\sum\\nolimits_{t=1}^{T}g_{t}=0 \\ \\text{ where } \\ g_{t}=x_{t}-\\mu.\n",
    "$$\n",
    "\n",
    "The distribution of the estimates is\n",
    "\n",
    "$$\n",
    "\\sqrt{T}(\\hat{\\mu}-\\mu_{0})\\overset{d}{\\rightarrow}N(0,V) \n",
    "\\text{ where } V=\\left(  D_{0}^{\\prime}S_{0}^{-1}D_{0}\\right)  ^{-1}\n",
    "$$\n",
    "\n",
    "Clearly, $D_{0}=-1$ and if data is iid then $S_{0}=\\mathrm{Var}(g_{t})$."
   ]
  },
  {
   "cell_type": "code",
   "execution_count": 3,
   "metadata": {
    "collapsed": false
   },
   "outputs": [
    {
     "name": "stdout",
     "output_type": "stream",
     "text": [
      "Sample moment condition at estimate: [0.0]\n",
      "\n",
      "muHat Std(muHat)\n",
      "     0.006     0.002\n",
      "\n"
     ]
    }
   ],
   "source": [
    "muHat = mean(x,1)                     #it is clear that this is the GMM estimate\n",
    "\n",
    "g    = x .- muHat                     #moment condition, .- 'broadcasts muHat' to x\n",
    "gbar = mean(g,1)\n",
    "println(\"Sample moment condition at estimate: \",round(gbar,4))\n",
    "\n",
    "T   = size(g,1)\n",
    "S   = var(x)\n",
    "D   = -1\n",
    "V   = inv(D'inv(S)*D)\n",
    "\n",
    "println(\"\\nmuHat Std(muHat)\")\n",
    "printmat([muHat sqrt(V/T)])"
   ]
  },
  {
   "cell_type": "markdown",
   "metadata": {},
   "source": [
    "## Newey-West"
   ]
  },
  {
   "cell_type": "markdown",
   "metadata": {},
   "source": [
    "To calculate the Newey-West covariance matrix, we first need the\n",
    "autocovariance matrices $\\Omega_{s}=\\operatorname*{Cov}\\left(\n",
    "g_{t},g_{t-s}\\right)  $, which is estimated as \n",
    "$$ \n",
    "\\Sigma_{t=s+1}^{T} (g_{t}-\\bar{g})(g_{t-s}-\\bar{g})^{\\prime}/T.\n",
    "$$\n",
    "\n",
    "Then we form a linear\n",
    "combination (with tent-shaped weights) of those autocovariance matrices (from\n",
    "lag $-m$ to $m$), or equivalently\n",
    "\n",
    "$$\n",
    "\\widehat{\\operatorname*{Cov}}\\left(  \\sqrt{T}\\bar{g}\\right)  =\\Omega_{0}\n",
    "+\\sum_{s=1}^{m}\\left(  1-\\frac{s}{m+1}\\right)  \\left(  \\Omega_{s}+\\Omega\n",
    "_{s}^{\\prime}\\right).\n",
    "$$\n"
   ]
  },
  {
   "cell_type": "code",
   "execution_count": 4,
   "metadata": {
    "collapsed": false
   },
   "outputs": [
    {
     "data": {
      "text/plain": [
       "NWFn (generic function with 1 method)"
      ]
     },
     "execution_count": 4,
     "metadata": {},
     "output_type": "execute_result"
    }
   ],
   "source": [
    "function NWFn(g,m)\n",
    " #NWFn    Calculates covariance matrix of sqrt(T)*sample average.\n",
    "\n",
    "  T = size(g,1)                     #g is Txq\n",
    "  m = min(m,T-1)                    #number of lags\n",
    "\n",
    "  g = g .- mean(g,1)                #Normalizing to Eg=0\n",
    "\n",
    "  S = g'g/T                         #(qxT)*(Txq)\n",
    "  for s = 1:m\n",
    "    Gamma_s = g[s+1:T,:]'g[1:T-s,:]/T   #same as Sum[g(t)*g(t-s)',t=s+1,T]\n",
    "    S       = S  +  ( 1 - s/(m+1) ) * (Gamma_s + Gamma_s')\n",
    "  end\n",
    "\n",
    "  return S\n",
    "\n",
    "end"
   ]
  },
  {
   "cell_type": "code",
   "execution_count": 5,
   "metadata": {
    "collapsed": false
   },
   "outputs": [
    {
     "name": "stdout",
     "output_type": "stream",
     "text": [
      "\n",
      "As an alternative, use Newey-West for S\n",
      "\n",
      "muHat with Std(muHat) according to NW\n",
      "     0.006     0.002\n",
      "\n"
     ]
    }
   ],
   "source": [
    "println(\"\\nAs an alternative, use Newey-West for S\")\n",
    "\n",
    "Sb = NWFn(g,3)            #Newey-West covariance matrix with 3 lags\n",
    "\n",
    "Vb = inv(D'inv(Sb)*D)\n",
    "\n",
    "println(\"\\nmuHat with Std(muHat) according to NW\")\n",
    "printmat([muHat sqrt(Vb/T)])"
   ]
  },
  {
   "cell_type": "code",
   "execution_count": null,
   "metadata": {
    "collapsed": true
   },
   "outputs": [],
   "source": []
  }
 ],
 "metadata": {
  "anaconda-cloud": {},
  "kernelspec": {
   "display_name": "Julia 0.5.0",
   "language": "julia",
   "name": "julia-0.5"
  },
  "language_info": {
   "file_extension": ".jl",
   "mimetype": "application/julia",
   "name": "julia",
   "version": "0.5.0"
  }
 },
 "nbformat": 4,
 "nbformat_minor": 1
}
