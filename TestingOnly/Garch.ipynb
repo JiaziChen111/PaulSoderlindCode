{
 "cells": [
  {
   "cell_type": "markdown",
   "metadata": {},
   "source": [
    "# A AR(1) + GARCH(1,1) Model"
   ]
  },
  {
   "cell_type": "code",
   "execution_count": 1,
   "metadata": {
    "collapsed": false
   },
   "outputs": [
    {
     "data": {
      "text/plain": [
       "printmat (generic function with 5 methods)"
      ]
     },
     "execution_count": 1,
     "metadata": {},
     "output_type": "execute_result"
    }
   ],
   "source": [
    "using Optim, PyPlot\n",
    "\n",
    "import Formatting\n",
    "include(\"jlFiles/printmat.jl\")"
   ]
  },
  {
   "cell_type": "code",
   "execution_count": 2,
   "metadata": {
    "collapsed": false
   },
   "outputs": [
    {
     "data": {
      "text/plain": [
       "8324×2 Array{Float64,2}:\n",
       " -1.18  1.0\n",
       " -1.37  1.0\n",
       "  1.73  1.0\n",
       "  0.77  1.0\n",
       "  1.41  1.0\n",
       "  0.68  1.0\n",
       "  1.26  1.0\n",
       "  0.61  1.0\n",
       "  1.11  1.0\n",
       "  0.63  1.0\n",
       "  0.64  1.0\n",
       "  0.37  1.0\n",
       "  0.49  1.0\n",
       "  ⋮        \n",
       " -0.52  1.0\n",
       " -0.3   1.0\n",
       "  0.18  1.0\n",
       "  1.13  1.0\n",
       "  1.11  1.0\n",
       " -0.11  1.0\n",
       "  0.58  1.0\n",
       " -0.53  1.0\n",
       " -0.57  1.0\n",
       " -0.45  1.0\n",
       " -0.35  1.0\n",
       " -0.34  1.0"
      ]
     },
     "execution_count": 2,
     "metadata": {},
     "output_type": "execute_result"
    }
   ],
   "source": [
    "xx   = readdlm(\"Data/FFdSizePs.csv\",',',header=true)\n",
    "x    = xx[1]\n",
    "ymd  = x[:,1]     #[YearMonthDay]\n",
    "y    = x[:,2]     #returns for the size portfolio we want to study\n",
    "\n",
    "yx = [y[2:end] y[1:end-1] ones(size(y,1)-1,1)]     #y(t),y(t-1),1\n",
    "y  = yx[:,1]\n",
    "x  = yx[:,2:3]"
   ]
  },
  {
   "cell_type": "markdown",
   "metadata": {},
   "source": [
    "## The Likelihood Function"
   ]
  },
  {
   "cell_type": "markdown",
   "metadata": {},
   "source": [
    "Consider a regression equation, where the residual follows a GARCH(1,1) process\n",
    "\n",
    "$$\n",
    "\\begin{align*}\n",
    "y_{t}           &  =x_{t}^{\\prime}b+u_{t}\\text{ with }u_{t}=v_{t}\\sigma_{t}\\\\\n",
    "\\sigma_{t}^{2}  &  =\\omega+\\alpha u_{t-1}^{2}+\\beta\\sigma_{t-1}^{2}.\n",
    "\\end{align*}\n",
    "$$\n",
    "\n",
    "If $v_{t}\\sim N(0,1)$, then the likelihood function is\n",
    "\n",
    "$$\n",
    "\\ln\\mathcal{L}=-\\frac{T}{2}\\ln\\left(  2\\pi\\right)  -\\frac{1}{2}\\sum_{t=1}\n",
    "^{T}\\ln\\sigma_{t}^{2}-\\frac{1}{2}\\sum_{t=1}^{T}\\frac{u_{t}^{2}}{\\sigma_{t}\n",
    "^{2}}.\n",
    "$$\n",
    "\n",
    "\n",
    "The likelihood function of a GARCH(1,1) model can be coded as in\n",
    "*garch11LL*. The first function calculates time-varying  variances and\n",
    "the likelihood contributions (for each period). The second functions forms the\n",
    "loss function used in the minimization.\n"
   ]
  },
  {
   "cell_type": "code",
   "execution_count": 3,
   "metadata": {
    "collapsed": false
   },
   "outputs": [
    {
     "data": {
      "text/plain": [
       "garch11LLLoss (generic function with 1 method)"
      ]
     },
     "execution_count": 3,
     "metadata": {},
     "output_type": "execute_result"
    }
   ],
   "source": [
    "function garch11LL(parm::Vector,yx)\n",
    "\n",
    "  y = yx[:,1]               #split up yx\n",
    "  x = yx[:,2:end]\n",
    "  T = size(x,1)\n",
    "  k = size(x,2)\n",
    "\n",
    "  b     = parm[1:k]         #mean equation, y = x'*b\n",
    "  omega = abs(parm[k+1])    #GARCH(1,1) equation: s2(t) = omega + alpha*u(t-1)^2 + beta1*s2(t-1)\n",
    "  alpha = abs(parm[k+2])\n",
    "  beta1 = abs(parm[k+3])    #do not use label 'beta' since that is a jl function\n",
    "\n",
    "  yhat = x*b\n",
    "  u    = y - yhat\n",
    "  s2_0 = var(u)                                 #var(u,1) gives a matrix, var(u) a scalar\n",
    "\n",
    "  s2    = fill(NaN,T)\n",
    "  s2[1] = omega + alpha*s2_0 + beta1*s2_0        #simple, but slow apparoach\n",
    "  for t = 2:T                                    #using filter() is perhaps quicker\n",
    "    s2[t] = omega + alpha*u[t-1]^2 + beta1*s2[t-1]\n",
    "  end\n",
    "\n",
    "  LL    = -(1/2)*log(2*pi) - (1/2)*log.(s2) - (1/2)*(u.^2)./s2\n",
    "  LL[1] = 0               #effectively skip the first observation\n",
    "\n",
    "                          #output scalar: overall LL function value\n",
    "  LL = -sum(LL)           #to minimize -sum(LL), notice\n",
    "\n",
    "  return LL,s2,yhat\n",
    "\n",
    "end\n",
    "\n",
    "\n",
    "function garch11LLLoss(parm::Vector,yx)\n",
    "  LL, = garch11LL(parm::Vector,yx)\n",
    "  return LL\n",
    "end"
   ]
  },
  {
   "cell_type": "markdown",
   "metadata": {},
   "source": [
    "## Maximize the Likelihood Function"
   ]
  },
  {
   "cell_type": "code",
   "execution_count": 4,
   "metadata": {
    "collapsed": false
   },
   "outputs": [
    {
     "name": "stdout",
     "output_type": "stream",
     "text": [
      "Value of (-)log-likelihood fn at starting guess: 9373.2\n",
      "Value of (-)log-likelihood fn at estimate: 8243.6\n",
      "\n",
      "Parameter estimates: \n",
      "     0.256\n",
      "     0.049\n",
      "     0.014\n",
      "     0.162\n",
      "     0.824\n",
      "\n"
     ]
    }
   ],
   "source": [
    "#mean equation, y = x'b\n",
    "#GARCH(1,1) equation: s2(t) = alfa0 + alfa1*u(t-1)^2 + beta1*s2(t-1)\n",
    "\n",
    "par0 = [0;mean(y,1);(var(y,1)/5);0.1;0.6]        #initial parameter guess\n",
    "\n",
    "(loglik,s2,yhat) = garch11LL(par0,yx)            #just testing the log lik\n",
    "LL               = garch11LLLoss(par0,yx)\n",
    "println(\"Value of (-)log-likelihood fn at starting guess: $(round(LL,1))\")\n",
    "\n",
    "Sol = optimize(par->garch11LLLoss(par,yx),par0)   #do MLE by optimization with optimize, minimize -sum(LL)\n",
    "\n",
    "parHat            = Optim.minimizer(Sol)          #extract the optimal solution \n",
    "parHat[end-2:end] = abs(parHat[end-2:end])        #since the likelihood function uses abs(these values)\n",
    "\n",
    "LLHat             = garch11LLLoss(parHat,yx)\n",
    "println(\"Value of (-)log-likelihood fn at estimate: $(round(LLHat,1))\")\n",
    "\n",
    "println(\"\\nParameter estimates: \")\n",
    "printmat(parHat)"
   ]
  },
  {
   "cell_type": "markdown",
   "metadata": {},
   "source": [
    "## Value at Risk"
   ]
  },
  {
   "cell_type": "code",
   "execution_count": 5,
   "metadata": {
    "collapsed": false
   },
   "outputs": [
    {
     "name": "stdout",
     "output_type": "stream",
     "text": [
      "\n",
      "Coverage ratio for VaR(95%): 0.059"
     ]
    },
    {
     "data": {
      "image/png": "[encoded data removed]",
      "text/plain": [
       "PyPlot.Figure(PyObject <matplotlib.figure.Figure object at 0x000000001ADC6668>)"
      ]
     },
     "metadata": {},
     "output_type": "display_data"
    },
    {
     "name": "stdout",
     "output_type": "stream",
     "text": [
      "\n"
     ]
    }
   ],
   "source": [
    "(loglik,s2,ER) = garch11LL(parHat,yx)\n",
    "VaR95          = -(ER - 1.64*sqrt(s2))\n",
    "\n",
    "figure()\n",
    "  plot(VaR95)\n",
    "title(\"1-day VaR (95%)\")\n",
    "show()\n",
    "\n",
    "CovRatio = mean((-y) .>= VaR95)             #coverage ratio for VaR\n",
    "println(\"\\nCoverage ratio for VaR(95%): $(round(CovRatio,3))\")"
   ]
  },
  {
   "cell_type": "code",
   "execution_count": null,
   "metadata": {
    "collapsed": true
   },
   "outputs": [],
   "source": []
  }
 ],
 "metadata": {
  "anaconda-cloud": {},
  "kernelspec": {
   "display_name": "Julia 0.5.0",
   "language": "julia",
   "name": "julia-0.5"
  },
  "language_info": {
   "file_extension": ".jl",
   "mimetype": "application/julia",
   "name": "julia",
   "version": "0.5.0"
  }
 },
 "nbformat": 4,
 "nbformat_minor": 1
}
