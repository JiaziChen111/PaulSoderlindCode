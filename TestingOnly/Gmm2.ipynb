{
 "cells": [
  {
   "cell_type": "markdown",
   "metadata": {},
   "source": [
    "# GMM with/without a Weighting Matrix"
   ]
  },
  {
   "cell_type": "code",
   "execution_count": 1,
   "metadata": {
    "collapsed": false
   },
   "outputs": [
    {
     "data": {
      "text/plain": [
       "printmat (generic function with 5 methods)"
      ]
     },
     "execution_count": 1,
     "metadata": {},
     "output_type": "execute_result"
    }
   ],
   "source": [
    "import Formatting\n",
    "using Optim\n",
    "\n",
    "include(\"jlFiles/NWFn.jl\")\n",
    "include(\"jlFiles/printmat.jl\")"
   ]
  },
  {
   "cell_type": "code",
   "execution_count": 2,
   "metadata": {
    "collapsed": false
   },
   "outputs": [
    {
     "data": {
      "text/plain": [
       "388"
      ]
     },
     "execution_count": 2,
     "metadata": {},
     "output_type": "execute_result"
    }
   ],
   "source": [
    "xx = readdlm(\"Data/FFmFactorsPs.csv\",',',header=true)\n",
    "x  = xx[1]\n",
    "ym = x[:,1]              #[yearmonth]\n",
    "x  = x[:,2]              #excess market returns\n",
    "\n",
    "T  = size(x,1)"
   ]
  },
  {
   "cell_type": "markdown",
   "metadata": {},
   "source": [
    "## The Estimation Problem and the Test"
   ]
  },
  {
   "cell_type": "markdown",
   "metadata": {},
   "source": [
    "\n",
    "If $x_{t}$ is $N(\\mu,\\sigma^{2})$, then the following moment conditions should\n",
    "all be zero (in expectation)\n",
    "\n",
    "$$\n",
    "g_{t}(\\mu,\\sigma^{2})=\\left[\n",
    "\\begin{array}\n",
    "[c]{l}\n",
    "x_{t}-\\mu\\\\\n",
    "(x_{t}-\\mu)^{2}-\\sigma^{2}\\\\\n",
    "(x_{t}-\\mu)^{3}\\\\\n",
    "(x_{t}-\\mu)^{4}-3\\sigma^{4}\n",
    "\\end{array}\n",
    "\\right]  .\n",
    "$$\n",
    "\n",
    "The first moment condition defines the mean $\\mu$, the second defines the\n",
    "variance $\\sigma^{2}$, while the third and forth are the skewness and excess\n",
    "kurtosis respectively."
   ]
  },
  {
   "cell_type": "markdown",
   "metadata": {},
   "source": [
    "## Traditional Estimation of Mean and Variance"
   ]
  },
  {
   "cell_type": "code",
   "execution_count": 3,
   "metadata": {
    "collapsed": false
   },
   "outputs": [
    {
     "name": "stdout",
     "output_type": "stream",
     "text": [
      "\n",
      "Parameters and traditional std(parameters):\n",
      "     0.602     0.233\n",
      "    21.142     1.518\n",
      "\n"
     ]
    }
   ],
   "source": [
    "mu = mean(x)                      #same as setting A*gbar=0\n",
    "s2 = var(x)*(T-1)/T               #var() uses 1/(T-1) formula\n",
    "\n",
    "par_a = [mu;s2]\n",
    "k     = length(par_a)\n",
    "\n",
    "println(\"\\nParameters and traditional std(parameters):\")\n",
    "printmat([par_a [sqrt((s2/T));sqrt(2*s2^2/T)]])"
   ]
  },
  {
   "cell_type": "markdown",
   "metadata": {},
   "source": [
    "## GMM: A*g = 0\n",
    "\n",
    "\n",
    "\n",
    "The following code from estimates the parameters (mean and\n",
    "variance) by combining the 4 original moment conditions in $\\bar{g}$ into 2\n",
    "effective moment conditions, $A\\bar{g}$, where $A$ is a $2\\times4$ matrix\n",
    "\n",
    "$$\n",
    "A=\\left[\n",
    "\\begin{array}\n",
    "[c]{cccc}%\n",
    "1 & 0 & 0 & 0\\\\\n",
    "0 & 1 & 0 & 0\n",
    "\\end{array}\n",
    "\\right]  \n",
    "$$ \n",
    "\n",
    "This particular $A$ matrix implies that we use the classical\n",
    "estimators of the mean and variance."
   ]
  },
  {
   "cell_type": "code",
   "execution_count": 4,
   "metadata": {
    "collapsed": false
   },
   "outputs": [
    {
     "data": {
      "text/plain": [
       "Gmm4MomFn (generic function with 1 method)"
      ]
     },
     "execution_count": 4,
     "metadata": {},
     "output_type": "execute_result"
    }
   ],
   "source": [
    "function Gmm4MomFn(par,x)\n",
    "\n",
    "  mu = par[1]\n",
    "  s2 = par[2]\n",
    "\n",
    "  g = [(x-mu) ((x-mu).^2-s2) ((x-mu).^3) ((x-mu).^4-3*s2^2)]    #Tx4\n",
    "\n",
    "  gbar = mean(g,1)'                         #4x1\n",
    "\n",
    "  return g,gbar\n",
    "\n",
    "end"
   ]
  },
  {
   "cell_type": "code",
   "execution_count": 5,
   "metadata": {
    "collapsed": false
   },
   "outputs": [
    {
     "name": "stdout",
     "output_type": "stream",
     "text": [
      "\n",
      "GMM, exactly identified\n",
      "\n",
      "Checking if mean of A*g_t = 0\n",
      "    -0.000\n",
      "     0.000\n",
      "\n",
      "\n",
      "parameter, std(parameters)\n",
      "     0.602     0.244\n",
      "    21.142     2.381\n",
      "\n"
     ]
    }
   ],
   "source": [
    "println(\"\\nGMM, exactly identified\")\n",
    "\n",
    "(g,gbar) = Gmm4MomFn(par_a,x)        #Tx4, moment conditions\n",
    "q = size(g,2)\n",
    "A = [1 0 0 0;                       #A in A*gbar=0 (here: all weight on first two moments)\n",
    "     0 1 0 0]\n",
    "println(\"\\nChecking if mean of A*g_t = 0\")\n",
    "printmat(A*gbar)\n",
    "\n",
    "D  = [-1                  0;                #Jacobian\n",
    "      -2*mean(x-mu)      -1;\n",
    "      -3*mean((x-mu).^2)   0;\n",
    "      -4*mean((x-mu).^3)  -6*s2]\n",
    "S  = NWFn(g,1)\n",
    "V3 = inv(A*D)*A*S*A'inv(A*D)'\n",
    "\n",
    "println(\"\\nparameter, std(parameters)\")\n",
    "printmat([par_a sqrt(diag(V3/T))])"
   ]
  },
  {
   "cell_type": "code",
   "execution_count": 6,
   "metadata": {
    "collapsed": false
   },
   "outputs": [
    {
     "data": {
      "text/plain": [
       "Gmm4MomLossFn (generic function with 2 methods)"
      ]
     },
     "execution_count": 6,
     "metadata": {},
     "output_type": "execute_result"
    }
   ],
   "source": [
    "function Gmm4MomLossFn(par,x,W=1)\n",
    "\n",
    "  (g,gbar) = Gmm4MomFn(par,x)\n",
    "\n",
    "  Loss = 1.0 + gbar'W*gbar                #to be minimized\n",
    "  Loss = Loss[1]\n",
    "\n",
    "  return Loss\n",
    "\n",
    "end"
   ]
  },
  {
   "cell_type": "markdown",
   "metadata": {},
   "source": [
    "## GMM: g'Wg\n",
    "\n",
    "\n",
    "\n",
    "Instead, the following code solves a minimization problem with the weighting matrix \n",
    "\n",
    "$$\n",
    "W=\n",
    "\\begin{bmatrix}\n",
    "1 & 0 & 0 & 0\\\\\n",
    "0 & 1 & 0 & 0\\\\\n",
    "0 & 0 & 0 & 0\\\\\n",
    "0 & 0 & 0 & 0\n",
    "\\end{bmatrix}\n",
    "$$ \n",
    "\n",
    "As a practical matter, it is often the case that a derivative-free method works better than other optimization routines."
   ]
  },
  {
   "cell_type": "code",
   "execution_count": 7,
   "metadata": {
    "collapsed": false
   },
   "outputs": [
    {
     "name": "stdout",
     "output_type": "stream",
     "text": [
      "\n",
      "GMM with weighting matrix\n",
      "\n",
      "parameter, std(parameters)"
     ]
    }
   ],
   "source": [
    "println(\"\\nGMM with weighting matrix\")\n",
    "                                          #gbar'W*gbar\n",
    "W     = diagm([1;1;0;0])                  #weighting matrix\n",
    "Sol   = optimize(par->Gmm4MomLossFn(par,x,W),par_a)\n",
    "\n",
    "par_b = Optim.minimizer(Sol)\n",
    "\n",
    "g,    = Gmm4MomFn(par_b,x)              #Tx4, moment conditions, evaluated at point estimates\n",
    "S     = NWFn(g,1)                         #variance of sqrt(T)\"gbar, NW with 1 lag\n",
    "V2    = inv(D'W*D)*D'W*S*W'D*inv(D'W*D)\n",
    "\n",
    "println(\"\\nparameter, std(parameters)\")\n",
    "printmat([par_b sqrt.(diag(V2/T))])"
   ]
  },
  {
   "cell_type": "markdown",
   "metadata": {},
   "source": [
    "## GMM: g'Wg, Iterating over W\n",
    "\n",
    "\n",
    "Finally, the following code iterates over the weighting\n",
    "matrix by using $W=S^{-1}$, where the $S=\\operatorname*{Cov}(\\sqrt{T}\\bar{g})$\n",
    "is from the previous iteration."
   ]
  },
  {
   "cell_type": "code",
   "execution_count": 8,
   "metadata": {
    "collapsed": false
   },
   "outputs": [
    {
     "name": "stdout",
     "output_type": "stream",
     "text": [
      "\n",
      "iterated GMM, using optimal weighting matrix, starting with S from previous estimation\n",
      "\n",
      "\n",
      "iterating over W starting with the W choice above\n",
      "-------iteration  1, old and new parameters--------\n",
      "[0.6019,21.1423]\n",
      "[0.8767,16.9172]\n",
      "-------iteration  2, old and new parameters--------\n",
      "[0.8767,16.9172]\n",
      "[0.8794,16.6472]\n",
      "-------iteration  3, old and new parameters--------\n",
      "[0.8794,16.6472]\n",
      "[0.8791,16.6466]\n",
      "\n",
      "parameter, std_version2(parameters), std_version1(parameters)\n",
      "     0.879     0.217     0.217\n",
      "    16.647     1.311     1.311\n",
      "\n"
     ]
    }
   ],
   "source": [
    "println(\"\\niterated GMM, using optimal weighting matrix, starting with S from previous estimation\")\n",
    "\n",
    "#W,S, par_c should be initialized outside loop to make them visible after it\n",
    "par_c = par_b + 0.0\n",
    "Dpar  = 1.0\n",
    "i     = 1\n",
    "println(\"\\n\\niterating over W starting with the W choice above\")\n",
    "while (Dpar > 1e-3) || (i < 2)    #require at least one iteration\n",
    "  println(\"-------iteration  $i, old and new parameters--------\")\n",
    "  par_b           = par_c + 0.0     #important, par_b=par_c would make them always identical\n",
    "  W               = inv(S)\n",
    "  Sol             = optimize(par->Gmm4MomLossFn(par,x,W),par_b)   #use last estimates as starting point\n",
    "  par_c           = Optim.minimizer(Sol)\n",
    "  g,              = Gmm4MomFn(par_c,x)\n",
    "  S               = NWFn(g,1)\n",
    "  Dpar            = maximum(abs.(par_c-par_b))\n",
    "  i               = i + 1\n",
    "  println(round(par_b,4))\n",
    "  println(round(par_c,4))\n",
    "end\n",
    "\n",
    "V2 = inv(D'W*D)*D'W*S*W'D*inv(D'W*D)      #if non-optimal weighting matrix\n",
    "V1 = inv(D'inv(S)*D)                      #with optimal weighting matrix\n",
    "\n",
    "println(\"\\nparameter, std_version2(parameters), std_version1(parameters)\")\n",
    "printmat([par_c sqrt(diag(V2/T)) sqrt(diag(V1/T))])"
   ]
  },
  {
   "cell_type": "code",
   "execution_count": null,
   "metadata": {
    "collapsed": true
   },
   "outputs": [],
   "source": []
  }
 ],
 "metadata": {
  "anaconda-cloud": {},
  "kernelspec": {
   "display_name": "Julia 0.5.0",
   "language": "julia",
   "name": "julia-0.5"
  },
  "language_info": {
   "file_extension": ".jl",
   "mimetype": "application/julia",
   "name": "julia",
   "version": "0.5.0"
  }
 },
 "nbformat": 4,
 "nbformat_minor": 1
}
