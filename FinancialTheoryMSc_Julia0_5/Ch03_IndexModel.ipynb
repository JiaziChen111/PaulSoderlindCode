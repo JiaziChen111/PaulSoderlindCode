{
 "cells": [
  {
   "cell_type": "markdown",
   "metadata": {},
   "source": [
    "## Load Routines for Printing Matrices"
   ]
  },
  {
   "cell_type": "code",
   "execution_count": 1,
   "metadata": {
    "collapsed": false
   },
   "outputs": [
    {
     "data": {
      "text/plain": [
       "printmat (generic function with 4 methods)"
      ]
     },
     "execution_count": 1,
     "metadata": {},
     "output_type": "execute_result"
    }
   ],
   "source": [
    "import Formatting              #do Pkg.add(\"Formatting\") to install this package\n",
    "include(\"printmat.jl\")"
   ]
  },
  {
   "cell_type": "markdown",
   "metadata": {},
   "source": [
    "# Covariance Matrix from Betas"
   ]
  },
  {
   "cell_type": "markdown",
   "metadata": {},
   "source": [
    "Recall: the single index model implies that $\\operatorname*{Cov}(R_{t})=\\beta\\beta^{\\prime}\\operatorname*{Var}\n",
    "(R_{mt})+\\Sigma$"
   ]
  },
  {
   "cell_type": "code",
   "execution_count": 2,
   "metadata": {
    "collapsed": false
   },
   "outputs": [
    {
     "name": "stdout",
     "output_type": "stream",
     "text": [
      "   100.000     0.000\n",
      "     0.000    25.000\n",
      "\n",
      "Covariance matrix calculated from betas: \n",
      "   112.960    15.840\n",
      "    15.840    44.360\n",
      "\n"
     ]
    }
   ],
   "source": [
    "β      = [0.9;1.1]\n",
    "StdRes = [10;5]\n",
    "VarRm  = 4^2\n",
    "Σ      = diagm(StdRes.^2)                  #correlation matrix -> covariance matrix \n",
    "printmat(round(Σ,3))\n",
    "\n",
    "CovR = β*β'*VarRm + Σ\n",
    "println(\"Covariance matrix calculated from betas: \")\n",
    "printmat(round(CovR,2))"
   ]
  },
  {
   "cell_type": "markdown",
   "metadata": {},
   "source": [
    "# Estimating a Single-Index Model"
   ]
  },
  {
   "cell_type": "code",
   "execution_count": 3,
   "metadata": {
    "collapsed": false
   },
   "outputs": [
    {
     "name": "stdout",
     "output_type": "stream",
     "text": [
      "\n",
      "OLS coefficients, regressing Re on constant and Rme\n",
      "     1.341\n",
      "     1.169\n",
      "     0.994\n",
      "     0.943\n",
      "     0.849\n",
      "\n",
      "\n",
      "Covariance matrix calculated from betas: \n",
      "    73.480    33.230    28.270    26.800    24.150\n",
      "    33.230    37.370    24.640    23.360    21.050\n",
      "    28.270    24.640    26.800    19.870    17.910\n",
      "    26.800    23.360    19.870    25.200    16.970\n",
      "    24.150    21.050    17.910    16.970    25.330\n",
      "\n",
      "\n",
      "Covariance matrix calculated from data: \n",
      "    73.480    43.020    29.470    25.010    20.190\n",
      "    43.020    37.370    29.070    25.140    21.410\n",
      "    29.470    29.070    26.800    23.630    20.980\n",
      "    25.010    25.140    23.630    25.200    21.530\n",
      "    20.190    21.410    20.980    21.530    25.330\n",
      "\n"
     ]
    }
   ],
   "source": [
    "xx   = readdlm(\"Data/FFmFactorsPs.csv\",',',header=true)\n",
    "x    = xx[1]\n",
    "Rme  = x[:,2]                #market excess return\n",
    "RSMB = x[:,3]                #small minus big firms\n",
    "RHML = x[:,4]                #high minus low book-to-market ratio\n",
    "Rf   = x[:,5]                #interest rate\n",
    "\n",
    "\n",
    "x  = readdlm(\"Data/FF25Ps.csv\",',') #no header line: x is matrix\n",
    "R  = x[:,2:end]                     #returns for 25 FF portfolios\n",
    "Re = R .- Rf                        #excess returns for the 25 FF portfolios\n",
    "Re = Re[:,[1;7;13;19;25]]           #use just 5 assets to make the printing easier \n",
    "\n",
    "(T,n) = size(Re)                    #no. obs and  no. test assets\n",
    "#-------------------------------------------------------------------------\n",
    "\n",
    "c      = ones(T,1)                 #a vector with ones\n",
    "x      = [c Rme]                   #regressors\n",
    "β      = fill(NaN,n)\n",
    "VarRes = fill(NaN,n)\n",
    "for i = 1:n\n",
    "    b_i       = x\\Re[:,i]                #OLS\n",
    "    residual  = Re[:,i] - x*b_i\n",
    "    β[i]      = b_i[2]\n",
    "    VarRes[i] = var(residual)\n",
    "end    \n",
    "println(\"\\nOLS coefficients, regressing Re on constant and Rme\")\n",
    "printmat(round(β,3)) \n",
    "#-------------------------------------------------------------------------\n",
    "\n",
    "Σ     = diagm(VarRes)             #creates a diagonal covariance matrix\n",
    "VarRm = var(Rme)\n",
    "CovR  = β*β'*VarRm + Σ\n",
    "println(\"\\nCovariance matrix calculated from betas: \")\n",
    "printmat(round(CovR,2))\n",
    "\n",
    "println(\"\\nCovariance matrix calculated from data: \")\n",
    "printmat(round(cov(Re),2))"
   ]
  },
  {
   "cell_type": "markdown",
   "metadata": {},
   "source": [
    "# A Multi-Index Model"
   ]
  },
  {
   "cell_type": "markdown",
   "metadata": {},
   "source": [
    "Recall: if $\\Omega$ is the covariance matrix of the indices, then the covariance of\n",
    "assets $i$ and $j$ is\n",
    "\n",
    "$\\sigma_{ij}=b_{i}^{\\prime}\\Omega b_{j}$\n",
    "\n",
    "where $b_{i}$ is the vector of slope coefficients obtained from regressing\n",
    "$R_{it}$ on the vector of factors"
   ]
  },
  {
   "cell_type": "code",
   "execution_count": 4,
   "metadata": {
    "collapsed": false
   },
   "outputs": [
    {
     "name": "stdout",
     "output_type": "stream",
     "text": [
      "\n",
      "OLS coefficients, regressing Re on [constant, Rme, RSMB, RHML] \n",
      "     1.070     1.080     1.035     1.056     1.041\n",
      "     1.264     0.768     0.437     0.153    -0.088\n",
      "    -0.278     0.160     0.487     0.603     0.770\n",
      "\n",
      "\n",
      "Covariance matrix calculated from betas: \n",
      "    73.480    41.850    31.050    25.450    18.940\n",
      "    41.850    37.370    27.380    24.140    20.150\n",
      "    31.050    27.380    26.800    22.240    20.110\n",
      "    25.450    24.140    22.240    25.200    20.720\n",
      "    18.940    20.150    20.110    20.720    25.330\n",
      "\n",
      "\n",
      "Covariance matrix calculated from data: \n",
      "    73.480    43.020    29.470    25.010    20.190\n",
      "    43.020    37.370    29.070    25.140    21.410\n",
      "    29.470    29.070    26.800    23.630    20.980\n",
      "    25.010    25.140    23.630    25.200    21.530\n",
      "    20.190    21.410    20.980    21.530    25.330\n",
      "\n"
     ]
    }
   ],
   "source": [
    "x      = [c Rme RSMB RHML]               #regressors\n",
    "K      = size(x,2) - 1 \n",
    "b      = fill(NaN,(K,n))\n",
    "VarRes = fill(NaN,n)\n",
    "for i = 1:n\n",
    "    b_i       = x\\Re[:,i]                #OLS\n",
    "    residual  = Re[:,i] - x*b_i\n",
    "    b[:,i]    = b_i[2:end]\n",
    "    VarRes[i] = var(residual)\n",
    "end    \n",
    "println(\"\\nOLS coefficients, regressing Re on [constant, Rme, RSMB, RHML] \")\n",
    "printmat(round(b,3)) \n",
    "#-------------------------------------------------------------------------\n",
    "\n",
    "Omega = cov(x[:,2:end])      #covariance matrix of factors\n",
    "CovR = fill(NaN,(n,n))\n",
    "for i = 1:n    \n",
    "    for j = 1:n\n",
    "        CovR[i,j] = (b[:,i]'Omega*b[:,j])[1]\n",
    "        if i == j\n",
    "            CovR[i,i] = CovR[i,i] + VarRes[i]\n",
    "        end\n",
    "    end    \n",
    "end\n",
    "\n",
    "println(\"\\nCovariance matrix calculated from betas: \")\n",
    "printmat(round(CovR,2))\n",
    "\n",
    "println(\"\\nCovariance matrix calculated from data: \")\n",
    "printmat(round(cov(Re),2))"
   ]
  },
  {
   "cell_type": "code",
   "execution_count": null,
   "metadata": {
    "collapsed": true
   },
   "outputs": [],
   "source": []
  }
 ],
 "metadata": {
  "anaconda-cloud": {},
  "kernelspec": {
   "display_name": "Julia 0.5.0",
   "language": "julia",
   "name": "julia-0.5"
  },
  "language_info": {
   "file_extension": ".jl",
   "mimetype": "application/julia",
   "name": "julia",
   "version": "0.5.0"
  }
 },
 "nbformat": 4,
 "nbformat_minor": 0
}
